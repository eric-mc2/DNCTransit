{
 "cells": [
  {
   "cell_type": "code",
   "execution_count": 19,
   "metadata": {},
   "outputs": [
    {
     "data": {
      "text/plain": [
       "True"
      ]
     },
     "execution_count": 19,
     "metadata": {},
     "output_type": "execute_result"
    }
   ],
   "source": [
    "\n",
    "from dotenv import load_dotenv\n",
    "import os\n",
    "import geopandas as gpd\n",
    "import censusdis.data as ced\n",
    "from censusdis import states\n",
    "from data.constants import LOCAL_CRS\n",
    "\n",
    "load_dotenv()\n"
   ]
  },
  {
   "cell_type": "code",
   "execution_count": 22,
   "metadata": {},
   "outputs": [],
   "source": [
    "tracts = gpd.read_file(\"../../data/raw/tracts.geojson\").to_crs(LOCAL_CRS)"
   ]
  },
  {
   "cell_type": "code",
   "execution_count": 27,
   "metadata": {},
   "outputs": [],
   "source": [
    "DATASET = \"acs/acs5\"\n",
    "YEAR = 2020\n",
    "\n",
    "TOTAL_POPULATION_VARIABLE = \"B01003_001E\"\n",
    "MEDIAN_HOUSEHOLD_INCOME_VARIABLE = \"B19013_001E\"\n",
    "VARIABLES = [\"NAME\", TOTAL_POPULATION_VARIABLE]\n",
    "\n",
    "pop = ced.download(\n",
    "    DATASET,\n",
    "    YEAR,\n",
    "    VARIABLES,\n",
    "    state=states.IL,\n",
    "    county=\"031\",\n",
    "    tract=\"*\",\n",
    "    with_geometry=True\n",
    ")\n",
    "pop = (pop.assign(centroid = lambda x: x['geometry'].to_crs(LOCAL_CRS).centroid)\n",
    "       .set_geometry('centroid')\n",
    "       .drop(columns=['geometry'])\n",
    "       .rename_geometry('geometry')\n",
    "       .rename(columns={'B01003_001E':'total_pop'}))\n"
   ]
  },
  {
   "cell_type": "code",
   "execution_count": 28,
   "metadata": {},
   "outputs": [],
   "source": [
    "tract_pop = tracts.sjoin(pop[['geometry','total_pop']], how='left', predicate='contains')"
   ]
  },
  {
   "cell_type": "code",
   "execution_count": null,
   "metadata": {},
   "outputs": [],
   "source": []
  }
 ],
 "metadata": {
  "kernelspec": {
   "display_name": ".venv",
   "language": "python",
   "name": "python3"
  },
  "language_info": {
   "codemirror_mode": {
    "name": "ipython",
    "version": 3
   },
   "file_extension": ".py",
   "mimetype": "text/x-python",
   "name": "python",
   "nbconvert_exporter": "python",
   "pygments_lexer": "ipython3",
   "version": "3.12.6"
  }
 },
 "nbformat": 4,
 "nbformat_minor": 2
}
