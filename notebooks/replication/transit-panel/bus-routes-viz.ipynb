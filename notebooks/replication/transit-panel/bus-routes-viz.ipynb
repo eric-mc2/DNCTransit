{
 "cells": [
  {
   "cell_type": "code",
   "execution_count": null,
   "metadata": {},
   "outputs": [],
   "source": [
    "import pandas as pd\n",
    "import geopandas as gpd\n",
    "from data.datemath import date_aggs\n",
    "from viz import plot_lines"
   ]
  },
  {
   "cell_type": "code",
   "execution_count": null,
   "metadata": {},
   "outputs": [],
   "source": [
    "routes = gpd.read_file(\"../../data/raw/bus_routes.geojson\")\n",
    "rides = pd.read_csv(\"../../data/interim/bus_rides.csv\")"
   ]
  },
  {
   "cell_type": "code",
   "execution_count": null,
   "metadata": {},
   "outputs": [],
   "source": [
    "panel = routes.merge(rides, on='route', how='right')"
   ]
  },
  {
   "cell_type": "code",
   "execution_count": null,
   "metadata": {},
   "outputs": [],
   "source": [
    "plot_data = panel.groupby(['route','name','geometry'],as_index=False).agg({'rides':'sum'})\n",
    "plot_data = gpd.GeoDataFrame(plot_data, crs=routes.crs)\n",
    "fig = plot_lines(plot_data, color_col=\"rides\")\n",
    "fig.write_json(\"../../reports/replication/bus-route-rides.json\")\n",
    "fig.show()"
   ]
  },
  {
   "cell_type": "code",
   "execution_count": null,
   "metadata": {},
   "outputs": [],
   "source": [
    "panel = panel.pipe(date_aggs, 'date')\n",
    "plot_data = panel.groupby(['route','name','geometry','year-week'],as_index=False).agg({'rides':'sum'})\n",
    "plot_data = gpd.GeoDataFrame(plot_data, crs=panel.crs)\n",
    "# This json is 600MB! Maybe plotly is the wrong library for animation. Check claude.\n",
    "# fig = plot_lines(plot_data, color_col=\"rides\", animation='year-week')\n",
    "# fig.write_json(\"../../reports/replication/bus-routes-weekly.json\")\n",
    "# fig.show()"
   ]
  },
  {
   "cell_type": "code",
   "execution_count": null,
   "metadata": {},
   "outputs": [],
   "source": [
    "tracts = gpd.read_file(\"../../data/raw/tracts.geojson\")"
   ]
  },
  {
   "cell_type": "code",
   "execution_count": null,
   "metadata": {},
   "outputs": [],
   "source": [
    "demogs = panel.sjoin(tracts, how='left', predicate='intersects')"
   ]
  },
  {
   "cell_type": "code",
   "execution_count": null,
   "metadata": {},
   "outputs": [],
   "source": [
    "plot_data = (demogs.groupby(['route','name','geometry','date'],as_index=False)\n",
    "             .agg({'rides':'sum','TOTAL_POPULATION':'sum'})\n",
    "             .groupby(['route','name','geometry'],as_index=False)\n",
    "             .agg({'rides':'sum','TOTAL_POPULATION':'mean'}))\n"
   ]
  },
  {
   "cell_type": "code",
   "execution_count": null,
   "metadata": {},
   "outputs": [],
   "source": [
    "plot_data = gpd.GeoDataFrame(plot_data, crs=routes.crs)\n",
    "fig = plot_lines(plot_data, color_col=\"TOTAL_POPULATION\")\n",
    "fig.write_json(\"../../reports/replication/bus-route-pop.json\")\n",
    "fig.show()"
   ]
  },
  {
   "cell_type": "code",
   "execution_count": null,
   "metadata": {},
   "outputs": [],
   "source": [
    "plot_data = plot_data.assign(rides_pc = plot_data['rides'] / plot_data['TOTAL_POPULATION'])\n",
    "fig = plot_lines(plot_data, color_col=\"rides_pc\")\n",
    "fig.write_json(\"../../reports/replication/bus-route-rides-percapita.json\")\n",
    "fig.show()"
   ]
  }
 ],
 "metadata": {
  "kernelspec": {
   "display_name": ".venv",
   "language": "python",
   "name": "python3"
  },
  "language_info": {
   "codemirror_mode": {
    "name": "ipython",
    "version": 3
   },
   "file_extension": ".py",
   "mimetype": "text/x-python",
   "name": "python",
   "nbconvert_exporter": "python",
   "pygments_lexer": "ipython3",
   "version": "3.12.6"
  }
 },
 "nbformat": 4,
 "nbformat_minor": 2
}
