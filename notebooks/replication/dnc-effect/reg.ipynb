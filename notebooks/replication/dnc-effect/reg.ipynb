{
 "cells": [
  {
   "cell_type": "code",
   "execution_count": 118,
   "metadata": {},
   "outputs": [],
   "source": [
    "import pandas as pd\n",
    "import re\n",
    "import numpy as np\n",
    "import matplotlib.pyplot as plt\n",
    "import statsmodels.api as sm\n",
    "import plotly.express as px\n",
    "from statsmodels.regression.linear_model import RegressionResults\n",
    "from statsmodels.stats.outliers_influence import variance_inflation_factor\n",
    "from statsmodels.iolib.table import SimpleTable\n",
    "from statsmodels.iolib.summary2 import summary_col\n",
    "from tabulate import  tabulate\n",
    "from stats.reg import coefplot, prettify_coefs, main_effects, compute_vif, joint_effect, cond_effect, catvar"
   ]
  },
  {
   "cell_type": "code",
   "execution_count": 119,
   "metadata": {},
   "outputs": [],
   "source": [
    "point_panel_in = \"../../../data/final/point_panel.parquet\"\n",
    "line_panel_in = \"../../../data/final/line_panel.parquet\"\n",
    "tract_panel_in = \"../../../data/final/tract_panel.parquet\"\n",
    "comm_panel_in = \"../../../data/final/comm_panel.parquet\""
   ]
  },
  {
   "cell_type": "code",
   "execution_count": 120,
   "metadata": {},
   "outputs": [],
   "source": [
    "point_panel = pd.read_parquet(point_panel_in)\n",
    "line_panel = pd.read_parquet(line_panel_in)\n",
    "tract_panel = pd.read_parquet(tract_panel_in)\n",
    "comm_panel = pd.read_parquet(comm_panel_in)"
   ]
  },
  {
   "cell_type": "markdown",
   "metadata": {},
   "source": [
    "## Preprocessing"
   ]
  },
  {
   "cell_type": "code",
   "execution_count": 121,
   "metadata": {},
   "outputs": [],
   "source": [
    "comm_panel = comm_panel.loc[~comm_panel.is_weekend]\n",
    "tract_panel = tract_panel.loc[~tract_panel.is_weekend]\n",
    "line_panel = line_panel.loc[~line_panel.is_weekend]\n",
    "point_panel = point_panel.loc[~point_panel.is_weekend]"
   ]
  },
  {
   "cell_type": "code",
   "execution_count": 122,
   "metadata": {},
   "outputs": [],
   "source": [
    "def get_model_data(panel, transit):\n",
    "    model_data = panel.query(f'transit == \"{transit}\"')\n",
    "    exclude_tracts = model_data.groupby('id')['rides'].transform('sum') == 0\n",
    "    model_data = model_data[~exclude_tracts]\n",
    "    return model_data"
   ]
  },
  {
   "cell_type": "code",
   "execution_count": 123,
   "metadata": {},
   "outputs": [],
   "source": [
    "# def pretty_summary(model, exclude=None):\n",
    "#     s = model.summary()\n",
    "#     data = pd.DataFrame(s.tables[1].data)\n",
    "#     data.columns = ['name'] + list(data.iloc[0,1:])\n",
    "#     data = data.iloc[1:, :].reset_index(drop=True)\n",
    "#     if exclude is not None:\n",
    "#         data = data[~data.name.str.contains(exclude)]\n",
    "#     s.tables = [s.tables[0], data, s.tables[2]]\n",
    "#     return s"
   ]
  },
  {
   "cell_type": "markdown",
   "metadata": {},
   "source": [
    "## Fixed Effects"
   ]
  },
  {
   "cell_type": "code",
   "execution_count": 124,
   "metadata": {},
   "outputs": [],
   "source": [
    "def model_transit_fe(df):\n",
    "    df = df.copy()\n",
    "    df['tid'] = df['transit'] + \":\" + df['id'].astype(str)\n",
    "    df = df.sort_values('date')\n",
    "    df['time'] = pd.Categorical(df['date']).codes\n",
    "    formula = f\"\"\"np.log1p(rides) ~ \n",
    "                DNC + time + dotw + tid\"\"\"\n",
    "    model = sm.OLS.from_formula(formula, df).fit()\n",
    "    return model\n",
    "\n",
    "def model_area_fe(df):\n",
    "    ## Community areas dont have separate units for transit.\n",
    "    ## Since fixed effects cant distringuish transit anyway,\n",
    "    ## Might as well sum it. Otherwise you have huge variance per unit.\n",
    "    df = df.groupby(['id','date','dotw','DNC'])['rides'].sum().reset_index()\n",
    "    df = df.sort_values('date')\n",
    "    df['time'] = pd.Categorical(df['date']).codes\n",
    "    id_formula = \"C(id)\" #catvar(df, \"id\", tract_panel.id.min())\n",
    "    formula = f\"\"\"np.log1p(rides) ~ \n",
    "                DNC + time + dotw + I(dotw**2) + {id_formula}\"\"\"\n",
    "    model = sm.OLS.from_formula(formula, df).fit()\n",
    "    return model"
   ]
  },
  {
   "cell_type": "code",
   "execution_count": 125,
   "metadata": {},
   "outputs": [],
   "source": [
    "model_data = get_model_data(point_panel, \"train\")\n",
    "train_fe_model = model_area_fe(model_data)\n",
    "# train_fe_model.summary()"
   ]
  },
  {
   "cell_type": "code",
   "execution_count": 126,
   "metadata": {},
   "outputs": [
    {
     "data": {
      "text/html": [
       "<div>\n",
       "<style scoped>\n",
       "    .dataframe tbody tr th:only-of-type {\n",
       "        vertical-align: middle;\n",
       "    }\n",
       "\n",
       "    .dataframe tbody tr th {\n",
       "        vertical-align: top;\n",
       "    }\n",
       "\n",
       "    .dataframe thead th {\n",
       "        text-align: right;\n",
       "    }\n",
       "</style>\n",
       "<table border=\"1\" class=\"dataframe\">\n",
       "  <thead>\n",
       "    <tr style=\"text-align: right;\">\n",
       "      <th></th>\n",
       "      <th>date</th>\n",
       "      <th>id</th>\n",
       "      <th>transit</th>\n",
       "      <th>UCMP</th>\n",
       "      <th>airport</th>\n",
       "      <th>lat</th>\n",
       "      <th>long</th>\n",
       "      <th>rides</th>\n",
       "      <th>DNC</th>\n",
       "      <th>is_weekend</th>\n",
       "      <th>dotw</th>\n",
       "    </tr>\n",
       "  </thead>\n",
       "  <tbody>\n",
       "    <tr>\n",
       "      <th>2</th>\n",
       "      <td>2024-06-03</td>\n",
       "      <td>40030</td>\n",
       "      <td>train</td>\n",
       "      <td>0</td>\n",
       "      <td>0.0</td>\n",
       "      <td>-0.115786</td>\n",
       "      <td>-1.133519</td>\n",
       "      <td>936.0</td>\n",
       "      <td>0.0</td>\n",
       "      <td>False</td>\n",
       "      <td>0</td>\n",
       "    </tr>\n",
       "    <tr>\n",
       "      <th>3</th>\n",
       "      <td>2024-06-03</td>\n",
       "      <td>40040</td>\n",
       "      <td>train</td>\n",
       "      <td>0</td>\n",
       "      <td>0.0</td>\n",
       "      <td>-0.208408</td>\n",
       "      <td>0.736134</td>\n",
       "      <td>4520.0</td>\n",
       "      <td>0.0</td>\n",
       "      <td>False</td>\n",
       "      <td>0</td>\n",
       "    </tr>\n",
       "    <tr>\n",
       "      <th>4</th>\n",
       "      <td>2024-06-03</td>\n",
       "      <td>40060</td>\n",
       "      <td>train</td>\n",
       "      <td>0</td>\n",
       "      <td>0.0</td>\n",
       "      <td>0.614223</td>\n",
       "      <td>-0.867442</td>\n",
       "      <td>3088.0</td>\n",
       "      <td>0.0</td>\n",
       "      <td>False</td>\n",
       "      <td>0</td>\n",
       "    </tr>\n",
       "    <tr>\n",
       "      <th>5</th>\n",
       "      <td>2024-06-03</td>\n",
       "      <td>40070</td>\n",
       "      <td>train</td>\n",
       "      <td>0</td>\n",
       "      <td>0.0</td>\n",
       "      <td>-0.215886</td>\n",
       "      <td>0.826778</td>\n",
       "      <td>3330.0</td>\n",
       "      <td>0.0</td>\n",
       "      <td>False</td>\n",
       "      <td>0</td>\n",
       "    </tr>\n",
       "    <tr>\n",
       "      <th>6</th>\n",
       "      <td>2024-06-03</td>\n",
       "      <td>40080</td>\n",
       "      <td>train</td>\n",
       "      <td>0</td>\n",
       "      <td>0.0</td>\n",
       "      <td>0.830830</td>\n",
       "      <td>0.303946</td>\n",
       "      <td>2404.0</td>\n",
       "      <td>0.0</td>\n",
       "      <td>False</td>\n",
       "      <td>0</td>\n",
       "    </tr>\n",
       "    <tr>\n",
       "      <th>...</th>\n",
       "      <td>...</td>\n",
       "      <td>...</td>\n",
       "      <td>...</td>\n",
       "      <td>...</td>\n",
       "      <td>...</td>\n",
       "      <td>...</td>\n",
       "      <td>...</td>\n",
       "      <td>...</td>\n",
       "      <td>...</td>\n",
       "      <td>...</td>\n",
       "      <td>...</td>\n",
       "    </tr>\n",
       "    <tr>\n",
       "      <th>82582</th>\n",
       "      <td>2024-08-30</td>\n",
       "      <td>41660</td>\n",
       "      <td>train</td>\n",
       "      <td>0</td>\n",
       "      <td>0.0</td>\n",
       "      <td>-0.124136</td>\n",
       "      <td>0.857026</td>\n",
       "      <td>11129.0</td>\n",
       "      <td>0.0</td>\n",
       "      <td>False</td>\n",
       "      <td>4</td>\n",
       "    </tr>\n",
       "    <tr>\n",
       "      <th>82583</th>\n",
       "      <td>2024-08-30</td>\n",
       "      <td>41670</td>\n",
       "      <td>train</td>\n",
       "      <td>0</td>\n",
       "      <td>0.0</td>\n",
       "      <td>-0.122820</td>\n",
       "      <td>-0.952374</td>\n",
       "      <td>668.0</td>\n",
       "      <td>0.0</td>\n",
       "      <td>False</td>\n",
       "      <td>4</td>\n",
       "    </tr>\n",
       "    <tr>\n",
       "      <th>82584</th>\n",
       "      <td>2024-08-30</td>\n",
       "      <td>41690</td>\n",
       "      <td>train</td>\n",
       "      <td>1</td>\n",
       "      <td>0.0</td>\n",
       "      <td>-0.563000</td>\n",
       "      <td>0.885806</td>\n",
       "      <td>1750.0</td>\n",
       "      <td>0.0</td>\n",
       "      <td>False</td>\n",
       "      <td>4</td>\n",
       "    </tr>\n",
       "    <tr>\n",
       "      <th>82585</th>\n",
       "      <td>2024-08-30</td>\n",
       "      <td>41700</td>\n",
       "      <td>train</td>\n",
       "      <td>0</td>\n",
       "      <td>0.0</td>\n",
       "      <td>-0.146139</td>\n",
       "      <td>0.890151</td>\n",
       "      <td>6749.0</td>\n",
       "      <td>0.0</td>\n",
       "      <td>False</td>\n",
       "      <td>4</td>\n",
       "    </tr>\n",
       "    <tr>\n",
       "      <th>82586</th>\n",
       "      <td>2024-08-30</td>\n",
       "      <td>41710</td>\n",
       "      <td>train</td>\n",
       "      <td>1</td>\n",
       "      <td>0.0</td>\n",
       "      <td>-0.121851</td>\n",
       "      <td>-0.144018</td>\n",
       "      <td>605.0</td>\n",
       "      <td>0.0</td>\n",
       "      <td>False</td>\n",
       "      <td>4</td>\n",
       "    </tr>\n",
       "  </tbody>\n",
       "</table>\n",
       "<p>7910 rows × 11 columns</p>\n",
       "</div>"
      ],
      "text/plain": [
       "             date     id transit  UCMP  airport       lat      long    rides  \\\n",
       "2      2024-06-03  40030   train     0      0.0 -0.115786 -1.133519    936.0   \n",
       "3      2024-06-03  40040   train     0      0.0 -0.208408  0.736134   4520.0   \n",
       "4      2024-06-03  40060   train     0      0.0  0.614223 -0.867442   3088.0   \n",
       "5      2024-06-03  40070   train     0      0.0 -0.215886  0.826778   3330.0   \n",
       "6      2024-06-03  40080   train     0      0.0  0.830830  0.303946   2404.0   \n",
       "...           ...    ...     ...   ...      ...       ...       ...      ...   \n",
       "82582  2024-08-30  41660   train     0      0.0 -0.124136  0.857026  11129.0   \n",
       "82583  2024-08-30  41670   train     0      0.0 -0.122820 -0.952374    668.0   \n",
       "82584  2024-08-30  41690   train     1      0.0 -0.563000  0.885806   1750.0   \n",
       "82585  2024-08-30  41700   train     0      0.0 -0.146139  0.890151   6749.0   \n",
       "82586  2024-08-30  41710   train     1      0.0 -0.121851 -0.144018    605.0   \n",
       "\n",
       "       DNC  is_weekend  dotw  \n",
       "2      0.0       False     0  \n",
       "3      0.0       False     0  \n",
       "4      0.0       False     0  \n",
       "5      0.0       False     0  \n",
       "6      0.0       False     0  \n",
       "...    ...         ...   ...  \n",
       "82582  0.0       False     4  \n",
       "82583  0.0       False     4  \n",
       "82584  0.0       False     4  \n",
       "82585  0.0       False     4  \n",
       "82586  0.0       False     4  \n",
       "\n",
       "[7910 rows x 11 columns]"
      ]
     },
     "execution_count": 126,
     "metadata": {},
     "output_type": "execute_result"
    }
   ],
   "source": [
    "model_data"
   ]
  },
  {
   "cell_type": "code",
   "execution_count": 127,
   "metadata": {},
   "outputs": [],
   "source": [
    "model_data = get_model_data(tract_panel, \"uber\")\n",
    "uber_fe_model = model_area_fe(model_data)\n",
    "# uber_fe_model.summary()"
   ]
  },
  {
   "cell_type": "code",
   "execution_count": 128,
   "metadata": {},
   "outputs": [],
   "source": [
    "model_data = get_model_data(point_panel, \"bike\")\n",
    "bike_fe_model = model_area_fe(model_data)\n",
    "# bike_fe_model.summary()"
   ]
  },
  {
   "cell_type": "code",
   "execution_count": 129,
   "metadata": {},
   "outputs": [
    {
     "name": "stdout",
     "output_type": "stream",
     "text": [
      "|                | FE (Uber)   | FE (Train)   | FE (Bike)   |\n",
      "|----------------|-------------|--------------|-------------|\n",
      "| During DNC     | -0.0588***  | -0.0841***   | 0.0287***   |\n",
      "|                | (0.0066)    | (0.0148)     | (0.0069)    |\n",
      "| time           | 0.0013***   | 0.0014***    | -0.0001     |\n",
      "|                | (0.0001)    | (0.0002)     | (0.0001)    |\n",
      "| dotw           | 0.0485***   | 0.1022***    | 0.0591***   |\n",
      "|                | (0.0037)    | (0.0083)     | (0.0039)    |\n",
      "| dotw**2        | 0.0229***   | -0.0234***   | -0.0080***  |\n",
      "|                | (0.0009)    | (0.0020)     | (0.0009)    |\n",
      "| R-squared      | 0.9515      | 0.9017       | 0.9488      |\n",
      "| R-squared Adj. | 0.9506      | 0.9001       | 0.9473      |\n",
      "| N              | 65226.0     | 7910.0       | 53053.0     |\n"
     ]
    }
   ],
   "source": [
    "fe_summary = summary_col([uber_fe_model, train_fe_model, bike_fe_model], \n",
    "            model_names=[\"FE (Uber)\", \"FE (Train)\", \"FE (Bike)\"], \n",
    "            info_dict={\"N\":lambda x:(x.nobs)},\n",
    "            stars=True,\n",
    "            regressor_order=['DNC','time','dotw','I(dotw ** 2)'], \n",
    "            drop_omitted=True)\n",
    "\n",
    "fe_summary.tables[0].index = (fe_summary.tables[0].index\n",
    "                              .str.replace('I(dotw ** 2)','dotw**2')\n",
    "                              .str.replace('DNC','During DNC'))\n",
    "\n",
    "fe_summary = tabulate(fe_summary.tables[0],\n",
    "                   headers=[\"\", \"FE (Uber)\", \"FE (Train)\", \"FE (Bike)\"],\n",
    "                   showindex=True,\n",
    "                   tablefmt='github')\n",
    "with open(\"../../../reports/replication/fe.md\",\"w\") as f:\n",
    "    f.write(fe_summary)\n",
    "!cp ../../../reports/replication/fe.md ../../../../eric-mc2-cv/static/uploads/\n",
    "print(fe_summary)"
   ]
  },
  {
   "cell_type": "markdown",
   "metadata": {},
   "source": [
    "## DiffNDiff"
   ]
  },
  {
   "cell_type": "code",
   "execution_count": 130,
   "metadata": {},
   "outputs": [],
   "source": [
    "def model_did(df, transit_ref: str):\n",
    "    transit = catvar(df, \"transit\", transit_ref)\n",
    "    df = df.sort_values('date')\n",
    "    df['time'] = pd.Categorical(df['date']).codes\n",
    "    formula = f\"\"\"np.log1p(rides) ~ \n",
    "                (UCMP * DNC * {transit}) +\n",
    "                time + dotw * {transit} +\n",
    "                train_contained + bike_contained +\n",
    "                lat + long + I(lat * long) \n",
    "                \"\"\"\n",
    "                # (UCMP * DNC * {transit}) - (DNC : {transit}) +\n",
    "                # airport * DNC + \n",
    "                # + I(lat**2) + I(long**2)\n",
    "    did_model = sm.OLS.from_formula(formula, df).fit()\n",
    "    return did_model\n",
    "\n",
    "def model_transit_did(df):\n",
    "    df = df.sort_values('date')\n",
    "    df['time'] = pd.Categorical(df['date']).codes\n",
    "    contained_term = \"train_contained + bike_contained +\" if 'train_contained' in df.columns else \"\"\n",
    "    formula = f\"\"\"np.log1p(rides) ~ \n",
    "                UCMP * DNC +\n",
    "                time + dotw + I(dotw**2) +\n",
    "                {contained_term}\n",
    "                lat + long + I(lat * long) \n",
    "                + I(lat**2) + I(long**2)\n",
    "                \"\"\"\n",
    "                # airport * DNC + \n",
    "    did_model = sm.OLS.from_formula(formula, df).fit()\n",
    "    return did_model"
   ]
  },
  {
   "cell_type": "code",
   "execution_count": 131,
   "metadata": {},
   "outputs": [
    {
     "data": {
      "text/html": [
       "<table class=\"simpletable\">\n",
       "<caption>OLS Regression Results</caption>\n",
       "<tr>\n",
       "  <th>Dep. Variable:</th>     <td>np.log1p(rides)</td> <th>  R-squared:         </th> <td>   0.664</td> \n",
       "</tr>\n",
       "<tr>\n",
       "  <th>Model:</th>                   <td>OLS</td>       <th>  Adj. R-squared:    </th> <td>   0.664</td> \n",
       "</tr>\n",
       "<tr>\n",
       "  <th>Method:</th>             <td>Least Squares</td>  <th>  F-statistic:       </th> <td>   9511.</td> \n",
       "</tr>\n",
       "<tr>\n",
       "  <th>Date:</th>             <td>Mon, 30 Dec 2024</td> <th>  Prob (F-statistic):</th>  <td>  0.00</td>  \n",
       "</tr>\n",
       "<tr>\n",
       "  <th>Time:</th>                 <td>10:51:41</td>     <th>  Log-Likelihood:    </th> <td> -69539.</td> \n",
       "</tr>\n",
       "<tr>\n",
       "  <th>No. Observations:</th>      <td> 53053</td>      <th>  AIC:               </th> <td>1.391e+05</td>\n",
       "</tr>\n",
       "<tr>\n",
       "  <th>Df Residuals:</th>          <td> 53041</td>      <th>  BIC:               </th> <td>1.392e+05</td>\n",
       "</tr>\n",
       "<tr>\n",
       "  <th>Df Model:</th>              <td>    11</td>      <th>                     </th>     <td> </td>    \n",
       "</tr>\n",
       "<tr>\n",
       "  <th>Covariance Type:</th>      <td>nonrobust</td>    <th>                     </th>     <td> </td>    \n",
       "</tr>\n",
       "</table>\n",
       "<table class=\"simpletable\">\n",
       "<tr>\n",
       "        <td></td>           <th>coef</th>     <th>std err</th>      <th>t</th>      <th>P>|t|</th>  <th>[0.025</th>    <th>0.975]</th>  \n",
       "</tr>\n",
       "<tr>\n",
       "  <th>Intercept</th>     <td>    3.1474</td> <td>    0.011</td> <td>  277.358</td> <td> 0.000</td> <td>    3.125</td> <td>    3.170</td>\n",
       "</tr>\n",
       "<tr>\n",
       "  <th>UCMP</th>          <td>    0.2384</td> <td>    0.018</td> <td>   13.371</td> <td> 0.000</td> <td>    0.203</td> <td>    0.273</td>\n",
       "</tr>\n",
       "<tr>\n",
       "  <th>DNC</th>           <td>    0.0223</td> <td>    0.018</td> <td>    1.253</td> <td> 0.210</td> <td>   -0.013</td> <td>    0.057</td>\n",
       "</tr>\n",
       "<tr>\n",
       "  <th>UCMP:DNC</th>      <td>    0.2430</td> <td>    0.072</td> <td>    3.356</td> <td> 0.001</td> <td>    0.101</td> <td>    0.385</td>\n",
       "</tr>\n",
       "<tr>\n",
       "  <th>time</th>          <td>    0.0002</td> <td>    0.000</td> <td>    0.905</td> <td> 0.365</td> <td>   -0.000</td> <td>    0.001</td>\n",
       "</tr>\n",
       "<tr>\n",
       "  <th>dotw</th>          <td>    0.0601</td> <td>    0.010</td> <td>    6.169</td> <td> 0.000</td> <td>    0.041</td> <td>    0.079</td>\n",
       "</tr>\n",
       "<tr>\n",
       "  <th>I(dotw ** 2)</th>  <td>   -0.0095</td> <td>    0.002</td> <td>   -4.045</td> <td> 0.000</td> <td>   -0.014</td> <td>   -0.005</td>\n",
       "</tr>\n",
       "<tr>\n",
       "  <th>lat</th>           <td>    0.7246</td> <td>    0.006</td> <td>  128.765</td> <td> 0.000</td> <td>    0.714</td> <td>    0.736</td>\n",
       "</tr>\n",
       "<tr>\n",
       "  <th>long</th>          <td>    1.3466</td> <td>    0.006</td> <td>  231.459</td> <td> 0.000</td> <td>    1.335</td> <td>    1.358</td>\n",
       "</tr>\n",
       "<tr>\n",
       "  <th>I(lat * long)</th> <td>    0.5478</td> <td>    0.006</td> <td>   89.822</td> <td> 0.000</td> <td>    0.536</td> <td>    0.560</td>\n",
       "</tr>\n",
       "<tr>\n",
       "  <th>I(lat ** 2)</th>   <td>   -0.2440</td> <td>    0.004</td> <td>  -66.707</td> <td> 0.000</td> <td>   -0.251</td> <td>   -0.237</td>\n",
       "</tr>\n",
       "<tr>\n",
       "  <th>I(long ** 2)</th>  <td>    0.2167</td> <td>    0.004</td> <td>   50.186</td> <td> 0.000</td> <td>    0.208</td> <td>    0.225</td>\n",
       "</tr>\n",
       "</table>\n",
       "<table class=\"simpletable\">\n",
       "<tr>\n",
       "  <th>Omnibus:</th>       <td>468.917</td> <th>  Durbin-Watson:     </th> <td>   1.722</td> \n",
       "</tr>\n",
       "<tr>\n",
       "  <th>Prob(Omnibus):</th> <td> 0.000</td>  <th>  Jarque-Bera (JB):  </th> <td> 481.476</td> \n",
       "</tr>\n",
       "<tr>\n",
       "  <th>Skew:</th>          <td>-0.230</td>  <th>  Prob(JB):          </th> <td>2.81e-105</td>\n",
       "</tr>\n",
       "<tr>\n",
       "  <th>Kurtosis:</th>      <td> 3.074</td>  <th>  Cond. No.          </th> <td>    699.</td> \n",
       "</tr>\n",
       "</table><br/><br/>Notes:<br/>[1] Standard Errors assume that the covariance matrix of the errors is correctly specified."
      ],
      "text/latex": [
       "\\begin{center}\n",
       "\\begin{tabular}{lclc}\n",
       "\\toprule\n",
       "\\textbf{Dep. Variable:}    & np.log1p(rides)  & \\textbf{  R-squared:         } &     0.664   \\\\\n",
       "\\textbf{Model:}            &       OLS        & \\textbf{  Adj. R-squared:    } &     0.664   \\\\\n",
       "\\textbf{Method:}           &  Least Squares   & \\textbf{  F-statistic:       } &     9511.   \\\\\n",
       "\\textbf{Date:}             & Mon, 30 Dec 2024 & \\textbf{  Prob (F-statistic):} &     0.00    \\\\\n",
       "\\textbf{Time:}             &     10:51:41     & \\textbf{  Log-Likelihood:    } &   -69539.   \\\\\n",
       "\\textbf{No. Observations:} &       53053      & \\textbf{  AIC:               } & 1.391e+05   \\\\\n",
       "\\textbf{Df Residuals:}     &       53041      & \\textbf{  BIC:               } & 1.392e+05   \\\\\n",
       "\\textbf{Df Model:}         &          11      & \\textbf{                     } &             \\\\\n",
       "\\textbf{Covariance Type:}  &    nonrobust     & \\textbf{                     } &             \\\\\n",
       "\\bottomrule\n",
       "\\end{tabular}\n",
       "\\begin{tabular}{lcccccc}\n",
       "                       & \\textbf{coef} & \\textbf{std err} & \\textbf{t} & \\textbf{P$> |$t$|$} & \\textbf{[0.025} & \\textbf{0.975]}  \\\\\n",
       "\\midrule\n",
       "\\textbf{Intercept}     &       3.1474  &        0.011     &   277.358  &         0.000        &        3.125    &        3.170     \\\\\n",
       "\\textbf{UCMP}          &       0.2384  &        0.018     &    13.371  &         0.000        &        0.203    &        0.273     \\\\\n",
       "\\textbf{DNC}           &       0.0223  &        0.018     &     1.253  &         0.210        &       -0.013    &        0.057     \\\\\n",
       "\\textbf{UCMP:DNC}      &       0.2430  &        0.072     &     3.356  &         0.001        &        0.101    &        0.385     \\\\\n",
       "\\textbf{time}          &       0.0002  &        0.000     &     0.905  &         0.365        &       -0.000    &        0.001     \\\\\n",
       "\\textbf{dotw}          &       0.0601  &        0.010     &     6.169  &         0.000        &        0.041    &        0.079     \\\\\n",
       "\\textbf{I(dotw ** 2)}  &      -0.0095  &        0.002     &    -4.045  &         0.000        &       -0.014    &       -0.005     \\\\\n",
       "\\textbf{lat}           &       0.7246  &        0.006     &   128.765  &         0.000        &        0.714    &        0.736     \\\\\n",
       "\\textbf{long}          &       1.3466  &        0.006     &   231.459  &         0.000        &        1.335    &        1.358     \\\\\n",
       "\\textbf{I(lat * long)} &       0.5478  &        0.006     &    89.822  &         0.000        &        0.536    &        0.560     \\\\\n",
       "\\textbf{I(lat ** 2)}   &      -0.2440  &        0.004     &   -66.707  &         0.000        &       -0.251    &       -0.237     \\\\\n",
       "\\textbf{I(long ** 2)}  &       0.2167  &        0.004     &    50.186  &         0.000        &        0.208    &        0.225     \\\\\n",
       "\\bottomrule\n",
       "\\end{tabular}\n",
       "\\begin{tabular}{lclc}\n",
       "\\textbf{Omnibus:}       & 468.917 & \\textbf{  Durbin-Watson:     } &     1.722  \\\\\n",
       "\\textbf{Prob(Omnibus):} &   0.000 & \\textbf{  Jarque-Bera (JB):  } &   481.476  \\\\\n",
       "\\textbf{Skew:}          &  -0.230 & \\textbf{  Prob(JB):          } & 2.81e-105  \\\\\n",
       "\\textbf{Kurtosis:}      &   3.074 & \\textbf{  Cond. No.          } &      699.  \\\\\n",
       "\\bottomrule\n",
       "\\end{tabular}\n",
       "%\\caption{OLS Regression Results}\n",
       "\\end{center}\n",
       "\n",
       "Notes: \\newline\n",
       " [1] Standard Errors assume that the covariance matrix of the errors is correctly specified."
      ],
      "text/plain": [
       "<class 'statsmodels.iolib.summary.Summary'>\n",
       "\"\"\"\n",
       "                            OLS Regression Results                            \n",
       "==============================================================================\n",
       "Dep. Variable:        np.log1p(rides)   R-squared:                       0.664\n",
       "Model:                            OLS   Adj. R-squared:                  0.664\n",
       "Method:                 Least Squares   F-statistic:                     9511.\n",
       "Date:                Mon, 30 Dec 2024   Prob (F-statistic):               0.00\n",
       "Time:                        10:51:41   Log-Likelihood:                -69539.\n",
       "No. Observations:               53053   AIC:                         1.391e+05\n",
       "Df Residuals:                   53041   BIC:                         1.392e+05\n",
       "Df Model:                          11                                         \n",
       "Covariance Type:            nonrobust                                         \n",
       "=================================================================================\n",
       "                    coef    std err          t      P>|t|      [0.025      0.975]\n",
       "---------------------------------------------------------------------------------\n",
       "Intercept         3.1474      0.011    277.358      0.000       3.125       3.170\n",
       "UCMP              0.2384      0.018     13.371      0.000       0.203       0.273\n",
       "DNC               0.0223      0.018      1.253      0.210      -0.013       0.057\n",
       "UCMP:DNC          0.2430      0.072      3.356      0.001       0.101       0.385\n",
       "time              0.0002      0.000      0.905      0.365      -0.000       0.001\n",
       "dotw              0.0601      0.010      6.169      0.000       0.041       0.079\n",
       "I(dotw ** 2)     -0.0095      0.002     -4.045      0.000      -0.014      -0.005\n",
       "lat               0.7246      0.006    128.765      0.000       0.714       0.736\n",
       "long              1.3466      0.006    231.459      0.000       1.335       1.358\n",
       "I(lat * long)     0.5478      0.006     89.822      0.000       0.536       0.560\n",
       "I(lat ** 2)      -0.2440      0.004    -66.707      0.000      -0.251      -0.237\n",
       "I(long ** 2)      0.2167      0.004     50.186      0.000       0.208       0.225\n",
       "==============================================================================\n",
       "Omnibus:                      468.917   Durbin-Watson:                   1.722\n",
       "Prob(Omnibus):                  0.000   Jarque-Bera (JB):              481.476\n",
       "Skew:                          -0.230   Prob(JB):                    2.81e-105\n",
       "Kurtosis:                       3.074   Cond. No.                         699.\n",
       "==============================================================================\n",
       "\n",
       "Notes:\n",
       "[1] Standard Errors assume that the covariance matrix of the errors is correctly specified.\n",
       "\"\"\""
      ]
     },
     "execution_count": 131,
     "metadata": {},
     "output_type": "execute_result"
    }
   ],
   "source": [
    "model_data = get_model_data(point_panel, \"bike\")\n",
    "bike_did_model = model_transit_did(model_data)\n",
    "bike_did_model.summary()"
   ]
  },
  {
   "cell_type": "code",
   "execution_count": 132,
   "metadata": {},
   "outputs": [
    {
     "data": {
      "text/html": [
       "<table class=\"simpletable\">\n",
       "<caption>OLS Regression Results</caption>\n",
       "<tr>\n",
       "  <th>Dep. Variable:</th>     <td>np.log1p(rides)</td> <th>  R-squared:         </th> <td>   0.269</td> \n",
       "</tr>\n",
       "<tr>\n",
       "  <th>Model:</th>                   <td>OLS</td>       <th>  Adj. R-squared:    </th> <td>   0.267</td> \n",
       "</tr>\n",
       "<tr>\n",
       "  <th>Method:</th>             <td>Least Squares</td>  <th>  F-statistic:       </th> <td>   263.6</td> \n",
       "</tr>\n",
       "<tr>\n",
       "  <th>Date:</th>             <td>Mon, 30 Dec 2024</td> <th>  Prob (F-statistic):</th>  <td>  0.00</td>  \n",
       "</tr>\n",
       "<tr>\n",
       "  <th>Time:</th>                 <td>10:51:41</td>     <th>  Log-Likelihood:    </th> <td> -9441.2</td> \n",
       "</tr>\n",
       "<tr>\n",
       "  <th>No. Observations:</th>      <td>  7910</td>      <th>  AIC:               </th> <td>1.891e+04</td>\n",
       "</tr>\n",
       "<tr>\n",
       "  <th>Df Residuals:</th>          <td>  7898</td>      <th>  BIC:               </th> <td>1.899e+04</td>\n",
       "</tr>\n",
       "<tr>\n",
       "  <th>Df Model:</th>              <td>    11</td>      <th>                     </th>     <td> </td>    \n",
       "</tr>\n",
       "<tr>\n",
       "  <th>Covariance Type:</th>      <td>nonrobust</td>    <th>                     </th>     <td> </td>    \n",
       "</tr>\n",
       "</table>\n",
       "<table class=\"simpletable\">\n",
       "<tr>\n",
       "        <td></td>           <th>coef</th>     <th>std err</th>      <th>t</th>      <th>P>|t|</th>  <th>[0.025</th>    <th>0.975]</th>  \n",
       "</tr>\n",
       "<tr>\n",
       "  <th>Intercept</th>     <td>    7.3506</td> <td>    0.026</td> <td>  284.597</td> <td> 0.000</td> <td>    7.300</td> <td>    7.401</td>\n",
       "</tr>\n",
       "<tr>\n",
       "  <th>UCMP</th>          <td>   -0.6558</td> <td>    0.039</td> <td>  -16.757</td> <td> 0.000</td> <td>   -0.732</td> <td>   -0.579</td>\n",
       "</tr>\n",
       "<tr>\n",
       "  <th>DNC</th>           <td>   -0.1222</td> <td>    0.041</td> <td>   -2.961</td> <td> 0.003</td> <td>   -0.203</td> <td>   -0.041</td>\n",
       "</tr>\n",
       "<tr>\n",
       "  <th>UCMP:DNC</th>      <td>    0.6846</td> <td>    0.151</td> <td>    4.534</td> <td> 0.000</td> <td>    0.389</td> <td>    0.981</td>\n",
       "</tr>\n",
       "<tr>\n",
       "  <th>time</th>          <td>    0.0008</td> <td>    0.001</td> <td>    1.610</td> <td> 0.107</td> <td>   -0.000</td> <td>    0.002</td>\n",
       "</tr>\n",
       "<tr>\n",
       "  <th>dotw</th>          <td>    0.1026</td> <td>    0.022</td> <td>    4.579</td> <td> 0.000</td> <td>    0.059</td> <td>    0.147</td>\n",
       "</tr>\n",
       "<tr>\n",
       "  <th>I(dotw ** 2)</th>  <td>   -0.0234</td> <td>    0.005</td> <td>   -4.336</td> <td> 0.000</td> <td>   -0.034</td> <td>   -0.013</td>\n",
       "</tr>\n",
       "<tr>\n",
       "  <th>lat</th>           <td>    0.3832</td> <td>    0.012</td> <td>   32.889</td> <td> 0.000</td> <td>    0.360</td> <td>    0.406</td>\n",
       "</tr>\n",
       "<tr>\n",
       "  <th>long</th>          <td>    0.6321</td> <td>    0.015</td> <td>   42.793</td> <td> 0.000</td> <td>    0.603</td> <td>    0.661</td>\n",
       "</tr>\n",
       "<tr>\n",
       "  <th>I(lat * long)</th> <td>    0.3399</td> <td>    0.017</td> <td>   19.599</td> <td> 0.000</td> <td>    0.306</td> <td>    0.374</td>\n",
       "</tr>\n",
       "<tr>\n",
       "  <th>I(lat ** 2)</th>   <td>    0.0097</td> <td>    0.011</td> <td>    0.910</td> <td> 0.363</td> <td>   -0.011</td> <td>    0.031</td>\n",
       "</tr>\n",
       "<tr>\n",
       "  <th>I(long ** 2)</th>  <td>    0.2744</td> <td>    0.008</td> <td>   34.297</td> <td> 0.000</td> <td>    0.259</td> <td>    0.290</td>\n",
       "</tr>\n",
       "</table>\n",
       "<table class=\"simpletable\">\n",
       "<tr>\n",
       "  <th>Omnibus:</th>       <td>3608.617</td> <th>  Durbin-Watson:     </th> <td>   2.089</td> \n",
       "</tr>\n",
       "<tr>\n",
       "  <th>Prob(Omnibus):</th>  <td> 0.000</td>  <th>  Jarque-Bera (JB):  </th> <td>61236.013</td>\n",
       "</tr>\n",
       "<tr>\n",
       "  <th>Skew:</th>           <td>-1.755</td>  <th>  Prob(JB):          </th> <td>    0.00</td> \n",
       "</tr>\n",
       "<tr>\n",
       "  <th>Kurtosis:</th>       <td>16.171</td>  <th>  Cond. No.          </th> <td>    635.</td> \n",
       "</tr>\n",
       "</table><br/><br/>Notes:<br/>[1] Standard Errors assume that the covariance matrix of the errors is correctly specified."
      ],
      "text/latex": [
       "\\begin{center}\n",
       "\\begin{tabular}{lclc}\n",
       "\\toprule\n",
       "\\textbf{Dep. Variable:}    & np.log1p(rides)  & \\textbf{  R-squared:         } &     0.269   \\\\\n",
       "\\textbf{Model:}            &       OLS        & \\textbf{  Adj. R-squared:    } &     0.267   \\\\\n",
       "\\textbf{Method:}           &  Least Squares   & \\textbf{  F-statistic:       } &     263.6   \\\\\n",
       "\\textbf{Date:}             & Mon, 30 Dec 2024 & \\textbf{  Prob (F-statistic):} &     0.00    \\\\\n",
       "\\textbf{Time:}             &     10:51:41     & \\textbf{  Log-Likelihood:    } &   -9441.2   \\\\\n",
       "\\textbf{No. Observations:} &        7910      & \\textbf{  AIC:               } & 1.891e+04   \\\\\n",
       "\\textbf{Df Residuals:}     &        7898      & \\textbf{  BIC:               } & 1.899e+04   \\\\\n",
       "\\textbf{Df Model:}         &          11      & \\textbf{                     } &             \\\\\n",
       "\\textbf{Covariance Type:}  &    nonrobust     & \\textbf{                     } &             \\\\\n",
       "\\bottomrule\n",
       "\\end{tabular}\n",
       "\\begin{tabular}{lcccccc}\n",
       "                       & \\textbf{coef} & \\textbf{std err} & \\textbf{t} & \\textbf{P$> |$t$|$} & \\textbf{[0.025} & \\textbf{0.975]}  \\\\\n",
       "\\midrule\n",
       "\\textbf{Intercept}     &       7.3506  &        0.026     &   284.597  &         0.000        &        7.300    &        7.401     \\\\\n",
       "\\textbf{UCMP}          &      -0.6558  &        0.039     &   -16.757  &         0.000        &       -0.732    &       -0.579     \\\\\n",
       "\\textbf{DNC}           &      -0.1222  &        0.041     &    -2.961  &         0.003        &       -0.203    &       -0.041     \\\\\n",
       "\\textbf{UCMP:DNC}      &       0.6846  &        0.151     &     4.534  &         0.000        &        0.389    &        0.981     \\\\\n",
       "\\textbf{time}          &       0.0008  &        0.001     &     1.610  &         0.107        &       -0.000    &        0.002     \\\\\n",
       "\\textbf{dotw}          &       0.1026  &        0.022     &     4.579  &         0.000        &        0.059    &        0.147     \\\\\n",
       "\\textbf{I(dotw ** 2)}  &      -0.0234  &        0.005     &    -4.336  &         0.000        &       -0.034    &       -0.013     \\\\\n",
       "\\textbf{lat}           &       0.3832  &        0.012     &    32.889  &         0.000        &        0.360    &        0.406     \\\\\n",
       "\\textbf{long}          &       0.6321  &        0.015     &    42.793  &         0.000        &        0.603    &        0.661     \\\\\n",
       "\\textbf{I(lat * long)} &       0.3399  &        0.017     &    19.599  &         0.000        &        0.306    &        0.374     \\\\\n",
       "\\textbf{I(lat ** 2)}   &       0.0097  &        0.011     &     0.910  &         0.363        &       -0.011    &        0.031     \\\\\n",
       "\\textbf{I(long ** 2)}  &       0.2744  &        0.008     &    34.297  &         0.000        &        0.259    &        0.290     \\\\\n",
       "\\bottomrule\n",
       "\\end{tabular}\n",
       "\\begin{tabular}{lclc}\n",
       "\\textbf{Omnibus:}       & 3608.617 & \\textbf{  Durbin-Watson:     } &     2.089  \\\\\n",
       "\\textbf{Prob(Omnibus):} &   0.000  & \\textbf{  Jarque-Bera (JB):  } & 61236.013  \\\\\n",
       "\\textbf{Skew:}          &  -1.755  & \\textbf{  Prob(JB):          } &      0.00  \\\\\n",
       "\\textbf{Kurtosis:}      &  16.171  & \\textbf{  Cond. No.          } &      635.  \\\\\n",
       "\\bottomrule\n",
       "\\end{tabular}\n",
       "%\\caption{OLS Regression Results}\n",
       "\\end{center}\n",
       "\n",
       "Notes: \\newline\n",
       " [1] Standard Errors assume that the covariance matrix of the errors is correctly specified."
      ],
      "text/plain": [
       "<class 'statsmodels.iolib.summary.Summary'>\n",
       "\"\"\"\n",
       "                            OLS Regression Results                            \n",
       "==============================================================================\n",
       "Dep. Variable:        np.log1p(rides)   R-squared:                       0.269\n",
       "Model:                            OLS   Adj. R-squared:                  0.267\n",
       "Method:                 Least Squares   F-statistic:                     263.6\n",
       "Date:                Mon, 30 Dec 2024   Prob (F-statistic):               0.00\n",
       "Time:                        10:51:41   Log-Likelihood:                -9441.2\n",
       "No. Observations:                7910   AIC:                         1.891e+04\n",
       "Df Residuals:                    7898   BIC:                         1.899e+04\n",
       "Df Model:                          11                                         \n",
       "Covariance Type:            nonrobust                                         \n",
       "=================================================================================\n",
       "                    coef    std err          t      P>|t|      [0.025      0.975]\n",
       "---------------------------------------------------------------------------------\n",
       "Intercept         7.3506      0.026    284.597      0.000       7.300       7.401\n",
       "UCMP             -0.6558      0.039    -16.757      0.000      -0.732      -0.579\n",
       "DNC              -0.1222      0.041     -2.961      0.003      -0.203      -0.041\n",
       "UCMP:DNC          0.6846      0.151      4.534      0.000       0.389       0.981\n",
       "time              0.0008      0.001      1.610      0.107      -0.000       0.002\n",
       "dotw              0.1026      0.022      4.579      0.000       0.059       0.147\n",
       "I(dotw ** 2)     -0.0234      0.005     -4.336      0.000      -0.034      -0.013\n",
       "lat               0.3832      0.012     32.889      0.000       0.360       0.406\n",
       "long              0.6321      0.015     42.793      0.000       0.603       0.661\n",
       "I(lat * long)     0.3399      0.017     19.599      0.000       0.306       0.374\n",
       "I(lat ** 2)       0.0097      0.011      0.910      0.363      -0.011       0.031\n",
       "I(long ** 2)      0.2744      0.008     34.297      0.000       0.259       0.290\n",
       "==============================================================================\n",
       "Omnibus:                     3608.617   Durbin-Watson:                   2.089\n",
       "Prob(Omnibus):                  0.000   Jarque-Bera (JB):            61236.013\n",
       "Skew:                          -1.755   Prob(JB):                         0.00\n",
       "Kurtosis:                      16.171   Cond. No.                         635.\n",
       "==============================================================================\n",
       "\n",
       "Notes:\n",
       "[1] Standard Errors assume that the covariance matrix of the errors is correctly specified.\n",
       "\"\"\""
      ]
     },
     "execution_count": 132,
     "metadata": {},
     "output_type": "execute_result"
    }
   ],
   "source": [
    "model_data = get_model_data(point_panel, \"train\")\n",
    "train_did_model = model_transit_did(model_data)\n",
    "train_did_model.summary()"
   ]
  },
  {
   "cell_type": "code",
   "execution_count": 133,
   "metadata": {},
   "outputs": [
    {
     "data": {
      "text/html": [
       "<table class=\"simpletable\">\n",
       "<caption>OLS Regression Results</caption>\n",
       "<tr>\n",
       "  <th>Dep. Variable:</th>     <td>np.log1p(rides)</td> <th>  R-squared:         </th>  <td>   0.502</td>  \n",
       "</tr>\n",
       "<tr>\n",
       "  <th>Model:</th>                   <td>OLS</td>       <th>  Adj. R-squared:    </th>  <td>   0.502</td>  \n",
       "</tr>\n",
       "<tr>\n",
       "  <th>Method:</th>             <td>Least Squares</td>  <th>  F-statistic:       </th>  <td>   5062.</td>  \n",
       "</tr>\n",
       "<tr>\n",
       "  <th>Date:</th>             <td>Mon, 30 Dec 2024</td> <th>  Prob (F-statistic):</th>   <td>  0.00</td>   \n",
       "</tr>\n",
       "<tr>\n",
       "  <th>Time:</th>                 <td>10:51:42</td>     <th>  Log-Likelihood:    </th> <td>-1.0417e+05</td>\n",
       "</tr>\n",
       "<tr>\n",
       "  <th>No. Observations:</th>      <td> 65226</td>      <th>  AIC:               </th>  <td>2.084e+05</td> \n",
       "</tr>\n",
       "<tr>\n",
       "  <th>Df Residuals:</th>          <td> 65212</td>      <th>  BIC:               </th>  <td>2.085e+05</td> \n",
       "</tr>\n",
       "<tr>\n",
       "  <th>Df Model:</th>              <td>    13</td>      <th>                     </th>      <td> </td>     \n",
       "</tr>\n",
       "<tr>\n",
       "  <th>Covariance Type:</th>      <td>nonrobust</td>    <th>                     </th>      <td> </td>     \n",
       "</tr>\n",
       "</table>\n",
       "<table class=\"simpletable\">\n",
       "<tr>\n",
       "         <td></td>            <th>coef</th>     <th>std err</th>      <th>t</th>      <th>P>|t|</th>  <th>[0.025</th>    <th>0.975]</th>  \n",
       "</tr>\n",
       "<tr>\n",
       "  <th>Intercept</th>       <td>    3.1575</td> <td>    0.021</td> <td>  150.343</td> <td> 0.000</td> <td>    3.116</td> <td>    3.199</td>\n",
       "</tr>\n",
       "<tr>\n",
       "  <th>UCMP</th>            <td>    0.6664</td> <td>    0.025</td> <td>   26.478</td> <td> 0.000</td> <td>    0.617</td> <td>    0.716</td>\n",
       "</tr>\n",
       "<tr>\n",
       "  <th>DNC</th>             <td>   -0.0608</td> <td>    0.021</td> <td>   -2.845</td> <td> 0.004</td> <td>   -0.103</td> <td>   -0.019</td>\n",
       "</tr>\n",
       "<tr>\n",
       "  <th>UCMP:DNC</th>        <td>    0.1855</td> <td>    0.100</td> <td>    1.863</td> <td> 0.062</td> <td>   -0.010</td> <td>    0.381</td>\n",
       "</tr>\n",
       "<tr>\n",
       "  <th>time</th>            <td>    0.0014</td> <td>    0.000</td> <td>    5.255</td> <td> 0.000</td> <td>    0.001</td> <td>    0.002</td>\n",
       "</tr>\n",
       "<tr>\n",
       "  <th>dotw</th>            <td>    0.0475</td> <td>    0.012</td> <td>    4.063</td> <td> 0.000</td> <td>    0.025</td> <td>    0.070</td>\n",
       "</tr>\n",
       "<tr>\n",
       "  <th>I(dotw ** 2)</th>    <td>    0.0202</td> <td>    0.003</td> <td>    7.219</td> <td> 0.000</td> <td>    0.015</td> <td>    0.026</td>\n",
       "</tr>\n",
       "<tr>\n",
       "  <th>train_contained</th> <td>    0.2960</td> <td>    0.017</td> <td>   17.915</td> <td> 0.000</td> <td>    0.264</td> <td>    0.328</td>\n",
       "</tr>\n",
       "<tr>\n",
       "  <th>bike_contained</th>  <td>    0.2246</td> <td>    0.003</td> <td>   81.916</td> <td> 0.000</td> <td>    0.219</td> <td>    0.230</td>\n",
       "</tr>\n",
       "<tr>\n",
       "  <th>lat</th>             <td>    0.7126</td> <td>    0.006</td> <td>  129.322</td> <td> 0.000</td> <td>    0.702</td> <td>    0.723</td>\n",
       "</tr>\n",
       "<tr>\n",
       "  <th>long</th>            <td>    1.0766</td> <td>    0.007</td> <td>  165.254</td> <td> 0.000</td> <td>    1.064</td> <td>    1.089</td>\n",
       "</tr>\n",
       "<tr>\n",
       "  <th>I(lat * long)</th>   <td>    0.3569</td> <td>    0.006</td> <td>   64.825</td> <td> 0.000</td> <td>    0.346</td> <td>    0.368</td>\n",
       "</tr>\n",
       "<tr>\n",
       "  <th>I(lat ** 2)</th>     <td>   -0.1641</td> <td>    0.004</td> <td>  -46.546</td> <td> 0.000</td> <td>   -0.171</td> <td>   -0.157</td>\n",
       "</tr>\n",
       "<tr>\n",
       "  <th>I(long ** 2)</th>    <td>    0.2239</td> <td>    0.003</td> <td>   69.474</td> <td> 0.000</td> <td>    0.218</td> <td>    0.230</td>\n",
       "</tr>\n",
       "</table>\n",
       "<table class=\"simpletable\">\n",
       "<tr>\n",
       "  <th>Omnibus:</th>       <td>662.155</td> <th>  Durbin-Watson:     </th> <td>   1.349</td> \n",
       "</tr>\n",
       "<tr>\n",
       "  <th>Prob(Omnibus):</th> <td> 0.000</td>  <th>  Jarque-Bera (JB):  </th> <td>1099.187</td> \n",
       "</tr>\n",
       "<tr>\n",
       "  <th>Skew:</th>          <td>-0.050</td>  <th>  Prob(JB):          </th> <td>2.06e-239</td>\n",
       "</tr>\n",
       "<tr>\n",
       "  <th>Kurtosis:</th>      <td> 3.628</td>  <th>  Cond. No.          </th> <td>    805.</td> \n",
       "</tr>\n",
       "</table><br/><br/>Notes:<br/>[1] Standard Errors assume that the covariance matrix of the errors is correctly specified."
      ],
      "text/latex": [
       "\\begin{center}\n",
       "\\begin{tabular}{lclc}\n",
       "\\toprule\n",
       "\\textbf{Dep. Variable:}    & np.log1p(rides)  & \\textbf{  R-squared:         } &      0.502   \\\\\n",
       "\\textbf{Model:}            &       OLS        & \\textbf{  Adj. R-squared:    } &      0.502   \\\\\n",
       "\\textbf{Method:}           &  Least Squares   & \\textbf{  F-statistic:       } &      5062.   \\\\\n",
       "\\textbf{Date:}             & Mon, 30 Dec 2024 & \\textbf{  Prob (F-statistic):} &      0.00    \\\\\n",
       "\\textbf{Time:}             &     10:51:42     & \\textbf{  Log-Likelihood:    } & -1.0417e+05  \\\\\n",
       "\\textbf{No. Observations:} &       65226      & \\textbf{  AIC:               } &  2.084e+05   \\\\\n",
       "\\textbf{Df Residuals:}     &       65212      & \\textbf{  BIC:               } &  2.085e+05   \\\\\n",
       "\\textbf{Df Model:}         &          13      & \\textbf{                     } &              \\\\\n",
       "\\textbf{Covariance Type:}  &    nonrobust     & \\textbf{                     } &              \\\\\n",
       "\\bottomrule\n",
       "\\end{tabular}\n",
       "\\begin{tabular}{lcccccc}\n",
       "                          & \\textbf{coef} & \\textbf{std err} & \\textbf{t} & \\textbf{P$> |$t$|$} & \\textbf{[0.025} & \\textbf{0.975]}  \\\\\n",
       "\\midrule\n",
       "\\textbf{Intercept}        &       3.1575  &        0.021     &   150.343  &         0.000        &        3.116    &        3.199     \\\\\n",
       "\\textbf{UCMP}             &       0.6664  &        0.025     &    26.478  &         0.000        &        0.617    &        0.716     \\\\\n",
       "\\textbf{DNC}              &      -0.0608  &        0.021     &    -2.845  &         0.004        &       -0.103    &       -0.019     \\\\\n",
       "\\textbf{UCMP:DNC}         &       0.1855  &        0.100     &     1.863  &         0.062        &       -0.010    &        0.381     \\\\\n",
       "\\textbf{time}             &       0.0014  &        0.000     &     5.255  &         0.000        &        0.001    &        0.002     \\\\\n",
       "\\textbf{dotw}             &       0.0475  &        0.012     &     4.063  &         0.000        &        0.025    &        0.070     \\\\\n",
       "\\textbf{I(dotw ** 2)}     &       0.0202  &        0.003     &     7.219  &         0.000        &        0.015    &        0.026     \\\\\n",
       "\\textbf{train\\_contained} &       0.2960  &        0.017     &    17.915  &         0.000        &        0.264    &        0.328     \\\\\n",
       "\\textbf{bike\\_contained}  &       0.2246  &        0.003     &    81.916  &         0.000        &        0.219    &        0.230     \\\\\n",
       "\\textbf{lat}              &       0.7126  &        0.006     &   129.322  &         0.000        &        0.702    &        0.723     \\\\\n",
       "\\textbf{long}             &       1.0766  &        0.007     &   165.254  &         0.000        &        1.064    &        1.089     \\\\\n",
       "\\textbf{I(lat * long)}    &       0.3569  &        0.006     &    64.825  &         0.000        &        0.346    &        0.368     \\\\\n",
       "\\textbf{I(lat ** 2)}      &      -0.1641  &        0.004     &   -46.546  &         0.000        &       -0.171    &       -0.157     \\\\\n",
       "\\textbf{I(long ** 2)}     &       0.2239  &        0.003     &    69.474  &         0.000        &        0.218    &        0.230     \\\\\n",
       "\\bottomrule\n",
       "\\end{tabular}\n",
       "\\begin{tabular}{lclc}\n",
       "\\textbf{Omnibus:}       & 662.155 & \\textbf{  Durbin-Watson:     } &     1.349  \\\\\n",
       "\\textbf{Prob(Omnibus):} &   0.000 & \\textbf{  Jarque-Bera (JB):  } &  1099.187  \\\\\n",
       "\\textbf{Skew:}          &  -0.050 & \\textbf{  Prob(JB):          } & 2.06e-239  \\\\\n",
       "\\textbf{Kurtosis:}      &   3.628 & \\textbf{  Cond. No.          } &      805.  \\\\\n",
       "\\bottomrule\n",
       "\\end{tabular}\n",
       "%\\caption{OLS Regression Results}\n",
       "\\end{center}\n",
       "\n",
       "Notes: \\newline\n",
       " [1] Standard Errors assume that the covariance matrix of the errors is correctly specified."
      ],
      "text/plain": [
       "<class 'statsmodels.iolib.summary.Summary'>\n",
       "\"\"\"\n",
       "                            OLS Regression Results                            \n",
       "==============================================================================\n",
       "Dep. Variable:        np.log1p(rides)   R-squared:                       0.502\n",
       "Model:                            OLS   Adj. R-squared:                  0.502\n",
       "Method:                 Least Squares   F-statistic:                     5062.\n",
       "Date:                Mon, 30 Dec 2024   Prob (F-statistic):               0.00\n",
       "Time:                        10:51:42   Log-Likelihood:            -1.0417e+05\n",
       "No. Observations:               65226   AIC:                         2.084e+05\n",
       "Df Residuals:                   65212   BIC:                         2.085e+05\n",
       "Df Model:                          13                                         \n",
       "Covariance Type:            nonrobust                                         \n",
       "===================================================================================\n",
       "                      coef    std err          t      P>|t|      [0.025      0.975]\n",
       "-----------------------------------------------------------------------------------\n",
       "Intercept           3.1575      0.021    150.343      0.000       3.116       3.199\n",
       "UCMP                0.6664      0.025     26.478      0.000       0.617       0.716\n",
       "DNC                -0.0608      0.021     -2.845      0.004      -0.103      -0.019\n",
       "UCMP:DNC            0.1855      0.100      1.863      0.062      -0.010       0.381\n",
       "time                0.0014      0.000      5.255      0.000       0.001       0.002\n",
       "dotw                0.0475      0.012      4.063      0.000       0.025       0.070\n",
       "I(dotw ** 2)        0.0202      0.003      7.219      0.000       0.015       0.026\n",
       "train_contained     0.2960      0.017     17.915      0.000       0.264       0.328\n",
       "bike_contained      0.2246      0.003     81.916      0.000       0.219       0.230\n",
       "lat                 0.7126      0.006    129.322      0.000       0.702       0.723\n",
       "long                1.0766      0.007    165.254      0.000       1.064       1.089\n",
       "I(lat * long)       0.3569      0.006     64.825      0.000       0.346       0.368\n",
       "I(lat ** 2)        -0.1641      0.004    -46.546      0.000      -0.171      -0.157\n",
       "I(long ** 2)        0.2239      0.003     69.474      0.000       0.218       0.230\n",
       "==============================================================================\n",
       "Omnibus:                      662.155   Durbin-Watson:                   1.349\n",
       "Prob(Omnibus):                  0.000   Jarque-Bera (JB):             1099.187\n",
       "Skew:                          -0.050   Prob(JB):                    2.06e-239\n",
       "Kurtosis:                       3.628   Cond. No.                         805.\n",
       "==============================================================================\n",
       "\n",
       "Notes:\n",
       "[1] Standard Errors assume that the covariance matrix of the errors is correctly specified.\n",
       "\"\"\""
      ]
     },
     "execution_count": 133,
     "metadata": {},
     "output_type": "execute_result"
    }
   ],
   "source": [
    "model_data = get_model_data(tract_panel, \"uber\")\n",
    "uber_did_model = model_transit_did(model_data)\n",
    "uber_did_model.summary()"
   ]
  },
  {
   "cell_type": "code",
   "execution_count": 134,
   "metadata": {},
   "outputs": [
    {
     "name": "stdout",
     "output_type": "stream",
     "text": [
      "|                     | DiD (Uber)   | DiD (Train)   | DiD (Bike)   |\n",
      "|---------------------|--------------|---------------|--------------|\n",
      "| Near DNC            | 0.6664***    | -0.6558***    | 0.2384***    |\n",
      "|                     | (0.0252)     | (0.0391)      | (0.0178)     |\n",
      "| During DNC          | -0.0608***   | -0.1222***    | 0.0223       |\n",
      "|                     | (0.0214)     | (0.0413)      | (0.0178)     |\n",
      "| Near DNC:During DNC | 0.1855*      | 0.6846***     | 0.2430***    |\n",
      "|                     | (0.0996)     | (0.1510)      | (0.0724)     |\n",
      "| time                | 0.0014***    | 0.0008        | 0.0002       |\n",
      "|                     | (0.0003)     | (0.0005)      | (0.0002)     |\n",
      "| dotw                | 0.0475***    | 0.1026***     | 0.0601***    |\n",
      "|                     | (0.0117)     | (0.0224)      | (0.0098)     |\n",
      "| dotw**2             | 0.0202***    | -0.0234***    | -0.0095***   |\n",
      "|                     | (0.0028)     | (0.0054)      | (0.0023)     |\n",
      "| R-squared           | 0.5023       | 0.2685        | 0.6636       |\n",
      "| R-squared Adj.      | 0.5022       | 0.2675        | 0.6635       |\n",
      "| N                   | 65226.0      | 7910.0        | 53053.0      |\n"
     ]
    }
   ],
   "source": [
    "headers = [\"DiD (Uber)\", \"DiD (Train)\", \"DiD (Bike)\"]\n",
    "did_summary = summary_col([uber_did_model, train_did_model, bike_did_model], \n",
    "            model_names=headers, \n",
    "            info_dict={\"N\":lambda x:(x.nobs)},\n",
    "            stars=True,\n",
    "            regressor_order=['UCMP','DNC','UCMP:DNC',\n",
    "                             'time','dotw','I(dotw ** 2)'],\n",
    "            drop_omitted=True)\n",
    "                            #  'lat','long','I(lat * long)','I(lat ** 2)','I(long ** 2)'],\n",
    "\n",
    "did_summary.tables[0].index = (did_summary.tables[0].index\n",
    "                               .str.replace('DNC','During DNC')\n",
    "                               .str.replace('UCMP','Near DNC')\n",
    "                               .str.replace('I(dotw ** 2)','dotw**2')\n",
    "                               .str.replace('I(dotw ** 2)','dotw**2')\n",
    "                               .str.replace('I(lat ** 2)','lat**2')\n",
    "                               .str.replace('I(long ** 2)','long**2')\n",
    "                               .str.replace('I(lat * long)','lat*long'))\n",
    "\n",
    "did_summary = tabulate(did_summary.tables[0],\n",
    "                   headers=[\"\"] + headers,\n",
    "                   showindex=True,\n",
    "                   tablefmt='github')\n",
    "with open(\"../../../reports/replication/did.md\",\"w\") as f:\n",
    "    f.write(did_summary)\n",
    "!cp ../../../reports/replication/did.md ../../../../eric-mc2-cv/static/uploads/\n",
    "print(did_summary)"
   ]
  },
  {
   "cell_type": "markdown",
   "metadata": {},
   "source": [
    "### Parallel Trends"
   ]
  },
  {
   "cell_type": "markdown",
   "metadata": {},
   "source": [
    "PT is actually pretty convincing."
   ]
  },
  {
   "cell_type": "code",
   "execution_count": 135,
   "metadata": {},
   "outputs": [],
   "source": [
    "plot_data = pd.concat([\n",
    "    get_model_data(tract_panel, \"uber\"),\n",
    "    get_model_data(point_panel, \"train\"),\n",
    "    get_model_data(point_panel, \"bike\")])\n",
    "plot_data['UCMP'] = plot_data['UCMP'].map({0:False, 1:True})\n",
    "plot_data = plot_data[plot_data.DNC==0].groupby(['date','UCMP','transit'])['rides'].mean().reset_index()\n",
    "means = plot_data.groupby(['UCMP','transit'])['rides'].mean().rename('mean').reset_index()\n",
    "first = plot_data.sort_values('date')[['UCMP','transit','rides']].iloc[:6].rename(columns={'rides':'first'})\n",
    "plot_data = plot_data.merge(means, on=['UCMP','transit']).merge(first, on=['UCMP','transit'])\n",
    "plot_data = plot_data.assign(demean = plot_data['rides'] / plot_data['first'])"
   ]
  },
  {
   "cell_type": "code",
   "execution_count": 136,
   "metadata": {},
   "outputs": [
    {
     "data": {
      "application/vnd.plotly.v1+json": {
       "config": {
        "plotlyServerURL": "https://plot.ly"
       },
       "data": [
        {
         "hovertemplate": "Near DNC=False<br>transit=bike<br>=%{y}<extra></extra>",
         "legendgroup": "False",
         "line": {
          "color": "black",
          "dash": "solid"
         },
         "marker": {
          "symbol": "circle"
         },
         "mode": "lines",
         "name": "False",
         "orientation": "v",
         "showlegend": true,
         "type": "scatter",
         "x": [
          "2024-06-03",
          "2024-06-04",
          "2024-06-05",
          "2024-06-06",
          "2024-06-07",
          "2024-06-10",
          "2024-06-11",
          "2024-06-12",
          "2024-06-13",
          "2024-06-14",
          "2024-06-17",
          "2024-06-18",
          "2024-06-19",
          "2024-06-20",
          "2024-06-21",
          "2024-06-24",
          "2024-06-25",
          "2024-06-26",
          "2024-06-27",
          "2024-06-28",
          "2024-07-01",
          "2024-07-02",
          "2024-07-03",
          "2024-07-04",
          "2024-07-05",
          "2024-07-08",
          "2024-07-09",
          "2024-07-10",
          "2024-07-11",
          "2024-07-12",
          "2024-07-15",
          "2024-07-16",
          "2024-07-17",
          "2024-07-18",
          "2024-07-19",
          "2024-07-22",
          "2024-07-23",
          "2024-07-24",
          "2024-07-25",
          "2024-07-26",
          "2024-07-29",
          "2024-07-30",
          "2024-07-31",
          "2024-08-01",
          "2024-08-02",
          "2024-08-05",
          "2024-08-06",
          "2024-08-07",
          "2024-08-08",
          "2024-08-09",
          "2024-08-12",
          "2024-08-13",
          "2024-08-14",
          "2024-08-15",
          "2024-08-16",
          "2024-08-23",
          "2024-08-26",
          "2024-08-27",
          "2024-08-28",
          "2024-08-29",
          "2024-08-30"
         ],
         "xaxis": "x3",
         "y": [
          1,
          0.9875188996845105,
          1.096924835570906,
          1.077807125217437,
          1.0843497032846514,
          0.8826494222908963,
          1.025295762231553,
          1.117004507412234,
          1.0115762957745147,
          1.1241377229246508,
          0.9478056557566721,
          1.0843527972159321,
          1.231804927884204,
          0.9996354092017651,
          1.231352996463591,
          1.03372476400518,
          0.8508880165862391,
          1.1330287701652968,
          1.0991786914761026,
          0.7113489176143492,
          1.0318029680460314,
          1.062886629047346,
          1.0779309043364607,
          1.0913630863538826,
          1.2082202083999518,
          0.976028708911415,
          0.7077275290670201,
          0.9893271007947727,
          1.0836883377919355,
          1.1670702792701295,
          0.9968433695100078,
          1.082268637862248,
          1.1704469580058912,
          1.1360842406884308,
          1.2336358453739085,
          1.0560429821743866,
          1.045329143410708,
          1.1146547590845433,
          1.1892459559282362,
          1.1918338046147383,
          0.8726887497003334,
          1.1568797525605612,
          1.2607075910382461,
          1.0758161944602145,
          1.1801525142218519,
          0.9781484134697065,
          0.9766209484516206,
          1.1983213429631538,
          1.1470182793593626,
          1.1046345216307756,
          1.0649902988476874,
          1.146819605358061,
          1.196137738333634,
          0.7411827715357068,
          1.0664334703977247,
          1.1402628732158098,
          0.9806488160637872,
          0.9361852225711109,
          1.0985975797957208,
          1.101636219456831,
          1.0407297223223764
         ],
         "yaxis": "y3"
        },
        {
         "hovertemplate": "Near DNC=False<br>transit=train<br>=%{y}<extra></extra>",
         "legendgroup": "False",
         "line": {
          "color": "black",
          "dash": "solid"
         },
         "marker": {
          "symbol": "circle"
         },
         "mode": "lines",
         "name": "False",
         "orientation": "v",
         "showlegend": false,
         "type": "scatter",
         "x": [
          "2024-06-03",
          "2024-06-04",
          "2024-06-05",
          "2024-06-06",
          "2024-06-07",
          "2024-06-10",
          "2024-06-11",
          "2024-06-12",
          "2024-06-13",
          "2024-06-14",
          "2024-06-17",
          "2024-06-18",
          "2024-06-19",
          "2024-06-20",
          "2024-06-21",
          "2024-06-24",
          "2024-06-25",
          "2024-06-26",
          "2024-06-27",
          "2024-06-28",
          "2024-07-01",
          "2024-07-02",
          "2024-07-03",
          "2024-07-04",
          "2024-07-05",
          "2024-07-08",
          "2024-07-09",
          "2024-07-10",
          "2024-07-11",
          "2024-07-12",
          "2024-07-15",
          "2024-07-16",
          "2024-07-17",
          "2024-07-18",
          "2024-07-19",
          "2024-07-22",
          "2024-07-23",
          "2024-07-24",
          "2024-07-25",
          "2024-07-26",
          "2024-07-29",
          "2024-07-30",
          "2024-07-31",
          "2024-08-01",
          "2024-08-02",
          "2024-08-05",
          "2024-08-06",
          "2024-08-07",
          "2024-08-08",
          "2024-08-09",
          "2024-08-12",
          "2024-08-13",
          "2024-08-14",
          "2024-08-15",
          "2024-08-16",
          "2024-08-23",
          "2024-08-26",
          "2024-08-27",
          "2024-08-28",
          "2024-08-29",
          "2024-08-30"
         ],
         "xaxis": "x2",
         "y": [
          1,
          1.1775603333586087,
          1.197802425052906,
          1.1701810862417195,
          1.0179673121066528,
          0.9521124430443444,
          1.1049810779697937,
          1.12384106873281,
          1.1025029468735568,
          1.0925249364095708,
          0.9623627377317001,
          1.1329781000765153,
          0.9261937422881525,
          1.0903811289800027,
          1.0741612611929496,
          0.9687217806698882,
          1.0373132785088475,
          1.1312582288428266,
          1.1522482404924554,
          0.9870509895291207,
          0.956386271360525,
          1.0881132426638358,
          1.0693359711585522,
          0.6258297775541295,
          0.9134584232330822,
          0.9659403456286318,
          1.0654998655812062,
          1.087158524564173,
          1.1106163274028222,
          1.0044496067388624,
          0.9504477179824774,
          1.0831363006569288,
          1.1051568563924752,
          1.1252852091073904,
          1.07024588299361,
          1.0163680731238238,
          1.145186083863541,
          1.1512039098635822,
          1.132871254368611,
          1.0388608179555936,
          0.9196692608344995,
          1.1121087206777465,
          1.1990949134549767,
          1.357585011270499,
          1.2617271781014552,
          0.9901495150583516,
          1.117357946908023,
          1.1611129876127912,
          1.1104991417877013,
          1.0806960825538192,
          0.977727839855517,
          1.1553950189220303,
          1.10706973922754,
          1.0453956393164632,
          1.0420282761996016,
          0.977683033590912,
          1.0042772749519195,
          1.0953649642583874,
          1.183319661678236,
          1.2584115145206765,
          1.1061081278563993
         ],
         "yaxis": "y2"
        },
        {
         "hovertemplate": "Near DNC=False<br>transit=uber<br>=%{y}<extra></extra>",
         "legendgroup": "False",
         "line": {
          "color": "black",
          "dash": "solid"
         },
         "marker": {
          "symbol": "circle"
         },
         "mode": "lines",
         "name": "False",
         "orientation": "v",
         "showlegend": false,
         "type": "scatter",
         "x": [
          "2024-06-03",
          "2024-06-04",
          "2024-06-05",
          "2024-06-06",
          "2024-06-07",
          "2024-06-10",
          "2024-06-11",
          "2024-06-12",
          "2024-06-13",
          "2024-06-14",
          "2024-06-17",
          "2024-06-18",
          "2024-06-19",
          "2024-06-20",
          "2024-06-21",
          "2024-06-24",
          "2024-06-25",
          "2024-06-26",
          "2024-06-27",
          "2024-06-28",
          "2024-07-01",
          "2024-07-02",
          "2024-07-03",
          "2024-07-04",
          "2024-07-05",
          "2024-07-08",
          "2024-07-09",
          "2024-07-10",
          "2024-07-11",
          "2024-07-12",
          "2024-07-15",
          "2024-07-16",
          "2024-07-17",
          "2024-07-18",
          "2024-07-19",
          "2024-07-22",
          "2024-07-23",
          "2024-07-24",
          "2024-07-25",
          "2024-07-26",
          "2024-07-29",
          "2024-07-30",
          "2024-07-31",
          "2024-08-01",
          "2024-08-02",
          "2024-08-05",
          "2024-08-06",
          "2024-08-07",
          "2024-08-08",
          "2024-08-09",
          "2024-08-12",
          "2024-08-13",
          "2024-08-14",
          "2024-08-15",
          "2024-08-16",
          "2024-08-23",
          "2024-08-26",
          "2024-08-27",
          "2024-08-28",
          "2024-08-29",
          "2024-08-30"
         ],
         "xaxis": "x",
         "y": [
          1,
          1.1845409518706687,
          1.2769648001827831,
          1.350291109520644,
          1.7196963844544721,
          1.0343304998767184,
          1.1111159615361297,
          1.1881868206717403,
          1.34154154986276,
          1.7288258112043464,
          0.9604742988360427,
          1.1649949197090546,
          1.3156837283821412,
          1.3684670467060776,
          1.7246134607427748,
          1.0338489788003624,
          1.2017405505777599,
          1.210423715734112,
          1.2824672687225693,
          1.7521017713634086,
          0.9016068075975909,
          0.9996196222669532,
          1.248094981212533,
          1.3456990420528976,
          1.3902937902350616,
          0.9035256287072269,
          1.1430786874136627,
          1.2067865580893433,
          1.3282012520107758,
          1.7465305355080554,
          1.0751499302072818,
          1.1286002080981161,
          1.199390913676628,
          1.337270897463514,
          1.7336698361758536,
          0.9842822756868878,
          1.1876884226057471,
          1.237220860422166,
          1.2985978758692753,
          1.743435008411967,
          0.9884519464351398,
          1.1504806227319315,
          1.372807835123875,
          1.6408679009000036,
          1.890271007643229,
          1.0441666807235352,
          1.0852146238612403,
          1.1952674679543667,
          1.352223534041716,
          1.717875850905334,
          0.9383603429725024,
          1.0751692317250048,
          1.1756025515738606,
          1.3735151124921847,
          1.7636153876755378,
          1.681785364066423,
          1.0185165231175188,
          1.2325267659806538,
          1.190165319689129,
          1.3944929459776556,
          1.7205532223847242
         ],
         "yaxis": "y"
        },
        {
         "hovertemplate": "Near DNC=True<br>transit=bike<br>=%{y}<extra></extra>",
         "legendgroup": "True",
         "line": {
          "color": "black",
          "dash": "dot"
         },
         "marker": {
          "symbol": "circle"
         },
         "mode": "lines",
         "name": "True",
         "orientation": "v",
         "showlegend": true,
         "type": "scatter",
         "x": [
          "2024-06-03",
          "2024-06-04",
          "2024-06-05",
          "2024-06-06",
          "2024-06-07",
          "2024-06-10",
          "2024-06-11",
          "2024-06-12",
          "2024-06-13",
          "2024-06-14",
          "2024-06-17",
          "2024-06-18",
          "2024-06-19",
          "2024-06-20",
          "2024-06-21",
          "2024-06-24",
          "2024-06-25",
          "2024-06-26",
          "2024-06-27",
          "2024-06-28",
          "2024-07-01",
          "2024-07-02",
          "2024-07-03",
          "2024-07-04",
          "2024-07-05",
          "2024-07-08",
          "2024-07-09",
          "2024-07-10",
          "2024-07-11",
          "2024-07-12",
          "2024-07-15",
          "2024-07-16",
          "2024-07-17",
          "2024-07-18",
          "2024-07-19",
          "2024-07-22",
          "2024-07-23",
          "2024-07-24",
          "2024-07-25",
          "2024-07-26",
          "2024-07-29",
          "2024-07-30",
          "2024-07-31",
          "2024-08-01",
          "2024-08-02",
          "2024-08-05",
          "2024-08-06",
          "2024-08-07",
          "2024-08-08",
          "2024-08-09",
          "2024-08-12",
          "2024-08-13",
          "2024-08-14",
          "2024-08-15",
          "2024-08-16",
          "2024-08-23",
          "2024-08-26",
          "2024-08-27",
          "2024-08-28",
          "2024-08-29",
          "2024-08-30"
         ],
         "xaxis": "x3",
         "y": [
          1,
          0.9026811668229985,
          0.9501007643229289,
          1.0103364692552728,
          0.9915395116877328,
          0.814677229120425,
          0.9928211224309742,
          1.0607464918227663,
          1.0210165587822841,
          1.1098749036470186,
          0.832824094281973,
          0.9714609433769515,
          1.0362287210824968,
          0.9714609433769515,
          1.1436239865523743,
          0.9859858651336869,
          0.7967346787150459,
          1.0291334268228127,
          1.0799706529713868,
          0.6220084140531404,
          0.8693592874987232,
          0.9334398246607911,
          0.9855586615526064,
          0.7514510991205179,
          1.0154629122282381,
          0.8249301150663559,
          0.5921041633775087,
          0.8898650593905849,
          0.9782962006742387,
          1.114146939457823,
          0.939847878376998,
          1.022725373106606,
          1.1457600044577765,
          1.0487847915525135,
          1.2020951549541685,
          0.9599264466877793,
          0.9338670282418716,
          0.9962387510796178,
          1.1713922193226038,
          1.164984165606397,
          0.8642328445257577,
          1.0543384381065595,
          1.3311663586466933,
          1.0658729347957316,
          1.1833539195928564,
          0.8663688624311598,
          0.8954187059446307,
          1.1553906591008294,
          1.1175645681064665,
          1.2303463135117065,
          0.9633440753364229,
          1.0454545454545456,
          1.2699694456569184,
          0.7383437165191858,
          0.9765485496607278,
          1.1888380213778893,
          0.9723153505391124,
          0.8638056409446772,
          1.0778346350659844,
          1.0983404069578462,
          1.1799362909442128
         ],
         "yaxis": "y3"
        },
        {
         "hovertemplate": "Near DNC=True<br>transit=train<br>=%{y}<extra></extra>",
         "legendgroup": "True",
         "line": {
          "color": "black",
          "dash": "dot"
         },
         "marker": {
          "symbol": "circle"
         },
         "mode": "lines",
         "name": "True",
         "orientation": "v",
         "showlegend": false,
         "type": "scatter",
         "x": [
          "2024-06-03",
          "2024-06-04",
          "2024-06-05",
          "2024-06-06",
          "2024-06-07",
          "2024-06-10",
          "2024-06-11",
          "2024-06-12",
          "2024-06-13",
          "2024-06-14",
          "2024-06-17",
          "2024-06-18",
          "2024-06-19",
          "2024-06-20",
          "2024-06-21",
          "2024-06-24",
          "2024-06-25",
          "2024-06-26",
          "2024-06-27",
          "2024-06-28",
          "2024-07-01",
          "2024-07-02",
          "2024-07-03",
          "2024-07-04",
          "2024-07-05",
          "2024-07-08",
          "2024-07-09",
          "2024-07-10",
          "2024-07-11",
          "2024-07-12",
          "2024-07-15",
          "2024-07-16",
          "2024-07-17",
          "2024-07-18",
          "2024-07-19",
          "2024-07-22",
          "2024-07-23",
          "2024-07-24",
          "2024-07-25",
          "2024-07-26",
          "2024-07-29",
          "2024-07-30",
          "2024-07-31",
          "2024-08-01",
          "2024-08-02",
          "2024-08-05",
          "2024-08-06",
          "2024-08-07",
          "2024-08-08",
          "2024-08-09",
          "2024-08-12",
          "2024-08-13",
          "2024-08-14",
          "2024-08-15",
          "2024-08-16",
          "2024-08-23",
          "2024-08-26",
          "2024-08-27",
          "2024-08-28",
          "2024-08-29",
          "2024-08-30"
         ],
         "xaxis": "x2",
         "y": [
          1,
          1.0825615242127546,
          1.025138925641704,
          1.085648760695069,
          0.9725676986857192,
          0.9017376731057598,
          0.9639234365352385,
          1.0542471553320982,
          0.9982358648672488,
          1.0062626797212666,
          0.8578989150568932,
          0.9724794919290817,
          0.7612243097821293,
          0.991002910822969,
          0.994001940548646,
          0.9459292581811766,
          0.9355208608979447,
          1.0164946634912233,
          1.0901473052835846,
          0.9214959865925729,
          0.8299263473582076,
          0.8817147393490341,
          0.8999294345946899,
          0.522977860104084,
          0.8468289670988797,
          0.7968929169974419,
          0.8151076122430978,
          0.8603356267090059,
          0.9026307665167151,
          0.8925972479491928,
          0.7988996207109464,
          0.8421981123754079,
          0.9023220428684837,
          0.884570433095175,
          1.0397812472435388,
          0.8538524300961453,
          0.8722986680779747,
          0.8604899885331215,
          0.9382883478874481,
          0.8868086795448531,
          0.7560642145188321,
          0.8663557378495192,
          0.9504829319925906,
          0.9926237099761841,
          1.0320631560377524,
          0.9005468818911528,
          0.8782415983064302,
          0.9379796242392167,
          0.9240870600688013,
          1.023264532063156,
          0.8735335626709005,
          0.932113874922819,
          0.9187615771368086,
          0.8952985798712181,
          0.9272514774631736,
          0.9265568492546529,
          0.8638087677516098,
          0.8984629972655905,
          0.9985666402046396,
          0.9967142983152509,
          1.2137470230219634
         ],
         "yaxis": "y2"
        },
        {
         "hovertemplate": "Near DNC=True<br>transit=uber<br>=%{y}<extra></extra>",
         "legendgroup": "True",
         "line": {
          "color": "black",
          "dash": "dot"
         },
         "marker": {
          "symbol": "circle"
         },
         "mode": "lines",
         "name": "True",
         "orientation": "v",
         "showlegend": false,
         "type": "scatter",
         "x": [
          "2024-06-03",
          "2024-06-04",
          "2024-06-05",
          "2024-06-06",
          "2024-06-07",
          "2024-06-10",
          "2024-06-11",
          "2024-06-12",
          "2024-06-13",
          "2024-06-14",
          "2024-06-17",
          "2024-06-18",
          "2024-06-19",
          "2024-06-20",
          "2024-06-21",
          "2024-06-24",
          "2024-06-25",
          "2024-06-26",
          "2024-06-27",
          "2024-06-28",
          "2024-07-01",
          "2024-07-02",
          "2024-07-03",
          "2024-07-04",
          "2024-07-05",
          "2024-07-08",
          "2024-07-09",
          "2024-07-10",
          "2024-07-11",
          "2024-07-12",
          "2024-07-15",
          "2024-07-16",
          "2024-07-17",
          "2024-07-18",
          "2024-07-19",
          "2024-07-22",
          "2024-07-23",
          "2024-07-24",
          "2024-07-25",
          "2024-07-26",
          "2024-07-29",
          "2024-07-30",
          "2024-07-31",
          "2024-08-01",
          "2024-08-02",
          "2024-08-05",
          "2024-08-06",
          "2024-08-07",
          "2024-08-08",
          "2024-08-09",
          "2024-08-12",
          "2024-08-13",
          "2024-08-14",
          "2024-08-15",
          "2024-08-16",
          "2024-08-23",
          "2024-08-26",
          "2024-08-27",
          "2024-08-28",
          "2024-08-29",
          "2024-08-30"
         ],
         "xaxis": "x",
         "y": [
          1,
          0.9615224704237065,
          1.025135124919681,
          1.1307404467626716,
          1.4720867823260384,
          0.9132932683221833,
          1.1022035756132593,
          1.1359186604679292,
          1.3152662811354274,
          1.520656159050535,
          0.725356965293466,
          0.9260687152738406,
          1.0543523453150396,
          1.2198284008013003,
          1.2584949162792456,
          0.9883090413762827,
          1.1646958829179037,
          1.0317118342971614,
          1.1185697546962998,
          1.4636958082927014,
          0.6992478361114262,
          0.7697773746078542,
          0.9816412311026214,
          0.9524511471444231,
          1.1705786748308578,
          0.7169834361125891,
          0.9650104717572685,
          1.0543901424953699,
          1.3838032298175171,
          1.7470612692293155,
          0.9280719658313491,
          1.0383263408549723,
          1.0946441395471898,
          1.1500926030918095,
          1.6054303887391541,
          0.7949124995275353,
          0.9935366821635107,
          1.0691688400045356,
          1.1743874676179926,
          1.43413841327437,
          0.8404581018256039,
          1.1397691270692747,
          1.2728200476244473,
          1.3988736440261558,
          1.5901273764977133,
          0.790754809691197,
          0.8752315077295234,
          1.0380617605926599,
          1.1923120535208074,
          1.501190611180406,
          0.7605170654269192,
          0.8978671729550516,
          1.0665230373814114,
          1.236232377064671,
          1.4933287976716938,
          1.449937634652455,
          0.8314623729069812,
          1.0310295467342752,
          1.0802434138413275,
          1.2143100124730695,
          1.764750349623918
         ],
         "yaxis": "y"
        }
       ],
       "layout": {
        "annotations": [
         {
          "font": {},
          "showarrow": false,
          "text": "transit=uber",
          "textangle": 90,
          "x": 0.98,
          "xanchor": "left",
          "xref": "paper",
          "y": 0.15666666666666665,
          "yanchor": "middle",
          "yref": "paper"
         },
         {
          "font": {},
          "showarrow": false,
          "text": "transit=train",
          "textangle": 90,
          "x": 0.98,
          "xanchor": "left",
          "xref": "paper",
          "y": 0.4999999999999999,
          "yanchor": "middle",
          "yref": "paper"
         },
         {
          "font": {},
          "showarrow": false,
          "text": "transit=bike",
          "textangle": 90,
          "x": 0.98,
          "xanchor": "left",
          "xref": "paper",
          "y": 0.8433333333333332,
          "yanchor": "middle",
          "yref": "paper"
         }
        ],
        "legend": {
         "title": {
          "text": "Near DNC"
         },
         "tracegroupgap": 0
        },
        "template": {
         "data": {
          "bar": [
           {
            "error_x": {
             "color": "rgb(36,36,36)"
            },
            "error_y": {
             "color": "rgb(36,36,36)"
            },
            "marker": {
             "line": {
              "color": "white",
              "width": 0.5
             },
             "pattern": {
              "fillmode": "overlay",
              "size": 10,
              "solidity": 0.2
             }
            },
            "type": "bar"
           }
          ],
          "barpolar": [
           {
            "marker": {
             "line": {
              "color": "white",
              "width": 0.5
             },
             "pattern": {
              "fillmode": "overlay",
              "size": 10,
              "solidity": 0.2
             }
            },
            "type": "barpolar"
           }
          ],
          "carpet": [
           {
            "aaxis": {
             "endlinecolor": "rgb(36,36,36)",
             "gridcolor": "white",
             "linecolor": "white",
             "minorgridcolor": "white",
             "startlinecolor": "rgb(36,36,36)"
            },
            "baxis": {
             "endlinecolor": "rgb(36,36,36)",
             "gridcolor": "white",
             "linecolor": "white",
             "minorgridcolor": "white",
             "startlinecolor": "rgb(36,36,36)"
            },
            "type": "carpet"
           }
          ],
          "choropleth": [
           {
            "colorbar": {
             "outlinewidth": 1,
             "tickcolor": "rgb(36,36,36)",
             "ticks": "outside"
            },
            "type": "choropleth"
           }
          ],
          "contour": [
           {
            "colorbar": {
             "outlinewidth": 1,
             "tickcolor": "rgb(36,36,36)",
             "ticks": "outside"
            },
            "colorscale": [
             [
              0,
              "#440154"
             ],
             [
              0.1111111111111111,
              "#482878"
             ],
             [
              0.2222222222222222,
              "#3e4989"
             ],
             [
              0.3333333333333333,
              "#31688e"
             ],
             [
              0.4444444444444444,
              "#26828e"
             ],
             [
              0.5555555555555556,
              "#1f9e89"
             ],
             [
              0.6666666666666666,
              "#35b779"
             ],
             [
              0.7777777777777778,
              "#6ece58"
             ],
             [
              0.8888888888888888,
              "#b5de2b"
             ],
             [
              1,
              "#fde725"
             ]
            ],
            "type": "contour"
           }
          ],
          "contourcarpet": [
           {
            "colorbar": {
             "outlinewidth": 1,
             "tickcolor": "rgb(36,36,36)",
             "ticks": "outside"
            },
            "type": "contourcarpet"
           }
          ],
          "heatmap": [
           {
            "colorbar": {
             "outlinewidth": 1,
             "tickcolor": "rgb(36,36,36)",
             "ticks": "outside"
            },
            "colorscale": [
             [
              0,
              "#440154"
             ],
             [
              0.1111111111111111,
              "#482878"
             ],
             [
              0.2222222222222222,
              "#3e4989"
             ],
             [
              0.3333333333333333,
              "#31688e"
             ],
             [
              0.4444444444444444,
              "#26828e"
             ],
             [
              0.5555555555555556,
              "#1f9e89"
             ],
             [
              0.6666666666666666,
              "#35b779"
             ],
             [
              0.7777777777777778,
              "#6ece58"
             ],
             [
              0.8888888888888888,
              "#b5de2b"
             ],
             [
              1,
              "#fde725"
             ]
            ],
            "type": "heatmap"
           }
          ],
          "heatmapgl": [
           {
            "colorbar": {
             "outlinewidth": 1,
             "tickcolor": "rgb(36,36,36)",
             "ticks": "outside"
            },
            "colorscale": [
             [
              0,
              "#440154"
             ],
             [
              0.1111111111111111,
              "#482878"
             ],
             [
              0.2222222222222222,
              "#3e4989"
             ],
             [
              0.3333333333333333,
              "#31688e"
             ],
             [
              0.4444444444444444,
              "#26828e"
             ],
             [
              0.5555555555555556,
              "#1f9e89"
             ],
             [
              0.6666666666666666,
              "#35b779"
             ],
             [
              0.7777777777777778,
              "#6ece58"
             ],
             [
              0.8888888888888888,
              "#b5de2b"
             ],
             [
              1,
              "#fde725"
             ]
            ],
            "type": "heatmapgl"
           }
          ],
          "histogram": [
           {
            "marker": {
             "line": {
              "color": "white",
              "width": 0.6
             }
            },
            "type": "histogram"
           }
          ],
          "histogram2d": [
           {
            "colorbar": {
             "outlinewidth": 1,
             "tickcolor": "rgb(36,36,36)",
             "ticks": "outside"
            },
            "colorscale": [
             [
              0,
              "#440154"
             ],
             [
              0.1111111111111111,
              "#482878"
             ],
             [
              0.2222222222222222,
              "#3e4989"
             ],
             [
              0.3333333333333333,
              "#31688e"
             ],
             [
              0.4444444444444444,
              "#26828e"
             ],
             [
              0.5555555555555556,
              "#1f9e89"
             ],
             [
              0.6666666666666666,
              "#35b779"
             ],
             [
              0.7777777777777778,
              "#6ece58"
             ],
             [
              0.8888888888888888,
              "#b5de2b"
             ],
             [
              1,
              "#fde725"
             ]
            ],
            "type": "histogram2d"
           }
          ],
          "histogram2dcontour": [
           {
            "colorbar": {
             "outlinewidth": 1,
             "tickcolor": "rgb(36,36,36)",
             "ticks": "outside"
            },
            "colorscale": [
             [
              0,
              "#440154"
             ],
             [
              0.1111111111111111,
              "#482878"
             ],
             [
              0.2222222222222222,
              "#3e4989"
             ],
             [
              0.3333333333333333,
              "#31688e"
             ],
             [
              0.4444444444444444,
              "#26828e"
             ],
             [
              0.5555555555555556,
              "#1f9e89"
             ],
             [
              0.6666666666666666,
              "#35b779"
             ],
             [
              0.7777777777777778,
              "#6ece58"
             ],
             [
              0.8888888888888888,
              "#b5de2b"
             ],
             [
              1,
              "#fde725"
             ]
            ],
            "type": "histogram2dcontour"
           }
          ],
          "mesh3d": [
           {
            "colorbar": {
             "outlinewidth": 1,
             "tickcolor": "rgb(36,36,36)",
             "ticks": "outside"
            },
            "type": "mesh3d"
           }
          ],
          "parcoords": [
           {
            "line": {
             "colorbar": {
              "outlinewidth": 1,
              "tickcolor": "rgb(36,36,36)",
              "ticks": "outside"
             }
            },
            "type": "parcoords"
           }
          ],
          "pie": [
           {
            "automargin": true,
            "type": "pie"
           }
          ],
          "scatter": [
           {
            "fillpattern": {
             "fillmode": "overlay",
             "size": 10,
             "solidity": 0.2
            },
            "type": "scatter"
           }
          ],
          "scatter3d": [
           {
            "line": {
             "colorbar": {
              "outlinewidth": 1,
              "tickcolor": "rgb(36,36,36)",
              "ticks": "outside"
             }
            },
            "marker": {
             "colorbar": {
              "outlinewidth": 1,
              "tickcolor": "rgb(36,36,36)",
              "ticks": "outside"
             }
            },
            "type": "scatter3d"
           }
          ],
          "scattercarpet": [
           {
            "marker": {
             "colorbar": {
              "outlinewidth": 1,
              "tickcolor": "rgb(36,36,36)",
              "ticks": "outside"
             }
            },
            "type": "scattercarpet"
           }
          ],
          "scattergeo": [
           {
            "marker": {
             "colorbar": {
              "outlinewidth": 1,
              "tickcolor": "rgb(36,36,36)",
              "ticks": "outside"
             }
            },
            "type": "scattergeo"
           }
          ],
          "scattergl": [
           {
            "marker": {
             "colorbar": {
              "outlinewidth": 1,
              "tickcolor": "rgb(36,36,36)",
              "ticks": "outside"
             }
            },
            "type": "scattergl"
           }
          ],
          "scattermapbox": [
           {
            "marker": {
             "colorbar": {
              "outlinewidth": 1,
              "tickcolor": "rgb(36,36,36)",
              "ticks": "outside"
             }
            },
            "type": "scattermapbox"
           }
          ],
          "scatterpolar": [
           {
            "marker": {
             "colorbar": {
              "outlinewidth": 1,
              "tickcolor": "rgb(36,36,36)",
              "ticks": "outside"
             }
            },
            "type": "scatterpolar"
           }
          ],
          "scatterpolargl": [
           {
            "marker": {
             "colorbar": {
              "outlinewidth": 1,
              "tickcolor": "rgb(36,36,36)",
              "ticks": "outside"
             }
            },
            "type": "scatterpolargl"
           }
          ],
          "scatterternary": [
           {
            "marker": {
             "colorbar": {
              "outlinewidth": 1,
              "tickcolor": "rgb(36,36,36)",
              "ticks": "outside"
             }
            },
            "type": "scatterternary"
           }
          ],
          "surface": [
           {
            "colorbar": {
             "outlinewidth": 1,
             "tickcolor": "rgb(36,36,36)",
             "ticks": "outside"
            },
            "colorscale": [
             [
              0,
              "#440154"
             ],
             [
              0.1111111111111111,
              "#482878"
             ],
             [
              0.2222222222222222,
              "#3e4989"
             ],
             [
              0.3333333333333333,
              "#31688e"
             ],
             [
              0.4444444444444444,
              "#26828e"
             ],
             [
              0.5555555555555556,
              "#1f9e89"
             ],
             [
              0.6666666666666666,
              "#35b779"
             ],
             [
              0.7777777777777778,
              "#6ece58"
             ],
             [
              0.8888888888888888,
              "#b5de2b"
             ],
             [
              1,
              "#fde725"
             ]
            ],
            "type": "surface"
           }
          ],
          "table": [
           {
            "cells": {
             "fill": {
              "color": "rgb(237,237,237)"
             },
             "line": {
              "color": "white"
             }
            },
            "header": {
             "fill": {
              "color": "rgb(217,217,217)"
             },
             "line": {
              "color": "white"
             }
            },
            "type": "table"
           }
          ]
         },
         "layout": {
          "annotationdefaults": {
           "arrowhead": 0,
           "arrowwidth": 1
          },
          "autotypenumbers": "strict",
          "coloraxis": {
           "colorbar": {
            "outlinewidth": 1,
            "tickcolor": "rgb(36,36,36)",
            "ticks": "outside"
           }
          },
          "colorscale": {
           "diverging": [
            [
             0,
             "rgb(103,0,31)"
            ],
            [
             0.1,
             "rgb(178,24,43)"
            ],
            [
             0.2,
             "rgb(214,96,77)"
            ],
            [
             0.3,
             "rgb(244,165,130)"
            ],
            [
             0.4,
             "rgb(253,219,199)"
            ],
            [
             0.5,
             "rgb(247,247,247)"
            ],
            [
             0.6,
             "rgb(209,229,240)"
            ],
            [
             0.7,
             "rgb(146,197,222)"
            ],
            [
             0.8,
             "rgb(67,147,195)"
            ],
            [
             0.9,
             "rgb(33,102,172)"
            ],
            [
             1,
             "rgb(5,48,97)"
            ]
           ],
           "sequential": [
            [
             0,
             "#440154"
            ],
            [
             0.1111111111111111,
             "#482878"
            ],
            [
             0.2222222222222222,
             "#3e4989"
            ],
            [
             0.3333333333333333,
             "#31688e"
            ],
            [
             0.4444444444444444,
             "#26828e"
            ],
            [
             0.5555555555555556,
             "#1f9e89"
            ],
            [
             0.6666666666666666,
             "#35b779"
            ],
            [
             0.7777777777777778,
             "#6ece58"
            ],
            [
             0.8888888888888888,
             "#b5de2b"
            ],
            [
             1,
             "#fde725"
            ]
           ],
           "sequentialminus": [
            [
             0,
             "#440154"
            ],
            [
             0.1111111111111111,
             "#482878"
            ],
            [
             0.2222222222222222,
             "#3e4989"
            ],
            [
             0.3333333333333333,
             "#31688e"
            ],
            [
             0.4444444444444444,
             "#26828e"
            ],
            [
             0.5555555555555556,
             "#1f9e89"
            ],
            [
             0.6666666666666666,
             "#35b779"
            ],
            [
             0.7777777777777778,
             "#6ece58"
            ],
            [
             0.8888888888888888,
             "#b5de2b"
            ],
            [
             1,
             "#fde725"
            ]
           ]
          },
          "colorway": [
           "#1F77B4",
           "#FF7F0E",
           "#2CA02C",
           "#D62728",
           "#9467BD",
           "#8C564B",
           "#E377C2",
           "#7F7F7F",
           "#BCBD22",
           "#17BECF"
          ],
          "font": {
           "color": "rgb(36,36,36)"
          },
          "geo": {
           "bgcolor": "white",
           "lakecolor": "white",
           "landcolor": "white",
           "showlakes": true,
           "showland": true,
           "subunitcolor": "white"
          },
          "hoverlabel": {
           "align": "left"
          },
          "hovermode": "closest",
          "mapbox": {
           "style": "light"
          },
          "paper_bgcolor": "white",
          "plot_bgcolor": "white",
          "polar": {
           "angularaxis": {
            "gridcolor": "rgb(232,232,232)",
            "linecolor": "rgb(36,36,36)",
            "showgrid": false,
            "showline": true,
            "ticks": "outside"
           },
           "bgcolor": "white",
           "radialaxis": {
            "gridcolor": "rgb(232,232,232)",
            "linecolor": "rgb(36,36,36)",
            "showgrid": false,
            "showline": true,
            "ticks": "outside"
           }
          },
          "scene": {
           "xaxis": {
            "backgroundcolor": "white",
            "gridcolor": "rgb(232,232,232)",
            "gridwidth": 2,
            "linecolor": "rgb(36,36,36)",
            "showbackground": true,
            "showgrid": false,
            "showline": true,
            "ticks": "outside",
            "zeroline": false,
            "zerolinecolor": "rgb(36,36,36)"
           },
           "yaxis": {
            "backgroundcolor": "white",
            "gridcolor": "rgb(232,232,232)",
            "gridwidth": 2,
            "linecolor": "rgb(36,36,36)",
            "showbackground": true,
            "showgrid": false,
            "showline": true,
            "ticks": "outside",
            "zeroline": false,
            "zerolinecolor": "rgb(36,36,36)"
           },
           "zaxis": {
            "backgroundcolor": "white",
            "gridcolor": "rgb(232,232,232)",
            "gridwidth": 2,
            "linecolor": "rgb(36,36,36)",
            "showbackground": true,
            "showgrid": false,
            "showline": true,
            "ticks": "outside",
            "zeroline": false,
            "zerolinecolor": "rgb(36,36,36)"
           }
          },
          "shapedefaults": {
           "fillcolor": "black",
           "line": {
            "width": 0
           },
           "opacity": 0.3
          },
          "ternary": {
           "aaxis": {
            "gridcolor": "rgb(232,232,232)",
            "linecolor": "rgb(36,36,36)",
            "showgrid": false,
            "showline": true,
            "ticks": "outside"
           },
           "baxis": {
            "gridcolor": "rgb(232,232,232)",
            "linecolor": "rgb(36,36,36)",
            "showgrid": false,
            "showline": true,
            "ticks": "outside"
           },
           "bgcolor": "white",
           "caxis": {
            "gridcolor": "rgb(232,232,232)",
            "linecolor": "rgb(36,36,36)",
            "showgrid": false,
            "showline": true,
            "ticks": "outside"
           }
          },
          "title": {
           "x": 0.05
          },
          "xaxis": {
           "automargin": true,
           "gridcolor": "rgb(232,232,232)",
           "linecolor": "rgb(36,36,36)",
           "showgrid": false,
           "showline": true,
           "ticks": "outside",
           "title": {
            "standoff": 15
           },
           "zeroline": false,
           "zerolinecolor": "rgb(36,36,36)"
          },
          "yaxis": {
           "automargin": true,
           "gridcolor": "rgb(232,232,232)",
           "linecolor": "rgb(36,36,36)",
           "showgrid": false,
           "showline": true,
           "ticks": "outside",
           "title": {
            "standoff": 15
           },
           "zeroline": false,
           "zerolinecolor": "rgb(36,36,36)"
          }
         }
        },
        "title": {
         "text": "Rides (normalized to group mean)"
        },
        "xaxis": {
         "anchor": "y",
         "domain": [
          0,
          0.98
         ],
         "title": {
          "text": ""
         }
        },
        "xaxis2": {
         "anchor": "y2",
         "domain": [
          0,
          0.98
         ],
         "matches": "x",
         "showticklabels": false
        },
        "xaxis3": {
         "anchor": "y3",
         "domain": [
          0,
          0.98
         ],
         "matches": "x",
         "showticklabels": false
        },
        "yaxis": {
         "anchor": "x",
         "domain": [
          0,
          0.3133333333333333
         ],
         "title": {
          "text": ""
         }
        },
        "yaxis2": {
         "anchor": "x2",
         "domain": [
          0.34333333333333327,
          0.6566666666666665
         ],
         "matches": "y",
         "title": {
          "text": ""
         }
        },
        "yaxis3": {
         "anchor": "x3",
         "domain": [
          0.6866666666666665,
          0.9999999999999998
         ],
         "matches": "y",
         "title": {
          "text": ""
         }
        }
       }
      }
     },
     "metadata": {},
     "output_type": "display_data"
    }
   ],
   "source": [
    "# fig, ax = plt.subplots(1,1, figsize=(6,6))\n",
    "chart = px.line(plot_data, x='date', y='demean', \n",
    "        line_dash='UCMP', facet_row='transit',\n",
    "        color_discrete_sequence=['black'],\n",
    "        title= 'Rides (normalized to group mean)',\n",
    "        labels={'date':'', 'demean':'',\n",
    "                'UCMP':'Near DNC'},\n",
    "        template='simple_white')\n",
    "chart.write_image(\"../../../reports/replication/parallel_trends.jpeg\")\n",
    "!cp ../../../reports/replication/parallel_trends.jpeg ../../../../eric-mc2-cv/static/img\n",
    "chart\n"
   ]
  },
  {
   "cell_type": "markdown",
   "metadata": {},
   "source": [
    "This looks pretty good. We dont need to take the literal derivative. "
   ]
  },
  {
   "cell_type": "code",
   "execution_count": null,
   "metadata": {},
   "outputs": [
    {
     "name": "stderr",
     "output_type": "stream",
     "text": [
      "/var/folders/tb/97cmcv3d7756wm9ypglr63nw0000gn/T/ipykernel_85605/3788199301.py:2: DeprecationWarning:\n",
      "\n",
      "DataFrameGroupBy.apply operated on the grouping columns. This behavior is deprecated, and in a future version of pandas the grouping columns will be excluded from the operation. Either pass `include_groups=False` to exclude the groupings or explicitly select the grouping columns after groupby to silence this warning.\n",
      "\n",
      "/var/folders/tb/97cmcv3d7756wm9ypglr63nw0000gn/T/ipykernel_85605/3788199301.py:4: DeprecationWarning:\n",
      "\n",
      "DataFrameGroupBy.apply operated on the grouping columns. This behavior is deprecated, and in a future version of pandas the grouping columns will be excluded from the operation. Either pass `include_groups=False` to exclude the groupings or explicitly select the grouping columns after groupby to silence this warning.\n",
      "\n"
     ]
    },
    {
     "data": {
      "application/vnd.plotly.v1+json": {
       "config": {
        "plotlyServerURL": "https://plot.ly"
       },
       "data": [
        {
         "hovertemplate": "Near DNC=False<br>transit=bike<br>=%{x}<br>ddiff=%{y}<extra></extra>",
         "legendgroup": "False",
         "line": {
          "color": "black",
          "dash": "solid"
         },
         "marker": {
          "symbol": "circle"
         },
         "mode": "lines",
         "name": "False",
         "orientation": "v",
         "showlegend": true,
         "type": "scatter",
         "x": [
          "2024-06-03",
          "2024-06-04",
          "2024-06-05",
          "2024-06-06",
          "2024-06-07",
          "2024-06-10",
          "2024-06-11",
          "2024-06-12",
          "2024-06-13",
          "2024-06-14",
          "2024-06-17",
          "2024-06-18",
          "2024-06-19",
          "2024-06-20",
          "2024-06-21",
          "2024-06-24",
          "2024-06-25",
          "2024-06-26",
          "2024-06-27",
          "2024-06-28",
          "2024-07-01",
          "2024-07-02",
          "2024-07-03",
          "2024-07-04",
          "2024-07-05",
          "2024-07-08",
          "2024-07-09",
          "2024-07-10",
          "2024-07-11",
          "2024-07-12",
          "2024-07-15",
          "2024-07-16",
          "2024-07-17",
          "2024-07-18",
          "2024-07-19",
          "2024-07-22",
          "2024-07-23",
          "2024-07-24",
          "2024-07-25",
          "2024-07-26",
          "2024-07-29",
          "2024-07-30",
          "2024-07-31",
          "2024-08-01",
          "2024-08-02",
          "2024-08-05",
          "2024-08-06",
          "2024-08-07",
          "2024-08-08",
          "2024-08-09",
          "2024-08-12",
          "2024-08-13",
          "2024-08-14",
          "2024-08-15",
          "2024-08-16",
          "2024-08-23",
          "2024-08-26",
          "2024-08-27",
          "2024-08-28",
          "2024-08-29",
          "2024-08-30"
         ],
         "xaxis": "x3",
         "y": [
          null,
          null,
          null,
          null,
          null,
          null,
          null,
          null,
          null,
          null,
          null,
          null,
          null,
          null,
          null,
          null,
          null,
          null,
          null,
          null,
          null,
          null,
          null,
          null,
          null,
          null,
          null,
          null,
          null,
          null,
          null,
          null,
          null,
          null,
          null,
          null,
          null,
          null,
          null,
          null,
          null,
          null,
          null,
          null,
          null,
          null,
          null,
          null,
          null,
          null,
          null,
          null,
          null,
          null,
          null,
          null,
          null,
          null,
          null,
          null,
          null
         ],
         "yaxis": "y3"
        },
        {
         "hovertemplate": "Near DNC=False<br>transit=train<br>=%{x}<br>ddiff=%{y}<extra></extra>",
         "legendgroup": "False",
         "line": {
          "color": "black",
          "dash": "solid"
         },
         "marker": {
          "symbol": "circle"
         },
         "mode": "lines",
         "name": "False",
         "orientation": "v",
         "showlegend": false,
         "type": "scatter",
         "x": [
          "2024-06-03",
          "2024-06-04",
          "2024-06-05",
          "2024-06-06",
          "2024-06-07",
          "2024-06-10",
          "2024-06-11",
          "2024-06-12",
          "2024-06-13",
          "2024-06-14",
          "2024-06-17",
          "2024-06-18",
          "2024-06-19",
          "2024-06-20",
          "2024-06-21",
          "2024-06-24",
          "2024-06-25",
          "2024-06-26",
          "2024-06-27",
          "2024-06-28",
          "2024-07-01",
          "2024-07-02",
          "2024-07-03",
          "2024-07-04",
          "2024-07-05",
          "2024-07-08",
          "2024-07-09",
          "2024-07-10",
          "2024-07-11",
          "2024-07-12",
          "2024-07-15",
          "2024-07-16",
          "2024-07-17",
          "2024-07-18",
          "2024-07-19",
          "2024-07-22",
          "2024-07-23",
          "2024-07-24",
          "2024-07-25",
          "2024-07-26",
          "2024-07-29",
          "2024-07-30",
          "2024-07-31",
          "2024-08-01",
          "2024-08-02",
          "2024-08-05",
          "2024-08-06",
          "2024-08-07",
          "2024-08-08",
          "2024-08-09",
          "2024-08-12",
          "2024-08-13",
          "2024-08-14",
          "2024-08-15",
          "2024-08-16",
          "2024-08-23",
          "2024-08-26",
          "2024-08-27",
          "2024-08-28",
          "2024-08-29",
          "2024-08-30"
         ],
         "xaxis": "x2",
         "y": [
          null,
          null,
          null,
          null,
          null,
          null,
          null,
          null,
          null,
          null,
          null,
          null,
          null,
          null,
          null,
          null,
          null,
          null,
          null,
          null,
          null,
          null,
          null,
          null,
          null,
          null,
          null,
          null,
          null,
          null,
          null,
          null,
          null,
          null,
          null,
          null,
          null,
          null,
          null,
          null,
          null,
          null,
          null,
          null,
          null,
          null,
          null,
          null,
          null,
          null,
          null,
          null,
          null,
          null,
          null,
          null,
          null,
          null,
          null,
          null,
          null
         ],
         "yaxis": "y2"
        },
        {
         "hovertemplate": "Near DNC=False<br>transit=uber<br>=%{x}<br>ddiff=%{y}<extra></extra>",
         "legendgroup": "False",
         "line": {
          "color": "black",
          "dash": "solid"
         },
         "marker": {
          "symbol": "circle"
         },
         "mode": "lines",
         "name": "False",
         "orientation": "v",
         "showlegend": false,
         "type": "scatter",
         "x": [
          "2024-06-03",
          "2024-06-04",
          "2024-06-05",
          "2024-06-06",
          "2024-06-07",
          "2024-06-10",
          "2024-06-11",
          "2024-06-12",
          "2024-06-13",
          "2024-06-14",
          "2024-06-17",
          "2024-06-18",
          "2024-06-19",
          "2024-06-20",
          "2024-06-21",
          "2024-06-24",
          "2024-06-25",
          "2024-06-26",
          "2024-06-27",
          "2024-06-28",
          "2024-07-01",
          "2024-07-02",
          "2024-07-03",
          "2024-07-04",
          "2024-07-05",
          "2024-07-08",
          "2024-07-09",
          "2024-07-10",
          "2024-07-11",
          "2024-07-12",
          "2024-07-15",
          "2024-07-16",
          "2024-07-17",
          "2024-07-18",
          "2024-07-19",
          "2024-07-22",
          "2024-07-23",
          "2024-07-24",
          "2024-07-25",
          "2024-07-26",
          "2024-07-29",
          "2024-07-30",
          "2024-07-31",
          "2024-08-01",
          "2024-08-02",
          "2024-08-05",
          "2024-08-06",
          "2024-08-07",
          "2024-08-08",
          "2024-08-09",
          "2024-08-12",
          "2024-08-13",
          "2024-08-14",
          "2024-08-15",
          "2024-08-16",
          "2024-08-23",
          "2024-08-26",
          "2024-08-27",
          "2024-08-28",
          "2024-08-29",
          "2024-08-30"
         ],
         "xaxis": "x",
         "y": [
          null,
          null,
          null,
          null,
          null,
          null,
          null,
          null,
          null,
          null,
          null,
          null,
          null,
          null,
          null,
          null,
          null,
          null,
          null,
          null,
          null,
          null,
          null,
          null,
          null,
          null,
          null,
          null,
          null,
          null,
          null,
          null,
          null,
          null,
          null,
          null,
          null,
          null,
          null,
          null,
          null,
          null,
          null,
          null,
          null,
          null,
          null,
          null,
          null,
          null,
          null,
          null,
          null,
          null,
          null,
          null,
          null,
          null,
          null,
          null,
          null
         ],
         "yaxis": "y"
        },
        {
         "hovertemplate": "Near DNC=True<br>transit=bike<br>=%{x}<br>ddiff=%{y}<extra></extra>",
         "legendgroup": "True",
         "line": {
          "color": "black",
          "dash": "dot"
         },
         "marker": {
          "symbol": "circle"
         },
         "mode": "lines",
         "name": "True",
         "orientation": "v",
         "showlegend": true,
         "type": "scatter",
         "x": [
          "2024-06-03",
          "2024-06-04",
          "2024-06-05",
          "2024-06-06",
          "2024-06-07",
          "2024-06-10",
          "2024-06-11",
          "2024-06-12",
          "2024-06-13",
          "2024-06-14",
          "2024-06-17",
          "2024-06-18",
          "2024-06-19",
          "2024-06-20",
          "2024-06-21",
          "2024-06-24",
          "2024-06-25",
          "2024-06-26",
          "2024-06-27",
          "2024-06-28",
          "2024-07-01",
          "2024-07-02",
          "2024-07-03",
          "2024-07-04",
          "2024-07-05",
          "2024-07-08",
          "2024-07-09",
          "2024-07-10",
          "2024-07-11",
          "2024-07-12",
          "2024-07-15",
          "2024-07-16",
          "2024-07-17",
          "2024-07-18",
          "2024-07-19",
          "2024-07-22",
          "2024-07-23",
          "2024-07-24",
          "2024-07-25",
          "2024-07-26",
          "2024-07-29",
          "2024-07-30",
          "2024-07-31",
          "2024-08-01",
          "2024-08-02",
          "2024-08-05",
          "2024-08-06",
          "2024-08-07",
          "2024-08-08",
          "2024-08-09",
          "2024-08-12",
          "2024-08-13",
          "2024-08-14",
          "2024-08-15",
          "2024-08-16",
          "2024-08-23",
          "2024-08-26",
          "2024-08-27",
          "2024-08-28",
          "2024-08-29",
          "2024-08-30"
         ],
         "xaxis": "x3",
         "y": [
          null,
          null,
          null,
          null,
          null,
          -0.06797219317047132,
          0.05236309306093312,
          0.0905660556585095,
          0.07691091896993374,
          0.07854737231928643,
          -0.04700936830422775,
          -0.08041721403840174,
          -0.13931819121223965,
          -0.03761472883258299,
          -0.0734661906335845,
          0.06724266260320588,
          0.05873851596778734,
          0.09168086345922322,
          0.00896642732009778,
          -0.001611493649992024,
          -0.1147047816758151,
          -0.07529346651536162,
          0.011523100558629817,
          -0.32070394872864894,
          -0.10341679261050496,
          0.011345086702249207,
          0.0138234386970435,
          -0.007089798620333543,
          0.2345198501156679,
          0.1398339563594071,
          0.09410310271204925,
          0.05608010093386939,
          0.07477508785607312,
          0.01809268798177943,
          0.02138264939256662,
          -0.039121044353597534,
          -0.05191885041319433,
          -0.09372905445681079,
          0.06944571253028498,
          0.0046910514113986945,
          0.08766063031203164,
          0.008920800714834587,
          0.18887477561337263,
          0.007910476941149547,
          0.030051044379345804,
          -0.10332364586397091,
          0.02133907194701179,
          -0.11338945147077162,
          -0.019510451588413247,
          0.1225103865099264,
          0.010133327527282132,
          -0.02016281739652548,
          0.11676239118560883,
          0.026614656236375156,
          -0.2155967126179279,
          0.15022137167334404,
          0.09303159437884068,
          -0.14621128894971813,
          -0.017923889713215457,
          0.08658910823801214,
          0.09063142045975692
         ],
         "yaxis": "y3"
        },
        {
         "hovertemplate": "Near DNC=True<br>transit=train<br>=%{x}<br>ddiff=%{y}<extra></extra>",
         "legendgroup": "True",
         "line": {
          "color": "black",
          "dash": "dot"
         },
         "marker": {
          "symbol": "circle"
         },
         "mode": "lines",
         "name": "True",
         "orientation": "v",
         "showlegend": false,
         "type": "scatter",
         "x": [
          "2024-06-03",
          "2024-06-04",
          "2024-06-05",
          "2024-06-06",
          "2024-06-07",
          "2024-06-10",
          "2024-06-11",
          "2024-06-12",
          "2024-06-13",
          "2024-06-14",
          "2024-06-17",
          "2024-06-18",
          "2024-06-19",
          "2024-06-20",
          "2024-06-21",
          "2024-06-24",
          "2024-06-25",
          "2024-06-26",
          "2024-06-27",
          "2024-06-28",
          "2024-07-01",
          "2024-07-02",
          "2024-07-03",
          "2024-07-04",
          "2024-07-05",
          "2024-07-08",
          "2024-07-09",
          "2024-07-10",
          "2024-07-11",
          "2024-07-12",
          "2024-07-15",
          "2024-07-16",
          "2024-07-17",
          "2024-07-18",
          "2024-07-19",
          "2024-07-22",
          "2024-07-23",
          "2024-07-24",
          "2024-07-25",
          "2024-07-26",
          "2024-07-29",
          "2024-07-30",
          "2024-07-31",
          "2024-08-01",
          "2024-08-02",
          "2024-08-05",
          "2024-08-06",
          "2024-08-07",
          "2024-08-08",
          "2024-08-09",
          "2024-08-12",
          "2024-08-13",
          "2024-08-14",
          "2024-08-15",
          "2024-08-16",
          "2024-08-23",
          "2024-08-26",
          "2024-08-27",
          "2024-08-28",
          "2024-08-29",
          "2024-08-30"
         ],
         "xaxis": "x2",
         "y": [
          null,
          null,
          null,
          null,
          null,
          -0.050374769938584585,
          -0.046058832288701224,
          0.10306958601049021,
          -0.01973475645965761,
          -0.04086264326737066,
          -0.05408905273622233,
          -0.019440966712878427,
          -0.0953755191053115,
          0.004888863849274228,
          0.006102936044000584,
          0.08167130018609525,
          0.05870619053653092,
          0.05020586715441999,
          0.037277282948162904,
          0.014604317707755832,
          -0.10366740151360576,
          -0.10460608570389895,
          -0.05464297121225903,
          -0.04075098224117468,
          -0.0010744531976547567,
          -0.04258750462887251,
          -0.043993750023306744,
          -0.057416361291304896,
          -0.10513364343606157,
          -0.04522290265546702,
          0.017499331359658976,
          0.009454065056587524,
          0.02398808433117572,
          -0.03272921512610827,
          0.08138772303959851,
          -0.010967545756147556,
          -0.031949227504045385,
          -0.08787910780646924,
          0.046131869531052416,
          -0.12158750266066942,
          -0.0010894032879888993,
          0.027134432957339083,
          0.042101939868074645,
          -0.17037839481315198,
          -0.07761188365296223,
          0.07400241314846867,
          0.006636634226634408,
          0.025478618088811467,
          0.17854921957541492,
          0.17223247157303945,
          -0.014591644017417749,
          0.015835204602381525,
          0.03482520128284328,
          0.03631502227365491,
          -0.0573452482457647,
          0.05306809284835734,
          0.0828126367989015,
          -0.008593804902065516,
          -0.034655962028351306,
          -0.14692041746899753,
          0.15876507950182317
         ],
         "yaxis": "y2"
        },
        {
         "hovertemplate": "Near DNC=True<br>transit=uber<br>=%{x}<br>ddiff=%{y}<extra></extra>",
         "legendgroup": "True",
         "line": {
          "color": "black",
          "dash": "dot"
         },
         "marker": {
          "symbol": "circle"
         },
         "mode": "lines",
         "name": "True",
         "orientation": "v",
         "showlegend": false,
         "type": "scatter",
         "x": [
          "2024-06-03",
          "2024-06-04",
          "2024-06-05",
          "2024-06-06",
          "2024-06-07",
          "2024-06-10",
          "2024-06-11",
          "2024-06-12",
          "2024-06-13",
          "2024-06-14",
          "2024-06-17",
          "2024-06-18",
          "2024-06-19",
          "2024-06-20",
          "2024-06-21",
          "2024-06-24",
          "2024-06-25",
          "2024-06-26",
          "2024-06-27",
          "2024-06-28",
          "2024-07-01",
          "2024-07-02",
          "2024-07-03",
          "2024-07-04",
          "2024-07-05",
          "2024-07-08",
          "2024-07-09",
          "2024-07-10",
          "2024-07-11",
          "2024-07-12",
          "2024-07-15",
          "2024-07-16",
          "2024-07-17",
          "2024-07-18",
          "2024-07-19",
          "2024-07-22",
          "2024-07-23",
          "2024-07-24",
          "2024-07-25",
          "2024-07-26",
          "2024-07-29",
          "2024-07-30",
          "2024-07-31",
          "2024-08-01",
          "2024-08-02",
          "2024-08-05",
          "2024-08-06",
          "2024-08-07",
          "2024-08-08",
          "2024-08-09",
          "2024-08-12",
          "2024-08-13",
          "2024-08-14",
          "2024-08-15",
          "2024-08-16",
          "2024-08-23",
          "2024-08-26",
          "2024-08-27",
          "2024-08-28",
          "2024-08-29",
          "2024-08-30"
         ],
         "xaxis": "x",
         "y": [
          null,
          null,
          null,
          null,
          null,
          -0.12103723155453516,
          0.21410609552409177,
          0.1995615150592911,
          0.19327539403063976,
          0.0394399499746223,
          -0.11408010198804153,
          -0.2300138185123436,
          -0.2090632228632905,
          -0.12236337717744461,
          -0.25794889230971774,
          0.189577396118497,
          0.2018815367753578,
          0.08261950163015097,
          -0.015258868121492242,
          0.17771258139282198,
          -0.15681903406208508,
          -0.19279757999924285,
          -0.08774186867296108,
          -0.22935038088220494,
          0.06869084766650335,
          0.015816778891526995,
          0.051774032002704806,
          0.11405733451593825,
          0.4488498727152158,
          0.22024584912546397,
          0.0394642282187051,
          0.0877943484132504,
          0.0476496414645351,
          -0.24278027217844578,
          -0.12877018115795957,
          -0.042291811783419786,
          -0.1038778731990927,
          -0.06330524628819201,
          0.0629678861204217,
          -0.18105714770089754,
          0.04137593154981656,
          0.18344024477957965,
          0.06806423291820263,
          -0.11778384862256508,
          0.00915296399208132,
          -0.10541802642280229,
          -0.1992716204690601,
          -0.05721791986227909,
          0.08208277635293926,
          0.08345839142058775,
          0.07556859348675504,
          0.03268105736176374,
          0.04812619316925759,
          0.022628745093394853,
          -0.053601350278916104,
          -0.05400445186838487,
          -0.00975209144058442,
          -0.09241770505392943,
          0.027360829579712087,
          0.09010365649925789,
          0.2760448566531619
         ],
         "yaxis": "y"
        }
       ],
       "layout": {
        "annotations": [
         {
          "font": {},
          "showarrow": false,
          "text": "transit=uber",
          "textangle": 90,
          "x": 0.98,
          "xanchor": "left",
          "xref": "paper",
          "y": 0.15666666666666665,
          "yanchor": "middle",
          "yref": "paper"
         },
         {
          "font": {},
          "showarrow": false,
          "text": "transit=train",
          "textangle": 90,
          "x": 0.98,
          "xanchor": "left",
          "xref": "paper",
          "y": 0.4999999999999999,
          "yanchor": "middle",
          "yref": "paper"
         },
         {
          "font": {},
          "showarrow": false,
          "text": "transit=bike",
          "textangle": 90,
          "x": 0.98,
          "xanchor": "left",
          "xref": "paper",
          "y": 0.8433333333333332,
          "yanchor": "middle",
          "yref": "paper"
         }
        ],
        "legend": {
         "title": {
          "text": "Near DNC"
         },
         "tracegroupgap": 0
        },
        "template": {
         "data": {
          "bar": [
           {
            "error_x": {
             "color": "rgb(36,36,36)"
            },
            "error_y": {
             "color": "rgb(36,36,36)"
            },
            "marker": {
             "line": {
              "color": "white",
              "width": 0.5
             },
             "pattern": {
              "fillmode": "overlay",
              "size": 10,
              "solidity": 0.2
             }
            },
            "type": "bar"
           }
          ],
          "barpolar": [
           {
            "marker": {
             "line": {
              "color": "white",
              "width": 0.5
             },
             "pattern": {
              "fillmode": "overlay",
              "size": 10,
              "solidity": 0.2
             }
            },
            "type": "barpolar"
           }
          ],
          "carpet": [
           {
            "aaxis": {
             "endlinecolor": "rgb(36,36,36)",
             "gridcolor": "white",
             "linecolor": "white",
             "minorgridcolor": "white",
             "startlinecolor": "rgb(36,36,36)"
            },
            "baxis": {
             "endlinecolor": "rgb(36,36,36)",
             "gridcolor": "white",
             "linecolor": "white",
             "minorgridcolor": "white",
             "startlinecolor": "rgb(36,36,36)"
            },
            "type": "carpet"
           }
          ],
          "choropleth": [
           {
            "colorbar": {
             "outlinewidth": 1,
             "tickcolor": "rgb(36,36,36)",
             "ticks": "outside"
            },
            "type": "choropleth"
           }
          ],
          "contour": [
           {
            "colorbar": {
             "outlinewidth": 1,
             "tickcolor": "rgb(36,36,36)",
             "ticks": "outside"
            },
            "colorscale": [
             [
              0,
              "#440154"
             ],
             [
              0.1111111111111111,
              "#482878"
             ],
             [
              0.2222222222222222,
              "#3e4989"
             ],
             [
              0.3333333333333333,
              "#31688e"
             ],
             [
              0.4444444444444444,
              "#26828e"
             ],
             [
              0.5555555555555556,
              "#1f9e89"
             ],
             [
              0.6666666666666666,
              "#35b779"
             ],
             [
              0.7777777777777778,
              "#6ece58"
             ],
             [
              0.8888888888888888,
              "#b5de2b"
             ],
             [
              1,
              "#fde725"
             ]
            ],
            "type": "contour"
           }
          ],
          "contourcarpet": [
           {
            "colorbar": {
             "outlinewidth": 1,
             "tickcolor": "rgb(36,36,36)",
             "ticks": "outside"
            },
            "type": "contourcarpet"
           }
          ],
          "heatmap": [
           {
            "colorbar": {
             "outlinewidth": 1,
             "tickcolor": "rgb(36,36,36)",
             "ticks": "outside"
            },
            "colorscale": [
             [
              0,
              "#440154"
             ],
             [
              0.1111111111111111,
              "#482878"
             ],
             [
              0.2222222222222222,
              "#3e4989"
             ],
             [
              0.3333333333333333,
              "#31688e"
             ],
             [
              0.4444444444444444,
              "#26828e"
             ],
             [
              0.5555555555555556,
              "#1f9e89"
             ],
             [
              0.6666666666666666,
              "#35b779"
             ],
             [
              0.7777777777777778,
              "#6ece58"
             ],
             [
              0.8888888888888888,
              "#b5de2b"
             ],
             [
              1,
              "#fde725"
             ]
            ],
            "type": "heatmap"
           }
          ],
          "heatmapgl": [
           {
            "colorbar": {
             "outlinewidth": 1,
             "tickcolor": "rgb(36,36,36)",
             "ticks": "outside"
            },
            "colorscale": [
             [
              0,
              "#440154"
             ],
             [
              0.1111111111111111,
              "#482878"
             ],
             [
              0.2222222222222222,
              "#3e4989"
             ],
             [
              0.3333333333333333,
              "#31688e"
             ],
             [
              0.4444444444444444,
              "#26828e"
             ],
             [
              0.5555555555555556,
              "#1f9e89"
             ],
             [
              0.6666666666666666,
              "#35b779"
             ],
             [
              0.7777777777777778,
              "#6ece58"
             ],
             [
              0.8888888888888888,
              "#b5de2b"
             ],
             [
              1,
              "#fde725"
             ]
            ],
            "type": "heatmapgl"
           }
          ],
          "histogram": [
           {
            "marker": {
             "line": {
              "color": "white",
              "width": 0.6
             }
            },
            "type": "histogram"
           }
          ],
          "histogram2d": [
           {
            "colorbar": {
             "outlinewidth": 1,
             "tickcolor": "rgb(36,36,36)",
             "ticks": "outside"
            },
            "colorscale": [
             [
              0,
              "#440154"
             ],
             [
              0.1111111111111111,
              "#482878"
             ],
             [
              0.2222222222222222,
              "#3e4989"
             ],
             [
              0.3333333333333333,
              "#31688e"
             ],
             [
              0.4444444444444444,
              "#26828e"
             ],
             [
              0.5555555555555556,
              "#1f9e89"
             ],
             [
              0.6666666666666666,
              "#35b779"
             ],
             [
              0.7777777777777778,
              "#6ece58"
             ],
             [
              0.8888888888888888,
              "#b5de2b"
             ],
             [
              1,
              "#fde725"
             ]
            ],
            "type": "histogram2d"
           }
          ],
          "histogram2dcontour": [
           {
            "colorbar": {
             "outlinewidth": 1,
             "tickcolor": "rgb(36,36,36)",
             "ticks": "outside"
            },
            "colorscale": [
             [
              0,
              "#440154"
             ],
             [
              0.1111111111111111,
              "#482878"
             ],
             [
              0.2222222222222222,
              "#3e4989"
             ],
             [
              0.3333333333333333,
              "#31688e"
             ],
             [
              0.4444444444444444,
              "#26828e"
             ],
             [
              0.5555555555555556,
              "#1f9e89"
             ],
             [
              0.6666666666666666,
              "#35b779"
             ],
             [
              0.7777777777777778,
              "#6ece58"
             ],
             [
              0.8888888888888888,
              "#b5de2b"
             ],
             [
              1,
              "#fde725"
             ]
            ],
            "type": "histogram2dcontour"
           }
          ],
          "mesh3d": [
           {
            "colorbar": {
             "outlinewidth": 1,
             "tickcolor": "rgb(36,36,36)",
             "ticks": "outside"
            },
            "type": "mesh3d"
           }
          ],
          "parcoords": [
           {
            "line": {
             "colorbar": {
              "outlinewidth": 1,
              "tickcolor": "rgb(36,36,36)",
              "ticks": "outside"
             }
            },
            "type": "parcoords"
           }
          ],
          "pie": [
           {
            "automargin": true,
            "type": "pie"
           }
          ],
          "scatter": [
           {
            "fillpattern": {
             "fillmode": "overlay",
             "size": 10,
             "solidity": 0.2
            },
            "type": "scatter"
           }
          ],
          "scatter3d": [
           {
            "line": {
             "colorbar": {
              "outlinewidth": 1,
              "tickcolor": "rgb(36,36,36)",
              "ticks": "outside"
             }
            },
            "marker": {
             "colorbar": {
              "outlinewidth": 1,
              "tickcolor": "rgb(36,36,36)",
              "ticks": "outside"
             }
            },
            "type": "scatter3d"
           }
          ],
          "scattercarpet": [
           {
            "marker": {
             "colorbar": {
              "outlinewidth": 1,
              "tickcolor": "rgb(36,36,36)",
              "ticks": "outside"
             }
            },
            "type": "scattercarpet"
           }
          ],
          "scattergeo": [
           {
            "marker": {
             "colorbar": {
              "outlinewidth": 1,
              "tickcolor": "rgb(36,36,36)",
              "ticks": "outside"
             }
            },
            "type": "scattergeo"
           }
          ],
          "scattergl": [
           {
            "marker": {
             "colorbar": {
              "outlinewidth": 1,
              "tickcolor": "rgb(36,36,36)",
              "ticks": "outside"
             }
            },
            "type": "scattergl"
           }
          ],
          "scattermapbox": [
           {
            "marker": {
             "colorbar": {
              "outlinewidth": 1,
              "tickcolor": "rgb(36,36,36)",
              "ticks": "outside"
             }
            },
            "type": "scattermapbox"
           }
          ],
          "scatterpolar": [
           {
            "marker": {
             "colorbar": {
              "outlinewidth": 1,
              "tickcolor": "rgb(36,36,36)",
              "ticks": "outside"
             }
            },
            "type": "scatterpolar"
           }
          ],
          "scatterpolargl": [
           {
            "marker": {
             "colorbar": {
              "outlinewidth": 1,
              "tickcolor": "rgb(36,36,36)",
              "ticks": "outside"
             }
            },
            "type": "scatterpolargl"
           }
          ],
          "scatterternary": [
           {
            "marker": {
             "colorbar": {
              "outlinewidth": 1,
              "tickcolor": "rgb(36,36,36)",
              "ticks": "outside"
             }
            },
            "type": "scatterternary"
           }
          ],
          "surface": [
           {
            "colorbar": {
             "outlinewidth": 1,
             "tickcolor": "rgb(36,36,36)",
             "ticks": "outside"
            },
            "colorscale": [
             [
              0,
              "#440154"
             ],
             [
              0.1111111111111111,
              "#482878"
             ],
             [
              0.2222222222222222,
              "#3e4989"
             ],
             [
              0.3333333333333333,
              "#31688e"
             ],
             [
              0.4444444444444444,
              "#26828e"
             ],
             [
              0.5555555555555556,
              "#1f9e89"
             ],
             [
              0.6666666666666666,
              "#35b779"
             ],
             [
              0.7777777777777778,
              "#6ece58"
             ],
             [
              0.8888888888888888,
              "#b5de2b"
             ],
             [
              1,
              "#fde725"
             ]
            ],
            "type": "surface"
           }
          ],
          "table": [
           {
            "cells": {
             "fill": {
              "color": "rgb(237,237,237)"
             },
             "line": {
              "color": "white"
             }
            },
            "header": {
             "fill": {
              "color": "rgb(217,217,217)"
             },
             "line": {
              "color": "white"
             }
            },
            "type": "table"
           }
          ]
         },
         "layout": {
          "annotationdefaults": {
           "arrowhead": 0,
           "arrowwidth": 1
          },
          "autotypenumbers": "strict",
          "coloraxis": {
           "colorbar": {
            "outlinewidth": 1,
            "tickcolor": "rgb(36,36,36)",
            "ticks": "outside"
           }
          },
          "colorscale": {
           "diverging": [
            [
             0,
             "rgb(103,0,31)"
            ],
            [
             0.1,
             "rgb(178,24,43)"
            ],
            [
             0.2,
             "rgb(214,96,77)"
            ],
            [
             0.3,
             "rgb(244,165,130)"
            ],
            [
             0.4,
             "rgb(253,219,199)"
            ],
            [
             0.5,
             "rgb(247,247,247)"
            ],
            [
             0.6,
             "rgb(209,229,240)"
            ],
            [
             0.7,
             "rgb(146,197,222)"
            ],
            [
             0.8,
             "rgb(67,147,195)"
            ],
            [
             0.9,
             "rgb(33,102,172)"
            ],
            [
             1,
             "rgb(5,48,97)"
            ]
           ],
           "sequential": [
            [
             0,
             "#440154"
            ],
            [
             0.1111111111111111,
             "#482878"
            ],
            [
             0.2222222222222222,
             "#3e4989"
            ],
            [
             0.3333333333333333,
             "#31688e"
            ],
            [
             0.4444444444444444,
             "#26828e"
            ],
            [
             0.5555555555555556,
             "#1f9e89"
            ],
            [
             0.6666666666666666,
             "#35b779"
            ],
            [
             0.7777777777777778,
             "#6ece58"
            ],
            [
             0.8888888888888888,
             "#b5de2b"
            ],
            [
             1,
             "#fde725"
            ]
           ],
           "sequentialminus": [
            [
             0,
             "#440154"
            ],
            [
             0.1111111111111111,
             "#482878"
            ],
            [
             0.2222222222222222,
             "#3e4989"
            ],
            [
             0.3333333333333333,
             "#31688e"
            ],
            [
             0.4444444444444444,
             "#26828e"
            ],
            [
             0.5555555555555556,
             "#1f9e89"
            ],
            [
             0.6666666666666666,
             "#35b779"
            ],
            [
             0.7777777777777778,
             "#6ece58"
            ],
            [
             0.8888888888888888,
             "#b5de2b"
            ],
            [
             1,
             "#fde725"
            ]
           ]
          },
          "colorway": [
           "#1F77B4",
           "#FF7F0E",
           "#2CA02C",
           "#D62728",
           "#9467BD",
           "#8C564B",
           "#E377C2",
           "#7F7F7F",
           "#BCBD22",
           "#17BECF"
          ],
          "font": {
           "color": "rgb(36,36,36)"
          },
          "geo": {
           "bgcolor": "white",
           "lakecolor": "white",
           "landcolor": "white",
           "showlakes": true,
           "showland": true,
           "subunitcolor": "white"
          },
          "hoverlabel": {
           "align": "left"
          },
          "hovermode": "closest",
          "mapbox": {
           "style": "light"
          },
          "paper_bgcolor": "white",
          "plot_bgcolor": "white",
          "polar": {
           "angularaxis": {
            "gridcolor": "rgb(232,232,232)",
            "linecolor": "rgb(36,36,36)",
            "showgrid": false,
            "showline": true,
            "ticks": "outside"
           },
           "bgcolor": "white",
           "radialaxis": {
            "gridcolor": "rgb(232,232,232)",
            "linecolor": "rgb(36,36,36)",
            "showgrid": false,
            "showline": true,
            "ticks": "outside"
           }
          },
          "scene": {
           "xaxis": {
            "backgroundcolor": "white",
            "gridcolor": "rgb(232,232,232)",
            "gridwidth": 2,
            "linecolor": "rgb(36,36,36)",
            "showbackground": true,
            "showgrid": false,
            "showline": true,
            "ticks": "outside",
            "zeroline": false,
            "zerolinecolor": "rgb(36,36,36)"
           },
           "yaxis": {
            "backgroundcolor": "white",
            "gridcolor": "rgb(232,232,232)",
            "gridwidth": 2,
            "linecolor": "rgb(36,36,36)",
            "showbackground": true,
            "showgrid": false,
            "showline": true,
            "ticks": "outside",
            "zeroline": false,
            "zerolinecolor": "rgb(36,36,36)"
           },
           "zaxis": {
            "backgroundcolor": "white",
            "gridcolor": "rgb(232,232,232)",
            "gridwidth": 2,
            "linecolor": "rgb(36,36,36)",
            "showbackground": true,
            "showgrid": false,
            "showline": true,
            "ticks": "outside",
            "zeroline": false,
            "zerolinecolor": "rgb(36,36,36)"
           }
          },
          "shapedefaults": {
           "fillcolor": "black",
           "line": {
            "width": 0
           },
           "opacity": 0.3
          },
          "ternary": {
           "aaxis": {
            "gridcolor": "rgb(232,232,232)",
            "linecolor": "rgb(36,36,36)",
            "showgrid": false,
            "showline": true,
            "ticks": "outside"
           },
           "baxis": {
            "gridcolor": "rgb(232,232,232)",
            "linecolor": "rgb(36,36,36)",
            "showgrid": false,
            "showline": true,
            "ticks": "outside"
           },
           "bgcolor": "white",
           "caxis": {
            "gridcolor": "rgb(232,232,232)",
            "linecolor": "rgb(36,36,36)",
            "showgrid": false,
            "showline": true,
            "ticks": "outside"
           }
          },
          "title": {
           "x": 0.05
          },
          "xaxis": {
           "automargin": true,
           "gridcolor": "rgb(232,232,232)",
           "linecolor": "rgb(36,36,36)",
           "showgrid": false,
           "showline": true,
           "ticks": "outside",
           "title": {
            "standoff": 15
           },
           "zeroline": false,
           "zerolinecolor": "rgb(36,36,36)"
          },
          "yaxis": {
           "automargin": true,
           "gridcolor": "rgb(232,232,232)",
           "linecolor": "rgb(36,36,36)",
           "showgrid": false,
           "showline": true,
           "ticks": "outside",
           "title": {
            "standoff": 15
           },
           "zeroline": false,
           "zerolinecolor": "rgb(36,36,36)"
          }
         }
        },
        "title": {
         "text": "Rides (normalized to group mean)"
        },
        "xaxis": {
         "anchor": "y",
         "domain": [
          0,
          0.98
         ],
         "title": {
          "text": ""
         }
        },
        "xaxis2": {
         "anchor": "y2",
         "domain": [
          0,
          0.98
         ],
         "matches": "x",
         "showticklabels": false
        },
        "xaxis3": {
         "anchor": "y3",
         "domain": [
          0,
          0.98
         ],
         "matches": "x",
         "showticklabels": false
        },
        "yaxis": {
         "anchor": "x",
         "domain": [
          0,
          0.3133333333333333
         ],
         "title": {
          "text": "ddiff"
         }
        },
        "yaxis2": {
         "anchor": "x2",
         "domain": [
          0.34333333333333327,
          0.6566666666666665
         ],
         "matches": "y",
         "title": {
          "text": "ddiff"
         }
        },
        "yaxis3": {
         "anchor": "x3",
         "domain": [
          0.6866666666666665,
          0.9999999999999998
         ],
         "matches": "y",
         "title": {
          "text": "ddiff"
         }
        }
       }
      }
     },
     "metadata": {},
     "output_type": "display_data"
    }
   ],
   "source": [
    "# But just to check, there is no sustained difference in slopes\n",
    "diff_data = plot_data.groupby(['UCMP','transit'], as_index=False) \\\n",
    "    .apply(lambda x: \n",
    "        x.sort_values('date').assign(diff = x['demean'].diff(1))) \\\n",
    "    .groupby(['transit','date'], as_index=False).apply(lambda x:\n",
    "        x.sort_values('UCMP').assign(ddiff = x['diff'].diff(1)))\n",
    "chart = px.line(diff_data,\n",
    "         x='date', y='ddiff', \n",
    "        line_dash='UCMP', facet_row='transit',\n",
    "        color_discrete_sequence=['black'],\n",
    "        title= 'difference in slopes',\n",
    "        labels={'date':'', 'demean':'',\n",
    "                'UCMP':'Near DNC'},\n",
    "        template='simple_white')\n",
    "chart\n"
   ]
  }
 ],
 "metadata": {
  "kernelspec": {
   "display_name": ".venv",
   "language": "python",
   "name": "python3"
  },
  "language_info": {
   "codemirror_mode": {
    "name": "ipython",
    "version": 3
   },
   "file_extension": ".py",
   "mimetype": "text/x-python",
   "name": "python",
   "nbconvert_exporter": "python",
   "pygments_lexer": "ipython3",
   "version": "3.12.6"
  }
 },
 "nbformat": 4,
 "nbformat_minor": 2
}
