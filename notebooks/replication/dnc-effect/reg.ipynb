{
 "cells": [
  {
   "cell_type": "code",
   "execution_count": 1,
   "metadata": {},
   "outputs": [],
   "source": [
    "import pandas as pd\n",
    "import statsmodels.api as sm\n",
    "from statsmodels.iolib.summary2 import summary_col\n",
    "from tabulate import  tabulate\n",
    "import numpy as np\n",
    "import plotly.express as px\n",
    "from stats.reg import compute_vif"
   ]
  },
  {
   "cell_type": "code",
   "execution_count": 25,
   "metadata": {},
   "outputs": [],
   "source": [
    "panel_in = \"../../../data/final/model_data.parquet\"\n",
    "\n",
    "did_out = \"../../../reports/replication/did.md\"\n",
    "fe_out = \"../../../reports/replication/fe.md\"\n",
    "parallel_out = \"../../../reports/replication/parallel_trends.jpeg\""
   ]
  },
  {
   "cell_type": "code",
   "execution_count": 3,
   "metadata": {},
   "outputs": [],
   "source": [
    "panel = pd.read_parquet(panel_in)"
   ]
  },
  {
   "cell_type": "markdown",
   "metadata": {},
   "source": [
    "# Preprocessing"
   ]
  },
  {
   "cell_type": "code",
   "execution_count": 4,
   "metadata": {},
   "outputs": [],
   "source": [
    "panel['logrides'] = panel['rides'].apply(np.log1p)"
   ]
  },
  {
   "cell_type": "code",
   "execution_count": 5,
   "metadata": {},
   "outputs": [],
   "source": [
    "dotw_names = {f\"C(dotw)[T.{i}]\":j for i,j in zip([1,2,3,4],['Tuesday','Wednesday','Thursday','Friday'])}"
   ]
  },
  {
   "cell_type": "markdown",
   "metadata": {},
   "source": [
    "# Fixed Effects"
   ]
  },
  {
   "cell_type": "code",
   "execution_count": 6,
   "metadata": {},
   "outputs": [],
   "source": [
    "def mask_colinear(df, groupby, coef):\n",
    "    test = df.groupby(groupby)[coef].nunique() > 1\n",
    "    mask = df[groupby].isin(test[test].index)\n",
    "    if not all(test):\n",
    "        print(f\"Dropping {sum(~test)} {groupby}, {sum(~mask)} obs invariant to {coef}\")\n",
    "    return mask\n",
    "\n",
    "def model_fe(df):\n",
    "    ## Community areas dont have separate units for transit.\n",
    "    ## Since fixed effects cant distringuish transit anyway,\n",
    "    ## Might as well sum it. Otherwise you have huge variance per unit.\n",
    "    df = df.groupby(['id','date','dotw','DNC'])['rides'].sum().reset_index()\n",
    "    df = df.sort_values('date')\n",
    "    df['time'] = pd.Categorical(df['date']).codes\n",
    "    # Make sure all units have variance in all coefs.\n",
    "    mask = np.full_like(df.index, True)\n",
    "    for coef in ['DNC','time','dotw']:\n",
    "        mask &= mask_colinear(df, 'id', coef)\n",
    "    df = df[mask]\n",
    "    id_formula = \"C(id)\" #catvar(df, \"id\", tract_panel.id.min())\n",
    "    formula = f\"\"\"np.log1p(rides) ~ \n",
    "                DNC + time + C(dotw) + {id_formula}\"\"\"\n",
    "    model = sm.OLS.from_formula(formula, df).fit()\n",
    "    return model"
   ]
  },
  {
   "cell_type": "code",
   "execution_count": 7,
   "metadata": {},
   "outputs": [],
   "source": [
    "def print_fe(model):\n",
    "    for l in str(model.summary()).split('\\n'):\n",
    "        if not l.startswith('C(id)'):\n",
    "            print(l)"
   ]
  },
  {
   "cell_type": "code",
   "execution_count": 8,
   "metadata": {},
   "outputs": [
    {
     "name": "stdout",
     "output_type": "stream",
     "text": [
      "                            OLS Regression Results                            \n",
      "==============================================================================\n",
      "Dep. Variable:        np.log1p(rides)   R-squared:                       0.902\n",
      "Model:                            OLS   Adj. R-squared:                  0.900\n",
      "Method:                 Least Squares   F-statistic:                     563.2\n",
      "Date:                Mon, 03 Feb 2025   Prob (F-statistic):               0.00\n",
      "Time:                        15:46:50   Log-Likelihood:                -1496.0\n",
      "No. Observations:                7910   AIC:                             3248.\n",
      "Df Residuals:                    7782   BIC:                             4141.\n",
      "Df Model:                         127                                         \n",
      "Covariance Type:            nonrobust                                         \n",
      "==================================================================================\n",
      "                     coef    std err          t      P>|t|      [0.025      0.975]\n",
      "----------------------------------------------------------------------------------\n",
      "Intercept          6.6028      0.038    175.876      0.000       6.529       6.676\n",
      "C(dotw)[T.1]       0.1098      0.010     10.478      0.000       0.089       0.130\n",
      "C(dotw)[T.2]       0.1172      0.010     11.178      0.000       0.097       0.138\n",
      "C(dotw)[T.3]       0.0893      0.010      8.511      0.000       0.069       0.110\n",
      "C(dotw)[T.4]       0.0530      0.011      5.000      0.000       0.032       0.074\n",
      "DNC               -0.0814      0.015     -5.503      0.000      -0.110      -0.052\n",
      "time               0.0014      0.000      7.586      0.000       0.001       0.002\n",
      "==============================================================================\n",
      "Omnibus:                     4300.769   Durbin-Watson:                   1.734\n",
      "Prob(Omnibus):                  0.000   Jarque-Bera (JB):          2812195.826\n",
      "Skew:                           1.215   Prob(JB):                         0.00\n",
      "Kurtosis:                      95.340   Cond. No.                     4.54e+03\n",
      "==============================================================================\n",
      "\n",
      "Notes:\n",
      "[1] Standard Errors assume that the covariance matrix of the errors is correctly specified.\n",
      "[2] The condition number is large, 4.54e+03. This might indicate that there are\n",
      "strong multicollinearity or other numerical problems.\n"
     ]
    }
   ],
   "source": [
    "model_data = panel.loc[panel.transit == 'train']\n",
    "train_fe_model = model_fe(model_data)\n",
    "print_fe(train_fe_model)"
   ]
  },
  {
   "cell_type": "code",
   "execution_count": 9,
   "metadata": {},
   "outputs": [
    {
     "data": {
      "text/html": [
       "<div>\n",
       "<style scoped>\n",
       "    .dataframe tbody tr th:only-of-type {\n",
       "        vertical-align: middle;\n",
       "    }\n",
       "\n",
       "    .dataframe tbody tr th {\n",
       "        vertical-align: top;\n",
       "    }\n",
       "\n",
       "    .dataframe thead th {\n",
       "        text-align: right;\n",
       "    }\n",
       "</style>\n",
       "<table border=\"1\" class=\"dataframe\">\n",
       "  <thead>\n",
       "    <tr style=\"text-align: right;\">\n",
       "      <th></th>\n",
       "      <th>coef</th>\n",
       "      <th>vif</th>\n",
       "    </tr>\n",
       "  </thead>\n",
       "  <tbody>\n",
       "    <tr>\n",
       "      <th>0</th>\n",
       "      <td>Intercept</td>\n",
       "      <td>128.332169</td>\n",
       "    </tr>\n",
       "  </tbody>\n",
       "</table>\n",
       "</div>"
      ],
      "text/plain": [
       "        coef         vif\n",
       "0  Intercept  128.332169"
      ]
     },
     "execution_count": 9,
     "metadata": {},
     "output_type": "execute_result"
    }
   ],
   "source": [
    "compute_vif(train_fe_model)"
   ]
  },
  {
   "cell_type": "code",
   "execution_count": 10,
   "metadata": {},
   "outputs": [
    {
     "name": "stdout",
     "output_type": "stream",
     "text": [
      "Dropping 139 id, 995 obs invariant to DNC\n",
      "Dropping 25 id, 25 obs invariant to time\n",
      "Dropping 32 id, 40 obs invariant to dotw\n",
      "                            OLS Regression Results                            \n",
      "==============================================================================\n",
      "Dep. Variable:        np.log1p(rides)   R-squared:                       0.951\n",
      "Model:                            OLS   Adj. R-squared:                  0.950\n",
      "Method:                 Least Squares   F-statistic:                     1097.\n",
      "Date:                Mon, 03 Feb 2025   Prob (F-statistic):               0.00\n",
      "Time:                        15:47:23   Log-Likelihood:                -27717.\n",
      "No. Observations:               64229   AIC:                         5.765e+04\n",
      "Df Residuals:                   63123   BIC:                         6.768e+04\n",
      "Df Model:                        1105                                         \n",
      "Covariance Type:            nonrobust                                         \n",
      "==========================================================================================\n",
      "                             coef    std err          t      P>|t|      [0.025      0.975]\n",
      "------------------------------------------------------------------------------------------\n",
      "Intercept                  4.8886      0.047    104.528      0.000       4.797       4.980\n",
      "C(dotw)[T.1]               0.1059      0.005     22.389      0.000       0.097       0.115\n",
      "C(dotw)[T.2]               0.2156      0.005     45.743      0.000       0.206       0.225\n",
      "C(dotw)[T.3]               0.3314      0.005     70.442      0.000       0.322       0.341\n",
      "C(dotw)[T.4]               0.5977      0.005    126.136      0.000       0.588       0.607\n",
      "DNC                       -0.0524      0.007     -7.912      0.000      -0.065      -0.039\n",
      "time                       0.0013   8.45e-05     15.759      0.000       0.001       0.001\n",
      "==============================================================================\n",
      "Omnibus:                     5449.075   Durbin-Watson:                   1.950\n",
      "Prob(Omnibus):                  0.000   Jarque-Bera (JB):            32750.003\n",
      "Skew:                          -0.153   Prob(JB):                         0.00\n",
      "Kurtosis:                       6.485   Cond. No.                     3.88e+04\n",
      "==============================================================================\n",
      "\n",
      "Notes:\n",
      "[1] Standard Errors assume that the covariance matrix of the errors is correctly specified.\n",
      "[2] The condition number is large, 3.88e+04. This might indicate that there are\n",
      "strong multicollinearity or other numerical problems.\n"
     ]
    }
   ],
   "source": [
    "model_data = panel.loc[panel.transit == 'uber']\n",
    "uber_fe_model = model_fe(model_data)\n",
    "print_fe(uber_fe_model)"
   ]
  },
  {
   "cell_type": "code",
   "execution_count": 11,
   "metadata": {},
   "outputs": [],
   "source": [
    "# takes forever\n",
    "# # compute_vif(uber_fe_model)"
   ]
  },
  {
   "cell_type": "code",
   "execution_count": 12,
   "metadata": {},
   "outputs": [
    {
     "name": "stdout",
     "output_type": "stream",
     "text": [
      "Dropping 492 id, 3345 obs invariant to DNC\n",
      "Dropping 127 id, 127 obs invariant to time\n",
      "Dropping 143 id, 161 obs invariant to dotw\n",
      "                            OLS Regression Results                            \n",
      "==============================================================================\n",
      "Dep. Variable:        np.log1p(rides)   R-squared:                       0.947\n",
      "Model:                            OLS   Adj. R-squared:                  0.946\n",
      "Method:                 Least Squares   F-statistic:                     831.4\n",
      "Date:                Mon, 03 Feb 2025   Prob (F-statistic):               0.00\n",
      "Time:                        15:47:37   Log-Likelihood:                -18357.\n",
      "No. Observations:               49697   AIC:                         3.881e+04\n",
      "Df Residuals:                   48651   BIC:                         4.802e+04\n",
      "Df Model:                        1045                                         \n",
      "Covariance Type:            nonrobust                                         \n",
      "=============================================================================================================================================\n",
      "                                                                                coef    std err          t      P>|t|      [0.025      0.975]\n",
      "---------------------------------------------------------------------------------------------------------------------------------------------\n",
      "Intercept                                                                     1.6673      0.045     36.949      0.000       1.579       1.756\n",
      "C(dotw)[T.1]                                                                  0.0274      0.005      5.416      0.000       0.017       0.037\n",
      "C(dotw)[T.2]                                                                  0.1199      0.005     23.729      0.000       0.110       0.130\n",
      "C(dotw)[T.3]                                                                  0.0794      0.005     15.687      0.000       0.069       0.089\n",
      "C(dotw)[T.4]                                                                  0.1148      0.005     22.487      0.000       0.105       0.125\n",
      "DNC                                                                           0.0297      0.007      4.274      0.000       0.016       0.043\n",
      "time                                                                       -3.48e-05   9.14e-05     -0.381      0.703      -0.000       0.000\n",
      "==============================================================================\n",
      "Omnibus:                     4276.221   Durbin-Watson:                   1.887\n",
      "Prob(Omnibus):                  0.000   Jarque-Bera (JB):            19366.129\n",
      "Skew:                          -0.314   Prob(JB):                         0.00\n",
      "Kurtosis:                       5.993   Cond. No.                     3.41e+04\n",
      "==============================================================================\n",
      "\n",
      "Notes:\n",
      "[1] Standard Errors assume that the covariance matrix of the errors is correctly specified.\n",
      "[2] The condition number is large, 3.41e+04. This might indicate that there are\n",
      "strong multicollinearity or other numerical problems.\n"
     ]
    }
   ],
   "source": [
    "model_data = panel.loc[panel.transit == 'bike']\n",
    "bike_fe_model = model_fe(model_data)\n",
    "print_fe(bike_fe_model)"
   ]
  },
  {
   "cell_type": "code",
   "execution_count": 13,
   "metadata": {},
   "outputs": [],
   "source": [
    "# Takes forever\n",
    "# # compute_vif(bike_fe_model)"
   ]
  },
  {
   "cell_type": "code",
   "execution_count": 14,
   "metadata": {},
   "outputs": [
    {
     "name": "stdout",
     "output_type": "stream",
     "text": [
      "|                | FE (Uber)   | FE (Train)   | FE (Bike)   |\n",
      "|----------------|-------------|--------------|-------------|\n",
      "| During DNC     | -0.0524***  | -0.0814***   | 0.0297***   |\n",
      "|                | (0.0066)    | (0.0148)     | (0.0069)    |\n",
      "| time trend     | 0.0013***   | 0.0014***    | -0.0000     |\n",
      "|                | (0.0001)    | (0.0002)     | (0.0001)    |\n",
      "| Tuesday        | 0.1059***   | 0.1098***    | 0.0274***   |\n",
      "|                | (0.0047)    | (0.0105)     | (0.0051)    |\n",
      "| Wednesday      | 0.2156***   | 0.1172***    | 0.1199***   |\n",
      "|                | (0.0047)    | (0.0105)     | (0.0051)    |\n",
      "| Thursday       | 0.3314***   | 0.0893***    | 0.0794***   |\n",
      "|                | (0.0047)    | (0.0105)     | (0.0051)    |\n",
      "| Friday         | 0.5977***   | 0.0530***    | 0.1148***   |\n",
      "|                | (0.0047)    | (0.0106)     | (0.0051)    |\n",
      "| R-squared      | 0.9505      | 0.9019       | 0.9470      |\n",
      "| R-squared Adj. | 0.9497      | 0.9003       | 0.9458      |\n",
      "| N              | 64229.0     | 7910.0       | 49697.0     |\n"
     ]
    }
   ],
   "source": [
    "fe_summary = summary_col([uber_fe_model, train_fe_model, bike_fe_model], \n",
    "            model_names=[\"FE (Uber)\", \"FE (Train)\", \"FE (Bike)\"], \n",
    "            info_dict={\"N\":lambda x:(x.nobs)},\n",
    "            stars=True,\n",
    "            regressor_order=['DNC','time'] + list(dotw_names.keys()),\n",
    "            drop_omitted=True)\n",
    "\n",
    "fe_summary.tables[0].index = (fe_summary.tables[0].index\n",
    "                              .map(lambda x: dotw_names[x] if x in dotw_names else x)\n",
    "                              .str.replace('DNC','During DNC')\n",
    "                              .str.replace('time','time trend'))\n",
    "\n",
    "fe_table = tabulate(fe_summary.tables[0],\n",
    "                   headers=[\"\", \"FE (Uber)\", \"FE (Train)\", \"FE (Bike)\"],\n",
    "                   showindex=True,\n",
    "                   tablefmt='github')\n",
    "print(fe_table)\n",
    "with open(fe_out,\"w\") as f:\n",
    "    f.write(fe_table)\n",
    "!cp {fe_out} ../../../../eric-mc2-cv/static/uploads/"
   ]
  },
  {
   "cell_type": "code",
   "execution_count": 15,
   "metadata": {},
   "outputs": [
    {
     "data": {
      "text/plain": [
       "FE (Uber)     -5.1%\n",
       "FE (Train)    -7.8%\n",
       "FE (Bike)      3.0%\n",
       "Name: During DNC, dtype: object"
      ]
     },
     "execution_count": 15,
     "metadata": {},
     "output_type": "execute_result"
    }
   ],
   "source": [
    "main_effect = fe_summary.tables[0].xs('During DNC').str.replace('*','').astype(float)\n",
    "main_pct = np.exp(main_effect) - 1\n",
    "main_pct.apply(\"{:.1%}\".format)"
   ]
  },
  {
   "cell_type": "markdown",
   "metadata": {},
   "source": [
    "# DiffNDiff"
   ]
  },
  {
   "cell_type": "code",
   "execution_count": 16,
   "metadata": {},
   "outputs": [],
   "source": [
    "def did_colinearity(df):\n",
    "    mask = np.full_like(df.index, True)\n",
    "    mask &= mask_colinear(df, 'id', 'DNC')\n",
    "    mask &= mask_colinear(df, 'date', 'UCMP')\n",
    "    df = df.loc[mask]\n",
    "    return df\n",
    "\n",
    "def model_transit_did(df, transit):\n",
    "    df = df.sort_values('date')\n",
    "    df['time'] = pd.Categorical(df['date']).codes\n",
    "    # contained_terms = ['train_contained','bike_contained','bus_contained']\n",
    "    # contained_term = \" + \".join([c for c in contained_terms if c in df.columns])\n",
    "    # contained_term = contained_term if contained_term else \"1\"\n",
    "    unit_obs = df.groupby('id').size()\n",
    "    df['weight'] = df['id'].map(unit_obs).apply(lambda x: 1/x)\n",
    "    dist_terms = ['log_train_distance','log_bike_distance','log_bus_distance']\n",
    "    dist_terms = [c for c in dist_terms if c in df.columns and transit not in c]\n",
    "    dist_term = \" + \".join(dist_terms)\n",
    "    dist_term = dist_term if dist_term else \"1\"\n",
    "    # Assert that spatial units have time variance (only need to test group inclusion, not every variable.)\n",
    "    df = did_colinearity(df)\n",
    "    formula = f\"\"\"logrides ~ \n",
    "                UCMP * DNC +\n",
    "                time + C(dotw) +\n",
    "                {dist_term} +\n",
    "                lat + long + I(lat * long) \n",
    "                + I(lat**2) + I(long**2)\n",
    "                \"\"\"\n",
    "    did_model = sm.WLS.from_formula(formula, df, weights=df['weight']).fit(cov_type='cluster',cov_kwds={'groups': df['id']})\n",
    "    return did_model"
   ]
  },
  {
   "cell_type": "code",
   "execution_count": 17,
   "metadata": {},
   "outputs": [
    {
     "name": "stdout",
     "output_type": "stream",
     "text": [
      "Dropping 492 id, 3345 obs invariant to DNC\n"
     ]
    },
    {
     "data": {
      "text/html": [
       "<table class=\"simpletable\">\n",
       "<caption>WLS Regression Results</caption>\n",
       "<tr>\n",
       "  <th>Dep. Variable:</th>        <td>logrides</td>     <th>  R-squared:         </th> <td>   0.660</td> \n",
       "</tr>\n",
       "<tr>\n",
       "  <th>Model:</th>                   <td>WLS</td>       <th>  Adj. R-squared:    </th> <td>   0.660</td> \n",
       "</tr>\n",
       "<tr>\n",
       "  <th>Method:</th>             <td>Least Squares</td>  <th>  F-statistic:       </th> <td>   191.3</td> \n",
       "</tr>\n",
       "<tr>\n",
       "  <th>Date:</th>             <td>Mon, 03 Feb 2025</td> <th>  Prob (F-statistic):</th> <td>1.63e-286</td>\n",
       "</tr>\n",
       "<tr>\n",
       "  <th>Time:</th>                 <td>15:47:40</td>     <th>  Log-Likelihood:    </th> <td> -69529.</td> \n",
       "</tr>\n",
       "<tr>\n",
       "  <th>No. Observations:</th>      <td> 49704</td>      <th>  AIC:               </th> <td>1.391e+05</td>\n",
       "</tr>\n",
       "<tr>\n",
       "  <th>Df Residuals:</th>          <td> 49688</td>      <th>  BIC:               </th> <td>1.392e+05</td>\n",
       "</tr>\n",
       "<tr>\n",
       "  <th>Df Model:</th>              <td>    15</td>      <th>                     </th>     <td> </td>    \n",
       "</tr>\n",
       "<tr>\n",
       "  <th>Covariance Type:</th>       <td>cluster</td>     <th>                     </th>     <td> </td>    \n",
       "</tr>\n",
       "</table>\n",
       "<table class=\"simpletable\">\n",
       "<tr>\n",
       "           <td></td>             <th>coef</th>     <th>std err</th>      <th>z</th>      <th>P>|z|</th>  <th>[0.025</th>    <th>0.975]</th>  \n",
       "</tr>\n",
       "<tr>\n",
       "  <th>Intercept</th>          <td>    3.6798</td> <td>    0.184</td> <td>   20.004</td> <td> 0.000</td> <td>    3.319</td> <td>    4.040</td>\n",
       "</tr>\n",
       "<tr>\n",
       "  <th>C(dotw)[T.1]</th>       <td>    0.0096</td> <td>    0.015</td> <td>    0.642</td> <td> 0.521</td> <td>   -0.020</td> <td>    0.039</td>\n",
       "</tr>\n",
       "<tr>\n",
       "  <th>C(dotw)[T.2]</th>       <td>    0.0922</td> <td>    0.016</td> <td>    5.689</td> <td> 0.000</td> <td>    0.060</td> <td>    0.124</td>\n",
       "</tr>\n",
       "<tr>\n",
       "  <th>C(dotw)[T.3]</th>       <td>    0.0587</td> <td>    0.016</td> <td>    3.664</td> <td> 0.000</td> <td>    0.027</td> <td>    0.090</td>\n",
       "</tr>\n",
       "<tr>\n",
       "  <th>C(dotw)[T.4]</th>       <td>    0.0602</td> <td>    0.015</td> <td>    3.964</td> <td> 0.000</td> <td>    0.030</td> <td>    0.090</td>\n",
       "</tr>\n",
       "<tr>\n",
       "  <th>UCMP</th>               <td>    0.4222</td> <td>    0.124</td> <td>    3.394</td> <td> 0.001</td> <td>    0.178</td> <td>    0.666</td>\n",
       "</tr>\n",
       "<tr>\n",
       "  <th>DNC</th>                <td>   -0.0335</td> <td>    0.024</td> <td>   -1.391</td> <td> 0.164</td> <td>   -0.081</td> <td>    0.014</td>\n",
       "</tr>\n",
       "<tr>\n",
       "  <th>UCMP:DNC</th>           <td>    0.2998</td> <td>    0.055</td> <td>    5.405</td> <td> 0.000</td> <td>    0.191</td> <td>    0.408</td>\n",
       "</tr>\n",
       "<tr>\n",
       "  <th>time</th>               <td>   -0.0008</td> <td>    0.000</td> <td>   -1.929</td> <td> 0.054</td> <td>   -0.002</td> <td> 1.32e-05</td>\n",
       "</tr>\n",
       "<tr>\n",
       "  <th>log_train_distance</th> <td>   -0.1238</td> <td>    0.021</td> <td>   -5.769</td> <td> 0.000</td> <td>   -0.166</td> <td>   -0.082</td>\n",
       "</tr>\n",
       "<tr>\n",
       "  <th>log_bus_distance</th>   <td>    0.0236</td> <td>    0.028</td> <td>    0.857</td> <td> 0.392</td> <td>   -0.030</td> <td>    0.078</td>\n",
       "</tr>\n",
       "<tr>\n",
       "  <th>lat</th>                <td>    0.8021</td> <td>    0.045</td> <td>   17.809</td> <td> 0.000</td> <td>    0.714</td> <td>    0.890</td>\n",
       "</tr>\n",
       "<tr>\n",
       "  <th>long</th>               <td>    1.2870</td> <td>    0.042</td> <td>   30.739</td> <td> 0.000</td> <td>    1.205</td> <td>    1.369</td>\n",
       "</tr>\n",
       "<tr>\n",
       "  <th>I(lat * long)</th>      <td>    0.5557</td> <td>    0.037</td> <td>   15.203</td> <td> 0.000</td> <td>    0.484</td> <td>    0.627</td>\n",
       "</tr>\n",
       "<tr>\n",
       "  <th>I(lat ** 2)</th>        <td>   -0.0987</td> <td>    0.034</td> <td>   -2.920</td> <td> 0.004</td> <td>   -0.165</td> <td>   -0.032</td>\n",
       "</tr>\n",
       "<tr>\n",
       "  <th>I(long ** 2)</th>       <td>    0.2723</td> <td>    0.025</td> <td>   10.789</td> <td> 0.000</td> <td>    0.223</td> <td>    0.322</td>\n",
       "</tr>\n",
       "</table>\n",
       "<table class=\"simpletable\">\n",
       "<tr>\n",
       "  <th>Omnibus:</th>       <td>7502.425</td> <th>  Durbin-Watson:     </th> <td>   1.685</td> \n",
       "</tr>\n",
       "<tr>\n",
       "  <th>Prob(Omnibus):</th>  <td> 0.000</td>  <th>  Jarque-Bera (JB):  </th> <td>35039.937</td>\n",
       "</tr>\n",
       "<tr>\n",
       "  <th>Skew:</th>           <td>-0.666</td>  <th>  Prob(JB):          </th> <td>    0.00</td> \n",
       "</tr>\n",
       "<tr>\n",
       "  <th>Kurtosis:</th>       <td> 6.892</td>  <th>  Cond. No.          </th> <td>    812.</td> \n",
       "</tr>\n",
       "</table><br/><br/>Notes:<br/>[1] Standard Errors are robust to cluster correlation (cluster)"
      ],
      "text/latex": [
       "\\begin{center}\n",
       "\\begin{tabular}{lclc}\n",
       "\\toprule\n",
       "\\textbf{Dep. Variable:}       &     logrides     & \\textbf{  R-squared:         } &     0.660   \\\\\n",
       "\\textbf{Model:}               &       WLS        & \\textbf{  Adj. R-squared:    } &     0.660   \\\\\n",
       "\\textbf{Method:}              &  Least Squares   & \\textbf{  F-statistic:       } &     191.3   \\\\\n",
       "\\textbf{Date:}                & Mon, 03 Feb 2025 & \\textbf{  Prob (F-statistic):} & 1.63e-286   \\\\\n",
       "\\textbf{Time:}                &     15:47:40     & \\textbf{  Log-Likelihood:    } &   -69529.   \\\\\n",
       "\\textbf{No. Observations:}    &       49704      & \\textbf{  AIC:               } & 1.391e+05   \\\\\n",
       "\\textbf{Df Residuals:}        &       49688      & \\textbf{  BIC:               } & 1.392e+05   \\\\\n",
       "\\textbf{Df Model:}            &          15      & \\textbf{                     } &             \\\\\n",
       "\\textbf{Covariance Type:}     &     cluster      & \\textbf{                     } &             \\\\\n",
       "\\bottomrule\n",
       "\\end{tabular}\n",
       "\\begin{tabular}{lcccccc}\n",
       "                              & \\textbf{coef} & \\textbf{std err} & \\textbf{z} & \\textbf{P$> |$z$|$} & \\textbf{[0.025} & \\textbf{0.975]}  \\\\\n",
       "\\midrule\n",
       "\\textbf{Intercept}            &       3.6798  &        0.184     &    20.004  &         0.000        &        3.319    &        4.040     \\\\\n",
       "\\textbf{C(dotw)[T.1]}         &       0.0096  &        0.015     &     0.642  &         0.521        &       -0.020    &        0.039     \\\\\n",
       "\\textbf{C(dotw)[T.2]}         &       0.0922  &        0.016     &     5.689  &         0.000        &        0.060    &        0.124     \\\\\n",
       "\\textbf{C(dotw)[T.3]}         &       0.0587  &        0.016     &     3.664  &         0.000        &        0.027    &        0.090     \\\\\n",
       "\\textbf{C(dotw)[T.4]}         &       0.0602  &        0.015     &     3.964  &         0.000        &        0.030    &        0.090     \\\\\n",
       "\\textbf{UCMP}                 &       0.4222  &        0.124     &     3.394  &         0.001        &        0.178    &        0.666     \\\\\n",
       "\\textbf{DNC}                  &      -0.0335  &        0.024     &    -1.391  &         0.164        &       -0.081    &        0.014     \\\\\n",
       "\\textbf{UCMP:DNC}             &       0.2998  &        0.055     &     5.405  &         0.000        &        0.191    &        0.408     \\\\\n",
       "\\textbf{time}                 &      -0.0008  &        0.000     &    -1.929  &         0.054        &       -0.002    &     1.32e-05     \\\\\n",
       "\\textbf{log\\_train\\_distance} &      -0.1238  &        0.021     &    -5.769  &         0.000        &       -0.166    &       -0.082     \\\\\n",
       "\\textbf{log\\_bus\\_distance}   &       0.0236  &        0.028     &     0.857  &         0.392        &       -0.030    &        0.078     \\\\\n",
       "\\textbf{lat}                  &       0.8021  &        0.045     &    17.809  &         0.000        &        0.714    &        0.890     \\\\\n",
       "\\textbf{long}                 &       1.2870  &        0.042     &    30.739  &         0.000        &        1.205    &        1.369     \\\\\n",
       "\\textbf{I(lat * long)}        &       0.5557  &        0.037     &    15.203  &         0.000        &        0.484    &        0.627     \\\\\n",
       "\\textbf{I(lat ** 2)}          &      -0.0987  &        0.034     &    -2.920  &         0.004        &       -0.165    &       -0.032     \\\\\n",
       "\\textbf{I(long ** 2)}         &       0.2723  &        0.025     &    10.789  &         0.000        &        0.223    &        0.322     \\\\\n",
       "\\bottomrule\n",
       "\\end{tabular}\n",
       "\\begin{tabular}{lclc}\n",
       "\\textbf{Omnibus:}       & 7502.425 & \\textbf{  Durbin-Watson:     } &     1.685  \\\\\n",
       "\\textbf{Prob(Omnibus):} &   0.000  & \\textbf{  Jarque-Bera (JB):  } & 35039.937  \\\\\n",
       "\\textbf{Skew:}          &  -0.666  & \\textbf{  Prob(JB):          } &      0.00  \\\\\n",
       "\\textbf{Kurtosis:}      &   6.892  & \\textbf{  Cond. No.          } &      812.  \\\\\n",
       "\\bottomrule\n",
       "\\end{tabular}\n",
       "%\\caption{WLS Regression Results}\n",
       "\\end{center}\n",
       "\n",
       "Notes: \\newline\n",
       " [1] Standard Errors are robust to cluster correlation (cluster)"
      ],
      "text/plain": [
       "<class 'statsmodels.iolib.summary.Summary'>\n",
       "\"\"\"\n",
       "                            WLS Regression Results                            \n",
       "==============================================================================\n",
       "Dep. Variable:               logrides   R-squared:                       0.660\n",
       "Model:                            WLS   Adj. R-squared:                  0.660\n",
       "Method:                 Least Squares   F-statistic:                     191.3\n",
       "Date:                Mon, 03 Feb 2025   Prob (F-statistic):          1.63e-286\n",
       "Time:                        15:47:40   Log-Likelihood:                -69529.\n",
       "No. Observations:               49704   AIC:                         1.391e+05\n",
       "Df Residuals:                   49688   BIC:                         1.392e+05\n",
       "Df Model:                          15                                         \n",
       "Covariance Type:              cluster                                         \n",
       "======================================================================================\n",
       "                         coef    std err          z      P>|z|      [0.025      0.975]\n",
       "--------------------------------------------------------------------------------------\n",
       "Intercept              3.6798      0.184     20.004      0.000       3.319       4.040\n",
       "C(dotw)[T.1]           0.0096      0.015      0.642      0.521      -0.020       0.039\n",
       "C(dotw)[T.2]           0.0922      0.016      5.689      0.000       0.060       0.124\n",
       "C(dotw)[T.3]           0.0587      0.016      3.664      0.000       0.027       0.090\n",
       "C(dotw)[T.4]           0.0602      0.015      3.964      0.000       0.030       0.090\n",
       "UCMP                   0.4222      0.124      3.394      0.001       0.178       0.666\n",
       "DNC                   -0.0335      0.024     -1.391      0.164      -0.081       0.014\n",
       "UCMP:DNC               0.2998      0.055      5.405      0.000       0.191       0.408\n",
       "time                  -0.0008      0.000     -1.929      0.054      -0.002    1.32e-05\n",
       "log_train_distance    -0.1238      0.021     -5.769      0.000      -0.166      -0.082\n",
       "log_bus_distance       0.0236      0.028      0.857      0.392      -0.030       0.078\n",
       "lat                    0.8021      0.045     17.809      0.000       0.714       0.890\n",
       "long                   1.2870      0.042     30.739      0.000       1.205       1.369\n",
       "I(lat * long)          0.5557      0.037     15.203      0.000       0.484       0.627\n",
       "I(lat ** 2)           -0.0987      0.034     -2.920      0.004      -0.165      -0.032\n",
       "I(long ** 2)           0.2723      0.025     10.789      0.000       0.223       0.322\n",
       "==============================================================================\n",
       "Omnibus:                     7502.425   Durbin-Watson:                   1.685\n",
       "Prob(Omnibus):                  0.000   Jarque-Bera (JB):            35039.937\n",
       "Skew:                          -0.666   Prob(JB):                         0.00\n",
       "Kurtosis:                       6.892   Cond. No.                         812.\n",
       "==============================================================================\n",
       "\n",
       "Notes:\n",
       "[1] Standard Errors are robust to cluster correlation (cluster)\n",
       "\"\"\""
      ]
     },
     "execution_count": 17,
     "metadata": {},
     "output_type": "execute_result"
    }
   ],
   "source": [
    "model_data = panel.loc[panel.transit == 'bike']\n",
    "bike_did_model = model_transit_did(model_data, 'bike')\n",
    "bike_did_model.summary()"
   ]
  },
  {
   "cell_type": "code",
   "execution_count": 18,
   "metadata": {},
   "outputs": [
    {
     "data": {
      "text/html": [
       "<table class=\"simpletable\">\n",
       "<caption>WLS Regression Results</caption>\n",
       "<tr>\n",
       "  <th>Dep. Variable:</th>        <td>logrides</td>     <th>  R-squared:         </th> <td>   0.294</td> \n",
       "</tr>\n",
       "<tr>\n",
       "  <th>Model:</th>                   <td>WLS</td>       <th>  Adj. R-squared:    </th> <td>   0.293</td> \n",
       "</tr>\n",
       "<tr>\n",
       "  <th>Method:</th>             <td>Least Squares</td>  <th>  F-statistic:       </th> <td>   42.45</td> \n",
       "</tr>\n",
       "<tr>\n",
       "  <th>Date:</th>             <td>Mon, 03 Feb 2025</td> <th>  Prob (F-statistic):</th> <td>6.23e-41</td> \n",
       "</tr>\n",
       "<tr>\n",
       "  <th>Time:</th>                 <td>15:47:40</td>     <th>  Log-Likelihood:    </th> <td> -9627.9</td> \n",
       "</tr>\n",
       "<tr>\n",
       "  <th>No. Observations:</th>      <td>  7910</td>      <th>  AIC:               </th> <td>1.929e+04</td>\n",
       "</tr>\n",
       "<tr>\n",
       "  <th>Df Residuals:</th>          <td>  7894</td>      <th>  BIC:               </th> <td>1.940e+04</td>\n",
       "</tr>\n",
       "<tr>\n",
       "  <th>Df Model:</th>              <td>    15</td>      <th>                     </th>     <td> </td>    \n",
       "</tr>\n",
       "<tr>\n",
       "  <th>Covariance Type:</th>       <td>cluster</td>     <th>                     </th>     <td> </td>    \n",
       "</tr>\n",
       "</table>\n",
       "<table class=\"simpletable\">\n",
       "<tr>\n",
       "          <td></td>             <th>coef</th>     <th>std err</th>      <th>z</th>      <th>P>|z|</th>  <th>[0.025</th>    <th>0.975]</th>  \n",
       "</tr>\n",
       "<tr>\n",
       "  <th>Intercept</th>         <td>    6.4759</td> <td>    0.769</td> <td>    8.424</td> <td> 0.000</td> <td>    4.969</td> <td>    7.983</td>\n",
       "</tr>\n",
       "<tr>\n",
       "  <th>C(dotw)[T.1]</th>      <td>    0.1099</td> <td>    0.007</td> <td>   15.087</td> <td> 0.000</td> <td>    0.096</td> <td>    0.124</td>\n",
       "</tr>\n",
       "<tr>\n",
       "  <th>C(dotw)[T.2]</th>      <td>    0.1178</td> <td>    0.006</td> <td>   19.457</td> <td> 0.000</td> <td>    0.106</td> <td>    0.130</td>\n",
       "</tr>\n",
       "<tr>\n",
       "  <th>C(dotw)[T.3]</th>      <td>    0.0911</td> <td>    0.006</td> <td>   15.922</td> <td> 0.000</td> <td>    0.080</td> <td>    0.102</td>\n",
       "</tr>\n",
       "<tr>\n",
       "  <th>C(dotw)[T.4]</th>      <td>    0.0564</td> <td>    0.010</td> <td>    5.588</td> <td> 0.000</td> <td>    0.037</td> <td>    0.076</td>\n",
       "</tr>\n",
       "<tr>\n",
       "  <th>UCMP</th>              <td>   -0.7937</td> <td>    0.515</td> <td>   -1.542</td> <td> 0.123</td> <td>   -1.802</td> <td>    0.215</td>\n",
       "</tr>\n",
       "<tr>\n",
       "  <th>DNC</th>               <td>   -0.1221</td> <td>    0.015</td> <td>   -8.367</td> <td> 0.000</td> <td>   -0.151</td> <td>   -0.094</td>\n",
       "</tr>\n",
       "<tr>\n",
       "  <th>UCMP:DNC</th>          <td>    0.8550</td> <td>    0.525</td> <td>    1.629</td> <td> 0.103</td> <td>   -0.174</td> <td>    1.884</td>\n",
       "</tr>\n",
       "<tr>\n",
       "  <th>time</th>              <td>    0.0009</td> <td>    0.000</td> <td>    4.143</td> <td> 0.000</td> <td>    0.000</td> <td>    0.001</td>\n",
       "</tr>\n",
       "<tr>\n",
       "  <th>log_bike_distance</th> <td>    0.2345</td> <td>    0.148</td> <td>    1.586</td> <td> 0.113</td> <td>   -0.055</td> <td>    0.524</td>\n",
       "</tr>\n",
       "<tr>\n",
       "  <th>log_bus_distance</th>  <td>   -0.0730</td> <td>    0.067</td> <td>   -1.095</td> <td> 0.274</td> <td>   -0.204</td> <td>    0.058</td>\n",
       "</tr>\n",
       "<tr>\n",
       "  <th>lat</th>               <td>    0.3852</td> <td>    0.086</td> <td>    4.457</td> <td> 0.000</td> <td>    0.216</td> <td>    0.555</td>\n",
       "</tr>\n",
       "<tr>\n",
       "  <th>long</th>              <td>    0.6807</td> <td>    0.109</td> <td>    6.234</td> <td> 0.000</td> <td>    0.467</td> <td>    0.895</td>\n",
       "</tr>\n",
       "<tr>\n",
       "  <th>I(lat * long)</th>     <td>    0.3731</td> <td>    0.161</td> <td>    2.322</td> <td> 0.020</td> <td>    0.058</td> <td>    0.688</td>\n",
       "</tr>\n",
       "<tr>\n",
       "  <th>I(lat ** 2)</th>       <td>    0.0007</td> <td>    0.102</td> <td>    0.007</td> <td> 0.995</td> <td>   -0.199</td> <td>    0.200</td>\n",
       "</tr>\n",
       "<tr>\n",
       "  <th>I(long ** 2)</th>      <td>    0.2645</td> <td>    0.054</td> <td>    4.887</td> <td> 0.000</td> <td>    0.158</td> <td>    0.371</td>\n",
       "</tr>\n",
       "</table>\n",
       "<table class=\"simpletable\">\n",
       "<tr>\n",
       "  <th>Omnibus:</th>       <td>4129.530</td> <th>  Durbin-Watson:     </th> <td>   2.109</td> \n",
       "</tr>\n",
       "<tr>\n",
       "  <th>Prob(Omnibus):</th>  <td> 0.000</td>  <th>  Jarque-Bera (JB):  </th> <td>94650.541</td>\n",
       "</tr>\n",
       "<tr>\n",
       "  <th>Skew:</th>           <td>-2.008</td>  <th>  Prob(JB):          </th> <td>    0.00</td> \n",
       "</tr>\n",
       "<tr>\n",
       "  <th>Kurtosis:</th>       <td>19.464</td>  <th>  Cond. No.          </th> <td>    622.</td> \n",
       "</tr>\n",
       "</table><br/><br/>Notes:<br/>[1] Standard Errors are robust to cluster correlation (cluster)"
      ],
      "text/latex": [
       "\\begin{center}\n",
       "\\begin{tabular}{lclc}\n",
       "\\toprule\n",
       "\\textbf{Dep. Variable:}      &     logrides     & \\textbf{  R-squared:         } &     0.294   \\\\\n",
       "\\textbf{Model:}              &       WLS        & \\textbf{  Adj. R-squared:    } &     0.293   \\\\\n",
       "\\textbf{Method:}             &  Least Squares   & \\textbf{  F-statistic:       } &     42.45   \\\\\n",
       "\\textbf{Date:}               & Mon, 03 Feb 2025 & \\textbf{  Prob (F-statistic):} &  6.23e-41   \\\\\n",
       "\\textbf{Time:}               &     15:47:40     & \\textbf{  Log-Likelihood:    } &   -9627.9   \\\\\n",
       "\\textbf{No. Observations:}   &        7910      & \\textbf{  AIC:               } & 1.929e+04   \\\\\n",
       "\\textbf{Df Residuals:}       &        7894      & \\textbf{  BIC:               } & 1.940e+04   \\\\\n",
       "\\textbf{Df Model:}           &          15      & \\textbf{                     } &             \\\\\n",
       "\\textbf{Covariance Type:}    &     cluster      & \\textbf{                     } &             \\\\\n",
       "\\bottomrule\n",
       "\\end{tabular}\n",
       "\\begin{tabular}{lcccccc}\n",
       "                             & \\textbf{coef} & \\textbf{std err} & \\textbf{z} & \\textbf{P$> |$z$|$} & \\textbf{[0.025} & \\textbf{0.975]}  \\\\\n",
       "\\midrule\n",
       "\\textbf{Intercept}           &       6.4759  &        0.769     &     8.424  &         0.000        &        4.969    &        7.983     \\\\\n",
       "\\textbf{C(dotw)[T.1]}        &       0.1099  &        0.007     &    15.087  &         0.000        &        0.096    &        0.124     \\\\\n",
       "\\textbf{C(dotw)[T.2]}        &       0.1178  &        0.006     &    19.457  &         0.000        &        0.106    &        0.130     \\\\\n",
       "\\textbf{C(dotw)[T.3]}        &       0.0911  &        0.006     &    15.922  &         0.000        &        0.080    &        0.102     \\\\\n",
       "\\textbf{C(dotw)[T.4]}        &       0.0564  &        0.010     &     5.588  &         0.000        &        0.037    &        0.076     \\\\\n",
       "\\textbf{UCMP}                &      -0.7937  &        0.515     &    -1.542  &         0.123        &       -1.802    &        0.215     \\\\\n",
       "\\textbf{DNC}                 &      -0.1221  &        0.015     &    -8.367  &         0.000        &       -0.151    &       -0.094     \\\\\n",
       "\\textbf{UCMP:DNC}            &       0.8550  &        0.525     &     1.629  &         0.103        &       -0.174    &        1.884     \\\\\n",
       "\\textbf{time}                &       0.0009  &        0.000     &     4.143  &         0.000        &        0.000    &        0.001     \\\\\n",
       "\\textbf{log\\_bike\\_distance} &       0.2345  &        0.148     &     1.586  &         0.113        &       -0.055    &        0.524     \\\\\n",
       "\\textbf{log\\_bus\\_distance}  &      -0.0730  &        0.067     &    -1.095  &         0.274        &       -0.204    &        0.058     \\\\\n",
       "\\textbf{lat}                 &       0.3852  &        0.086     &     4.457  &         0.000        &        0.216    &        0.555     \\\\\n",
       "\\textbf{long}                &       0.6807  &        0.109     &     6.234  &         0.000        &        0.467    &        0.895     \\\\\n",
       "\\textbf{I(lat * long)}       &       0.3731  &        0.161     &     2.322  &         0.020        &        0.058    &        0.688     \\\\\n",
       "\\textbf{I(lat ** 2)}         &       0.0007  &        0.102     &     0.007  &         0.995        &       -0.199    &        0.200     \\\\\n",
       "\\textbf{I(long ** 2)}        &       0.2645  &        0.054     &     4.887  &         0.000        &        0.158    &        0.371     \\\\\n",
       "\\bottomrule\n",
       "\\end{tabular}\n",
       "\\begin{tabular}{lclc}\n",
       "\\textbf{Omnibus:}       & 4129.530 & \\textbf{  Durbin-Watson:     } &     2.109  \\\\\n",
       "\\textbf{Prob(Omnibus):} &   0.000  & \\textbf{  Jarque-Bera (JB):  } & 94650.541  \\\\\n",
       "\\textbf{Skew:}          &  -2.008  & \\textbf{  Prob(JB):          } &      0.00  \\\\\n",
       "\\textbf{Kurtosis:}      &  19.464  & \\textbf{  Cond. No.          } &      622.  \\\\\n",
       "\\bottomrule\n",
       "\\end{tabular}\n",
       "%\\caption{WLS Regression Results}\n",
       "\\end{center}\n",
       "\n",
       "Notes: \\newline\n",
       " [1] Standard Errors are robust to cluster correlation (cluster)"
      ],
      "text/plain": [
       "<class 'statsmodels.iolib.summary.Summary'>\n",
       "\"\"\"\n",
       "                            WLS Regression Results                            \n",
       "==============================================================================\n",
       "Dep. Variable:               logrides   R-squared:                       0.294\n",
       "Model:                            WLS   Adj. R-squared:                  0.293\n",
       "Method:                 Least Squares   F-statistic:                     42.45\n",
       "Date:                Mon, 03 Feb 2025   Prob (F-statistic):           6.23e-41\n",
       "Time:                        15:47:40   Log-Likelihood:                -9627.9\n",
       "No. Observations:                7910   AIC:                         1.929e+04\n",
       "Df Residuals:                    7894   BIC:                         1.940e+04\n",
       "Df Model:                          15                                         \n",
       "Covariance Type:              cluster                                         \n",
       "=====================================================================================\n",
       "                        coef    std err          z      P>|z|      [0.025      0.975]\n",
       "-------------------------------------------------------------------------------------\n",
       "Intercept             6.4759      0.769      8.424      0.000       4.969       7.983\n",
       "C(dotw)[T.1]          0.1099      0.007     15.087      0.000       0.096       0.124\n",
       "C(dotw)[T.2]          0.1178      0.006     19.457      0.000       0.106       0.130\n",
       "C(dotw)[T.3]          0.0911      0.006     15.922      0.000       0.080       0.102\n",
       "C(dotw)[T.4]          0.0564      0.010      5.588      0.000       0.037       0.076\n",
       "UCMP                 -0.7937      0.515     -1.542      0.123      -1.802       0.215\n",
       "DNC                  -0.1221      0.015     -8.367      0.000      -0.151      -0.094\n",
       "UCMP:DNC              0.8550      0.525      1.629      0.103      -0.174       1.884\n",
       "time                  0.0009      0.000      4.143      0.000       0.000       0.001\n",
       "log_bike_distance     0.2345      0.148      1.586      0.113      -0.055       0.524\n",
       "log_bus_distance     -0.0730      0.067     -1.095      0.274      -0.204       0.058\n",
       "lat                   0.3852      0.086      4.457      0.000       0.216       0.555\n",
       "long                  0.6807      0.109      6.234      0.000       0.467       0.895\n",
       "I(lat * long)         0.3731      0.161      2.322      0.020       0.058       0.688\n",
       "I(lat ** 2)           0.0007      0.102      0.007      0.995      -0.199       0.200\n",
       "I(long ** 2)          0.2645      0.054      4.887      0.000       0.158       0.371\n",
       "==============================================================================\n",
       "Omnibus:                     4129.530   Durbin-Watson:                   2.109\n",
       "Prob(Omnibus):                  0.000   Jarque-Bera (JB):            94650.541\n",
       "Skew:                          -2.008   Prob(JB):                         0.00\n",
       "Kurtosis:                      19.464   Cond. No.                         622.\n",
       "==============================================================================\n",
       "\n",
       "Notes:\n",
       "[1] Standard Errors are robust to cluster correlation (cluster)\n",
       "\"\"\""
      ]
     },
     "execution_count": 18,
     "metadata": {},
     "output_type": "execute_result"
    }
   ],
   "source": [
    "model_data = panel.loc[panel.transit == 'train']\n",
    "train_did_model = model_transit_did(model_data, 'train')\n",
    "train_did_model.summary()"
   ]
  },
  {
   "cell_type": "code",
   "execution_count": 19,
   "metadata": {},
   "outputs": [
    {
     "name": "stdout",
     "output_type": "stream",
     "text": [
      "Dropping 139 id, 995 obs invariant to DNC\n"
     ]
    },
    {
     "data": {
      "text/html": [
       "<table class=\"simpletable\">\n",
       "<caption>WLS Regression Results</caption>\n",
       "<tr>\n",
       "  <th>Dep. Variable:</th>        <td>logrides</td>     <th>  R-squared:         </th>  <td>   0.511</td>  \n",
       "</tr>\n",
       "<tr>\n",
       "  <th>Model:</th>                   <td>WLS</td>       <th>  Adj. R-squared:    </th>  <td>   0.511</td>  \n",
       "</tr>\n",
       "<tr>\n",
       "  <th>Method:</th>             <td>Least Squares</td>  <th>  F-statistic:       </th>  <td>   175.7</td>  \n",
       "</tr>\n",
       "<tr>\n",
       "  <th>Date:</th>             <td>Mon, 03 Feb 2025</td> <th>  Prob (F-statistic):</th>  <td>3.25e-289</td> \n",
       "</tr>\n",
       "<tr>\n",
       "  <th>Time:</th>                 <td>15:47:40</td>     <th>  Log-Likelihood:    </th> <td>-1.0603e+05</td>\n",
       "</tr>\n",
       "<tr>\n",
       "  <th>No. Observations:</th>      <td> 64231</td>      <th>  AIC:               </th>  <td>2.121e+05</td> \n",
       "</tr>\n",
       "<tr>\n",
       "  <th>Df Residuals:</th>          <td> 64214</td>      <th>  BIC:               </th>  <td>2.123e+05</td> \n",
       "</tr>\n",
       "<tr>\n",
       "  <th>Df Model:</th>              <td>    16</td>      <th>                     </th>      <td> </td>     \n",
       "</tr>\n",
       "<tr>\n",
       "  <th>Covariance Type:</th>       <td>cluster</td>     <th>                     </th>      <td> </td>     \n",
       "</tr>\n",
       "</table>\n",
       "<table class=\"simpletable\">\n",
       "<tr>\n",
       "           <td></td>             <th>coef</th>     <th>std err</th>      <th>z</th>      <th>P>|z|</th>  <th>[0.025</th>    <th>0.975]</th>  \n",
       "</tr>\n",
       "<tr>\n",
       "  <th>Intercept</th>          <td>    8.5576</td> <td>    0.477</td> <td>   17.929</td> <td> 0.000</td> <td>    7.622</td> <td>    9.493</td>\n",
       "</tr>\n",
       "<tr>\n",
       "  <th>C(dotw)[T.1]</th>       <td>    0.1085</td> <td>    0.009</td> <td>   12.124</td> <td> 0.000</td> <td>    0.091</td> <td>    0.126</td>\n",
       "</tr>\n",
       "<tr>\n",
       "  <th>C(dotw)[T.2]</th>       <td>    0.1924</td> <td>    0.009</td> <td>   21.193</td> <td> 0.000</td> <td>    0.175</td> <td>    0.210</td>\n",
       "</tr>\n",
       "<tr>\n",
       "  <th>C(dotw)[T.3]</th>       <td>    0.2866</td> <td>    0.011</td> <td>   26.111</td> <td> 0.000</td> <td>    0.265</td> <td>    0.308</td>\n",
       "</tr>\n",
       "<tr>\n",
       "  <th>C(dotw)[T.4]</th>       <td>    0.5041</td> <td>    0.014</td> <td>   36.159</td> <td> 0.000</td> <td>    0.477</td> <td>    0.531</td>\n",
       "</tr>\n",
       "<tr>\n",
       "  <th>UCMP</th>               <td>    0.7979</td> <td>    0.236</td> <td>    3.385</td> <td> 0.001</td> <td>    0.336</td> <td>    1.260</td>\n",
       "</tr>\n",
       "<tr>\n",
       "  <th>DNC</th>                <td>   -0.0666</td> <td>    0.014</td> <td>   -4.644</td> <td> 0.000</td> <td>   -0.095</td> <td>   -0.038</td>\n",
       "</tr>\n",
       "<tr>\n",
       "  <th>UCMP:DNC</th>           <td>    0.1845</td> <td>    0.081</td> <td>    2.279</td> <td> 0.023</td> <td>    0.026</td> <td>    0.343</td>\n",
       "</tr>\n",
       "<tr>\n",
       "  <th>time</th>               <td>    0.0013</td> <td>    0.000</td> <td>    7.666</td> <td> 0.000</td> <td>    0.001</td> <td>    0.002</td>\n",
       "</tr>\n",
       "<tr>\n",
       "  <th>log_train_distance</th> <td>   -0.3231</td> <td>    0.056</td> <td>   -5.743</td> <td> 0.000</td> <td>   -0.433</td> <td>   -0.213</td>\n",
       "</tr>\n",
       "<tr>\n",
       "  <th>log_bike_distance</th>  <td>   -0.2997</td> <td>    0.055</td> <td>   -5.421</td> <td> 0.000</td> <td>   -0.408</td> <td>   -0.191</td>\n",
       "</tr>\n",
       "<tr>\n",
       "  <th>log_bus_distance</th>   <td>   -0.0108</td> <td>    0.045</td> <td>   -0.241</td> <td> 0.810</td> <td>   -0.099</td> <td>    0.077</td>\n",
       "</tr>\n",
       "<tr>\n",
       "  <th>lat</th>                <td>    0.4779</td> <td>    0.050</td> <td>    9.478</td> <td> 0.000</td> <td>    0.379</td> <td>    0.577</td>\n",
       "</tr>\n",
       "<tr>\n",
       "  <th>long</th>               <td>    0.7790</td> <td>    0.065</td> <td>   11.909</td> <td> 0.000</td> <td>    0.651</td> <td>    0.907</td>\n",
       "</tr>\n",
       "<tr>\n",
       "  <th>I(lat * long)</th>      <td>    0.2828</td> <td>    0.032</td> <td>    8.964</td> <td> 0.000</td> <td>    0.221</td> <td>    0.345</td>\n",
       "</tr>\n",
       "<tr>\n",
       "  <th>I(lat ** 2)</th>        <td>    0.0195</td> <td>    0.028</td> <td>    0.692</td> <td> 0.489</td> <td>   -0.036</td> <td>    0.075</td>\n",
       "</tr>\n",
       "<tr>\n",
       "  <th>I(long ** 2)</th>       <td>    0.2300</td> <td>    0.021</td> <td>   10.841</td> <td> 0.000</td> <td>    0.188</td> <td>    0.272</td>\n",
       "</tr>\n",
       "</table>\n",
       "<table class=\"simpletable\">\n",
       "<tr>\n",
       "  <th>Omnibus:</th>       <td>954.722</td> <th>  Durbin-Watson:     </th> <td>   1.404</td> \n",
       "</tr>\n",
       "<tr>\n",
       "  <th>Prob(Omnibus):</th> <td> 0.000</td>  <th>  Jarque-Bera (JB):  </th> <td>1346.564</td> \n",
       "</tr>\n",
       "<tr>\n",
       "  <th>Skew:</th>          <td>-0.187</td>  <th>  Prob(JB):          </th> <td>3.96e-293</td>\n",
       "</tr>\n",
       "<tr>\n",
       "  <th>Kurtosis:</th>      <td> 3.602</td>  <th>  Cond. No.          </th> <td>    873.</td> \n",
       "</tr>\n",
       "</table><br/><br/>Notes:<br/>[1] Standard Errors are robust to cluster correlation (cluster)"
      ],
      "text/latex": [
       "\\begin{center}\n",
       "\\begin{tabular}{lclc}\n",
       "\\toprule\n",
       "\\textbf{Dep. Variable:}       &     logrides     & \\textbf{  R-squared:         } &      0.511   \\\\\n",
       "\\textbf{Model:}               &       WLS        & \\textbf{  Adj. R-squared:    } &      0.511   \\\\\n",
       "\\textbf{Method:}              &  Least Squares   & \\textbf{  F-statistic:       } &      175.7   \\\\\n",
       "\\textbf{Date:}                & Mon, 03 Feb 2025 & \\textbf{  Prob (F-statistic):} &  3.25e-289   \\\\\n",
       "\\textbf{Time:}                &     15:47:40     & \\textbf{  Log-Likelihood:    } & -1.0603e+05  \\\\\n",
       "\\textbf{No. Observations:}    &       64231      & \\textbf{  AIC:               } &  2.121e+05   \\\\\n",
       "\\textbf{Df Residuals:}        &       64214      & \\textbf{  BIC:               } &  2.123e+05   \\\\\n",
       "\\textbf{Df Model:}            &          16      & \\textbf{                     } &              \\\\\n",
       "\\textbf{Covariance Type:}     &     cluster      & \\textbf{                     } &              \\\\\n",
       "\\bottomrule\n",
       "\\end{tabular}\n",
       "\\begin{tabular}{lcccccc}\n",
       "                              & \\textbf{coef} & \\textbf{std err} & \\textbf{z} & \\textbf{P$> |$z$|$} & \\textbf{[0.025} & \\textbf{0.975]}  \\\\\n",
       "\\midrule\n",
       "\\textbf{Intercept}            &       8.5576  &        0.477     &    17.929  &         0.000        &        7.622    &        9.493     \\\\\n",
       "\\textbf{C(dotw)[T.1]}         &       0.1085  &        0.009     &    12.124  &         0.000        &        0.091    &        0.126     \\\\\n",
       "\\textbf{C(dotw)[T.2]}         &       0.1924  &        0.009     &    21.193  &         0.000        &        0.175    &        0.210     \\\\\n",
       "\\textbf{C(dotw)[T.3]}         &       0.2866  &        0.011     &    26.111  &         0.000        &        0.265    &        0.308     \\\\\n",
       "\\textbf{C(dotw)[T.4]}         &       0.5041  &        0.014     &    36.159  &         0.000        &        0.477    &        0.531     \\\\\n",
       "\\textbf{UCMP}                 &       0.7979  &        0.236     &     3.385  &         0.001        &        0.336    &        1.260     \\\\\n",
       "\\textbf{DNC}                  &      -0.0666  &        0.014     &    -4.644  &         0.000        &       -0.095    &       -0.038     \\\\\n",
       "\\textbf{UCMP:DNC}             &       0.1845  &        0.081     &     2.279  &         0.023        &        0.026    &        0.343     \\\\\n",
       "\\textbf{time}                 &       0.0013  &        0.000     &     7.666  &         0.000        &        0.001    &        0.002     \\\\\n",
       "\\textbf{log\\_train\\_distance} &      -0.3231  &        0.056     &    -5.743  &         0.000        &       -0.433    &       -0.213     \\\\\n",
       "\\textbf{log\\_bike\\_distance}  &      -0.2997  &        0.055     &    -5.421  &         0.000        &       -0.408    &       -0.191     \\\\\n",
       "\\textbf{log\\_bus\\_distance}   &      -0.0108  &        0.045     &    -0.241  &         0.810        &       -0.099    &        0.077     \\\\\n",
       "\\textbf{lat}                  &       0.4779  &        0.050     &     9.478  &         0.000        &        0.379    &        0.577     \\\\\n",
       "\\textbf{long}                 &       0.7790  &        0.065     &    11.909  &         0.000        &        0.651    &        0.907     \\\\\n",
       "\\textbf{I(lat * long)}        &       0.2828  &        0.032     &     8.964  &         0.000        &        0.221    &        0.345     \\\\\n",
       "\\textbf{I(lat ** 2)}          &       0.0195  &        0.028     &     0.692  &         0.489        &       -0.036    &        0.075     \\\\\n",
       "\\textbf{I(long ** 2)}         &       0.2300  &        0.021     &    10.841  &         0.000        &        0.188    &        0.272     \\\\\n",
       "\\bottomrule\n",
       "\\end{tabular}\n",
       "\\begin{tabular}{lclc}\n",
       "\\textbf{Omnibus:}       & 954.722 & \\textbf{  Durbin-Watson:     } &     1.404  \\\\\n",
       "\\textbf{Prob(Omnibus):} &   0.000 & \\textbf{  Jarque-Bera (JB):  } &  1346.564  \\\\\n",
       "\\textbf{Skew:}          &  -0.187 & \\textbf{  Prob(JB):          } & 3.96e-293  \\\\\n",
       "\\textbf{Kurtosis:}      &   3.602 & \\textbf{  Cond. No.          } &      873.  \\\\\n",
       "\\bottomrule\n",
       "\\end{tabular}\n",
       "%\\caption{WLS Regression Results}\n",
       "\\end{center}\n",
       "\n",
       "Notes: \\newline\n",
       " [1] Standard Errors are robust to cluster correlation (cluster)"
      ],
      "text/plain": [
       "<class 'statsmodels.iolib.summary.Summary'>\n",
       "\"\"\"\n",
       "                            WLS Regression Results                            \n",
       "==============================================================================\n",
       "Dep. Variable:               logrides   R-squared:                       0.511\n",
       "Model:                            WLS   Adj. R-squared:                  0.511\n",
       "Method:                 Least Squares   F-statistic:                     175.7\n",
       "Date:                Mon, 03 Feb 2025   Prob (F-statistic):          3.25e-289\n",
       "Time:                        15:47:40   Log-Likelihood:            -1.0603e+05\n",
       "No. Observations:               64231   AIC:                         2.121e+05\n",
       "Df Residuals:                   64214   BIC:                         2.123e+05\n",
       "Df Model:                          16                                         \n",
       "Covariance Type:              cluster                                         \n",
       "======================================================================================\n",
       "                         coef    std err          z      P>|z|      [0.025      0.975]\n",
       "--------------------------------------------------------------------------------------\n",
       "Intercept              8.5576      0.477     17.929      0.000       7.622       9.493\n",
       "C(dotw)[T.1]           0.1085      0.009     12.124      0.000       0.091       0.126\n",
       "C(dotw)[T.2]           0.1924      0.009     21.193      0.000       0.175       0.210\n",
       "C(dotw)[T.3]           0.2866      0.011     26.111      0.000       0.265       0.308\n",
       "C(dotw)[T.4]           0.5041      0.014     36.159      0.000       0.477       0.531\n",
       "UCMP                   0.7979      0.236      3.385      0.001       0.336       1.260\n",
       "DNC                   -0.0666      0.014     -4.644      0.000      -0.095      -0.038\n",
       "UCMP:DNC               0.1845      0.081      2.279      0.023       0.026       0.343\n",
       "time                   0.0013      0.000      7.666      0.000       0.001       0.002\n",
       "log_train_distance    -0.3231      0.056     -5.743      0.000      -0.433      -0.213\n",
       "log_bike_distance     -0.2997      0.055     -5.421      0.000      -0.408      -0.191\n",
       "log_bus_distance      -0.0108      0.045     -0.241      0.810      -0.099       0.077\n",
       "lat                    0.4779      0.050      9.478      0.000       0.379       0.577\n",
       "long                   0.7790      0.065     11.909      0.000       0.651       0.907\n",
       "I(lat * long)          0.2828      0.032      8.964      0.000       0.221       0.345\n",
       "I(lat ** 2)            0.0195      0.028      0.692      0.489      -0.036       0.075\n",
       "I(long ** 2)           0.2300      0.021     10.841      0.000       0.188       0.272\n",
       "==============================================================================\n",
       "Omnibus:                      954.722   Durbin-Watson:                   1.404\n",
       "Prob(Omnibus):                  0.000   Jarque-Bera (JB):             1346.564\n",
       "Skew:                          -0.187   Prob(JB):                    3.96e-293\n",
       "Kurtosis:                       3.602   Cond. No.                         873.\n",
       "==============================================================================\n",
       "\n",
       "Notes:\n",
       "[1] Standard Errors are robust to cluster correlation (cluster)\n",
       "\"\"\""
      ]
     },
     "execution_count": 19,
     "metadata": {},
     "output_type": "execute_result"
    }
   ],
   "source": [
    "model_data = panel.loc[panel.transit == 'uber']\n",
    "uber_did_model = model_transit_did(model_data, 'uber')\n",
    "uber_did_model.summary()"
   ]
  },
  {
   "cell_type": "code",
   "execution_count": 20,
   "metadata": {},
   "outputs": [
    {
     "name": "stdout",
     "output_type": "stream",
     "text": [
      "|                     | DiD (Uber)   | DiD (Train)   | DiD (Bike)   |\n",
      "|---------------------|--------------|---------------|--------------|\n",
      "| Near DNC            | 0.7979***    | -0.7937       | 0.4222***    |\n",
      "|                     | (0.2357)     | (0.5147)      | (0.1244)     |\n",
      "| During DNC          | -0.0666***   | -0.1221***    | -0.0335      |\n",
      "|                     | (0.0143)     | (0.0146)      | (0.0240)     |\n",
      "| Near DNC:During DNC | 0.1845**     | 0.8550        | 0.2998***    |\n",
      "|                     | (0.0810)     | (0.5248)      | (0.0555)     |\n",
      "| log(dist to train)  | -0.3231***   |               | -0.1238***   |\n",
      "|                     | (0.0563)     |               | (0.0215)     |\n",
      "| log(dist to bike)   | -0.2997***   | 0.2345        |              |\n",
      "|                     | (0.0553)     | (0.1478)      |              |\n",
      "| log(dist to bus)    | -0.0108      | -0.0730       | 0.0236       |\n",
      "|                     | (0.0450)     | (0.0667)      | (0.0275)     |\n",
      "| R-squared           | 0.5109       | 0.2943        | 0.6597       |\n",
      "| R-squared Adj.      | 0.5108       | 0.2929        | 0.6596       |\n",
      "| N                   | 64231.0      | 7910.0        | 49704.0      |\n"
     ]
    }
   ],
   "source": [
    "headers = [\"DiD (Uber)\", \"DiD (Train)\", \"DiD (Bike)\"]\n",
    "did_summary = summary_col([uber_did_model, train_did_model, bike_did_model], \n",
    "            model_names=headers, \n",
    "            info_dict={\"N\":lambda x:(x.nobs)},\n",
    "            stars=True,\n",
    "            regressor_order=['UCMP','DNC','UCMP:DNC'] + \n",
    "                            #  ['time'] + list(dotw_names.keys()) +\n",
    "                             ['log_train_distance','log_bike_distance','log_bus_distance'],\n",
    "                            #  'lat','long','I(lat * long)','I(lat ** 2)', 'I(long ** 2)'],\n",
    "            drop_omitted=True)\n",
    "\n",
    "did_summary.tables[0].index = (did_summary.tables[0].index\n",
    "                               .str.replace('DNC','During DNC')\n",
    "                               .str.replace('UCMP','Near DNC')\n",
    "                               .str.replace('time','time trend')\n",
    "                               .map(lambda x: dotw_names[x] if x in dotw_names else x)\n",
    "                               .str.replace('log_train_distance','log(dist to train)')\n",
    "                               .str.replace('log_bike_distance','log(dist to bike)')\n",
    "                               .str.replace('log_bus_distance','log(dist to bus)')\n",
    "                               .str.replace('I(lat ** 2)','lat**2')\n",
    "                               .str.replace('I(long ** 2)','long**2')\n",
    "                               .str.replace('I(lat * long)','lat*long'))\n",
    "\n",
    "did_table = tabulate(did_summary.tables[0],\n",
    "                   headers=[\"\"] + headers,\n",
    "                   showindex=True,\n",
    "                   tablefmt='github')\n",
    "print(did_table)\n",
    "with open(did_out,\"w\") as f:\n",
    "    f.write(did_table)\n",
    "!cp {did_out} ../../../../eric-mc2-cv/static/uploads/"
   ]
  },
  {
   "cell_type": "markdown",
   "metadata": {},
   "source": [
    "## DiD Impact"
   ]
  },
  {
   "cell_type": "code",
   "execution_count": 21,
   "metadata": {},
   "outputs": [
    {
     "data": {
      "text/html": [
       "<div>\n",
       "<style scoped>\n",
       "    .dataframe tbody tr th:only-of-type {\n",
       "        vertical-align: middle;\n",
       "    }\n",
       "\n",
       "    .dataframe tbody tr th {\n",
       "        vertical-align: top;\n",
       "    }\n",
       "\n",
       "    .dataframe thead th {\n",
       "        text-align: right;\n",
       "    }\n",
       "</style>\n",
       "<table border=\"1\" class=\"dataframe\">\n",
       "  <thead>\n",
       "    <tr style=\"text-align: right;\">\n",
       "      <th></th>\n",
       "      <th>During DNC</th>\n",
       "      <th>Near DNC</th>\n",
       "      <th>Near DNC:During DNC</th>\n",
       "    </tr>\n",
       "  </thead>\n",
       "  <tbody>\n",
       "    <tr>\n",
       "      <th>DiD (Uber)</th>\n",
       "      <td>-6.4%</td>\n",
       "      <td>122.1%</td>\n",
       "      <td>20.3%</td>\n",
       "    </tr>\n",
       "    <tr>\n",
       "      <th>DiD (Train)</th>\n",
       "      <td>-11.5%</td>\n",
       "      <td>-54.8%</td>\n",
       "      <td>135.1%</td>\n",
       "    </tr>\n",
       "    <tr>\n",
       "      <th>DiD (Bike)</th>\n",
       "      <td>-3.3%</td>\n",
       "      <td>52.5%</td>\n",
       "      <td>35.0%</td>\n",
       "    </tr>\n",
       "  </tbody>\n",
       "</table>\n",
       "</div>"
      ],
      "text/plain": [
       "            During DNC Near DNC Near DNC:During DNC\n",
       "DiD (Uber)       -6.4%   122.1%               20.3%\n",
       "DiD (Train)     -11.5%   -54.8%              135.1%\n",
       "DiD (Bike)       -3.3%    52.5%               35.0%"
      ]
     },
     "execution_count": 21,
     "metadata": {},
     "output_type": "execute_result"
    }
   ],
   "source": [
    "beta1 = did_summary.tables[0].xs('During DNC').str.replace('*','').astype(float)\n",
    "main_pct = np.exp(beta1) - 1\n",
    "pct1 = main_pct.apply(\"{:.1%}\".format)\n",
    "\n",
    "beta2 = did_summary.tables[0].xs('Near DNC').str.replace('*','').astype(float)\n",
    "main_pct = np.exp(beta2) - 1\n",
    "pct2 = main_pct.apply(\"{:.1%}\".format)\n",
    "\n",
    "beta3 = did_summary.tables[0].xs('Near DNC:During DNC').str.replace('*','').astype(float)\n",
    "main_pct = np.exp(beta3) - 1\n",
    "pct3 = main_pct.apply(\"{:.1%}\".format)\n",
    "pd.concat([pct1,pct2,pct3],axis=1)"
   ]
  },
  {
   "cell_type": "markdown",
   "metadata": {},
   "source": [
    "## Contextualized Effect"
   ]
  },
  {
   "cell_type": "code",
   "execution_count": 22,
   "metadata": {},
   "outputs": [
    {
     "data": {
      "text/html": [
       "<div>\n",
       "<style scoped>\n",
       "    .dataframe tbody tr th:only-of-type {\n",
       "        vertical-align: middle;\n",
       "    }\n",
       "\n",
       "    .dataframe tbody tr th {\n",
       "        vertical-align: top;\n",
       "    }\n",
       "\n",
       "    .dataframe thead th {\n",
       "        text-align: right;\n",
       "    }\n",
       "</style>\n",
       "<table border=\"1\" class=\"dataframe\">\n",
       "  <thead>\n",
       "    <tr style=\"text-align: right;\">\n",
       "      <th></th>\n",
       "      <th>trt</th>\n",
       "      <th>ctl</th>\n",
       "      <th>geotrt</th>\n",
       "      <th>geoctl</th>\n",
       "    </tr>\n",
       "  </thead>\n",
       "  <tbody>\n",
       "    <tr>\n",
       "      <th>bike</th>\n",
       "      <td>2989.0</td>\n",
       "      <td>-2546.0</td>\n",
       "      <td>220.0</td>\n",
       "      <td>-197.0</td>\n",
       "    </tr>\n",
       "    <tr>\n",
       "      <th>train</th>\n",
       "      <td>62426.0</td>\n",
       "      <td>-142951.0</td>\n",
       "      <td>287.0</td>\n",
       "      <td>-397.0</td>\n",
       "    </tr>\n",
       "    <tr>\n",
       "      <th>uber</th>\n",
       "      <td>24047.0</td>\n",
       "      <td>-42733.0</td>\n",
       "      <td>178.0</td>\n",
       "      <td>-825.0</td>\n",
       "    </tr>\n",
       "  </tbody>\n",
       "</table>\n",
       "</div>"
      ],
      "text/plain": [
       "           trt       ctl  geotrt  geoctl\n",
       "bike    2989.0   -2546.0   220.0  -197.0\n",
       "train  62426.0 -142951.0   287.0  -397.0\n",
       "uber   24047.0  -42733.0   178.0  -825.0"
      ]
     },
     "execution_count": 22,
     "metadata": {},
     "output_type": "execute_result"
    }
   ],
   "source": [
    "n_trt = panel[(panel.UCMP==1)&(panel.DNC==1)].groupby('transit').size()\n",
    "n_ctl = panel[(panel.UCMP==0)&(panel.DNC==1)].groupby('transit').size()\n",
    "mean_trt = panel[(panel.UCMP==1)&(panel.DNC==0)].groupby(['transit','id'])['rides'].mean().groupby('transit').mean()\n",
    "mean_ctl = panel[(panel.UCMP==0)&(panel.DNC==0)].groupby(['transit','id'])['rides'].mean().groupby('transit').mean()\n",
    "# The geom mean vastly under-estimates the scale of the changes. because the total changes\n",
    "# are in fact driven by the high-ridership tail of the distribution, which is discounted in the geom mean.\n",
    "geo_mean_trt = panel[(panel.UCMP==1)&(panel.DNC==0)].groupby(['transit','id'])['logrides'].mean().groupby('transit').mean()\n",
    "geo_mean_ctl = panel[(panel.UCMP==0)&(panel.DNC==0)].groupby(['transit','id'])['logrides'].mean().groupby('transit').mean()\n",
    "exp_mean_trt = np.exp(geo_mean_trt)\n",
    "exp_mean_ctl = np.exp(geo_mean_ctl)\n",
    "pct_trt = (np.exp(beta3) - 1)\n",
    "pct_ctl = (np.exp(beta1) - 1)\n",
    "pct_trt.index = pct_trt.index.map(lambda x: x.replace('DiD (','').replace(')','').lower())\n",
    "pct_ctl.index = pct_ctl.index.map(lambda x: x.replace('DiD (','').replace(')','').lower())\n",
    "delta_trt = pct_trt * mean_trt * n_trt\n",
    "delta_ctl = pct_ctl * mean_ctl * n_ctl\n",
    "tmp = pd.DataFrame({'trt':delta_trt, 'ctl':delta_ctl}).round(0)\n",
    "delta_trt = pct_trt * geo_mean_trt * n_trt\n",
    "delta_ctl = pct_ctl * geo_mean_ctl * n_ctl\n",
    "tmp2 = pd.DataFrame({'geotrt':delta_trt, 'geoctl':delta_ctl}).round(0)\n",
    "pd.concat([tmp,tmp2],axis=1)"
   ]
  },
  {
   "cell_type": "markdown",
   "metadata": {},
   "source": [
    "## Parallel Trends"
   ]
  },
  {
   "cell_type": "markdown",
   "metadata": {},
   "source": [
    "PT is actually pretty convincing."
   ]
  },
  {
   "cell_type": "code",
   "execution_count": 23,
   "metadata": {},
   "outputs": [
    {
     "name": "stdout",
     "output_type": "stream",
     "text": [
      "Dropping 631 id, 4340 obs invariant to DNC\n"
     ]
    }
   ],
   "source": [
    "plot_data = panel.assign(nearby = panel['UCMP'].map({0:False, 1:True}))\n",
    "plot_data = did_colinearity(plot_data)\n",
    "plot_data = plot_data.groupby(['date','nearby','transit'])['rides'].sum().reset_index()\n",
    "means = plot_data.groupby(['nearby','transit'])['rides'].mean().rename('mean').reset_index()\n",
    "first = plot_data.sort_values('date')[['nearby','transit','rides']].iloc[:6].rename(columns={'rides':'first'})\n",
    "plot_data = plot_data.merge(means, on=['nearby','transit']).merge(first, on=['nearby','transit'])\n",
    "plot_data = plot_data.assign(demean = plot_data['rides'] / plot_data['first'])"
   ]
  },
  {
   "cell_type": "code",
   "execution_count": 26,
   "metadata": {},
   "outputs": [
    {
     "data": {
      "application/vnd.plotly.v1+json": {
       "config": {
        "plotlyServerURL": "https://plot.ly"
       },
       "data": [
        {
         "hovertemplate": "Near DNC=False<br>transit=bike<br>=%{y}<extra></extra>",
         "legendgroup": "False",
         "line": {
          "color": "black",
          "dash": "solid"
         },
         "marker": {
          "symbol": "circle"
         },
         "mode": "lines",
         "name": "False",
         "orientation": "v",
         "showlegend": true,
         "type": "scatter",
         "x": [
          "2024-06-03",
          "2024-06-04",
          "2024-06-05",
          "2024-06-06",
          "2024-06-07",
          "2024-06-10",
          "2024-06-11",
          "2024-06-12",
          "2024-06-13",
          "2024-06-14",
          "2024-06-17",
          "2024-06-18",
          "2024-06-19",
          "2024-06-20",
          "2024-06-21",
          "2024-06-24",
          "2024-06-25",
          "2024-06-26",
          "2024-06-27",
          "2024-06-28",
          "2024-07-01",
          "2024-07-02",
          "2024-07-03",
          "2024-07-04",
          "2024-07-05",
          "2024-07-08",
          "2024-07-09",
          "2024-07-10",
          "2024-07-11",
          "2024-07-12",
          "2024-07-15",
          "2024-07-16",
          "2024-07-17",
          "2024-07-18",
          "2024-07-19",
          "2024-07-22",
          "2024-07-23",
          "2024-07-24",
          "2024-07-25",
          "2024-07-26",
          "2024-07-29",
          "2024-07-30",
          "2024-07-31",
          "2024-08-01",
          "2024-08-02",
          "2024-08-05",
          "2024-08-06",
          "2024-08-07",
          "2024-08-08",
          "2024-08-09",
          "2024-08-12",
          "2024-08-13",
          "2024-08-14",
          "2024-08-15",
          "2024-08-16",
          "2024-08-19",
          "2024-08-20",
          "2024-08-21",
          "2024-08-22",
          "2024-08-23",
          "2024-08-26",
          "2024-08-27",
          "2024-08-28",
          "2024-08-29",
          "2024-08-30"
         ],
         "xaxis": "x3",
         "y": [
          1,
          0.9904211646647407,
          1.088216512087578,
          1.0858750190056257,
          1.1189296031625362,
          0.8671126653489433,
          1.0294967310323855,
          1.1287821195073742,
          1.0583548730424206,
          1.1701079519537783,
          0.9640261517409153,
          1.1067355937357457,
          1.2478333586741674,
          1.0316861791090162,
          1.2495666717348335,
          1.0350919872282196,
          0.8474076326592671,
          1.1426486239927018,
          1.1663068268207388,
          0.6787897217576403,
          1.010916831382089,
          1.06814657138513,
          1.1335259236734074,
          1.0394404743804166,
          1.2006385890223505,
          0.9625665196898282,
          0.7013227915462977,
          0.9961076478637677,
          1.1090466778166337,
          1.2006385890223505,
          0.9639349247377224,
          1.0897977801429224,
          1.1968374638893113,
          1.1624144746845066,
          1.2589326440626425,
          1.0876083320662917,
          1.0363691652729208,
          1.1422533069788658,
          1.2038923521362324,
          1.2448228675688005,
          0.8444275505549643,
          1.1606811616238406,
          1.245552683594344,
          1.090162688155694,
          1.2083320662916224,
          0.9349855557244945,
          0.9526835943439258,
          1.2115250114033753,
          1.1628097916983426,
          1.217850083624753,
          1.0322943591303027,
          1.149216968222594,
          1.178287973240079,
          0.6952409913334346,
          1.0270944199483047,
          0.9733921240687243,
          1.0568344229892048,
          1.1034210126197355,
          1.0853884749885967,
          1.1687091379048198,
          0.9671886878516041,
          0.8912574121940094,
          1.096426942374943,
          1.1632659267143075,
          1.0582636460392276
         ],
         "yaxis": "y3"
        },
        {
         "hovertemplate": "Near DNC=False<br>transit=train<br>=%{y}<extra></extra>",
         "legendgroup": "False",
         "line": {
          "color": "black",
          "dash": "solid"
         },
         "marker": {
          "symbol": "circle"
         },
         "mode": "lines",
         "name": "False",
         "orientation": "v",
         "showlegend": false,
         "type": "scatter",
         "x": [
          "2024-06-03",
          "2024-06-04",
          "2024-06-05",
          "2024-06-06",
          "2024-06-07",
          "2024-06-10",
          "2024-06-11",
          "2024-06-12",
          "2024-06-13",
          "2024-06-14",
          "2024-06-17",
          "2024-06-18",
          "2024-06-19",
          "2024-06-20",
          "2024-06-21",
          "2024-06-24",
          "2024-06-25",
          "2024-06-26",
          "2024-06-27",
          "2024-06-28",
          "2024-07-01",
          "2024-07-02",
          "2024-07-03",
          "2024-07-04",
          "2024-07-05",
          "2024-07-08",
          "2024-07-09",
          "2024-07-10",
          "2024-07-11",
          "2024-07-12",
          "2024-07-15",
          "2024-07-16",
          "2024-07-17",
          "2024-07-18",
          "2024-07-19",
          "2024-07-22",
          "2024-07-23",
          "2024-07-24",
          "2024-07-25",
          "2024-07-26",
          "2024-07-29",
          "2024-07-30",
          "2024-07-31",
          "2024-08-01",
          "2024-08-02",
          "2024-08-05",
          "2024-08-06",
          "2024-08-07",
          "2024-08-08",
          "2024-08-09",
          "2024-08-12",
          "2024-08-13",
          "2024-08-14",
          "2024-08-15",
          "2024-08-16",
          "2024-08-19",
          "2024-08-20",
          "2024-08-21",
          "2024-08-22",
          "2024-08-23",
          "2024-08-26",
          "2024-08-27",
          "2024-08-28",
          "2024-08-29",
          "2024-08-30"
         ],
         "xaxis": "x2",
         "y": [
          1,
          1.1775603333586087,
          1.1978024250529058,
          1.1701810862417195,
          1.0179673121066526,
          0.9521124430443444,
          1.1049810779697937,
          1.12384106873281,
          1.1025029468735568,
          1.0925249364095706,
          0.9623627377317001,
          1.1329781000765153,
          0.9261937422881525,
          1.0903811289800027,
          1.0741612611929496,
          0.9687217806698881,
          1.0373132785088475,
          1.1312582288428266,
          1.1522482404924552,
          0.9870509895291206,
          0.956386271360525,
          1.0881132426638358,
          1.0693359711585522,
          0.6258297775541294,
          0.9134584232330822,
          0.9659403456286318,
          1.0654998655812062,
          1.0871585245641728,
          1.110616327402822,
          1.0044496067388622,
          0.9504477179824773,
          1.0831363006569288,
          1.1051568563924754,
          1.1252852091073904,
          1.07024588299361,
          1.0163680731238238,
          1.1451860838635408,
          1.1512039098635822,
          1.1328712543686108,
          1.0388608179555936,
          0.9196692608344994,
          1.1121087206777465,
          1.1990949134549767,
          1.3575850112704988,
          1.2617271781014552,
          0.9901495150583516,
          1.117357946908023,
          1.1611129876127912,
          1.110499141787701,
          1.0806960825538192,
          0.977727839855517,
          1.1553950189220301,
          1.10706973922754,
          1.0453956393164632,
          1.0420282761996016,
          0.8663980588547519,
          0.9431856564807092,
          0.9500548015082478,
          0.9825358967112202,
          0.9776830335909119,
          1.0042772749519195,
          1.0953649642583874,
          1.1833196616782358,
          1.2584115145206765,
          1.1061081278563993
         ],
         "yaxis": "y2"
        },
        {
         "hovertemplate": "Near DNC=False<br>transit=uber<br>=%{y}<extra></extra>",
         "legendgroup": "False",
         "line": {
          "color": "black",
          "dash": "solid"
         },
         "marker": {
          "symbol": "circle"
         },
         "mode": "lines",
         "name": "False",
         "orientation": "v",
         "showlegend": false,
         "type": "scatter",
         "x": [
          "2024-06-03",
          "2024-06-04",
          "2024-06-05",
          "2024-06-06",
          "2024-06-07",
          "2024-06-10",
          "2024-06-11",
          "2024-06-12",
          "2024-06-13",
          "2024-06-14",
          "2024-06-17",
          "2024-06-18",
          "2024-06-19",
          "2024-06-20",
          "2024-06-21",
          "2024-06-24",
          "2024-06-25",
          "2024-06-26",
          "2024-06-27",
          "2024-06-28",
          "2024-07-01",
          "2024-07-02",
          "2024-07-03",
          "2024-07-04",
          "2024-07-05",
          "2024-07-08",
          "2024-07-09",
          "2024-07-10",
          "2024-07-11",
          "2024-07-12",
          "2024-07-15",
          "2024-07-16",
          "2024-07-17",
          "2024-07-18",
          "2024-07-19",
          "2024-07-22",
          "2024-07-23",
          "2024-07-24",
          "2024-07-25",
          "2024-07-26",
          "2024-07-29",
          "2024-07-30",
          "2024-07-31",
          "2024-08-01",
          "2024-08-02",
          "2024-08-05",
          "2024-08-06",
          "2024-08-07",
          "2024-08-08",
          "2024-08-09",
          "2024-08-12",
          "2024-08-13",
          "2024-08-14",
          "2024-08-15",
          "2024-08-16",
          "2024-08-19",
          "2024-08-20",
          "2024-08-21",
          "2024-08-22",
          "2024-08-23",
          "2024-08-26",
          "2024-08-27",
          "2024-08-28",
          "2024-08-29",
          "2024-08-30"
         ],
         "xaxis": "x",
         "y": [
          1,
          1.160265703501887,
          1.2743894818406778,
          1.3657234983877822,
          1.773202189616817,
          0.999212637788387,
          1.0734621441247783,
          1.1919914015047366,
          1.3609868273052217,
          1.759373359662059,
          0.939616817057015,
          1.1396630589646812,
          1.2724335741245283,
          1.3671170045242083,
          1.7480440922838503,
          1.020033994051041,
          1.1745819481590722,
          1.1942722523558378,
          1.294492213862574,
          1.7722648536506111,
          0.8663858824705677,
          0.9563826330392181,
          1.2521183792836255,
          1.3291548978928687,
          1.397605419051666,
          0.8812145374559452,
          1.0960331941910166,
          1.1895043367410703,
          1.338009598320294,
          1.777407703651861,
          1.0652198365286074,
          1.1147549178893694,
          1.192147624165771,
          1.3526507861124304,
          1.8071837428450022,
          0.9699615067363211,
          1.1768565501037318,
          1.23097207988602,
          1.3122141125303073,
          1.7867060764366236,
          0.9548766465868473,
          1.1351575974204515,
          1.3631614467468194,
          1.6598345289574326,
          1.9705426550353689,
          1.015153598120329,
          1.065057364961132,
          1.19177893868573,
          1.3524133276676582,
          1.7801759692053891,
          0.9248006598845202,
          1.0542530057239983,
          1.1611218036843551,
          1.3794273502137127,
          1.8003849326367887,
          0.9042667533181693,
          1.0554090534156522,
          1.1842052640787861,
          1.3191753943059965,
          1.706295148349039,
          0.9966255905216587,
          1.2073137200989827,
          1.1987402204614193,
          1.3932499312620292,
          1.80230334691429
         ],
         "yaxis": "y"
        },
        {
         "hovertemplate": "Near DNC=True<br>transit=bike<br>=%{y}<extra></extra>",
         "legendgroup": "True",
         "line": {
          "color": "black",
          "dash": "dot"
         },
         "marker": {
          "symbol": "circle"
         },
         "mode": "lines",
         "name": "True",
         "orientation": "v",
         "showlegend": true,
         "type": "scatter",
         "x": [
          "2024-06-03",
          "2024-06-04",
          "2024-06-05",
          "2024-06-06",
          "2024-06-07",
          "2024-06-10",
          "2024-06-11",
          "2024-06-12",
          "2024-06-13",
          "2024-06-14",
          "2024-06-17",
          "2024-06-18",
          "2024-06-19",
          "2024-06-20",
          "2024-06-21",
          "2024-06-24",
          "2024-06-25",
          "2024-06-26",
          "2024-06-27",
          "2024-06-28",
          "2024-07-01",
          "2024-07-02",
          "2024-07-03",
          "2024-07-04",
          "2024-07-05",
          "2024-07-08",
          "2024-07-09",
          "2024-07-10",
          "2024-07-11",
          "2024-07-12",
          "2024-07-15",
          "2024-07-16",
          "2024-07-17",
          "2024-07-18",
          "2024-07-19",
          "2024-07-22",
          "2024-07-23",
          "2024-07-24",
          "2024-07-25",
          "2024-07-26",
          "2024-07-29",
          "2024-07-30",
          "2024-07-31",
          "2024-08-01",
          "2024-08-02",
          "2024-08-05",
          "2024-08-06",
          "2024-08-07",
          "2024-08-08",
          "2024-08-09",
          "2024-08-12",
          "2024-08-13",
          "2024-08-14",
          "2024-08-15",
          "2024-08-16",
          "2024-08-19",
          "2024-08-20",
          "2024-08-21",
          "2024-08-22",
          "2024-08-23",
          "2024-08-26",
          "2024-08-27",
          "2024-08-28",
          "2024-08-29",
          "2024-08-30"
         ],
         "xaxis": "x3",
         "y": [
          1,
          0.939568345323741,
          1.0023980815347722,
          1.0729016786570744,
          1.048441247002398,
          0.8633093525179856,
          1.0426858513189448,
          1.0848920863309353,
          1.0618705035971223,
          1.165947242206235,
          0.8786570743405275,
          1.037410071942446,
          1.0618705035971223,
          1.0311750599520384,
          1.1803357314148681,
          1.0038369304556356,
          0.8244604316546763,
          1.0666666666666667,
          1.128537170263789,
          0.6613908872901678,
          0.8988009592326139,
          0.9793764988009592,
          1.0532374100719424,
          0.8014388489208633,
          1.0733812949640287,
          0.8661870503597122,
          0.6244604316546762,
          0.93621103117506,
          1.015347721822542,
          1.1496402877697842,
          0.9865707434052757,
          1.0767386091127098,
          1.1870503597122302,
          1.0551558752997603,
          1.1726618705035972,
          0.984652278177458,
          0.9717026378896882,
          1.0498800959232615,
          1.211990407673861,
          1.2139088729016787,
          0.8988009592326139,
          1.0863309352517985,
          1.3621103117505995,
          1.0959232613908874,
          1.1908872901678658,
          0.9170263788968825,
          0.9534772182254196,
          1.1760191846522783,
          1.1645083932853717,
          1.2657074340527579,
          1.0604316546762589,
          1.0815347721822541,
          1.3175059952038368,
          0.7587529976019185,
          1.0105515587529976,
          1.2105515587529976,
          1.2306954436450839,
          1.2796163069544364,
          1.2652278177458034,
          1.2211031175059952,
          1.0508393285371702,
          0.9304556354916067,
          1.1381294964028776,
          1.1621103117505995,
          1.1918465227817745
         ],
         "yaxis": "y3"
        },
        {
         "hovertemplate": "Near DNC=True<br>transit=train<br>=%{y}<extra></extra>",
         "legendgroup": "True",
         "line": {
          "color": "black",
          "dash": "dot"
         },
         "marker": {
          "symbol": "circle"
         },
         "mode": "lines",
         "name": "True",
         "orientation": "v",
         "showlegend": false,
         "type": "scatter",
         "x": [
          "2024-06-03",
          "2024-06-04",
          "2024-06-05",
          "2024-06-06",
          "2024-06-07",
          "2024-06-10",
          "2024-06-11",
          "2024-06-12",
          "2024-06-13",
          "2024-06-14",
          "2024-06-17",
          "2024-06-18",
          "2024-06-19",
          "2024-06-20",
          "2024-06-21",
          "2024-06-24",
          "2024-06-25",
          "2024-06-26",
          "2024-06-27",
          "2024-06-28",
          "2024-07-01",
          "2024-07-02",
          "2024-07-03",
          "2024-07-04",
          "2024-07-05",
          "2024-07-08",
          "2024-07-09",
          "2024-07-10",
          "2024-07-11",
          "2024-07-12",
          "2024-07-15",
          "2024-07-16",
          "2024-07-17",
          "2024-07-18",
          "2024-07-19",
          "2024-07-22",
          "2024-07-23",
          "2024-07-24",
          "2024-07-25",
          "2024-07-26",
          "2024-07-29",
          "2024-07-30",
          "2024-07-31",
          "2024-08-01",
          "2024-08-02",
          "2024-08-05",
          "2024-08-06",
          "2024-08-07",
          "2024-08-08",
          "2024-08-09",
          "2024-08-12",
          "2024-08-13",
          "2024-08-14",
          "2024-08-15",
          "2024-08-16",
          "2024-08-19",
          "2024-08-20",
          "2024-08-21",
          "2024-08-22",
          "2024-08-23",
          "2024-08-26",
          "2024-08-27",
          "2024-08-28",
          "2024-08-29",
          "2024-08-30"
         ],
         "xaxis": "x2",
         "y": [
          1,
          1.0825615242127546,
          1.025138925641704,
          1.0856487606950693,
          0.9725676986857194,
          0.9017376731057599,
          0.9639234365352386,
          1.0542471553320985,
          0.9982358648672488,
          1.0062626797212666,
          0.8578989150568933,
          0.9724794919290818,
          0.7612243097821293,
          0.991002910822969,
          0.994001940548646,
          0.9459292581811767,
          0.9355208608979447,
          1.0164946634912235,
          1.0901473052835848,
          0.921495986592573,
          0.9484872541236659,
          1.0076739878274676,
          1.0284907823939313,
          0.597688982976096,
          0.9678045338272911,
          0.9107347622827908,
          0.9315515568492546,
          0.9832407162388639,
          1.031578018876246,
          1.0201111405133634,
          0.9130281379553674,
          0.9625121284290377,
          1.0312251918496957,
          1.0109376378230572,
          1.1883214254211873,
          0.9758313486813089,
          0.9969127635176854,
          0.983417129752139,
          1.072329540442798,
          1.0134956337655465,
          0.8640733880215224,
          0.9901208432565934,
          1.0862662079915322,
          1.1344270971156392,
          1.1795007497574315,
          1.0291964364470318,
          1.0037046837787775,
          1.0719767134162477,
          1.0560994972214872,
          1.1694451795007497,
          0.9983240716238864,
          1.0652729999117931,
          1.0500132310134955,
          1.0231983769956778,
          1.059715974243627,
          1.5163623533562671,
          1.3126929522801447,
          1.3730263738202346,
          1.484607920966746,
          1.058922113433889,
          0.987210020287554,
          1.0268148540178177,
          1.1412190173767311,
          1.1391020552174296,
          1.387139454882244
         ],
         "yaxis": "y2"
        },
        {
         "hovertemplate": "Near DNC=True<br>transit=uber<br>=%{y}<extra></extra>",
         "legendgroup": "True",
         "line": {
          "color": "black",
          "dash": "dot"
         },
         "marker": {
          "symbol": "circle"
         },
         "mode": "lines",
         "name": "True",
         "orientation": "v",
         "showlegend": false,
         "type": "scatter",
         "x": [
          "2024-06-03",
          "2024-06-04",
          "2024-06-05",
          "2024-06-06",
          "2024-06-07",
          "2024-06-10",
          "2024-06-11",
          "2024-06-12",
          "2024-06-13",
          "2024-06-14",
          "2024-06-17",
          "2024-06-18",
          "2024-06-19",
          "2024-06-20",
          "2024-06-21",
          "2024-06-24",
          "2024-06-25",
          "2024-06-26",
          "2024-06-27",
          "2024-06-28",
          "2024-07-01",
          "2024-07-02",
          "2024-07-03",
          "2024-07-04",
          "2024-07-05",
          "2024-07-08",
          "2024-07-09",
          "2024-07-10",
          "2024-07-11",
          "2024-07-12",
          "2024-07-15",
          "2024-07-16",
          "2024-07-17",
          "2024-07-18",
          "2024-07-19",
          "2024-07-22",
          "2024-07-23",
          "2024-07-24",
          "2024-07-25",
          "2024-07-26",
          "2024-07-29",
          "2024-07-30",
          "2024-07-31",
          "2024-08-01",
          "2024-08-02",
          "2024-08-05",
          "2024-08-06",
          "2024-08-07",
          "2024-08-08",
          "2024-08-09",
          "2024-08-12",
          "2024-08-13",
          "2024-08-14",
          "2024-08-15",
          "2024-08-16",
          "2024-08-19",
          "2024-08-20",
          "2024-08-21",
          "2024-08-22",
          "2024-08-23",
          "2024-08-26",
          "2024-08-27",
          "2024-08-28",
          "2024-08-29",
          "2024-08-30"
         ],
         "xaxis": "x",
         "y": [
          1,
          0.9615224704237064,
          1.025135124919681,
          1.1307404467626716,
          1.4720867823260384,
          0.9132932683221832,
          1.1022035756132593,
          1.135918660467929,
          1.3152662811354272,
          1.5206561590505348,
          0.7072230411611293,
          0.9260687152738406,
          1.0543523453150394,
          1.2198284008013003,
          1.2584949162792456,
          0.9636013153418755,
          1.135578485844956,
          1.0317118342971614,
          1.1185697546962996,
          1.4636958082927014,
          0.699247836111426,
          0.7697773746078542,
          0.9571002003250557,
          0.952451147144423,
          1.1705786748308575,
          0.6990588502097743,
          0.9408852099633367,
          1.0543901424953699,
          1.3492081490720793,
          1.7470612692293155,
          0.928071965831349,
          1.0383263408549723,
          1.0946441395471898,
          1.1500926030918093,
          1.565294629020675,
          0.7949124995275353,
          0.9935366821635107,
          1.0691688400045356,
          1.1450277809275429,
          1.4341384132743697,
          0.8404581018256038,
          1.1112748988925427,
          1.2728200476244471,
          1.3988736440261555,
          1.5901273764977133,
          0.790754809691197,
          0.8752315077295234,
          1.0380617605926599,
          1.1923120535208074,
          1.5011906111804059,
          0.7605170654269191,
          0.8754204936311751,
          1.0665230373814114,
          1.236232377064671,
          1.4933287976716938,
          1.101296443285331,
          1.405752730846279,
          1.5432588728880825,
          1.5457534867898854,
          1.4499376346524548,
          0.8314623729069811,
          1.0052538080659184,
          1.0802434138413275,
          1.2143100124730695,
          1.764750349623918
         ],
         "yaxis": "y"
        }
       ],
       "layout": {
        "annotations": [
         {
          "showarrow": false,
          "text": "transit=uber",
          "textangle": 90,
          "x": 0.98,
          "xanchor": "left",
          "xref": "paper",
          "y": 0.15666666666666665,
          "yanchor": "middle",
          "yref": "paper"
         },
         {
          "showarrow": false,
          "text": "transit=train",
          "textangle": 90,
          "x": 0.98,
          "xanchor": "left",
          "xref": "paper",
          "y": 0.4999999999999999,
          "yanchor": "middle",
          "yref": "paper"
         },
         {
          "showarrow": false,
          "text": "transit=bike",
          "textangle": 90,
          "x": 0.98,
          "xanchor": "left",
          "xref": "paper",
          "y": 0.8433333333333332,
          "yanchor": "middle",
          "yref": "paper"
         }
        ],
        "legend": {
         "title": {
          "text": "Near DNC"
         },
         "tracegroupgap": 0
        },
        "shapes": [
         {
          "fillcolor": "gray",
          "opacity": 0.5,
          "type": "rect",
          "x0": "2024-08-19",
          "x1": "2024-08-22",
          "xref": "x",
          "y0": 0,
          "y1": 1,
          "yref": "y domain"
         },
         {
          "fillcolor": "gray",
          "opacity": 0.5,
          "type": "rect",
          "x0": "2024-08-19",
          "x1": "2024-08-22",
          "xref": "x2",
          "y0": 0,
          "y1": 1,
          "yref": "y2 domain"
         },
         {
          "fillcolor": "gray",
          "opacity": 0.5,
          "type": "rect",
          "x0": "2024-08-19",
          "x1": "2024-08-22",
          "xref": "x3",
          "y0": 0,
          "y1": 1,
          "yref": "y3 domain"
         }
        ],
        "template": {
         "data": {
          "bar": [
           {
            "error_x": {
             "color": "rgb(36,36,36)"
            },
            "error_y": {
             "color": "rgb(36,36,36)"
            },
            "marker": {
             "line": {
              "color": "white",
              "width": 0.5
             },
             "pattern": {
              "fillmode": "overlay",
              "size": 10,
              "solidity": 0.2
             }
            },
            "type": "bar"
           }
          ],
          "barpolar": [
           {
            "marker": {
             "line": {
              "color": "white",
              "width": 0.5
             },
             "pattern": {
              "fillmode": "overlay",
              "size": 10,
              "solidity": 0.2
             }
            },
            "type": "barpolar"
           }
          ],
          "carpet": [
           {
            "aaxis": {
             "endlinecolor": "rgb(36,36,36)",
             "gridcolor": "white",
             "linecolor": "white",
             "minorgridcolor": "white",
             "startlinecolor": "rgb(36,36,36)"
            },
            "baxis": {
             "endlinecolor": "rgb(36,36,36)",
             "gridcolor": "white",
             "linecolor": "white",
             "minorgridcolor": "white",
             "startlinecolor": "rgb(36,36,36)"
            },
            "type": "carpet"
           }
          ],
          "choropleth": [
           {
            "colorbar": {
             "outlinewidth": 1,
             "tickcolor": "rgb(36,36,36)",
             "ticks": "outside"
            },
            "type": "choropleth"
           }
          ],
          "contour": [
           {
            "colorbar": {
             "outlinewidth": 1,
             "tickcolor": "rgb(36,36,36)",
             "ticks": "outside"
            },
            "colorscale": [
             [
              0,
              "#440154"
             ],
             [
              0.1111111111111111,
              "#482878"
             ],
             [
              0.2222222222222222,
              "#3e4989"
             ],
             [
              0.3333333333333333,
              "#31688e"
             ],
             [
              0.4444444444444444,
              "#26828e"
             ],
             [
              0.5555555555555556,
              "#1f9e89"
             ],
             [
              0.6666666666666666,
              "#35b779"
             ],
             [
              0.7777777777777778,
              "#6ece58"
             ],
             [
              0.8888888888888888,
              "#b5de2b"
             ],
             [
              1,
              "#fde725"
             ]
            ],
            "type": "contour"
           }
          ],
          "contourcarpet": [
           {
            "colorbar": {
             "outlinewidth": 1,
             "tickcolor": "rgb(36,36,36)",
             "ticks": "outside"
            },
            "type": "contourcarpet"
           }
          ],
          "heatmap": [
           {
            "colorbar": {
             "outlinewidth": 1,
             "tickcolor": "rgb(36,36,36)",
             "ticks": "outside"
            },
            "colorscale": [
             [
              0,
              "#440154"
             ],
             [
              0.1111111111111111,
              "#482878"
             ],
             [
              0.2222222222222222,
              "#3e4989"
             ],
             [
              0.3333333333333333,
              "#31688e"
             ],
             [
              0.4444444444444444,
              "#26828e"
             ],
             [
              0.5555555555555556,
              "#1f9e89"
             ],
             [
              0.6666666666666666,
              "#35b779"
             ],
             [
              0.7777777777777778,
              "#6ece58"
             ],
             [
              0.8888888888888888,
              "#b5de2b"
             ],
             [
              1,
              "#fde725"
             ]
            ],
            "type": "heatmap"
           }
          ],
          "heatmapgl": [
           {
            "colorbar": {
             "outlinewidth": 1,
             "tickcolor": "rgb(36,36,36)",
             "ticks": "outside"
            },
            "colorscale": [
             [
              0,
              "#440154"
             ],
             [
              0.1111111111111111,
              "#482878"
             ],
             [
              0.2222222222222222,
              "#3e4989"
             ],
             [
              0.3333333333333333,
              "#31688e"
             ],
             [
              0.4444444444444444,
              "#26828e"
             ],
             [
              0.5555555555555556,
              "#1f9e89"
             ],
             [
              0.6666666666666666,
              "#35b779"
             ],
             [
              0.7777777777777778,
              "#6ece58"
             ],
             [
              0.8888888888888888,
              "#b5de2b"
             ],
             [
              1,
              "#fde725"
             ]
            ],
            "type": "heatmapgl"
           }
          ],
          "histogram": [
           {
            "marker": {
             "line": {
              "color": "white",
              "width": 0.6
             }
            },
            "type": "histogram"
           }
          ],
          "histogram2d": [
           {
            "colorbar": {
             "outlinewidth": 1,
             "tickcolor": "rgb(36,36,36)",
             "ticks": "outside"
            },
            "colorscale": [
             [
              0,
              "#440154"
             ],
             [
              0.1111111111111111,
              "#482878"
             ],
             [
              0.2222222222222222,
              "#3e4989"
             ],
             [
              0.3333333333333333,
              "#31688e"
             ],
             [
              0.4444444444444444,
              "#26828e"
             ],
             [
              0.5555555555555556,
              "#1f9e89"
             ],
             [
              0.6666666666666666,
              "#35b779"
             ],
             [
              0.7777777777777778,
              "#6ece58"
             ],
             [
              0.8888888888888888,
              "#b5de2b"
             ],
             [
              1,
              "#fde725"
             ]
            ],
            "type": "histogram2d"
           }
          ],
          "histogram2dcontour": [
           {
            "colorbar": {
             "outlinewidth": 1,
             "tickcolor": "rgb(36,36,36)",
             "ticks": "outside"
            },
            "colorscale": [
             [
              0,
              "#440154"
             ],
             [
              0.1111111111111111,
              "#482878"
             ],
             [
              0.2222222222222222,
              "#3e4989"
             ],
             [
              0.3333333333333333,
              "#31688e"
             ],
             [
              0.4444444444444444,
              "#26828e"
             ],
             [
              0.5555555555555556,
              "#1f9e89"
             ],
             [
              0.6666666666666666,
              "#35b779"
             ],
             [
              0.7777777777777778,
              "#6ece58"
             ],
             [
              0.8888888888888888,
              "#b5de2b"
             ],
             [
              1,
              "#fde725"
             ]
            ],
            "type": "histogram2dcontour"
           }
          ],
          "mesh3d": [
           {
            "colorbar": {
             "outlinewidth": 1,
             "tickcolor": "rgb(36,36,36)",
             "ticks": "outside"
            },
            "type": "mesh3d"
           }
          ],
          "parcoords": [
           {
            "line": {
             "colorbar": {
              "outlinewidth": 1,
              "tickcolor": "rgb(36,36,36)",
              "ticks": "outside"
             }
            },
            "type": "parcoords"
           }
          ],
          "pie": [
           {
            "automargin": true,
            "type": "pie"
           }
          ],
          "scatter": [
           {
            "fillpattern": {
             "fillmode": "overlay",
             "size": 10,
             "solidity": 0.2
            },
            "type": "scatter"
           }
          ],
          "scatter3d": [
           {
            "line": {
             "colorbar": {
              "outlinewidth": 1,
              "tickcolor": "rgb(36,36,36)",
              "ticks": "outside"
             }
            },
            "marker": {
             "colorbar": {
              "outlinewidth": 1,
              "tickcolor": "rgb(36,36,36)",
              "ticks": "outside"
             }
            },
            "type": "scatter3d"
           }
          ],
          "scattercarpet": [
           {
            "marker": {
             "colorbar": {
              "outlinewidth": 1,
              "tickcolor": "rgb(36,36,36)",
              "ticks": "outside"
             }
            },
            "type": "scattercarpet"
           }
          ],
          "scattergeo": [
           {
            "marker": {
             "colorbar": {
              "outlinewidth": 1,
              "tickcolor": "rgb(36,36,36)",
              "ticks": "outside"
             }
            },
            "type": "scattergeo"
           }
          ],
          "scattergl": [
           {
            "marker": {
             "colorbar": {
              "outlinewidth": 1,
              "tickcolor": "rgb(36,36,36)",
              "ticks": "outside"
             }
            },
            "type": "scattergl"
           }
          ],
          "scattermapbox": [
           {
            "marker": {
             "colorbar": {
              "outlinewidth": 1,
              "tickcolor": "rgb(36,36,36)",
              "ticks": "outside"
             }
            },
            "type": "scattermapbox"
           }
          ],
          "scatterpolar": [
           {
            "marker": {
             "colorbar": {
              "outlinewidth": 1,
              "tickcolor": "rgb(36,36,36)",
              "ticks": "outside"
             }
            },
            "type": "scatterpolar"
           }
          ],
          "scatterpolargl": [
           {
            "marker": {
             "colorbar": {
              "outlinewidth": 1,
              "tickcolor": "rgb(36,36,36)",
              "ticks": "outside"
             }
            },
            "type": "scatterpolargl"
           }
          ],
          "scatterternary": [
           {
            "marker": {
             "colorbar": {
              "outlinewidth": 1,
              "tickcolor": "rgb(36,36,36)",
              "ticks": "outside"
             }
            },
            "type": "scatterternary"
           }
          ],
          "surface": [
           {
            "colorbar": {
             "outlinewidth": 1,
             "tickcolor": "rgb(36,36,36)",
             "ticks": "outside"
            },
            "colorscale": [
             [
              0,
              "#440154"
             ],
             [
              0.1111111111111111,
              "#482878"
             ],
             [
              0.2222222222222222,
              "#3e4989"
             ],
             [
              0.3333333333333333,
              "#31688e"
             ],
             [
              0.4444444444444444,
              "#26828e"
             ],
             [
              0.5555555555555556,
              "#1f9e89"
             ],
             [
              0.6666666666666666,
              "#35b779"
             ],
             [
              0.7777777777777778,
              "#6ece58"
             ],
             [
              0.8888888888888888,
              "#b5de2b"
             ],
             [
              1,
              "#fde725"
             ]
            ],
            "type": "surface"
           }
          ],
          "table": [
           {
            "cells": {
             "fill": {
              "color": "rgb(237,237,237)"
             },
             "line": {
              "color": "white"
             }
            },
            "header": {
             "fill": {
              "color": "rgb(217,217,217)"
             },
             "line": {
              "color": "white"
             }
            },
            "type": "table"
           }
          ]
         },
         "layout": {
          "annotationdefaults": {
           "arrowhead": 0,
           "arrowwidth": 1
          },
          "autotypenumbers": "strict",
          "coloraxis": {
           "colorbar": {
            "outlinewidth": 1,
            "tickcolor": "rgb(36,36,36)",
            "ticks": "outside"
           }
          },
          "colorscale": {
           "diverging": [
            [
             0,
             "rgb(103,0,31)"
            ],
            [
             0.1,
             "rgb(178,24,43)"
            ],
            [
             0.2,
             "rgb(214,96,77)"
            ],
            [
             0.3,
             "rgb(244,165,130)"
            ],
            [
             0.4,
             "rgb(253,219,199)"
            ],
            [
             0.5,
             "rgb(247,247,247)"
            ],
            [
             0.6,
             "rgb(209,229,240)"
            ],
            [
             0.7,
             "rgb(146,197,222)"
            ],
            [
             0.8,
             "rgb(67,147,195)"
            ],
            [
             0.9,
             "rgb(33,102,172)"
            ],
            [
             1,
             "rgb(5,48,97)"
            ]
           ],
           "sequential": [
            [
             0,
             "#440154"
            ],
            [
             0.1111111111111111,
             "#482878"
            ],
            [
             0.2222222222222222,
             "#3e4989"
            ],
            [
             0.3333333333333333,
             "#31688e"
            ],
            [
             0.4444444444444444,
             "#26828e"
            ],
            [
             0.5555555555555556,
             "#1f9e89"
            ],
            [
             0.6666666666666666,
             "#35b779"
            ],
            [
             0.7777777777777778,
             "#6ece58"
            ],
            [
             0.8888888888888888,
             "#b5de2b"
            ],
            [
             1,
             "#fde725"
            ]
           ],
           "sequentialminus": [
            [
             0,
             "#440154"
            ],
            [
             0.1111111111111111,
             "#482878"
            ],
            [
             0.2222222222222222,
             "#3e4989"
            ],
            [
             0.3333333333333333,
             "#31688e"
            ],
            [
             0.4444444444444444,
             "#26828e"
            ],
            [
             0.5555555555555556,
             "#1f9e89"
            ],
            [
             0.6666666666666666,
             "#35b779"
            ],
            [
             0.7777777777777778,
             "#6ece58"
            ],
            [
             0.8888888888888888,
             "#b5de2b"
            ],
            [
             1,
             "#fde725"
            ]
           ]
          },
          "colorway": [
           "#1F77B4",
           "#FF7F0E",
           "#2CA02C",
           "#D62728",
           "#9467BD",
           "#8C564B",
           "#E377C2",
           "#7F7F7F",
           "#BCBD22",
           "#17BECF"
          ],
          "font": {
           "color": "rgb(36,36,36)"
          },
          "geo": {
           "bgcolor": "white",
           "lakecolor": "white",
           "landcolor": "white",
           "showlakes": true,
           "showland": true,
           "subunitcolor": "white"
          },
          "hoverlabel": {
           "align": "left"
          },
          "hovermode": "closest",
          "mapbox": {
           "style": "light"
          },
          "paper_bgcolor": "white",
          "plot_bgcolor": "white",
          "polar": {
           "angularaxis": {
            "gridcolor": "rgb(232,232,232)",
            "linecolor": "rgb(36,36,36)",
            "showgrid": false,
            "showline": true,
            "ticks": "outside"
           },
           "bgcolor": "white",
           "radialaxis": {
            "gridcolor": "rgb(232,232,232)",
            "linecolor": "rgb(36,36,36)",
            "showgrid": false,
            "showline": true,
            "ticks": "outside"
           }
          },
          "scene": {
           "xaxis": {
            "backgroundcolor": "white",
            "gridcolor": "rgb(232,232,232)",
            "gridwidth": 2,
            "linecolor": "rgb(36,36,36)",
            "showbackground": true,
            "showgrid": false,
            "showline": true,
            "ticks": "outside",
            "zeroline": false,
            "zerolinecolor": "rgb(36,36,36)"
           },
           "yaxis": {
            "backgroundcolor": "white",
            "gridcolor": "rgb(232,232,232)",
            "gridwidth": 2,
            "linecolor": "rgb(36,36,36)",
            "showbackground": true,
            "showgrid": false,
            "showline": true,
            "ticks": "outside",
            "zeroline": false,
            "zerolinecolor": "rgb(36,36,36)"
           },
           "zaxis": {
            "backgroundcolor": "white",
            "gridcolor": "rgb(232,232,232)",
            "gridwidth": 2,
            "linecolor": "rgb(36,36,36)",
            "showbackground": true,
            "showgrid": false,
            "showline": true,
            "ticks": "outside",
            "zeroline": false,
            "zerolinecolor": "rgb(36,36,36)"
           }
          },
          "shapedefaults": {
           "fillcolor": "black",
           "line": {
            "width": 0
           },
           "opacity": 0.3
          },
          "ternary": {
           "aaxis": {
            "gridcolor": "rgb(232,232,232)",
            "linecolor": "rgb(36,36,36)",
            "showgrid": false,
            "showline": true,
            "ticks": "outside"
           },
           "baxis": {
            "gridcolor": "rgb(232,232,232)",
            "linecolor": "rgb(36,36,36)",
            "showgrid": false,
            "showline": true,
            "ticks": "outside"
           },
           "bgcolor": "white",
           "caxis": {
            "gridcolor": "rgb(232,232,232)",
            "linecolor": "rgb(36,36,36)",
            "showgrid": false,
            "showline": true,
            "ticks": "outside"
           }
          },
          "title": {
           "x": 0.05
          },
          "xaxis": {
           "automargin": true,
           "gridcolor": "rgb(232,232,232)",
           "linecolor": "rgb(36,36,36)",
           "showgrid": false,
           "showline": true,
           "ticks": "outside",
           "title": {
            "standoff": 15
           },
           "zeroline": false,
           "zerolinecolor": "rgb(36,36,36)"
          },
          "yaxis": {
           "automargin": true,
           "gridcolor": "rgb(232,232,232)",
           "linecolor": "rgb(36,36,36)",
           "showgrid": false,
           "showline": true,
           "ticks": "outside",
           "title": {
            "standoff": 15
           },
           "zeroline": false,
           "zerolinecolor": "rgb(36,36,36)"
          }
         }
        },
        "title": {
         "text": "Rides (normalized to starting date)"
        },
        "xaxis": {
         "anchor": "y",
         "domain": [
          0,
          0.98
         ],
         "title": {
          "text": ""
         }
        },
        "xaxis2": {
         "anchor": "y2",
         "domain": [
          0,
          0.98
         ],
         "matches": "x",
         "showticklabels": false
        },
        "xaxis3": {
         "anchor": "y3",
         "domain": [
          0,
          0.98
         ],
         "matches": "x",
         "showticklabels": false
        },
        "yaxis": {
         "anchor": "x",
         "domain": [
          0,
          0.3133333333333333
         ],
         "title": {
          "text": ""
         }
        },
        "yaxis2": {
         "anchor": "x2",
         "domain": [
          0.34333333333333327,
          0.6566666666666665
         ],
         "matches": "y",
         "title": {
          "text": ""
         }
        },
        "yaxis3": {
         "anchor": "x3",
         "domain": [
          0.6866666666666665,
          0.9999999999999998
         ],
         "matches": "y",
         "title": {
          "text": ""
         }
        }
       }
      }
     },
     "metadata": {},
     "output_type": "display_data"
    }
   ],
   "source": [
    "chart = px.line(plot_data, x='date', y='demean', \n",
    "        line_dash='nearby', facet_row='transit',\n",
    "        color_discrete_sequence=['black'],\n",
    "        title= 'Rides (normalized to starting date)',\n",
    "        labels={'date':'', 'demean':'',\n",
    "                'nearby':'Near DNC'},\n",
    "        template='simple_white')\n",
    "chart.add_vrect(x0=\"2024-08-19\", x1=\"2024-08-22\", \n",
    "                fillcolor=\"gray\", opacity=.5)\n",
    "chart.write_image(parallel_out)\n",
    "!cp {parallel_out} ../../../../eric-mc2-cv/static/img\n",
    "chart.show()\n"
   ]
  },
  {
   "cell_type": "code",
   "execution_count": null,
   "metadata": {},
   "outputs": [],
   "source": []
  }
 ],
 "metadata": {
  "kernelspec": {
   "display_name": ".venv",
   "language": "python",
   "name": "python3"
  },
  "language_info": {
   "codemirror_mode": {
    "name": "ipython",
    "version": 3
   },
   "file_extension": ".py",
   "mimetype": "text/x-python",
   "name": "python",
   "nbconvert_exporter": "python",
   "pygments_lexer": "ipython3",
   "version": "3.12.6"
  }
 },
 "nbformat": 4,
 "nbformat_minor": 2
}
