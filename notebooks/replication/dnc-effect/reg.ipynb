{
 "cells": [
  {
   "cell_type": "code",
   "execution_count": 1,
   "metadata": {},
   "outputs": [],
   "source": [
    "import pandas as pd\n",
    "import statsmodels.api as sm\n",
    "from statsmodels.iolib.summary2 import summary_col\n",
    "from tabulate import  tabulate\n",
    "import numpy as np\n",
    "import plotly.express as px\n",
    "from stats.reg import compute_vif"
   ]
  },
  {
   "cell_type": "code",
   "execution_count": 2,
   "metadata": {},
   "outputs": [],
   "source": [
    "panel_in = \"../../../data/final/model_data.parquet\""
   ]
  },
  {
   "cell_type": "code",
   "execution_count": 3,
   "metadata": {},
   "outputs": [],
   "source": [
    "panel = pd.read_parquet(panel_in)"
   ]
  },
  {
   "cell_type": "markdown",
   "metadata": {},
   "source": [
    "## Preprocessing"
   ]
  },
  {
   "cell_type": "code",
   "execution_count": 4,
   "metadata": {},
   "outputs": [],
   "source": [
    "panel['logrides'] = panel['rides'].apply(np.log1p)"
   ]
  },
  {
   "cell_type": "code",
   "execution_count": 5,
   "metadata": {},
   "outputs": [],
   "source": [
    "dotw_names = {f\"C(dotw)[T.{i}]\":j for i,j in zip([1,2,3,4],['Tuesday','Wednesday','Thursday','Friday'])}"
   ]
  },
  {
   "cell_type": "markdown",
   "metadata": {},
   "source": [
    "## Fixed Effects"
   ]
  },
  {
   "cell_type": "code",
   "execution_count": 6,
   "metadata": {},
   "outputs": [],
   "source": [
    "def mask_colinear(df, groupby, coef):\n",
    "    test = df.groupby(groupby)[coef].nunique() > 1\n",
    "    mask = df[groupby].isin(test[test].index)\n",
    "    if not all(test):\n",
    "        print(f\"Dropping {sum(~test)} {groupby}, {sum(~mask)} obs invariant to {coef}\")\n",
    "    return mask\n",
    "\n",
    "def model_fe(df):\n",
    "    ## Community areas dont have separate units for transit.\n",
    "    ## Since fixed effects cant distringuish transit anyway,\n",
    "    ## Might as well sum it. Otherwise you have huge variance per unit.\n",
    "    df = df.groupby(['id','date','dotw','DNC'])['rides'].sum().reset_index()\n",
    "    df = df.sort_values('date')\n",
    "    df['time'] = pd.Categorical(df['date']).codes\n",
    "    # Make sure all units have variance in all coefs.\n",
    "    mask = np.full_like(df.index, True)\n",
    "    for coef in ['DNC','time','dotw']:\n",
    "        mask &= mask_colinear(df, 'id', coef)\n",
    "    df = df[mask]\n",
    "    id_formula = \"C(id)\" #catvar(df, \"id\", tract_panel.id.min())\n",
    "    formula = f\"\"\"np.log1p(rides) ~ \n",
    "                DNC + time + C(dotw) + {id_formula}\"\"\"\n",
    "    model = sm.OLS.from_formula(formula, df).fit()\n",
    "    return model"
   ]
  },
  {
   "cell_type": "code",
   "execution_count": 7,
   "metadata": {},
   "outputs": [],
   "source": [
    "def print_fe(model):\n",
    "    for l in str(model.summary()).split('\\n'):\n",
    "        if not l.startswith('C(id)'):\n",
    "            print(l)"
   ]
  },
  {
   "cell_type": "code",
   "execution_count": 8,
   "metadata": {},
   "outputs": [
    {
     "name": "stdout",
     "output_type": "stream",
     "text": [
      "                            OLS Regression Results                            \n",
      "==============================================================================\n",
      "Dep. Variable:        np.log1p(rides)   R-squared:                       0.902\n",
      "Model:                            OLS   Adj. R-squared:                  0.900\n",
      "Method:                 Least Squares   F-statistic:                     563.2\n",
      "Date:                Sun, 02 Feb 2025   Prob (F-statistic):               0.00\n",
      "Time:                        23:48:39   Log-Likelihood:                -1496.0\n",
      "No. Observations:                7910   AIC:                             3248.\n",
      "Df Residuals:                    7782   BIC:                             4141.\n",
      "Df Model:                         127                                         \n",
      "Covariance Type:            nonrobust                                         \n",
      "==================================================================================\n",
      "                     coef    std err          t      P>|t|      [0.025      0.975]\n",
      "----------------------------------------------------------------------------------\n",
      "Intercept          6.6028      0.038    175.876      0.000       6.529       6.676\n",
      "C(dotw)[T.1]       0.1098      0.010     10.478      0.000       0.089       0.130\n",
      "C(dotw)[T.2]       0.1172      0.010     11.178      0.000       0.097       0.138\n",
      "C(dotw)[T.3]       0.0893      0.010      8.511      0.000       0.069       0.110\n",
      "C(dotw)[T.4]       0.0530      0.011      5.000      0.000       0.032       0.074\n",
      "DNC               -0.0814      0.015     -5.503      0.000      -0.110      -0.052\n",
      "time               0.0014      0.000      7.586      0.000       0.001       0.002\n",
      "==============================================================================\n",
      "Omnibus:                     4300.769   Durbin-Watson:                   1.734\n",
      "Prob(Omnibus):                  0.000   Jarque-Bera (JB):          2812195.826\n",
      "Skew:                           1.215   Prob(JB):                         0.00\n",
      "Kurtosis:                      95.340   Cond. No.                     4.54e+03\n",
      "==============================================================================\n",
      "\n",
      "Notes:\n",
      "[1] Standard Errors assume that the covariance matrix of the errors is correctly specified.\n",
      "[2] The condition number is large, 4.54e+03. This might indicate that there are\n",
      "strong multicollinearity or other numerical problems.\n"
     ]
    }
   ],
   "source": [
    "model_data = panel.loc[panel.transit == 'train']\n",
    "train_fe_model = model_fe(model_data)\n",
    "print_fe(train_fe_model)"
   ]
  },
  {
   "cell_type": "code",
   "execution_count": 9,
   "metadata": {},
   "outputs": [
    {
     "data": {
      "text/html": [
       "<div>\n",
       "<style scoped>\n",
       "    .dataframe tbody tr th:only-of-type {\n",
       "        vertical-align: middle;\n",
       "    }\n",
       "\n",
       "    .dataframe tbody tr th {\n",
       "        vertical-align: top;\n",
       "    }\n",
       "\n",
       "    .dataframe thead th {\n",
       "        text-align: right;\n",
       "    }\n",
       "</style>\n",
       "<table border=\"1\" class=\"dataframe\">\n",
       "  <thead>\n",
       "    <tr style=\"text-align: right;\">\n",
       "      <th></th>\n",
       "      <th>coef</th>\n",
       "      <th>vif</th>\n",
       "    </tr>\n",
       "  </thead>\n",
       "  <tbody>\n",
       "    <tr>\n",
       "      <th>0</th>\n",
       "      <td>Intercept</td>\n",
       "      <td>128.332169</td>\n",
       "    </tr>\n",
       "  </tbody>\n",
       "</table>\n",
       "</div>"
      ],
      "text/plain": [
       "        coef         vif\n",
       "0  Intercept  128.332169"
      ]
     },
     "execution_count": 9,
     "metadata": {},
     "output_type": "execute_result"
    }
   ],
   "source": [
    "compute_vif(train_fe_model)"
   ]
  },
  {
   "cell_type": "code",
   "execution_count": 10,
   "metadata": {},
   "outputs": [
    {
     "name": "stdout",
     "output_type": "stream",
     "text": [
      "Dropping 139 id, 995 obs invariant to DNC\n",
      "Dropping 25 id, 25 obs invariant to time\n",
      "Dropping 32 id, 40 obs invariant to dotw\n",
      "                            OLS Regression Results                            \n",
      "==============================================================================\n",
      "Dep. Variable:        np.log1p(rides)   R-squared:                       0.951\n",
      "Model:                            OLS   Adj. R-squared:                  0.950\n",
      "Method:                 Least Squares   F-statistic:                     1097.\n",
      "Date:                Sun, 02 Feb 2025   Prob (F-statistic):               0.00\n",
      "Time:                        23:49:04   Log-Likelihood:                -27717.\n",
      "No. Observations:               64229   AIC:                         5.765e+04\n",
      "Df Residuals:                   63123   BIC:                         6.768e+04\n",
      "Df Model:                        1105                                         \n",
      "Covariance Type:            nonrobust                                         \n",
      "==========================================================================================\n",
      "                             coef    std err          t      P>|t|      [0.025      0.975]\n",
      "------------------------------------------------------------------------------------------\n",
      "Intercept                  4.8886      0.047    104.528      0.000       4.797       4.980\n",
      "C(dotw)[T.1]               0.1059      0.005     22.389      0.000       0.097       0.115\n",
      "C(dotw)[T.2]               0.2156      0.005     45.743      0.000       0.206       0.225\n",
      "C(dotw)[T.3]               0.3314      0.005     70.442      0.000       0.322       0.341\n",
      "C(dotw)[T.4]               0.5977      0.005    126.136      0.000       0.588       0.607\n",
      "DNC                       -0.0524      0.007     -7.912      0.000      -0.065      -0.039\n",
      "time                       0.0013   8.45e-05     15.759      0.000       0.001       0.001\n",
      "==============================================================================\n",
      "Omnibus:                     5449.075   Durbin-Watson:                   1.950\n",
      "Prob(Omnibus):                  0.000   Jarque-Bera (JB):            32750.003\n",
      "Skew:                          -0.153   Prob(JB):                         0.00\n",
      "Kurtosis:                       6.485   Cond. No.                     3.88e+04\n",
      "==============================================================================\n",
      "\n",
      "Notes:\n",
      "[1] Standard Errors assume that the covariance matrix of the errors is correctly specified.\n",
      "[2] The condition number is large, 3.88e+04. This might indicate that there are\n",
      "strong multicollinearity or other numerical problems.\n"
     ]
    }
   ],
   "source": [
    "model_data = panel.loc[panel.transit == 'uber']\n",
    "uber_fe_model = model_fe(model_data)\n",
    "print_fe(uber_fe_model)"
   ]
  },
  {
   "cell_type": "code",
   "execution_count": 11,
   "metadata": {},
   "outputs": [],
   "source": [
    "# takes forever\n",
    "# # compute_vif(uber_fe_model)"
   ]
  },
  {
   "cell_type": "code",
   "execution_count": 12,
   "metadata": {},
   "outputs": [
    {
     "name": "stdout",
     "output_type": "stream",
     "text": [
      "Dropping 492 id, 3345 obs invariant to DNC\n",
      "Dropping 127 id, 127 obs invariant to time\n",
      "Dropping 143 id, 161 obs invariant to dotw\n",
      "                            OLS Regression Results                            \n",
      "==============================================================================\n",
      "Dep. Variable:        np.log1p(rides)   R-squared:                       0.947\n",
      "Model:                            OLS   Adj. R-squared:                  0.946\n",
      "Method:                 Least Squares   F-statistic:                     831.4\n",
      "Date:                Sun, 02 Feb 2025   Prob (F-statistic):               0.00\n",
      "Time:                        23:49:17   Log-Likelihood:                -18357.\n",
      "No. Observations:               49697   AIC:                         3.881e+04\n",
      "Df Residuals:                   48651   BIC:                         4.802e+04\n",
      "Df Model:                        1045                                         \n",
      "Covariance Type:            nonrobust                                         \n",
      "=============================================================================================================================================\n",
      "                                                                                coef    std err          t      P>|t|      [0.025      0.975]\n",
      "---------------------------------------------------------------------------------------------------------------------------------------------\n",
      "Intercept                                                                     1.6673      0.045     36.949      0.000       1.579       1.756\n",
      "C(dotw)[T.1]                                                                  0.0274      0.005      5.416      0.000       0.017       0.037\n",
      "C(dotw)[T.2]                                                                  0.1199      0.005     23.729      0.000       0.110       0.130\n",
      "C(dotw)[T.3]                                                                  0.0794      0.005     15.687      0.000       0.069       0.089\n",
      "C(dotw)[T.4]                                                                  0.1148      0.005     22.487      0.000       0.105       0.125\n",
      "DNC                                                                           0.0297      0.007      4.274      0.000       0.016       0.043\n",
      "time                                                                       -3.48e-05   9.14e-05     -0.381      0.703      -0.000       0.000\n",
      "==============================================================================\n",
      "Omnibus:                     4276.221   Durbin-Watson:                   1.887\n",
      "Prob(Omnibus):                  0.000   Jarque-Bera (JB):            19366.129\n",
      "Skew:                          -0.314   Prob(JB):                         0.00\n",
      "Kurtosis:                       5.993   Cond. No.                     3.41e+04\n",
      "==============================================================================\n",
      "\n",
      "Notes:\n",
      "[1] Standard Errors assume that the covariance matrix of the errors is correctly specified.\n",
      "[2] The condition number is large, 3.41e+04. This might indicate that there are\n",
      "strong multicollinearity or other numerical problems.\n"
     ]
    }
   ],
   "source": [
    "model_data = panel.loc[panel.transit == 'bike']\n",
    "bike_fe_model = model_fe(model_data)\n",
    "print_fe(bike_fe_model)"
   ]
  },
  {
   "cell_type": "code",
   "execution_count": 13,
   "metadata": {},
   "outputs": [],
   "source": [
    "# Takes forever\n",
    "# # compute_vif(bike_fe_model)"
   ]
  },
  {
   "cell_type": "code",
   "execution_count": 14,
   "metadata": {},
   "outputs": [
    {
     "name": "stdout",
     "output_type": "stream",
     "text": [
      "|                | FE (Uber)   | FE (Train)   | FE (Bike)   |\n",
      "|----------------|-------------|--------------|-------------|\n",
      "| During DNC     | -0.0524***  | -0.0814***   | 0.0297***   |\n",
      "|                | (0.0066)    | (0.0148)     | (0.0069)    |\n",
      "| time trend     | 0.0013***   | 0.0014***    | -0.0000     |\n",
      "|                | (0.0001)    | (0.0002)     | (0.0001)    |\n",
      "| Tuesday        | 0.1059***   | 0.1098***    | 0.0274***   |\n",
      "|                | (0.0047)    | (0.0105)     | (0.0051)    |\n",
      "| Wednesday      | 0.2156***   | 0.1172***    | 0.1199***   |\n",
      "|                | (0.0047)    | (0.0105)     | (0.0051)    |\n",
      "| Thursday       | 0.3314***   | 0.0893***    | 0.0794***   |\n",
      "|                | (0.0047)    | (0.0105)     | (0.0051)    |\n",
      "| Friday         | 0.5977***   | 0.0530***    | 0.1148***   |\n",
      "|                | (0.0047)    | (0.0106)     | (0.0051)    |\n",
      "| R-squared      | 0.9505      | 0.9019       | 0.9470      |\n",
      "| R-squared Adj. | 0.9497      | 0.9003       | 0.9458      |\n",
      "| N              | 64229.0     | 7910.0       | 49697.0     |\n"
     ]
    }
   ],
   "source": [
    "fe_summary = summary_col([uber_fe_model, train_fe_model, bike_fe_model], \n",
    "            model_names=[\"FE (Uber)\", \"FE (Train)\", \"FE (Bike)\"], \n",
    "            info_dict={\"N\":lambda x:(x.nobs)},\n",
    "            stars=True,\n",
    "            regressor_order=['DNC','time'] + list(dotw_names.keys()),\n",
    "            drop_omitted=True)\n",
    "\n",
    "fe_summary.tables[0].index = (fe_summary.tables[0].index\n",
    "                              .map(lambda x: dotw_names[x] if x in dotw_names else x)\n",
    "                              .str.replace('DNC','During DNC')\n",
    "                              .str.replace('time','time trend'))\n",
    "\n",
    "fe_table = tabulate(fe_summary.tables[0],\n",
    "                   headers=[\"\", \"FE (Uber)\", \"FE (Train)\", \"FE (Bike)\"],\n",
    "                   showindex=True,\n",
    "                   tablefmt='github')\n",
    "with open(\"../../../reports/replication/fe.md\",\"w\") as f:\n",
    "    f.write(fe_table)\n",
    "    print(fe_table)\n",
    "!cp ../../../reports/replication/fe.md ../../../../eric-mc2-cv/static/uploads/"
   ]
  },
  {
   "cell_type": "code",
   "execution_count": 15,
   "metadata": {},
   "outputs": [
    {
     "data": {
      "text/plain": [
       "FE (Uber)     -5.1%\n",
       "FE (Train)    -7.8%\n",
       "FE (Bike)      3.0%\n",
       "Name: During DNC, dtype: object"
      ]
     },
     "execution_count": 15,
     "metadata": {},
     "output_type": "execute_result"
    }
   ],
   "source": [
    "main_effect = fe_summary.tables[0].xs('During DNC').str.replace('*','').astype(float)\n",
    "main_pct = np.exp(main_effect) - 1\n",
    "main_pct.apply(\"{:.1%}\".format)"
   ]
  },
  {
   "cell_type": "markdown",
   "metadata": {},
   "source": [
    "## DiffNDiff"
   ]
  },
  {
   "cell_type": "code",
   "execution_count": 16,
   "metadata": {},
   "outputs": [],
   "source": [
    "def did_colinearity(df):\n",
    "    mask = np.full_like(df.index, True)\n",
    "    mask &= mask_colinear(df, 'id', 'DNC')\n",
    "    mask &= mask_colinear(df, 'date', 'UCMP')\n",
    "    df = df.loc[mask]\n",
    "    return df\n",
    "\n",
    "def model_transit_did(df, transit):\n",
    "    df = df.sort_values('date')\n",
    "    df['time'] = pd.Categorical(df['date']).codes\n",
    "    # contained_terms = ['train_contained','bike_contained','bus_contained']\n",
    "    # contained_term = \" + \".join([c for c in contained_terms if c in df.columns])\n",
    "    # contained_term = contained_term if contained_term else \"1\"\n",
    "    dist_terms = ['log_train_distance','log_bike_distance','log_bus_distance']\n",
    "    dist_terms = [c for c in dist_terms if c in df.columns and transit not in c]\n",
    "    dist_term = \" + \".join(dist_terms)\n",
    "    dist_term = dist_term if dist_term else \"1\"\n",
    "    # Assert that spatial units have time variance (only need to test group inclusion, not every variable.)\n",
    "    df = did_colinearity(df)\n",
    "    formula = f\"\"\"logrides ~ \n",
    "                UCMP * DNC +\n",
    "                time + C(dotw) +\n",
    "                {dist_term} +\n",
    "                lat + long + I(lat * long) \n",
    "                + I(lat**2) + I(long**2)\n",
    "                \"\"\"\n",
    "    did_model = sm.OLS.from_formula(formula, df).fit()\n",
    "    return did_model"
   ]
  },
  {
   "cell_type": "code",
   "execution_count": 17,
   "metadata": {},
   "outputs": [
    {
     "name": "stdout",
     "output_type": "stream",
     "text": [
      "Dropping 492 id, 3345 obs invariant to DNC\n"
     ]
    },
    {
     "data": {
      "text/html": [
       "<table class=\"simpletable\">\n",
       "<caption>OLS Regression Results</caption>\n",
       "<tr>\n",
       "  <th>Dep. Variable:</th>        <td>logrides</td>     <th>  R-squared:         </th> <td>   0.667</td> \n",
       "</tr>\n",
       "<tr>\n",
       "  <th>Model:</th>                   <td>OLS</td>       <th>  Adj. R-squared:    </th> <td>   0.667</td> \n",
       "</tr>\n",
       "<tr>\n",
       "  <th>Method:</th>             <td>Least Squares</td>  <th>  F-statistic:       </th> <td>   6640.</td> \n",
       "</tr>\n",
       "<tr>\n",
       "  <th>Date:</th>             <td>Sun, 02 Feb 2025</td> <th>  Prob (F-statistic):</th>  <td>  0.00</td>  \n",
       "</tr>\n",
       "<tr>\n",
       "  <th>Time:</th>                 <td>23:49:19</td>     <th>  Log-Likelihood:    </th> <td> -64010.</td> \n",
       "</tr>\n",
       "<tr>\n",
       "  <th>No. Observations:</th>      <td> 49704</td>      <th>  AIC:               </th> <td>1.281e+05</td>\n",
       "</tr>\n",
       "<tr>\n",
       "  <th>Df Residuals:</th>          <td> 49688</td>      <th>  BIC:               </th> <td>1.282e+05</td>\n",
       "</tr>\n",
       "<tr>\n",
       "  <th>Df Model:</th>              <td>    15</td>      <th>                     </th>     <td> </td>    \n",
       "</tr>\n",
       "<tr>\n",
       "  <th>Covariance Type:</th>      <td>nonrobust</td>    <th>                     </th>     <td> </td>    \n",
       "</tr>\n",
       "</table>\n",
       "<table class=\"simpletable\">\n",
       "<tr>\n",
       "           <td></td>             <th>coef</th>     <th>std err</th>      <th>t</th>      <th>P>|t|</th>  <th>[0.025</th>    <th>0.975]</th>  \n",
       "</tr>\n",
       "<tr>\n",
       "  <th>Intercept</th>          <td>    3.8150</td> <td>    0.028</td> <td>  138.036</td> <td> 0.000</td> <td>    3.761</td> <td>    3.869</td>\n",
       "</tr>\n",
       "<tr>\n",
       "  <th>C(dotw)[T.1]</th>       <td>    0.0218</td> <td>    0.013</td> <td>    1.741</td> <td> 0.082</td> <td>   -0.003</td> <td>    0.046</td>\n",
       "</tr>\n",
       "<tr>\n",
       "  <th>C(dotw)[T.2]</th>       <td>    0.1156</td> <td>    0.012</td> <td>    9.258</td> <td> 0.000</td> <td>    0.091</td> <td>    0.140</td>\n",
       "</tr>\n",
       "<tr>\n",
       "  <th>C(dotw)[T.3]</th>       <td>    0.0701</td> <td>    0.013</td> <td>    5.603</td> <td> 0.000</td> <td>    0.046</td> <td>    0.095</td>\n",
       "</tr>\n",
       "<tr>\n",
       "  <th>C(dotw)[T.4]</th>       <td>    0.0963</td> <td>    0.013</td> <td>    7.632</td> <td> 0.000</td> <td>    0.072</td> <td>    0.121</td>\n",
       "</tr>\n",
       "<tr>\n",
       "  <th>UCMP</th>               <td>    0.1523</td> <td>    0.018</td> <td>    8.365</td> <td> 0.000</td> <td>    0.117</td> <td>    0.188</td>\n",
       "</tr>\n",
       "<tr>\n",
       "  <th>DNC</th>                <td>    0.0118</td> <td>    0.018</td> <td>    0.673</td> <td> 0.501</td> <td>   -0.023</td> <td>    0.046</td>\n",
       "</tr>\n",
       "<tr>\n",
       "  <th>UCMP:DNC</th>           <td>    0.2386</td> <td>    0.071</td> <td>    3.363</td> <td> 0.001</td> <td>    0.100</td> <td>    0.378</td>\n",
       "</tr>\n",
       "<tr>\n",
       "  <th>time</th>               <td>-3.105e-05</td> <td>    0.000</td> <td>   -0.138</td> <td> 0.890</td> <td>   -0.000</td> <td>    0.000</td>\n",
       "</tr>\n",
       "<tr>\n",
       "  <th>log_train_distance</th> <td>   -0.0865</td> <td>    0.003</td> <td>  -29.626</td> <td> 0.000</td> <td>   -0.092</td> <td>   -0.081</td>\n",
       "</tr>\n",
       "<tr>\n",
       "  <th>log_bus_distance</th>   <td>   -0.0073</td> <td>    0.004</td> <td>   -1.674</td> <td> 0.094</td> <td>   -0.016</td> <td>    0.001</td>\n",
       "</tr>\n",
       "<tr>\n",
       "  <th>lat</th>                <td>    0.7029</td> <td>    0.006</td> <td>  123.960</td> <td> 0.000</td> <td>    0.692</td> <td>    0.714</td>\n",
       "</tr>\n",
       "<tr>\n",
       "  <th>long</th>               <td>    1.3138</td> <td>    0.006</td> <td>  216.439</td> <td> 0.000</td> <td>    1.302</td> <td>    1.326</td>\n",
       "</tr>\n",
       "<tr>\n",
       "  <th>I(lat * long)</th>      <td>    0.5203</td> <td>    0.007</td> <td>   76.389</td> <td> 0.000</td> <td>    0.507</td> <td>    0.534</td>\n",
       "</tr>\n",
       "<tr>\n",
       "  <th>I(lat ** 2)</th>        <td>   -0.2586</td> <td>    0.004</td> <td>  -63.105</td> <td> 0.000</td> <td>   -0.267</td> <td>   -0.251</td>\n",
       "</tr>\n",
       "<tr>\n",
       "  <th>I(long ** 2)</th>       <td>    0.2299</td> <td>    0.005</td> <td>   48.675</td> <td> 0.000</td> <td>    0.221</td> <td>    0.239</td>\n",
       "</tr>\n",
       "</table>\n",
       "<table class=\"simpletable\">\n",
       "<tr>\n",
       "  <th>Omnibus:</th>       <td>672.035</td> <th>  Durbin-Watson:     </th> <td>   1.729</td> \n",
       "</tr>\n",
       "<tr>\n",
       "  <th>Prob(Omnibus):</th> <td> 0.000</td>  <th>  Jarque-Bera (JB):  </th> <td> 730.179</td> \n",
       "</tr>\n",
       "<tr>\n",
       "  <th>Skew:</th>          <td>-0.259</td>  <th>  Prob(JB):          </th> <td>2.78e-159</td>\n",
       "</tr>\n",
       "<tr>\n",
       "  <th>Kurtosis:</th>      <td> 3.291</td>  <th>  Cond. No.          </th> <td>    688.</td> \n",
       "</tr>\n",
       "</table><br/><br/>Notes:<br/>[1] Standard Errors assume that the covariance matrix of the errors is correctly specified."
      ],
      "text/latex": [
       "\\begin{center}\n",
       "\\begin{tabular}{lclc}\n",
       "\\toprule\n",
       "\\textbf{Dep. Variable:}       &     logrides     & \\textbf{  R-squared:         } &     0.667   \\\\\n",
       "\\textbf{Model:}               &       OLS        & \\textbf{  Adj. R-squared:    } &     0.667   \\\\\n",
       "\\textbf{Method:}              &  Least Squares   & \\textbf{  F-statistic:       } &     6640.   \\\\\n",
       "\\textbf{Date:}                & Sun, 02 Feb 2025 & \\textbf{  Prob (F-statistic):} &     0.00    \\\\\n",
       "\\textbf{Time:}                &     23:49:19     & \\textbf{  Log-Likelihood:    } &   -64010.   \\\\\n",
       "\\textbf{No. Observations:}    &       49704      & \\textbf{  AIC:               } & 1.281e+05   \\\\\n",
       "\\textbf{Df Residuals:}        &       49688      & \\textbf{  BIC:               } & 1.282e+05   \\\\\n",
       "\\textbf{Df Model:}            &          15      & \\textbf{                     } &             \\\\\n",
       "\\textbf{Covariance Type:}     &    nonrobust     & \\textbf{                     } &             \\\\\n",
       "\\bottomrule\n",
       "\\end{tabular}\n",
       "\\begin{tabular}{lcccccc}\n",
       "                              & \\textbf{coef} & \\textbf{std err} & \\textbf{t} & \\textbf{P$> |$t$|$} & \\textbf{[0.025} & \\textbf{0.975]}  \\\\\n",
       "\\midrule\n",
       "\\textbf{Intercept}            &       3.8150  &        0.028     &   138.036  &         0.000        &        3.761    &        3.869     \\\\\n",
       "\\textbf{C(dotw)[T.1]}         &       0.0218  &        0.013     &     1.741  &         0.082        &       -0.003    &        0.046     \\\\\n",
       "\\textbf{C(dotw)[T.2]}         &       0.1156  &        0.012     &     9.258  &         0.000        &        0.091    &        0.140     \\\\\n",
       "\\textbf{C(dotw)[T.3]}         &       0.0701  &        0.013     &     5.603  &         0.000        &        0.046    &        0.095     \\\\\n",
       "\\textbf{C(dotw)[T.4]}         &       0.0963  &        0.013     &     7.632  &         0.000        &        0.072    &        0.121     \\\\\n",
       "\\textbf{UCMP}                 &       0.1523  &        0.018     &     8.365  &         0.000        &        0.117    &        0.188     \\\\\n",
       "\\textbf{DNC}                  &       0.0118  &        0.018     &     0.673  &         0.501        &       -0.023    &        0.046     \\\\\n",
       "\\textbf{UCMP:DNC}             &       0.2386  &        0.071     &     3.363  &         0.001        &        0.100    &        0.378     \\\\\n",
       "\\textbf{time}                 &   -3.105e-05  &        0.000     &    -0.138  &         0.890        &       -0.000    &        0.000     \\\\\n",
       "\\textbf{log\\_train\\_distance} &      -0.0865  &        0.003     &   -29.626  &         0.000        &       -0.092    &       -0.081     \\\\\n",
       "\\textbf{log\\_bus\\_distance}   &      -0.0073  &        0.004     &    -1.674  &         0.094        &       -0.016    &        0.001     \\\\\n",
       "\\textbf{lat}                  &       0.7029  &        0.006     &   123.960  &         0.000        &        0.692    &        0.714     \\\\\n",
       "\\textbf{long}                 &       1.3138  &        0.006     &   216.439  &         0.000        &        1.302    &        1.326     \\\\\n",
       "\\textbf{I(lat * long)}        &       0.5203  &        0.007     &    76.389  &         0.000        &        0.507    &        0.534     \\\\\n",
       "\\textbf{I(lat ** 2)}          &      -0.2586  &        0.004     &   -63.105  &         0.000        &       -0.267    &       -0.251     \\\\\n",
       "\\textbf{I(long ** 2)}         &       0.2299  &        0.005     &    48.675  &         0.000        &        0.221    &        0.239     \\\\\n",
       "\\bottomrule\n",
       "\\end{tabular}\n",
       "\\begin{tabular}{lclc}\n",
       "\\textbf{Omnibus:}       & 672.035 & \\textbf{  Durbin-Watson:     } &     1.729  \\\\\n",
       "\\textbf{Prob(Omnibus):} &   0.000 & \\textbf{  Jarque-Bera (JB):  } &   730.179  \\\\\n",
       "\\textbf{Skew:}          &  -0.259 & \\textbf{  Prob(JB):          } & 2.78e-159  \\\\\n",
       "\\textbf{Kurtosis:}      &   3.291 & \\textbf{  Cond. No.          } &      688.  \\\\\n",
       "\\bottomrule\n",
       "\\end{tabular}\n",
       "%\\caption{OLS Regression Results}\n",
       "\\end{center}\n",
       "\n",
       "Notes: \\newline\n",
       " [1] Standard Errors assume that the covariance matrix of the errors is correctly specified."
      ],
      "text/plain": [
       "<class 'statsmodels.iolib.summary.Summary'>\n",
       "\"\"\"\n",
       "                            OLS Regression Results                            \n",
       "==============================================================================\n",
       "Dep. Variable:               logrides   R-squared:                       0.667\n",
       "Model:                            OLS   Adj. R-squared:                  0.667\n",
       "Method:                 Least Squares   F-statistic:                     6640.\n",
       "Date:                Sun, 02 Feb 2025   Prob (F-statistic):               0.00\n",
       "Time:                        23:49:19   Log-Likelihood:                -64010.\n",
       "No. Observations:               49704   AIC:                         1.281e+05\n",
       "Df Residuals:                   49688   BIC:                         1.282e+05\n",
       "Df Model:                          15                                         \n",
       "Covariance Type:            nonrobust                                         \n",
       "======================================================================================\n",
       "                         coef    std err          t      P>|t|      [0.025      0.975]\n",
       "--------------------------------------------------------------------------------------\n",
       "Intercept              3.8150      0.028    138.036      0.000       3.761       3.869\n",
       "C(dotw)[T.1]           0.0218      0.013      1.741      0.082      -0.003       0.046\n",
       "C(dotw)[T.2]           0.1156      0.012      9.258      0.000       0.091       0.140\n",
       "C(dotw)[T.3]           0.0701      0.013      5.603      0.000       0.046       0.095\n",
       "C(dotw)[T.4]           0.0963      0.013      7.632      0.000       0.072       0.121\n",
       "UCMP                   0.1523      0.018      8.365      0.000       0.117       0.188\n",
       "DNC                    0.0118      0.018      0.673      0.501      -0.023       0.046\n",
       "UCMP:DNC               0.2386      0.071      3.363      0.001       0.100       0.378\n",
       "time               -3.105e-05      0.000     -0.138      0.890      -0.000       0.000\n",
       "log_train_distance    -0.0865      0.003    -29.626      0.000      -0.092      -0.081\n",
       "log_bus_distance      -0.0073      0.004     -1.674      0.094      -0.016       0.001\n",
       "lat                    0.7029      0.006    123.960      0.000       0.692       0.714\n",
       "long                   1.3138      0.006    216.439      0.000       1.302       1.326\n",
       "I(lat * long)          0.5203      0.007     76.389      0.000       0.507       0.534\n",
       "I(lat ** 2)           -0.2586      0.004    -63.105      0.000      -0.267      -0.251\n",
       "I(long ** 2)           0.2299      0.005     48.675      0.000       0.221       0.239\n",
       "==============================================================================\n",
       "Omnibus:                      672.035   Durbin-Watson:                   1.729\n",
       "Prob(Omnibus):                  0.000   Jarque-Bera (JB):              730.179\n",
       "Skew:                          -0.259   Prob(JB):                    2.78e-159\n",
       "Kurtosis:                       3.291   Cond. No.                         688.\n",
       "==============================================================================\n",
       "\n",
       "Notes:\n",
       "[1] Standard Errors assume that the covariance matrix of the errors is correctly specified.\n",
       "\"\"\""
      ]
     },
     "execution_count": 17,
     "metadata": {},
     "output_type": "execute_result"
    }
   ],
   "source": [
    "model_data = panel.loc[panel.transit == 'bike']\n",
    "bike_did_model = model_transit_did(model_data, 'bike')\n",
    "bike_did_model.summary()"
   ]
  },
  {
   "cell_type": "code",
   "execution_count": 18,
   "metadata": {},
   "outputs": [
    {
     "data": {
      "text/html": [
       "<table class=\"simpletable\">\n",
       "<caption>OLS Regression Results</caption>\n",
       "<tr>\n",
       "  <th>Dep. Variable:</th>        <td>logrides</td>     <th>  R-squared:         </th> <td>   0.289</td> \n",
       "</tr>\n",
       "<tr>\n",
       "  <th>Model:</th>                   <td>OLS</td>       <th>  Adj. R-squared:    </th> <td>   0.288</td> \n",
       "</tr>\n",
       "<tr>\n",
       "  <th>Method:</th>             <td>Least Squares</td>  <th>  F-statistic:       </th> <td>   214.3</td> \n",
       "</tr>\n",
       "<tr>\n",
       "  <th>Date:</th>             <td>Sun, 02 Feb 2025</td> <th>  Prob (F-statistic):</th>  <td>  0.00</td>  \n",
       "</tr>\n",
       "<tr>\n",
       "  <th>Time:</th>                 <td>23:49:19</td>     <th>  Log-Likelihood:    </th> <td> -9326.8</td> \n",
       "</tr>\n",
       "<tr>\n",
       "  <th>No. Observations:</th>      <td>  7910</td>      <th>  AIC:               </th> <td>1.869e+04</td>\n",
       "</tr>\n",
       "<tr>\n",
       "  <th>Df Residuals:</th>          <td>  7894</td>      <th>  BIC:               </th> <td>1.880e+04</td>\n",
       "</tr>\n",
       "<tr>\n",
       "  <th>Df Model:</th>              <td>    15</td>      <th>                     </th>     <td> </td>    \n",
       "</tr>\n",
       "<tr>\n",
       "  <th>Covariance Type:</th>      <td>nonrobust</td>    <th>                     </th>     <td> </td>    \n",
       "</tr>\n",
       "</table>\n",
       "<table class=\"simpletable\">\n",
       "<tr>\n",
       "          <td></td>             <th>coef</th>     <th>std err</th>      <th>t</th>      <th>P>|t|</th>  <th>[0.025</th>    <th>0.975]</th>  \n",
       "</tr>\n",
       "<tr>\n",
       "  <th>Intercept</th>         <td>    6.6702</td> <td>    0.075</td> <td>   88.650</td> <td> 0.000</td> <td>    6.523</td> <td>    6.818</td>\n",
       "</tr>\n",
       "<tr>\n",
       "  <th>C(dotw)[T.1]</th>      <td>    0.1104</td> <td>    0.028</td> <td>    3.941</td> <td> 0.000</td> <td>    0.055</td> <td>    0.165</td>\n",
       "</tr>\n",
       "<tr>\n",
       "  <th>C(dotw)[T.2]</th>      <td>    0.1183</td> <td>    0.028</td> <td>    4.222</td> <td> 0.000</td> <td>    0.063</td> <td>    0.173</td>\n",
       "</tr>\n",
       "<tr>\n",
       "  <th>C(dotw)[T.3]</th>      <td>    0.0910</td> <td>    0.028</td> <td>    3.244</td> <td> 0.001</td> <td>    0.036</td> <td>    0.146</td>\n",
       "</tr>\n",
       "<tr>\n",
       "  <th>C(dotw)[T.4]</th>      <td>    0.0556</td> <td>    0.028</td> <td>    1.965</td> <td> 0.049</td> <td>    0.000</td> <td>    0.111</td>\n",
       "</tr>\n",
       "<tr>\n",
       "  <th>UCMP</th>              <td>   -0.6559</td> <td>    0.039</td> <td>  -16.805</td> <td> 0.000</td> <td>   -0.732</td> <td>   -0.579</td>\n",
       "</tr>\n",
       "<tr>\n",
       "  <th>DNC</th>               <td>   -0.1214</td> <td>    0.041</td> <td>   -2.981</td> <td> 0.003</td> <td>   -0.201</td> <td>   -0.042</td>\n",
       "</tr>\n",
       "<tr>\n",
       "  <th>UCMP:DNC</th>          <td>    0.7023</td> <td>    0.149</td> <td>    4.718</td> <td> 0.000</td> <td>    0.411</td> <td>    0.994</td>\n",
       "</tr>\n",
       "<tr>\n",
       "  <th>time</th>              <td>    0.0009</td> <td>    0.001</td> <td>    1.755</td> <td> 0.079</td> <td>   -0.000</td> <td>    0.002</td>\n",
       "</tr>\n",
       "<tr>\n",
       "  <th>log_bike_distance</th> <td>    0.1948</td> <td>    0.013</td> <td>   14.756</td> <td> 0.000</td> <td>    0.169</td> <td>    0.221</td>\n",
       "</tr>\n",
       "<tr>\n",
       "  <th>log_bus_distance</th>  <td>   -0.0714</td> <td>    0.010</td> <td>   -6.816</td> <td> 0.000</td> <td>   -0.092</td> <td>   -0.051</td>\n",
       "</tr>\n",
       "<tr>\n",
       "  <th>lat</th>               <td>    0.3875</td> <td>    0.012</td> <td>   33.062</td> <td> 0.000</td> <td>    0.365</td> <td>    0.411</td>\n",
       "</tr>\n",
       "<tr>\n",
       "  <th>long</th>              <td>    0.6650</td> <td>    0.015</td> <td>   44.386</td> <td> 0.000</td> <td>    0.636</td> <td>    0.694</td>\n",
       "</tr>\n",
       "<tr>\n",
       "  <th>I(lat * long)</th>     <td>    0.3656</td> <td>    0.017</td> <td>   21.277</td> <td> 0.000</td> <td>    0.332</td> <td>    0.399</td>\n",
       "</tr>\n",
       "<tr>\n",
       "  <th>I(lat ** 2)</th>       <td>    0.0051</td> <td>    0.011</td> <td>    0.460</td> <td> 0.645</td> <td>   -0.017</td> <td>    0.027</td>\n",
       "</tr>\n",
       "<tr>\n",
       "  <th>I(long ** 2)</th>      <td>    0.2652</td> <td>    0.008</td> <td>   33.103</td> <td> 0.000</td> <td>    0.250</td> <td>    0.281</td>\n",
       "</tr>\n",
       "</table>\n",
       "<table class=\"simpletable\">\n",
       "<tr>\n",
       "  <th>Omnibus:</th>       <td>3009.495</td> <th>  Durbin-Watson:     </th> <td>   2.110</td> \n",
       "</tr>\n",
       "<tr>\n",
       "  <th>Prob(Omnibus):</th>  <td> 0.000</td>  <th>  Jarque-Bera (JB):  </th> <td>38524.904</td>\n",
       "</tr>\n",
       "<tr>\n",
       "  <th>Skew:</th>           <td>-1.460</td>  <th>  Prob(JB):          </th> <td>    0.00</td> \n",
       "</tr>\n",
       "<tr>\n",
       "  <th>Kurtosis:</th>       <td>13.410</td>  <th>  Cond. No.          </th> <td>    636.</td> \n",
       "</tr>\n",
       "</table><br/><br/>Notes:<br/>[1] Standard Errors assume that the covariance matrix of the errors is correctly specified."
      ],
      "text/latex": [
       "\\begin{center}\n",
       "\\begin{tabular}{lclc}\n",
       "\\toprule\n",
       "\\textbf{Dep. Variable:}      &     logrides     & \\textbf{  R-squared:         } &     0.289   \\\\\n",
       "\\textbf{Model:}              &       OLS        & \\textbf{  Adj. R-squared:    } &     0.288   \\\\\n",
       "\\textbf{Method:}             &  Least Squares   & \\textbf{  F-statistic:       } &     214.3   \\\\\n",
       "\\textbf{Date:}               & Sun, 02 Feb 2025 & \\textbf{  Prob (F-statistic):} &     0.00    \\\\\n",
       "\\textbf{Time:}               &     23:49:19     & \\textbf{  Log-Likelihood:    } &   -9326.8   \\\\\n",
       "\\textbf{No. Observations:}   &        7910      & \\textbf{  AIC:               } & 1.869e+04   \\\\\n",
       "\\textbf{Df Residuals:}       &        7894      & \\textbf{  BIC:               } & 1.880e+04   \\\\\n",
       "\\textbf{Df Model:}           &          15      & \\textbf{                     } &             \\\\\n",
       "\\textbf{Covariance Type:}    &    nonrobust     & \\textbf{                     } &             \\\\\n",
       "\\bottomrule\n",
       "\\end{tabular}\n",
       "\\begin{tabular}{lcccccc}\n",
       "                             & \\textbf{coef} & \\textbf{std err} & \\textbf{t} & \\textbf{P$> |$t$|$} & \\textbf{[0.025} & \\textbf{0.975]}  \\\\\n",
       "\\midrule\n",
       "\\textbf{Intercept}           &       6.6702  &        0.075     &    88.650  &         0.000        &        6.523    &        6.818     \\\\\n",
       "\\textbf{C(dotw)[T.1]}        &       0.1104  &        0.028     &     3.941  &         0.000        &        0.055    &        0.165     \\\\\n",
       "\\textbf{C(dotw)[T.2]}        &       0.1183  &        0.028     &     4.222  &         0.000        &        0.063    &        0.173     \\\\\n",
       "\\textbf{C(dotw)[T.3]}        &       0.0910  &        0.028     &     3.244  &         0.001        &        0.036    &        0.146     \\\\\n",
       "\\textbf{C(dotw)[T.4]}        &       0.0556  &        0.028     &     1.965  &         0.049        &        0.000    &        0.111     \\\\\n",
       "\\textbf{UCMP}                &      -0.6559  &        0.039     &   -16.805  &         0.000        &       -0.732    &       -0.579     \\\\\n",
       "\\textbf{DNC}                 &      -0.1214  &        0.041     &    -2.981  &         0.003        &       -0.201    &       -0.042     \\\\\n",
       "\\textbf{UCMP:DNC}            &       0.7023  &        0.149     &     4.718  &         0.000        &        0.411    &        0.994     \\\\\n",
       "\\textbf{time}                &       0.0009  &        0.001     &     1.755  &         0.079        &       -0.000    &        0.002     \\\\\n",
       "\\textbf{log\\_bike\\_distance} &       0.1948  &        0.013     &    14.756  &         0.000        &        0.169    &        0.221     \\\\\n",
       "\\textbf{log\\_bus\\_distance}  &      -0.0714  &        0.010     &    -6.816  &         0.000        &       -0.092    &       -0.051     \\\\\n",
       "\\textbf{lat}                 &       0.3875  &        0.012     &    33.062  &         0.000        &        0.365    &        0.411     \\\\\n",
       "\\textbf{long}                &       0.6650  &        0.015     &    44.386  &         0.000        &        0.636    &        0.694     \\\\\n",
       "\\textbf{I(lat * long)}       &       0.3656  &        0.017     &    21.277  &         0.000        &        0.332    &        0.399     \\\\\n",
       "\\textbf{I(lat ** 2)}         &       0.0051  &        0.011     &     0.460  &         0.645        &       -0.017    &        0.027     \\\\\n",
       "\\textbf{I(long ** 2)}        &       0.2652  &        0.008     &    33.103  &         0.000        &        0.250    &        0.281     \\\\\n",
       "\\bottomrule\n",
       "\\end{tabular}\n",
       "\\begin{tabular}{lclc}\n",
       "\\textbf{Omnibus:}       & 3009.495 & \\textbf{  Durbin-Watson:     } &     2.110  \\\\\n",
       "\\textbf{Prob(Omnibus):} &   0.000  & \\textbf{  Jarque-Bera (JB):  } & 38524.904  \\\\\n",
       "\\textbf{Skew:}          &  -1.460  & \\textbf{  Prob(JB):          } &      0.00  \\\\\n",
       "\\textbf{Kurtosis:}      &  13.410  & \\textbf{  Cond. No.          } &      636.  \\\\\n",
       "\\bottomrule\n",
       "\\end{tabular}\n",
       "%\\caption{OLS Regression Results}\n",
       "\\end{center}\n",
       "\n",
       "Notes: \\newline\n",
       " [1] Standard Errors assume that the covariance matrix of the errors is correctly specified."
      ],
      "text/plain": [
       "<class 'statsmodels.iolib.summary.Summary'>\n",
       "\"\"\"\n",
       "                            OLS Regression Results                            \n",
       "==============================================================================\n",
       "Dep. Variable:               logrides   R-squared:                       0.289\n",
       "Model:                            OLS   Adj. R-squared:                  0.288\n",
       "Method:                 Least Squares   F-statistic:                     214.3\n",
       "Date:                Sun, 02 Feb 2025   Prob (F-statistic):               0.00\n",
       "Time:                        23:49:19   Log-Likelihood:                -9326.8\n",
       "No. Observations:                7910   AIC:                         1.869e+04\n",
       "Df Residuals:                    7894   BIC:                         1.880e+04\n",
       "Df Model:                          15                                         \n",
       "Covariance Type:            nonrobust                                         \n",
       "=====================================================================================\n",
       "                        coef    std err          t      P>|t|      [0.025      0.975]\n",
       "-------------------------------------------------------------------------------------\n",
       "Intercept             6.6702      0.075     88.650      0.000       6.523       6.818\n",
       "C(dotw)[T.1]          0.1104      0.028      3.941      0.000       0.055       0.165\n",
       "C(dotw)[T.2]          0.1183      0.028      4.222      0.000       0.063       0.173\n",
       "C(dotw)[T.3]          0.0910      0.028      3.244      0.001       0.036       0.146\n",
       "C(dotw)[T.4]          0.0556      0.028      1.965      0.049       0.000       0.111\n",
       "UCMP                 -0.6559      0.039    -16.805      0.000      -0.732      -0.579\n",
       "DNC                  -0.1214      0.041     -2.981      0.003      -0.201      -0.042\n",
       "UCMP:DNC              0.7023      0.149      4.718      0.000       0.411       0.994\n",
       "time                  0.0009      0.001      1.755      0.079      -0.000       0.002\n",
       "log_bike_distance     0.1948      0.013     14.756      0.000       0.169       0.221\n",
       "log_bus_distance     -0.0714      0.010     -6.816      0.000      -0.092      -0.051\n",
       "lat                   0.3875      0.012     33.062      0.000       0.365       0.411\n",
       "long                  0.6650      0.015     44.386      0.000       0.636       0.694\n",
       "I(lat * long)         0.3656      0.017     21.277      0.000       0.332       0.399\n",
       "I(lat ** 2)           0.0051      0.011      0.460      0.645      -0.017       0.027\n",
       "I(long ** 2)          0.2652      0.008     33.103      0.000       0.250       0.281\n",
       "==============================================================================\n",
       "Omnibus:                     3009.495   Durbin-Watson:                   2.110\n",
       "Prob(Omnibus):                  0.000   Jarque-Bera (JB):            38524.904\n",
       "Skew:                          -1.460   Prob(JB):                         0.00\n",
       "Kurtosis:                      13.410   Cond. No.                         636.\n",
       "==============================================================================\n",
       "\n",
       "Notes:\n",
       "[1] Standard Errors assume that the covariance matrix of the errors is correctly specified.\n",
       "\"\"\""
      ]
     },
     "execution_count": 18,
     "metadata": {},
     "output_type": "execute_result"
    }
   ],
   "source": [
    "model_data = panel.loc[panel.transit == 'train']\n",
    "train_did_model = model_transit_did(model_data, 'train')\n",
    "train_did_model.summary()"
   ]
  },
  {
   "cell_type": "code",
   "execution_count": 19,
   "metadata": {},
   "outputs": [
    {
     "name": "stdout",
     "output_type": "stream",
     "text": [
      "Dropping 139 id, 995 obs invariant to DNC\n"
     ]
    },
    {
     "data": {
      "text/html": [
       "<table class=\"simpletable\">\n",
       "<caption>OLS Regression Results</caption>\n",
       "<tr>\n",
       "  <th>Dep. Variable:</th>        <td>logrides</td>     <th>  R-squared:         </th>  <td>   0.452</td>  \n",
       "</tr>\n",
       "<tr>\n",
       "  <th>Model:</th>                   <td>OLS</td>       <th>  Adj. R-squared:    </th>  <td>   0.452</td>  \n",
       "</tr>\n",
       "<tr>\n",
       "  <th>Method:</th>             <td>Least Squares</td>  <th>  F-statistic:       </th>  <td>   3312.</td>  \n",
       "</tr>\n",
       "<tr>\n",
       "  <th>Date:</th>             <td>Sun, 02 Feb 2025</td> <th>  Prob (F-statistic):</th>   <td>  0.00</td>   \n",
       "</tr>\n",
       "<tr>\n",
       "  <th>Time:</th>                 <td>23:49:20</td>     <th>  Log-Likelihood:    </th> <td>-1.0494e+05</td>\n",
       "</tr>\n",
       "<tr>\n",
       "  <th>No. Observations:</th>      <td> 64231</td>      <th>  AIC:               </th>  <td>2.099e+05</td> \n",
       "</tr>\n",
       "<tr>\n",
       "  <th>Df Residuals:</th>          <td> 64214</td>      <th>  BIC:               </th>  <td>2.101e+05</td> \n",
       "</tr>\n",
       "<tr>\n",
       "  <th>Df Model:</th>              <td>    16</td>      <th>                     </th>      <td> </td>     \n",
       "</tr>\n",
       "<tr>\n",
       "  <th>Covariance Type:</th>      <td>nonrobust</td>    <th>                     </th>      <td> </td>     \n",
       "</tr>\n",
       "</table>\n",
       "<table class=\"simpletable\">\n",
       "<tr>\n",
       "           <td></td>             <th>coef</th>     <th>std err</th>      <th>t</th>      <th>P>|t|</th>  <th>[0.025</th>    <th>0.975]</th>  \n",
       "</tr>\n",
       "<tr>\n",
       "  <th>Intercept</th>          <td>    7.7795</td> <td>    0.070</td> <td>  111.107</td> <td> 0.000</td> <td>    7.642</td> <td>    7.917</td>\n",
       "</tr>\n",
       "<tr>\n",
       "  <th>C(dotw)[T.1]</th>       <td>    0.1091</td> <td>    0.016</td> <td>    7.001</td> <td> 0.000</td> <td>    0.079</td> <td>    0.140</td>\n",
       "</tr>\n",
       "<tr>\n",
       "  <th>C(dotw)[T.2]</th>       <td>    0.2057</td> <td>    0.016</td> <td>   13.239</td> <td> 0.000</td> <td>    0.175</td> <td>    0.236</td>\n",
       "</tr>\n",
       "<tr>\n",
       "  <th>C(dotw)[T.3]</th>       <td>    0.3096</td> <td>    0.016</td> <td>   19.970</td> <td> 0.000</td> <td>    0.279</td> <td>    0.340</td>\n",
       "</tr>\n",
       "<tr>\n",
       "  <th>C(dotw)[T.4]</th>       <td>    0.5604</td> <td>    0.016</td> <td>   35.887</td> <td> 0.000</td> <td>    0.530</td> <td>    0.591</td>\n",
       "</tr>\n",
       "<tr>\n",
       "  <th>UCMP</th>               <td>    0.7552</td> <td>    0.026</td> <td>   28.855</td> <td> 0.000</td> <td>    0.704</td> <td>    0.806</td>\n",
       "</tr>\n",
       "<tr>\n",
       "  <th>DNC</th>                <td>   -0.0621</td> <td>    0.022</td> <td>   -2.794</td> <td> 0.005</td> <td>   -0.106</td> <td>   -0.019</td>\n",
       "</tr>\n",
       "<tr>\n",
       "  <th>UCMP:DNC</th>           <td>    0.1939</td> <td>    0.103</td> <td>    1.877</td> <td> 0.061</td> <td>   -0.009</td> <td>    0.396</td>\n",
       "</tr>\n",
       "<tr>\n",
       "  <th>time</th>               <td>    0.0013</td> <td>    0.000</td> <td>    4.613</td> <td> 0.000</td> <td>    0.001</td> <td>    0.002</td>\n",
       "</tr>\n",
       "<tr>\n",
       "  <th>log_train_distance</th> <td>   -0.2663</td> <td>    0.007</td> <td>  -37.151</td> <td> 0.000</td> <td>   -0.280</td> <td>   -0.252</td>\n",
       "</tr>\n",
       "<tr>\n",
       "  <th>log_bike_distance</th>  <td>   -0.2517</td> <td>    0.007</td> <td>  -34.253</td> <td> 0.000</td> <td>   -0.266</td> <td>   -0.237</td>\n",
       "</tr>\n",
       "<tr>\n",
       "  <th>log_bus_distance</th>   <td>   -0.0040</td> <td>    0.006</td> <td>   -0.669</td> <td> 0.504</td> <td>   -0.016</td> <td>    0.008</td>\n",
       "</tr>\n",
       "<tr>\n",
       "  <th>lat</th>                <td>    0.5166</td> <td>    0.006</td> <td>   79.531</td> <td> 0.000</td> <td>    0.504</td> <td>    0.529</td>\n",
       "</tr>\n",
       "<tr>\n",
       "  <th>long</th>               <td>    0.8356</td> <td>    0.008</td> <td>  101.179</td> <td> 0.000</td> <td>    0.819</td> <td>    0.852</td>\n",
       "</tr>\n",
       "<tr>\n",
       "  <th>I(lat * long)</th>      <td>    0.3129</td> <td>    0.006</td> <td>   51.425</td> <td> 0.000</td> <td>    0.301</td> <td>    0.325</td>\n",
       "</tr>\n",
       "<tr>\n",
       "  <th>I(lat ** 2)</th>        <td>   -0.0254</td> <td>    0.005</td> <td>   -5.059</td> <td> 0.000</td> <td>   -0.035</td> <td>   -0.016</td>\n",
       "</tr>\n",
       "<tr>\n",
       "  <th>I(long ** 2)</th>       <td>    0.2519</td> <td>    0.004</td> <td>   68.305</td> <td> 0.000</td> <td>    0.245</td> <td>    0.259</td>\n",
       "</tr>\n",
       "</table>\n",
       "<table class=\"simpletable\">\n",
       "<tr>\n",
       "  <th>Omnibus:</th>       <td>154.932</td> <th>  Durbin-Watson:     </th> <td>   1.390</td>\n",
       "</tr>\n",
       "<tr>\n",
       "  <th>Prob(Omnibus):</th> <td> 0.000</td>  <th>  Jarque-Bera (JB):  </th> <td> 197.937</td>\n",
       "</tr>\n",
       "<tr>\n",
       "  <th>Skew:</th>          <td>-0.010</td>  <th>  Prob(JB):          </th> <td>1.04e-43</td>\n",
       "</tr>\n",
       "<tr>\n",
       "  <th>Kurtosis:</th>      <td> 3.271</td>  <th>  Cond. No.          </th> <td>    825.</td>\n",
       "</tr>\n",
       "</table><br/><br/>Notes:<br/>[1] Standard Errors assume that the covariance matrix of the errors is correctly specified."
      ],
      "text/latex": [
       "\\begin{center}\n",
       "\\begin{tabular}{lclc}\n",
       "\\toprule\n",
       "\\textbf{Dep. Variable:}       &     logrides     & \\textbf{  R-squared:         } &      0.452   \\\\\n",
       "\\textbf{Model:}               &       OLS        & \\textbf{  Adj. R-squared:    } &      0.452   \\\\\n",
       "\\textbf{Method:}              &  Least Squares   & \\textbf{  F-statistic:       } &      3312.   \\\\\n",
       "\\textbf{Date:}                & Sun, 02 Feb 2025 & \\textbf{  Prob (F-statistic):} &      0.00    \\\\\n",
       "\\textbf{Time:}                &     23:49:20     & \\textbf{  Log-Likelihood:    } & -1.0494e+05  \\\\\n",
       "\\textbf{No. Observations:}    &       64231      & \\textbf{  AIC:               } &  2.099e+05   \\\\\n",
       "\\textbf{Df Residuals:}        &       64214      & \\textbf{  BIC:               } &  2.101e+05   \\\\\n",
       "\\textbf{Df Model:}            &          16      & \\textbf{                     } &              \\\\\n",
       "\\textbf{Covariance Type:}     &    nonrobust     & \\textbf{                     } &              \\\\\n",
       "\\bottomrule\n",
       "\\end{tabular}\n",
       "\\begin{tabular}{lcccccc}\n",
       "                              & \\textbf{coef} & \\textbf{std err} & \\textbf{t} & \\textbf{P$> |$t$|$} & \\textbf{[0.025} & \\textbf{0.975]}  \\\\\n",
       "\\midrule\n",
       "\\textbf{Intercept}            &       7.7795  &        0.070     &   111.107  &         0.000        &        7.642    &        7.917     \\\\\n",
       "\\textbf{C(dotw)[T.1]}         &       0.1091  &        0.016     &     7.001  &         0.000        &        0.079    &        0.140     \\\\\n",
       "\\textbf{C(dotw)[T.2]}         &       0.2057  &        0.016     &    13.239  &         0.000        &        0.175    &        0.236     \\\\\n",
       "\\textbf{C(dotw)[T.3]}         &       0.3096  &        0.016     &    19.970  &         0.000        &        0.279    &        0.340     \\\\\n",
       "\\textbf{C(dotw)[T.4]}         &       0.5604  &        0.016     &    35.887  &         0.000        &        0.530    &        0.591     \\\\\n",
       "\\textbf{UCMP}                 &       0.7552  &        0.026     &    28.855  &         0.000        &        0.704    &        0.806     \\\\\n",
       "\\textbf{DNC}                  &      -0.0621  &        0.022     &    -2.794  &         0.005        &       -0.106    &       -0.019     \\\\\n",
       "\\textbf{UCMP:DNC}             &       0.1939  &        0.103     &     1.877  &         0.061        &       -0.009    &        0.396     \\\\\n",
       "\\textbf{time}                 &       0.0013  &        0.000     &     4.613  &         0.000        &        0.001    &        0.002     \\\\\n",
       "\\textbf{log\\_train\\_distance} &      -0.2663  &        0.007     &   -37.151  &         0.000        &       -0.280    &       -0.252     \\\\\n",
       "\\textbf{log\\_bike\\_distance}  &      -0.2517  &        0.007     &   -34.253  &         0.000        &       -0.266    &       -0.237     \\\\\n",
       "\\textbf{log\\_bus\\_distance}   &      -0.0040  &        0.006     &    -0.669  &         0.504        &       -0.016    &        0.008     \\\\\n",
       "\\textbf{lat}                  &       0.5166  &        0.006     &    79.531  &         0.000        &        0.504    &        0.529     \\\\\n",
       "\\textbf{long}                 &       0.8356  &        0.008     &   101.179  &         0.000        &        0.819    &        0.852     \\\\\n",
       "\\textbf{I(lat * long)}        &       0.3129  &        0.006     &    51.425  &         0.000        &        0.301    &        0.325     \\\\\n",
       "\\textbf{I(lat ** 2)}          &      -0.0254  &        0.005     &    -5.059  &         0.000        &       -0.035    &       -0.016     \\\\\n",
       "\\textbf{I(long ** 2)}         &       0.2519  &        0.004     &    68.305  &         0.000        &        0.245    &        0.259     \\\\\n",
       "\\bottomrule\n",
       "\\end{tabular}\n",
       "\\begin{tabular}{lclc}\n",
       "\\textbf{Omnibus:}       & 154.932 & \\textbf{  Durbin-Watson:     } &    1.390  \\\\\n",
       "\\textbf{Prob(Omnibus):} &   0.000 & \\textbf{  Jarque-Bera (JB):  } &  197.937  \\\\\n",
       "\\textbf{Skew:}          &  -0.010 & \\textbf{  Prob(JB):          } & 1.04e-43  \\\\\n",
       "\\textbf{Kurtosis:}      &   3.271 & \\textbf{  Cond. No.          } &     825.  \\\\\n",
       "\\bottomrule\n",
       "\\end{tabular}\n",
       "%\\caption{OLS Regression Results}\n",
       "\\end{center}\n",
       "\n",
       "Notes: \\newline\n",
       " [1] Standard Errors assume that the covariance matrix of the errors is correctly specified."
      ],
      "text/plain": [
       "<class 'statsmodels.iolib.summary.Summary'>\n",
       "\"\"\"\n",
       "                            OLS Regression Results                            \n",
       "==============================================================================\n",
       "Dep. Variable:               logrides   R-squared:                       0.452\n",
       "Model:                            OLS   Adj. R-squared:                  0.452\n",
       "Method:                 Least Squares   F-statistic:                     3312.\n",
       "Date:                Sun, 02 Feb 2025   Prob (F-statistic):               0.00\n",
       "Time:                        23:49:20   Log-Likelihood:            -1.0494e+05\n",
       "No. Observations:               64231   AIC:                         2.099e+05\n",
       "Df Residuals:                   64214   BIC:                         2.101e+05\n",
       "Df Model:                          16                                         \n",
       "Covariance Type:            nonrobust                                         \n",
       "======================================================================================\n",
       "                         coef    std err          t      P>|t|      [0.025      0.975]\n",
       "--------------------------------------------------------------------------------------\n",
       "Intercept              7.7795      0.070    111.107      0.000       7.642       7.917\n",
       "C(dotw)[T.1]           0.1091      0.016      7.001      0.000       0.079       0.140\n",
       "C(dotw)[T.2]           0.2057      0.016     13.239      0.000       0.175       0.236\n",
       "C(dotw)[T.3]           0.3096      0.016     19.970      0.000       0.279       0.340\n",
       "C(dotw)[T.4]           0.5604      0.016     35.887      0.000       0.530       0.591\n",
       "UCMP                   0.7552      0.026     28.855      0.000       0.704       0.806\n",
       "DNC                   -0.0621      0.022     -2.794      0.005      -0.106      -0.019\n",
       "UCMP:DNC               0.1939      0.103      1.877      0.061      -0.009       0.396\n",
       "time                   0.0013      0.000      4.613      0.000       0.001       0.002\n",
       "log_train_distance    -0.2663      0.007    -37.151      0.000      -0.280      -0.252\n",
       "log_bike_distance     -0.2517      0.007    -34.253      0.000      -0.266      -0.237\n",
       "log_bus_distance      -0.0040      0.006     -0.669      0.504      -0.016       0.008\n",
       "lat                    0.5166      0.006     79.531      0.000       0.504       0.529\n",
       "long                   0.8356      0.008    101.179      0.000       0.819       0.852\n",
       "I(lat * long)          0.3129      0.006     51.425      0.000       0.301       0.325\n",
       "I(lat ** 2)           -0.0254      0.005     -5.059      0.000      -0.035      -0.016\n",
       "I(long ** 2)           0.2519      0.004     68.305      0.000       0.245       0.259\n",
       "==============================================================================\n",
       "Omnibus:                      154.932   Durbin-Watson:                   1.390\n",
       "Prob(Omnibus):                  0.000   Jarque-Bera (JB):              197.937\n",
       "Skew:                          -0.010   Prob(JB):                     1.04e-43\n",
       "Kurtosis:                       3.271   Cond. No.                         825.\n",
       "==============================================================================\n",
       "\n",
       "Notes:\n",
       "[1] Standard Errors assume that the covariance matrix of the errors is correctly specified.\n",
       "\"\"\""
      ]
     },
     "execution_count": 19,
     "metadata": {},
     "output_type": "execute_result"
    }
   ],
   "source": [
    "model_data = panel.loc[panel.transit == 'uber']\n",
    "uber_did_model = model_transit_did(model_data, 'uber')\n",
    "uber_did_model.summary()"
   ]
  },
  {
   "cell_type": "code",
   "execution_count": 20,
   "metadata": {},
   "outputs": [
    {
     "name": "stdout",
     "output_type": "stream",
     "text": [
      "|                     | DiD (Uber)   | DiD (Train)   | DiD (Bike)   |\n",
      "|---------------------|--------------|---------------|--------------|\n",
      "| Near DNC            | 0.7552***    | -0.6559***    | 0.1523***    |\n",
      "|                     | (0.0262)     | (0.0390)      | (0.0182)     |\n",
      "| During DNC          | -0.0621***   | -0.1214***    | 0.0118       |\n",
      "|                     | (0.0222)     | (0.0407)      | (0.0175)     |\n",
      "| Near DNC:During DNC | 0.1939*      | 0.7023***     | 0.2386***    |\n",
      "|                     | (0.1033)     | (0.1489)      | (0.0710)     |\n",
      "| log(dist to train)  | -0.2663***   |               | -0.0865***   |\n",
      "|                     | (0.0072)     |               | (0.0029)     |\n",
      "| log(dist to bike)   | -0.2517***   | 0.1948***     |              |\n",
      "|                     | (0.0073)     | (0.0132)      |              |\n",
      "| log(dist to bus)    | -0.0040      | -0.0714***    | -0.0073*     |\n",
      "|                     | (0.0060)     | (0.0105)      | (0.0043)     |\n",
      "| R-squared           | 0.4521       | 0.2894        | 0.6672       |\n",
      "| R-squared Adj.      | 0.4520       | 0.2880        | 0.6671       |\n",
      "| N                   | 64231.0      | 7910.0        | 49704.0      |\n"
     ]
    }
   ],
   "source": [
    "headers = [\"DiD (Uber)\", \"DiD (Train)\", \"DiD (Bike)\"]\n",
    "did_summary = summary_col([uber_did_model, train_did_model, bike_did_model], \n",
    "            model_names=headers, \n",
    "            info_dict={\"N\":lambda x:(x.nobs)},\n",
    "            stars=True,\n",
    "            regressor_order=['UCMP','DNC','UCMP:DNC'] + \n",
    "                            #  ['time'] + list(dotw_names.keys()) +\n",
    "                             ['log_train_distance','log_bike_distance','log_bus_distance'],\n",
    "                            #  'lat','long','I(lat * long)','I(lat ** 2)', 'I(long ** 2)'],\n",
    "            drop_omitted=True)\n",
    "\n",
    "did_summary.tables[0].index = (did_summary.tables[0].index\n",
    "                               .str.replace('DNC','During DNC')\n",
    "                               .str.replace('UCMP','Near DNC')\n",
    "                               .str.replace('time','time trend')\n",
    "                               .map(lambda x: dotw_names[x] if x in dotw_names else x)\n",
    "                               .str.replace('log_train_distance','log(dist to train)')\n",
    "                               .str.replace('log_bike_distance','log(dist to bike)')\n",
    "                               .str.replace('log_bus_distance','log(dist to bus)')\n",
    "                               .str.replace('I(lat ** 2)','lat**2')\n",
    "                               .str.replace('I(long ** 2)','long**2')\n",
    "                               .str.replace('I(lat * long)','lat*long'))\n",
    "\n",
    "did_table = tabulate(did_summary.tables[0],\n",
    "                   headers=[\"\"] + headers,\n",
    "                   showindex=True,\n",
    "                   tablefmt='github')\n",
    "with open(\"../../../reports/replication/did.md\",\"w\") as f:\n",
    "    f.write(did_table)\n",
    "    print(did_table)\n",
    "!cp ../../../reports/replication/did.md ../../../../eric-mc2-cv/static/uploads/"
   ]
  },
  {
   "cell_type": "code",
   "execution_count": 21,
   "metadata": {},
   "outputs": [
    {
     "data": {
      "text/html": [
       "<div>\n",
       "<style scoped>\n",
       "    .dataframe tbody tr th:only-of-type {\n",
       "        vertical-align: middle;\n",
       "    }\n",
       "\n",
       "    .dataframe tbody tr th {\n",
       "        vertical-align: top;\n",
       "    }\n",
       "\n",
       "    .dataframe thead th {\n",
       "        text-align: right;\n",
       "    }\n",
       "</style>\n",
       "<table border=\"1\" class=\"dataframe\">\n",
       "  <thead>\n",
       "    <tr style=\"text-align: right;\">\n",
       "      <th></th>\n",
       "      <th>During DNC</th>\n",
       "      <th>Near DNC</th>\n",
       "      <th>Near DNC:During DNC</th>\n",
       "    </tr>\n",
       "  </thead>\n",
       "  <tbody>\n",
       "    <tr>\n",
       "      <th>DiD (Uber)</th>\n",
       "      <td>-6.0%</td>\n",
       "      <td>112.8%</td>\n",
       "      <td>21.4%</td>\n",
       "    </tr>\n",
       "    <tr>\n",
       "      <th>DiD (Train)</th>\n",
       "      <td>-11.4%</td>\n",
       "      <td>-48.1%</td>\n",
       "      <td>101.8%</td>\n",
       "    </tr>\n",
       "    <tr>\n",
       "      <th>DiD (Bike)</th>\n",
       "      <td>1.2%</td>\n",
       "      <td>16.5%</td>\n",
       "      <td>26.9%</td>\n",
       "    </tr>\n",
       "  </tbody>\n",
       "</table>\n",
       "</div>"
      ],
      "text/plain": [
       "            During DNC Near DNC Near DNC:During DNC\n",
       "DiD (Uber)       -6.0%   112.8%               21.4%\n",
       "DiD (Train)     -11.4%   -48.1%              101.8%\n",
       "DiD (Bike)        1.2%    16.5%               26.9%"
      ]
     },
     "execution_count": 21,
     "metadata": {},
     "output_type": "execute_result"
    }
   ],
   "source": [
    "main_effect = did_summary.tables[0].xs('During DNC').str.replace('*','').astype(float)\n",
    "main_pct = np.exp(main_effect) - 1\n",
    "x = main_pct.apply(\"{:.1%}\".format)\n",
    "main_effect = did_summary.tables[0].xs('Near DNC').str.replace('*','').astype(float)\n",
    "main_pct = np.exp(main_effect) - 1\n",
    "y = main_pct.apply(\"{:.1%}\".format)\n",
    "main_effect = did_summary.tables[0].xs('Near DNC:During DNC').str.replace('*','').astype(float)\n",
    "main_pct = np.exp(main_effect) - 1\n",
    "z = main_pct.apply(\"{:.1%}\".format)\n",
    "pd.concat([x,y,z],axis=1)"
   ]
  },
  {
   "cell_type": "markdown",
   "metadata": {},
   "source": [
    "### Parallel Trends"
   ]
  },
  {
   "cell_type": "markdown",
   "metadata": {},
   "source": [
    "PT is actually pretty convincing."
   ]
  },
  {
   "cell_type": "code",
   "execution_count": 22,
   "metadata": {},
   "outputs": [
    {
     "name": "stdout",
     "output_type": "stream",
     "text": [
      "Dropping 631 id, 4340 obs invariant to DNC\n"
     ]
    }
   ],
   "source": [
    "plot_data = panel.assign(nearby = panel['UCMP'].map({0:False, 1:True}))\n",
    "plot_data = did_colinearity(plot_data)\n",
    "plot_data = plot_data.groupby(['date','nearby','transit'])['rides'].mean().reset_index()\n",
    "means = plot_data.groupby(['nearby','transit'])['rides'].mean().rename('mean').reset_index()\n",
    "first = plot_data.sort_values('date')[['nearby','transit','rides']].iloc[:6].rename(columns={'rides':'first'})\n",
    "plot_data = plot_data.merge(means, on=['nearby','transit']).merge(first, on=['nearby','transit'])\n",
    "plot_data = plot_data.assign(demean = plot_data['rides'] / plot_data['first'])"
   ]
  },
  {
   "cell_type": "code",
   "execution_count": 23,
   "metadata": {},
   "outputs": [
    {
     "data": {
      "application/vnd.plotly.v1+json": {
       "config": {
        "plotlyServerURL": "https://plot.ly"
       },
       "data": [
        {
         "hovertemplate": "Near DNC=False<br>transit=bike<br>=%{y}<extra></extra>",
         "legendgroup": "False",
         "line": {
          "color": "black",
          "dash": "solid"
         },
         "marker": {
          "symbol": "circle"
         },
         "mode": "lines",
         "name": "False",
         "orientation": "v",
         "showlegend": true,
         "type": "scatter",
         "x": [
          "2024-06-03",
          "2024-06-04",
          "2024-06-05",
          "2024-06-06",
          "2024-06-07",
          "2024-06-10",
          "2024-06-11",
          "2024-06-12",
          "2024-06-13",
          "2024-06-14",
          "2024-06-17",
          "2024-06-18",
          "2024-06-19",
          "2024-06-20",
          "2024-06-21",
          "2024-06-24",
          "2024-06-25",
          "2024-06-26",
          "2024-06-27",
          "2024-06-28",
          "2024-07-01",
          "2024-07-02",
          "2024-07-03",
          "2024-07-04",
          "2024-07-05",
          "2024-07-08",
          "2024-07-09",
          "2024-07-10",
          "2024-07-11",
          "2024-07-12",
          "2024-07-15",
          "2024-07-16",
          "2024-07-17",
          "2024-07-18",
          "2024-07-19",
          "2024-07-22",
          "2024-07-23",
          "2024-07-24",
          "2024-07-25",
          "2024-07-26",
          "2024-07-29",
          "2024-07-30",
          "2024-07-31",
          "2024-08-01",
          "2024-08-02",
          "2024-08-05",
          "2024-08-06",
          "2024-08-07",
          "2024-08-08",
          "2024-08-09",
          "2024-08-12",
          "2024-08-13",
          "2024-08-14",
          "2024-08-15",
          "2024-08-16",
          "2024-08-19",
          "2024-08-20",
          "2024-08-21",
          "2024-08-22",
          "2024-08-23",
          "2024-08-26",
          "2024-08-27",
          "2024-08-28",
          "2024-08-29",
          "2024-08-30"
         ],
         "xaxis": "x3",
         "y": [
          1,
          0.9724386574850737,
          1.0913212667582985,
          1.0691458520461552,
          1.0834814201422354,
          0.8770938183313772,
          1.0136361371369287,
          1.1067417433942595,
          1.0178159722966096,
          1.1268299866075426,
          0.9505054483504396,
          1.0836143765964195,
          1.2234684116428727,
          1.014371166312781,
          1.2442568983421924,
          1.0365664772385161,
          0.8390529095203729,
          1.1234713044291877,
          1.1216329675170718,
          0.6966265319644103,
          1.0299630905240704,
          1.0343072171952428,
          1.07830679883952,
          1.076180638423318,
          1.185461977644259,
          0.9694616953323054,
          0.6953877608703065,
          0.9645505185237309,
          1.0622068317508084,
          1.1514992197581342,
          0.9792575897263277,
          1.059651230208125,
          1.1416237952702655,
          1.1349685773655669,
          1.2057624642725309,
          1.0502591448387402,
          1.0133067081875706,
          1.0970001021941838,
          1.1673604462783052,
          1.1668139678678222,
          0.8468367589730953,
          1.114697891559508,
          1.2161438007872551,
          1.0600060439466845,
          1.1557244117047762,
          0.9512226420757157,
          0.9513303506019599,
          1.1635274358149903,
          1.1121840592706596,
          1.138495490409842,
          1.0264539384280094,
          1.1051977136258324,
          1.1666710495602473,
          0.7083397346484124,
          1.0169681369347296,
          0.8992045508808321,
          0.9801511864926266,
          0.9843971724259821,
          0.9658583517936499,
          1.095470031929451,
          0.9456657128785502,
          0.898929642428104,
          1.0660970131252903,
          1.0976858342015545,
          0.9986031451886939
         ],
         "yaxis": "y3"
        },
        {
         "hovertemplate": "Near DNC=False<br>transit=train<br>=%{y}<extra></extra>",
         "legendgroup": "False",
         "line": {
          "color": "black",
          "dash": "solid"
         },
         "marker": {
          "symbol": "circle"
         },
         "mode": "lines",
         "name": "False",
         "orientation": "v",
         "showlegend": false,
         "type": "scatter",
         "x": [
          "2024-06-03",
          "2024-06-04",
          "2024-06-05",
          "2024-06-06",
          "2024-06-07",
          "2024-06-10",
          "2024-06-11",
          "2024-06-12",
          "2024-06-13",
          "2024-06-14",
          "2024-06-17",
          "2024-06-18",
          "2024-06-19",
          "2024-06-20",
          "2024-06-21",
          "2024-06-24",
          "2024-06-25",
          "2024-06-26",
          "2024-06-27",
          "2024-06-28",
          "2024-07-01",
          "2024-07-02",
          "2024-07-03",
          "2024-07-04",
          "2024-07-05",
          "2024-07-08",
          "2024-07-09",
          "2024-07-10",
          "2024-07-11",
          "2024-07-12",
          "2024-07-15",
          "2024-07-16",
          "2024-07-17",
          "2024-07-18",
          "2024-07-19",
          "2024-07-22",
          "2024-07-23",
          "2024-07-24",
          "2024-07-25",
          "2024-07-26",
          "2024-07-29",
          "2024-07-30",
          "2024-07-31",
          "2024-08-01",
          "2024-08-02",
          "2024-08-05",
          "2024-08-06",
          "2024-08-07",
          "2024-08-08",
          "2024-08-09",
          "2024-08-12",
          "2024-08-13",
          "2024-08-14",
          "2024-08-15",
          "2024-08-16",
          "2024-08-19",
          "2024-08-20",
          "2024-08-21",
          "2024-08-22",
          "2024-08-23",
          "2024-08-26",
          "2024-08-27",
          "2024-08-28",
          "2024-08-29",
          "2024-08-30"
         ],
         "xaxis": "x2",
         "y": [
          1,
          1.1775603333586087,
          1.197802425052906,
          1.1701810862417195,
          1.0179673121066528,
          0.9521124430443444,
          1.1049810779697937,
          1.12384106873281,
          1.1025029468735568,
          1.0925249364095708,
          0.9623627377317001,
          1.1329781000765153,
          0.9261937422881525,
          1.0903811289800027,
          1.0741612611929496,
          0.9687217806698882,
          1.0373132785088475,
          1.1312582288428266,
          1.1522482404924554,
          0.9870509895291207,
          0.956386271360525,
          1.0881132426638358,
          1.0693359711585522,
          0.6258297775541295,
          0.9134584232330822,
          0.9659403456286318,
          1.0654998655812062,
          1.087158524564173,
          1.1106163274028222,
          1.0044496067388624,
          0.9504477179824774,
          1.0831363006569288,
          1.1051568563924752,
          1.1252852091073904,
          1.07024588299361,
          1.0163680731238238,
          1.145186083863541,
          1.1512039098635822,
          1.132871254368611,
          1.0388608179555936,
          0.9196692608344995,
          1.1121087206777465,
          1.1990949134549767,
          1.357585011270499,
          1.2617271781014552,
          0.9901495150583516,
          1.117357946908023,
          1.1611129876127912,
          1.1104991417877013,
          1.0806960825538192,
          0.977727839855517,
          1.1553950189220303,
          1.10706973922754,
          1.0453956393164632,
          1.0420282761996016,
          0.8663980588547519,
          0.9431856564807092,
          0.950054801508248,
          0.9825358967112202,
          0.977683033590912,
          1.0042772749519195,
          1.0953649642583874,
          1.183319661678236,
          1.2584115145206765,
          1.1061081278563993
         ],
         "yaxis": "y2"
        },
        {
         "hovertemplate": "Near DNC=False<br>transit=uber<br>=%{y}<extra></extra>",
         "legendgroup": "False",
         "line": {
          "color": "black",
          "dash": "solid"
         },
         "marker": {
          "symbol": "circle"
         },
         "mode": "lines",
         "name": "False",
         "orientation": "v",
         "showlegend": false,
         "type": "scatter",
         "x": [
          "2024-06-03",
          "2024-06-04",
          "2024-06-05",
          "2024-06-06",
          "2024-06-07",
          "2024-06-10",
          "2024-06-11",
          "2024-06-12",
          "2024-06-13",
          "2024-06-14",
          "2024-06-17",
          "2024-06-18",
          "2024-06-19",
          "2024-06-20",
          "2024-06-21",
          "2024-06-24",
          "2024-06-25",
          "2024-06-26",
          "2024-06-27",
          "2024-06-28",
          "2024-07-01",
          "2024-07-02",
          "2024-07-03",
          "2024-07-04",
          "2024-07-05",
          "2024-07-08",
          "2024-07-09",
          "2024-07-10",
          "2024-07-11",
          "2024-07-12",
          "2024-07-15",
          "2024-07-16",
          "2024-07-17",
          "2024-07-18",
          "2024-07-19",
          "2024-07-22",
          "2024-07-23",
          "2024-07-24",
          "2024-07-25",
          "2024-07-26",
          "2024-07-29",
          "2024-07-30",
          "2024-07-31",
          "2024-08-01",
          "2024-08-02",
          "2024-08-05",
          "2024-08-06",
          "2024-08-07",
          "2024-08-08",
          "2024-08-09",
          "2024-08-12",
          "2024-08-13",
          "2024-08-14",
          "2024-08-15",
          "2024-08-16",
          "2024-08-19",
          "2024-08-20",
          "2024-08-21",
          "2024-08-22",
          "2024-08-23",
          "2024-08-26",
          "2024-08-27",
          "2024-08-28",
          "2024-08-29",
          "2024-08-30"
         ],
         "xaxis": "x",
         "y": [
          1,
          1.1763633066454566,
          1.279778020875945,
          1.352906489539513,
          1.7259652460409594,
          1.0273290107131685,
          1.1012840571474507,
          1.180804829436392,
          1.3496215928392075,
          1.7374269144271897,
          0.961892215737246,
          1.1679394886908816,
          1.3096553579829922,
          1.3700012176139218,
          1.7244464046413894,
          1.0341860131787504,
          1.1985530083255838,
          1.2095507886333112,
          1.2836822580056841,
          1.7519787835255782,
          0.8926969504848583,
          0.9951407463168208,
          1.2468684070434426,
          1.346159011725187,
          1.397605419051666,
          0.8982337023424335,
          1.1342391443153221,
          1.2008811051052253,
          1.3268362405055107,
          1.753413622501836,
          1.074266289492757,
          1.1254167608872487,
          1.1921476241657711,
          1.3316251262246726,
          1.744740402136943,
          0.9781989717616828,
          1.181832687736306,
          1.232269205365352,
          1.297193971804154,
          1.75711260105051,
          0.977513808467139,
          1.1472337420738605,
          1.3617280488007133,
          1.634033992237887,
          1.9024547990687,
          1.03698485829496,
          1.0833024590075753,
          1.1867819620036095,
          1.3481559929530695,
          1.7292097860379547,
          0.9386331483870666,
          1.068879781683883,
          1.1747238695422126,
          1.3650583153156532,
          1.7614476683882072,
          0.8892892501576201,
          1.08746052141526,
          1.1892124744977242,
          1.2879924199287738,
          1.6867641945177805,
          1.0093755980763068,
          1.2253718312970445,
          1.1962218586537274,
          1.3874082124726705,
          1.7312317285829883
         ],
         "yaxis": "y"
        },
        {
         "hovertemplate": "Near DNC=True<br>transit=bike<br>=%{y}<extra></extra>",
         "legendgroup": "True",
         "line": {
          "color": "black",
          "dash": "dot"
         },
         "marker": {
          "symbol": "circle"
         },
         "mode": "lines",
         "name": "True",
         "orientation": "v",
         "showlegend": true,
         "type": "scatter",
         "x": [
          "2024-06-03",
          "2024-06-04",
          "2024-06-05",
          "2024-06-06",
          "2024-06-07",
          "2024-06-10",
          "2024-06-11",
          "2024-06-12",
          "2024-06-13",
          "2024-06-14",
          "2024-06-17",
          "2024-06-18",
          "2024-06-19",
          "2024-06-20",
          "2024-06-21",
          "2024-06-24",
          "2024-06-25",
          "2024-06-26",
          "2024-06-27",
          "2024-06-28",
          "2024-07-01",
          "2024-07-02",
          "2024-07-03",
          "2024-07-04",
          "2024-07-05",
          "2024-07-08",
          "2024-07-09",
          "2024-07-10",
          "2024-07-11",
          "2024-07-12",
          "2024-07-15",
          "2024-07-16",
          "2024-07-17",
          "2024-07-18",
          "2024-07-19",
          "2024-07-22",
          "2024-07-23",
          "2024-07-24",
          "2024-07-25",
          "2024-07-26",
          "2024-07-29",
          "2024-07-30",
          "2024-07-31",
          "2024-08-01",
          "2024-08-02",
          "2024-08-05",
          "2024-08-06",
          "2024-08-07",
          "2024-08-08",
          "2024-08-09",
          "2024-08-12",
          "2024-08-13",
          "2024-08-14",
          "2024-08-15",
          "2024-08-16",
          "2024-08-19",
          "2024-08-20",
          "2024-08-21",
          "2024-08-22",
          "2024-08-23",
          "2024-08-26",
          "2024-08-27",
          "2024-08-28",
          "2024-08-29",
          "2024-08-30"
         ],
         "xaxis": "x3",
         "y": [
          1,
          0.9177179186883051,
          0.9790864982432658,
          1.04795047682784,
          1.0240588924209468,
          0.8432323908315208,
          1.0184373431487368,
          1.059662037811611,
          1.0371758407227707,
          1.1388321900619038,
          0.8786570743405275,
          1.0132842563158775,
          1.0618705035971223,
          1.0071942446043165,
          1.1528860632424291,
          0.9804918855613184,
          0.8052869332441023,
          1.041860465116279,
          1.102292119792538,
          0.646009703864815,
          0.8778986113434833,
          0.9566003011544253,
          1.0287435168144554,
          0.7828007361552618,
          1.0484189392671908,
          0.8460431654676258,
          0.6099380960348001,
          0.9144386816128492,
          0.9917349841057386,
          1.1229044671239752,
          0.963627237744688,
          1.0516981763426467,
          1.159444537393341,
          1.0306173665718588,
          1.1726618705035972,
          0.9617533879872846,
          0.9491049021248118,
          1.0254642797389995,
          1.183804584239585,
          1.1856784339969884,
          0.8778986113434833,
          1.0610674251296637,
          1.3304333277563996,
          1.0704366739166804,
          1.1631922369081478,
          0.8957001840388155,
          0.9313033294294796,
          1.176019184652278,
          1.1374268027438514,
          1.2362723774468796,
          1.035770453404718,
          1.056382800736155,
          1.2868663208967708,
          0.7411075790530366,
          0.9870503597122302,
          1.1823991969215324,
          1.202074619374268,
          1.2498577881880542,
          1.2358039150075288,
          1.192705370587251,
          1.0264012046177011,
          0.9088171323406391,
          1.1116613685795549,
          1.1350844905470971,
          1.1641291617868494
         ],
         "yaxis": "y3"
        },
        {
         "hovertemplate": "Near DNC=True<br>transit=train<br>=%{y}<extra></extra>",
         "legendgroup": "True",
         "line": {
          "color": "black",
          "dash": "dot"
         },
         "marker": {
          "symbol": "circle"
         },
         "mode": "lines",
         "name": "True",
         "orientation": "v",
         "showlegend": false,
         "type": "scatter",
         "x": [
          "2024-06-03",
          "2024-06-04",
          "2024-06-05",
          "2024-06-06",
          "2024-06-07",
          "2024-06-10",
          "2024-06-11",
          "2024-06-12",
          "2024-06-13",
          "2024-06-14",
          "2024-06-17",
          "2024-06-18",
          "2024-06-19",
          "2024-06-20",
          "2024-06-21",
          "2024-06-24",
          "2024-06-25",
          "2024-06-26",
          "2024-06-27",
          "2024-06-28",
          "2024-07-01",
          "2024-07-02",
          "2024-07-03",
          "2024-07-04",
          "2024-07-05",
          "2024-07-08",
          "2024-07-09",
          "2024-07-10",
          "2024-07-11",
          "2024-07-12",
          "2024-07-15",
          "2024-07-16",
          "2024-07-17",
          "2024-07-18",
          "2024-07-19",
          "2024-07-22",
          "2024-07-23",
          "2024-07-24",
          "2024-07-25",
          "2024-07-26",
          "2024-07-29",
          "2024-07-30",
          "2024-07-31",
          "2024-08-01",
          "2024-08-02",
          "2024-08-05",
          "2024-08-06",
          "2024-08-07",
          "2024-08-08",
          "2024-08-09",
          "2024-08-12",
          "2024-08-13",
          "2024-08-14",
          "2024-08-15",
          "2024-08-16",
          "2024-08-19",
          "2024-08-20",
          "2024-08-21",
          "2024-08-22",
          "2024-08-23",
          "2024-08-26",
          "2024-08-27",
          "2024-08-28",
          "2024-08-29",
          "2024-08-30"
         ],
         "xaxis": "x2",
         "y": [
          1,
          1.0825615242127546,
          1.025138925641704,
          1.085648760695069,
          0.9725676986857192,
          0.9017376731057598,
          0.9639234365352385,
          1.0542471553320982,
          0.9982358648672488,
          1.0062626797212666,
          0.8578989150568932,
          0.9724794919290817,
          0.7612243097821293,
          0.991002910822969,
          0.994001940548646,
          0.9459292581811766,
          0.9355208608979447,
          1.0164946634912233,
          1.0901473052835846,
          0.9214959865925729,
          0.8299263473582076,
          0.8817147393490341,
          0.8999294345946899,
          0.522977860104084,
          0.8468289670988797,
          0.7968929169974419,
          0.8151076122430978,
          0.8603356267090059,
          0.9026307665167151,
          0.8925972479491928,
          0.7988996207109464,
          0.8421981123754079,
          0.9023220428684837,
          0.884570433095175,
          1.0397812472435388,
          0.8538524300961453,
          0.8722986680779747,
          0.8604899885331215,
          0.9382883478874481,
          0.8868086795448531,
          0.7560642145188321,
          0.8663557378495192,
          0.9504829319925906,
          0.9926237099761841,
          1.0320631560377524,
          0.9005468818911528,
          0.8782415983064302,
          0.9379796242392167,
          0.9240870600688013,
          1.023264532063156,
          0.8735335626709005,
          0.932113874922819,
          0.9187615771368086,
          0.8952985798712181,
          0.9272514774631736,
          1.3268170591867336,
          1.1486063332451264,
          1.2013980770927053,
          1.2990319308459026,
          0.9265568492546529,
          0.8638087677516098,
          0.8984629972655905,
          0.9985666402046396,
          0.9967142983152509,
          1.2137470230219634
         ],
         "yaxis": "y2"
        },
        {
         "hovertemplate": "Near DNC=True<br>transit=uber<br>=%{y}<extra></extra>",
         "legendgroup": "True",
         "line": {
          "color": "black",
          "dash": "dot"
         },
         "marker": {
          "symbol": "circle"
         },
         "mode": "lines",
         "name": "True",
         "orientation": "v",
         "showlegend": false,
         "type": "scatter",
         "x": [
          "2024-06-03",
          "2024-06-04",
          "2024-06-05",
          "2024-06-06",
          "2024-06-07",
          "2024-06-10",
          "2024-06-11",
          "2024-06-12",
          "2024-06-13",
          "2024-06-14",
          "2024-06-17",
          "2024-06-18",
          "2024-06-19",
          "2024-06-20",
          "2024-06-21",
          "2024-06-24",
          "2024-06-25",
          "2024-06-26",
          "2024-06-27",
          "2024-06-28",
          "2024-07-01",
          "2024-07-02",
          "2024-07-03",
          "2024-07-04",
          "2024-07-05",
          "2024-07-08",
          "2024-07-09",
          "2024-07-10",
          "2024-07-11",
          "2024-07-12",
          "2024-07-15",
          "2024-07-16",
          "2024-07-17",
          "2024-07-18",
          "2024-07-19",
          "2024-07-22",
          "2024-07-23",
          "2024-07-24",
          "2024-07-25",
          "2024-07-26",
          "2024-07-29",
          "2024-07-30",
          "2024-07-31",
          "2024-08-01",
          "2024-08-02",
          "2024-08-05",
          "2024-08-06",
          "2024-08-07",
          "2024-08-08",
          "2024-08-09",
          "2024-08-12",
          "2024-08-13",
          "2024-08-14",
          "2024-08-15",
          "2024-08-16",
          "2024-08-19",
          "2024-08-20",
          "2024-08-21",
          "2024-08-22",
          "2024-08-23",
          "2024-08-26",
          "2024-08-27",
          "2024-08-28",
          "2024-08-29",
          "2024-08-30"
         ],
         "xaxis": "x",
         "y": [
          1,
          0.9615224704237065,
          1.025135124919681,
          1.1307404467626716,
          1.4720867823260384,
          0.9132932683221833,
          1.1022035756132593,
          1.1359186604679292,
          1.3152662811354274,
          1.520656159050535,
          0.725356965293466,
          0.9260687152738406,
          1.0543523453150396,
          1.2198284008013003,
          1.2584949162792456,
          0.9883090413762827,
          1.1646958829179037,
          1.0317118342971614,
          1.1185697546962998,
          1.4636958082927014,
          0.6992478361114262,
          0.7697773746078542,
          0.9816412311026214,
          0.9524511471444231,
          1.1705786748308578,
          0.7169834361125891,
          0.9650104717572685,
          1.0543901424953699,
          1.3838032298175171,
          1.7470612692293155,
          0.9280719658313491,
          1.0383263408549723,
          1.0946441395471898,
          1.1500926030918095,
          1.6054303887391541,
          0.7949124995275353,
          0.9935366821635107,
          1.0691688400045356,
          1.1743874676179926,
          1.43413841327437,
          0.8404581018256039,
          1.1397691270692747,
          1.2728200476244473,
          1.3988736440261558,
          1.5901273764977133,
          0.790754809691197,
          0.8752315077295234,
          1.0380617605926599,
          1.1923120535208074,
          1.501190611180406,
          0.7605170654269192,
          0.8978671729550516,
          1.0665230373814114,
          1.236232377064671,
          1.4933287976716938,
          1.101296443285331,
          1.405752730846279,
          1.5432588728880827,
          1.5457534867898854,
          1.449937634652455,
          0.8314623729069812,
          1.0310295467342752,
          1.0802434138413275,
          1.2143100124730695,
          1.764750349623918
         ],
         "yaxis": "y"
        }
       ],
       "layout": {
        "annotations": [
         {
          "showarrow": false,
          "text": "transit=uber",
          "textangle": 90,
          "x": 0.98,
          "xanchor": "left",
          "xref": "paper",
          "y": 0.15666666666666665,
          "yanchor": "middle",
          "yref": "paper"
         },
         {
          "showarrow": false,
          "text": "transit=train",
          "textangle": 90,
          "x": 0.98,
          "xanchor": "left",
          "xref": "paper",
          "y": 0.4999999999999999,
          "yanchor": "middle",
          "yref": "paper"
         },
         {
          "showarrow": false,
          "text": "transit=bike",
          "textangle": 90,
          "x": 0.98,
          "xanchor": "left",
          "xref": "paper",
          "y": 0.8433333333333332,
          "yanchor": "middle",
          "yref": "paper"
         }
        ],
        "legend": {
         "title": {
          "text": "Near DNC"
         },
         "tracegroupgap": 0
        },
        "shapes": [
         {
          "fillcolor": "gray",
          "opacity": 0.5,
          "type": "rect",
          "x0": "2024-08-19",
          "x1": "2024-08-22",
          "xref": "x",
          "y0": 0,
          "y1": 1,
          "yref": "y domain"
         },
         {
          "fillcolor": "gray",
          "opacity": 0.5,
          "type": "rect",
          "x0": "2024-08-19",
          "x1": "2024-08-22",
          "xref": "x2",
          "y0": 0,
          "y1": 1,
          "yref": "y2 domain"
         },
         {
          "fillcolor": "gray",
          "opacity": 0.5,
          "type": "rect",
          "x0": "2024-08-19",
          "x1": "2024-08-22",
          "xref": "x3",
          "y0": 0,
          "y1": 1,
          "yref": "y3 domain"
         }
        ],
        "template": {
         "data": {
          "bar": [
           {
            "error_x": {
             "color": "rgb(36,36,36)"
            },
            "error_y": {
             "color": "rgb(36,36,36)"
            },
            "marker": {
             "line": {
              "color": "white",
              "width": 0.5
             },
             "pattern": {
              "fillmode": "overlay",
              "size": 10,
              "solidity": 0.2
             }
            },
            "type": "bar"
           }
          ],
          "barpolar": [
           {
            "marker": {
             "line": {
              "color": "white",
              "width": 0.5
             },
             "pattern": {
              "fillmode": "overlay",
              "size": 10,
              "solidity": 0.2
             }
            },
            "type": "barpolar"
           }
          ],
          "carpet": [
           {
            "aaxis": {
             "endlinecolor": "rgb(36,36,36)",
             "gridcolor": "white",
             "linecolor": "white",
             "minorgridcolor": "white",
             "startlinecolor": "rgb(36,36,36)"
            },
            "baxis": {
             "endlinecolor": "rgb(36,36,36)",
             "gridcolor": "white",
             "linecolor": "white",
             "minorgridcolor": "white",
             "startlinecolor": "rgb(36,36,36)"
            },
            "type": "carpet"
           }
          ],
          "choropleth": [
           {
            "colorbar": {
             "outlinewidth": 1,
             "tickcolor": "rgb(36,36,36)",
             "ticks": "outside"
            },
            "type": "choropleth"
           }
          ],
          "contour": [
           {
            "colorbar": {
             "outlinewidth": 1,
             "tickcolor": "rgb(36,36,36)",
             "ticks": "outside"
            },
            "colorscale": [
             [
              0,
              "#440154"
             ],
             [
              0.1111111111111111,
              "#482878"
             ],
             [
              0.2222222222222222,
              "#3e4989"
             ],
             [
              0.3333333333333333,
              "#31688e"
             ],
             [
              0.4444444444444444,
              "#26828e"
             ],
             [
              0.5555555555555556,
              "#1f9e89"
             ],
             [
              0.6666666666666666,
              "#35b779"
             ],
             [
              0.7777777777777778,
              "#6ece58"
             ],
             [
              0.8888888888888888,
              "#b5de2b"
             ],
             [
              1,
              "#fde725"
             ]
            ],
            "type": "contour"
           }
          ],
          "contourcarpet": [
           {
            "colorbar": {
             "outlinewidth": 1,
             "tickcolor": "rgb(36,36,36)",
             "ticks": "outside"
            },
            "type": "contourcarpet"
           }
          ],
          "heatmap": [
           {
            "colorbar": {
             "outlinewidth": 1,
             "tickcolor": "rgb(36,36,36)",
             "ticks": "outside"
            },
            "colorscale": [
             [
              0,
              "#440154"
             ],
             [
              0.1111111111111111,
              "#482878"
             ],
             [
              0.2222222222222222,
              "#3e4989"
             ],
             [
              0.3333333333333333,
              "#31688e"
             ],
             [
              0.4444444444444444,
              "#26828e"
             ],
             [
              0.5555555555555556,
              "#1f9e89"
             ],
             [
              0.6666666666666666,
              "#35b779"
             ],
             [
              0.7777777777777778,
              "#6ece58"
             ],
             [
              0.8888888888888888,
              "#b5de2b"
             ],
             [
              1,
              "#fde725"
             ]
            ],
            "type": "heatmap"
           }
          ],
          "heatmapgl": [
           {
            "colorbar": {
             "outlinewidth": 1,
             "tickcolor": "rgb(36,36,36)",
             "ticks": "outside"
            },
            "colorscale": [
             [
              0,
              "#440154"
             ],
             [
              0.1111111111111111,
              "#482878"
             ],
             [
              0.2222222222222222,
              "#3e4989"
             ],
             [
              0.3333333333333333,
              "#31688e"
             ],
             [
              0.4444444444444444,
              "#26828e"
             ],
             [
              0.5555555555555556,
              "#1f9e89"
             ],
             [
              0.6666666666666666,
              "#35b779"
             ],
             [
              0.7777777777777778,
              "#6ece58"
             ],
             [
              0.8888888888888888,
              "#b5de2b"
             ],
             [
              1,
              "#fde725"
             ]
            ],
            "type": "heatmapgl"
           }
          ],
          "histogram": [
           {
            "marker": {
             "line": {
              "color": "white",
              "width": 0.6
             }
            },
            "type": "histogram"
           }
          ],
          "histogram2d": [
           {
            "colorbar": {
             "outlinewidth": 1,
             "tickcolor": "rgb(36,36,36)",
             "ticks": "outside"
            },
            "colorscale": [
             [
              0,
              "#440154"
             ],
             [
              0.1111111111111111,
              "#482878"
             ],
             [
              0.2222222222222222,
              "#3e4989"
             ],
             [
              0.3333333333333333,
              "#31688e"
             ],
             [
              0.4444444444444444,
              "#26828e"
             ],
             [
              0.5555555555555556,
              "#1f9e89"
             ],
             [
              0.6666666666666666,
              "#35b779"
             ],
             [
              0.7777777777777778,
              "#6ece58"
             ],
             [
              0.8888888888888888,
              "#b5de2b"
             ],
             [
              1,
              "#fde725"
             ]
            ],
            "type": "histogram2d"
           }
          ],
          "histogram2dcontour": [
           {
            "colorbar": {
             "outlinewidth": 1,
             "tickcolor": "rgb(36,36,36)",
             "ticks": "outside"
            },
            "colorscale": [
             [
              0,
              "#440154"
             ],
             [
              0.1111111111111111,
              "#482878"
             ],
             [
              0.2222222222222222,
              "#3e4989"
             ],
             [
              0.3333333333333333,
              "#31688e"
             ],
             [
              0.4444444444444444,
              "#26828e"
             ],
             [
              0.5555555555555556,
              "#1f9e89"
             ],
             [
              0.6666666666666666,
              "#35b779"
             ],
             [
              0.7777777777777778,
              "#6ece58"
             ],
             [
              0.8888888888888888,
              "#b5de2b"
             ],
             [
              1,
              "#fde725"
             ]
            ],
            "type": "histogram2dcontour"
           }
          ],
          "mesh3d": [
           {
            "colorbar": {
             "outlinewidth": 1,
             "tickcolor": "rgb(36,36,36)",
             "ticks": "outside"
            },
            "type": "mesh3d"
           }
          ],
          "parcoords": [
           {
            "line": {
             "colorbar": {
              "outlinewidth": 1,
              "tickcolor": "rgb(36,36,36)",
              "ticks": "outside"
             }
            },
            "type": "parcoords"
           }
          ],
          "pie": [
           {
            "automargin": true,
            "type": "pie"
           }
          ],
          "scatter": [
           {
            "fillpattern": {
             "fillmode": "overlay",
             "size": 10,
             "solidity": 0.2
            },
            "type": "scatter"
           }
          ],
          "scatter3d": [
           {
            "line": {
             "colorbar": {
              "outlinewidth": 1,
              "tickcolor": "rgb(36,36,36)",
              "ticks": "outside"
             }
            },
            "marker": {
             "colorbar": {
              "outlinewidth": 1,
              "tickcolor": "rgb(36,36,36)",
              "ticks": "outside"
             }
            },
            "type": "scatter3d"
           }
          ],
          "scattercarpet": [
           {
            "marker": {
             "colorbar": {
              "outlinewidth": 1,
              "tickcolor": "rgb(36,36,36)",
              "ticks": "outside"
             }
            },
            "type": "scattercarpet"
           }
          ],
          "scattergeo": [
           {
            "marker": {
             "colorbar": {
              "outlinewidth": 1,
              "tickcolor": "rgb(36,36,36)",
              "ticks": "outside"
             }
            },
            "type": "scattergeo"
           }
          ],
          "scattergl": [
           {
            "marker": {
             "colorbar": {
              "outlinewidth": 1,
              "tickcolor": "rgb(36,36,36)",
              "ticks": "outside"
             }
            },
            "type": "scattergl"
           }
          ],
          "scattermapbox": [
           {
            "marker": {
             "colorbar": {
              "outlinewidth": 1,
              "tickcolor": "rgb(36,36,36)",
              "ticks": "outside"
             }
            },
            "type": "scattermapbox"
           }
          ],
          "scatterpolar": [
           {
            "marker": {
             "colorbar": {
              "outlinewidth": 1,
              "tickcolor": "rgb(36,36,36)",
              "ticks": "outside"
             }
            },
            "type": "scatterpolar"
           }
          ],
          "scatterpolargl": [
           {
            "marker": {
             "colorbar": {
              "outlinewidth": 1,
              "tickcolor": "rgb(36,36,36)",
              "ticks": "outside"
             }
            },
            "type": "scatterpolargl"
           }
          ],
          "scatterternary": [
           {
            "marker": {
             "colorbar": {
              "outlinewidth": 1,
              "tickcolor": "rgb(36,36,36)",
              "ticks": "outside"
             }
            },
            "type": "scatterternary"
           }
          ],
          "surface": [
           {
            "colorbar": {
             "outlinewidth": 1,
             "tickcolor": "rgb(36,36,36)",
             "ticks": "outside"
            },
            "colorscale": [
             [
              0,
              "#440154"
             ],
             [
              0.1111111111111111,
              "#482878"
             ],
             [
              0.2222222222222222,
              "#3e4989"
             ],
             [
              0.3333333333333333,
              "#31688e"
             ],
             [
              0.4444444444444444,
              "#26828e"
             ],
             [
              0.5555555555555556,
              "#1f9e89"
             ],
             [
              0.6666666666666666,
              "#35b779"
             ],
             [
              0.7777777777777778,
              "#6ece58"
             ],
             [
              0.8888888888888888,
              "#b5de2b"
             ],
             [
              1,
              "#fde725"
             ]
            ],
            "type": "surface"
           }
          ],
          "table": [
           {
            "cells": {
             "fill": {
              "color": "rgb(237,237,237)"
             },
             "line": {
              "color": "white"
             }
            },
            "header": {
             "fill": {
              "color": "rgb(217,217,217)"
             },
             "line": {
              "color": "white"
             }
            },
            "type": "table"
           }
          ]
         },
         "layout": {
          "annotationdefaults": {
           "arrowhead": 0,
           "arrowwidth": 1
          },
          "autotypenumbers": "strict",
          "coloraxis": {
           "colorbar": {
            "outlinewidth": 1,
            "tickcolor": "rgb(36,36,36)",
            "ticks": "outside"
           }
          },
          "colorscale": {
           "diverging": [
            [
             0,
             "rgb(103,0,31)"
            ],
            [
             0.1,
             "rgb(178,24,43)"
            ],
            [
             0.2,
             "rgb(214,96,77)"
            ],
            [
             0.3,
             "rgb(244,165,130)"
            ],
            [
             0.4,
             "rgb(253,219,199)"
            ],
            [
             0.5,
             "rgb(247,247,247)"
            ],
            [
             0.6,
             "rgb(209,229,240)"
            ],
            [
             0.7,
             "rgb(146,197,222)"
            ],
            [
             0.8,
             "rgb(67,147,195)"
            ],
            [
             0.9,
             "rgb(33,102,172)"
            ],
            [
             1,
             "rgb(5,48,97)"
            ]
           ],
           "sequential": [
            [
             0,
             "#440154"
            ],
            [
             0.1111111111111111,
             "#482878"
            ],
            [
             0.2222222222222222,
             "#3e4989"
            ],
            [
             0.3333333333333333,
             "#31688e"
            ],
            [
             0.4444444444444444,
             "#26828e"
            ],
            [
             0.5555555555555556,
             "#1f9e89"
            ],
            [
             0.6666666666666666,
             "#35b779"
            ],
            [
             0.7777777777777778,
             "#6ece58"
            ],
            [
             0.8888888888888888,
             "#b5de2b"
            ],
            [
             1,
             "#fde725"
            ]
           ],
           "sequentialminus": [
            [
             0,
             "#440154"
            ],
            [
             0.1111111111111111,
             "#482878"
            ],
            [
             0.2222222222222222,
             "#3e4989"
            ],
            [
             0.3333333333333333,
             "#31688e"
            ],
            [
             0.4444444444444444,
             "#26828e"
            ],
            [
             0.5555555555555556,
             "#1f9e89"
            ],
            [
             0.6666666666666666,
             "#35b779"
            ],
            [
             0.7777777777777778,
             "#6ece58"
            ],
            [
             0.8888888888888888,
             "#b5de2b"
            ],
            [
             1,
             "#fde725"
            ]
           ]
          },
          "colorway": [
           "#1F77B4",
           "#FF7F0E",
           "#2CA02C",
           "#D62728",
           "#9467BD",
           "#8C564B",
           "#E377C2",
           "#7F7F7F",
           "#BCBD22",
           "#17BECF"
          ],
          "font": {
           "color": "rgb(36,36,36)"
          },
          "geo": {
           "bgcolor": "white",
           "lakecolor": "white",
           "landcolor": "white",
           "showlakes": true,
           "showland": true,
           "subunitcolor": "white"
          },
          "hoverlabel": {
           "align": "left"
          },
          "hovermode": "closest",
          "mapbox": {
           "style": "light"
          },
          "paper_bgcolor": "white",
          "plot_bgcolor": "white",
          "polar": {
           "angularaxis": {
            "gridcolor": "rgb(232,232,232)",
            "linecolor": "rgb(36,36,36)",
            "showgrid": false,
            "showline": true,
            "ticks": "outside"
           },
           "bgcolor": "white",
           "radialaxis": {
            "gridcolor": "rgb(232,232,232)",
            "linecolor": "rgb(36,36,36)",
            "showgrid": false,
            "showline": true,
            "ticks": "outside"
           }
          },
          "scene": {
           "xaxis": {
            "backgroundcolor": "white",
            "gridcolor": "rgb(232,232,232)",
            "gridwidth": 2,
            "linecolor": "rgb(36,36,36)",
            "showbackground": true,
            "showgrid": false,
            "showline": true,
            "ticks": "outside",
            "zeroline": false,
            "zerolinecolor": "rgb(36,36,36)"
           },
           "yaxis": {
            "backgroundcolor": "white",
            "gridcolor": "rgb(232,232,232)",
            "gridwidth": 2,
            "linecolor": "rgb(36,36,36)",
            "showbackground": true,
            "showgrid": false,
            "showline": true,
            "ticks": "outside",
            "zeroline": false,
            "zerolinecolor": "rgb(36,36,36)"
           },
           "zaxis": {
            "backgroundcolor": "white",
            "gridcolor": "rgb(232,232,232)",
            "gridwidth": 2,
            "linecolor": "rgb(36,36,36)",
            "showbackground": true,
            "showgrid": false,
            "showline": true,
            "ticks": "outside",
            "zeroline": false,
            "zerolinecolor": "rgb(36,36,36)"
           }
          },
          "shapedefaults": {
           "fillcolor": "black",
           "line": {
            "width": 0
           },
           "opacity": 0.3
          },
          "ternary": {
           "aaxis": {
            "gridcolor": "rgb(232,232,232)",
            "linecolor": "rgb(36,36,36)",
            "showgrid": false,
            "showline": true,
            "ticks": "outside"
           },
           "baxis": {
            "gridcolor": "rgb(232,232,232)",
            "linecolor": "rgb(36,36,36)",
            "showgrid": false,
            "showline": true,
            "ticks": "outside"
           },
           "bgcolor": "white",
           "caxis": {
            "gridcolor": "rgb(232,232,232)",
            "linecolor": "rgb(36,36,36)",
            "showgrid": false,
            "showline": true,
            "ticks": "outside"
           }
          },
          "title": {
           "x": 0.05
          },
          "xaxis": {
           "automargin": true,
           "gridcolor": "rgb(232,232,232)",
           "linecolor": "rgb(36,36,36)",
           "showgrid": false,
           "showline": true,
           "ticks": "outside",
           "title": {
            "standoff": 15
           },
           "zeroline": false,
           "zerolinecolor": "rgb(36,36,36)"
          },
          "yaxis": {
           "automargin": true,
           "gridcolor": "rgb(232,232,232)",
           "linecolor": "rgb(36,36,36)",
           "showgrid": false,
           "showline": true,
           "ticks": "outside",
           "title": {
            "standoff": 15
           },
           "zeroline": false,
           "zerolinecolor": "rgb(36,36,36)"
          }
         }
        },
        "title": {
         "text": "Rides (normalized to starting date)"
        },
        "xaxis": {
         "anchor": "y",
         "domain": [
          0,
          0.98
         ],
         "title": {
          "text": ""
         }
        },
        "xaxis2": {
         "anchor": "y2",
         "domain": [
          0,
          0.98
         ],
         "matches": "x",
         "showticklabels": false
        },
        "xaxis3": {
         "anchor": "y3",
         "domain": [
          0,
          0.98
         ],
         "matches": "x",
         "showticklabels": false
        },
        "yaxis": {
         "anchor": "x",
         "domain": [
          0,
          0.3133333333333333
         ],
         "title": {
          "text": ""
         }
        },
        "yaxis2": {
         "anchor": "x2",
         "domain": [
          0.34333333333333327,
          0.6566666666666665
         ],
         "matches": "y",
         "title": {
          "text": ""
         }
        },
        "yaxis3": {
         "anchor": "x3",
         "domain": [
          0.6866666666666665,
          0.9999999999999998
         ],
         "matches": "y",
         "title": {
          "text": ""
         }
        }
       }
      }
     },
     "metadata": {},
     "output_type": "display_data"
    }
   ],
   "source": [
    "chart = px.line(plot_data, x='date', y='demean', \n",
    "        line_dash='nearby', facet_row='transit',\n",
    "        color_discrete_sequence=['black'],\n",
    "        title= 'Rides (normalized to starting date)',\n",
    "        labels={'date':'', 'demean':'',\n",
    "                'nearby':'Near DNC'},\n",
    "        template='simple_white')\n",
    "chart.add_vrect(x0=\"2024-08-19\", x1=\"2024-08-22\", \n",
    "                fillcolor=\"gray\", opacity=.5)\n",
    "chart.write_image(\"../../../reports/replication/parallel_trends.jpeg\")\n",
    "!cp ../../../reports/replication/parallel_trends.jpeg ../../../../eric-mc2-cv/static/img\n",
    "chart.show()\n"
   ]
  },
  {
   "cell_type": "code",
   "execution_count": null,
   "metadata": {},
   "outputs": [],
   "source": []
  }
 ],
 "metadata": {
  "kernelspec": {
   "display_name": ".venv",
   "language": "python",
   "name": "python3"
  },
  "language_info": {
   "codemirror_mode": {
    "name": "ipython",
    "version": 3
   },
   "file_extension": ".py",
   "mimetype": "text/x-python",
   "name": "python",
   "nbconvert_exporter": "python",
   "pygments_lexer": "ipython3",
   "version": "3.12.6"
  }
 },
 "nbformat": 4,
 "nbformat_minor": 2
}
