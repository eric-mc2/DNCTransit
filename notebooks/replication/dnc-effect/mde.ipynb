{
 "cells": [
  {
   "cell_type": "code",
   "execution_count": 1,
   "metadata": {},
   "outputs": [],
   "source": [
    "import pandas as pd\n",
    "import os\n",
    "import numpy as np\n",
    "\n",
    "import plotly.express as px\n",
    "\n",
    "from data.constants import DATA_FOLDER\n",
    "\n",
    "from power import power_uncond\n",
    "from tabulate import  tabulate"
   ]
  },
  {
   "cell_type": "code",
   "execution_count": 2,
   "metadata": {},
   "outputs": [],
   "source": [
    "comm_panel_in = os.path.join(DATA_FOLDER, \"final\", \"comm_panel.parquet\")\n",
    "tract_panel_in = os.path.join(DATA_FOLDER, \"final\", \"tract_panel.parquet\")"
   ]
  },
  {
   "cell_type": "code",
   "execution_count": 3,
   "metadata": {},
   "outputs": [],
   "source": [
    "comm_panel = pd.read_parquet(comm_panel_in)\n",
    "comm_panel = comm_panel.query('~is_weekend')\n",
    "tract_panel = pd.read_parquet(tract_panel_in)\n",
    "tract_panel = tract_panel.query('~is_weekend')"
   ]
  },
  {
   "cell_type": "code",
   "execution_count": 4,
   "metadata": {},
   "outputs": [],
   "source": [
    "trt_panel = tract_panel.query(\"(DNC==1)\")"
   ]
  },
  {
   "cell_type": "code",
   "execution_count": 5,
   "metadata": {},
   "outputs": [],
   "source": [
    "power_stats_base = power_uncond(trt_panel, ['transit','UCMP'], 'rides', 0)[['transit','UCMP','mean','std','mde','mds']]\n",
    "power_stats_base['mds'] /= 5e4\n",
    "plot_data = power_stats_base.round(1).set_index(['UCMP','transit']).sort_index()"
   ]
  },
  {
   "cell_type": "code",
   "execution_count": 6,
   "metadata": {},
   "outputs": [
    {
     "data": {
      "text/html": [
       "<div>\n",
       "<style scoped>\n",
       "    .dataframe tbody tr th:only-of-type {\n",
       "        vertical-align: middle;\n",
       "    }\n",
       "\n",
       "    .dataframe tbody tr th {\n",
       "        vertical-align: top;\n",
       "    }\n",
       "\n",
       "    .dataframe thead th {\n",
       "        text-align: right;\n",
       "    }\n",
       "</style>\n",
       "<table border=\"1\" class=\"dataframe\">\n",
       "  <thead>\n",
       "    <tr style=\"text-align: right;\">\n",
       "      <th></th>\n",
       "      <th>Daily Rides</th>\n",
       "      <th>Mean (SD)</th>\n",
       "      <th>Minimum Detectable Effect</th>\n",
       "      <th>MDE Per Attendee</th>\n",
       "    </tr>\n",
       "    <tr>\n",
       "      <th>Serves DNC</th>\n",
       "      <th>Transit</th>\n",
       "      <th></th>\n",
       "      <th></th>\n",
       "      <th></th>\n",
       "    </tr>\n",
       "  </thead>\n",
       "  <tbody>\n",
       "    <tr>\n",
       "      <th rowspan=\"3\" valign=\"top\">0</th>\n",
       "      <th>bike</th>\n",
       "      <td>72.8 (181.6)</td>\n",
       "      <td>12.4</td>\n",
       "      <td>0.4</td>\n",
       "    </tr>\n",
       "    <tr>\n",
       "      <th>train</th>\n",
       "      <td>2651.2 (4084.7)</td>\n",
       "      <td>584.0</td>\n",
       "      <td>4.5</td>\n",
       "    </tr>\n",
       "    <tr>\n",
       "      <th>uber</th>\n",
       "      <td>187.5 (685.8)</td>\n",
       "      <td>31.1</td>\n",
       "      <td>2.4</td>\n",
       "    </tr>\n",
       "    <tr>\n",
       "      <th rowspan=\"3\" valign=\"top\">1</th>\n",
       "      <th>bike</th>\n",
       "      <td>177.0 (237.1)</td>\n",
       "      <td>55.4</td>\n",
       "      <td>0.2</td>\n",
       "    </tr>\n",
       "    <tr>\n",
       "      <th>train</th>\n",
       "      <td>2492.9 (2102.1)</td>\n",
       "      <td>787.0</td>\n",
       "      <td>0.9</td>\n",
       "    </tr>\n",
       "    <tr>\n",
       "      <th>uber</th>\n",
       "      <td>925.3 (1981.5)</td>\n",
       "      <td>438.9</td>\n",
       "      <td>1.4</td>\n",
       "    </tr>\n",
       "  </tbody>\n",
       "</table>\n",
       "</div>"
      ],
      "text/plain": [
       "Daily Rides               Mean (SD)  Minimum Detectable Effect  \\\n",
       "Serves DNC Transit                                               \n",
       "0          bike        72.8 (181.6)                       12.4   \n",
       "           train    2651.2 (4084.7)                      584.0   \n",
       "           uber       187.5 (685.8)                       31.1   \n",
       "1          bike       177.0 (237.1)                       55.4   \n",
       "           train    2492.9 (2102.1)                      787.0   \n",
       "           uber      925.3 (1981.5)                      438.9   \n",
       "\n",
       "Daily Rides         MDE Per Attendee  \n",
       "Serves DNC Transit                    \n",
       "0          bike                  0.4  \n",
       "           train                 4.5  \n",
       "           uber                  2.4  \n",
       "1          bike                  0.2  \n",
       "           train                 0.9  \n",
       "           uber                  1.4  "
      ]
     },
     "execution_count": 6,
     "metadata": {},
     "output_type": "execute_result"
    }
   ],
   "source": [
    "plot_data.index.set_names(['Serves DNC', 'Transit'], inplace=True)\n",
    "plot_data.columns.set_names('Daily Rides', inplace=True)\n",
    "plot_data['Mean (SD)'] = plot_data['mean'].astype(str) + plot_data['std'].apply(\" ({})\".format)\n",
    "plot_data.drop(columns=['mean','std'], inplace=True)\n",
    "plot_data.rename(columns={'mde': 'Minimum Detectable Effect',\n",
    "                          'mds': 'MDE Per Attendee'}, inplace=True)\n",
    "plot_data = plot_data.iloc[:, [2,0,1]]\n",
    "plot_data"
   ]
  },
  {
   "cell_type": "code",
   "execution_count": 7,
   "metadata": {},
   "outputs": [
    {
     "name": "stdout",
     "output_type": "stream",
     "text": [
      "|   Serves DNC | Transit   | Mean (SD)       |   Minimum Detectable Effect |   MDE Per Attendee |\n",
      "|--------------|-----------|-----------------|-----------------------------|--------------------|\n",
      "|            0 | bike      | 72.8 (181.6)    |                        12.4 |                0.4 |\n",
      "|            0 | train     | 2651.2 (4084.7) |                       584   |                4.5 |\n",
      "|            0 | uber      | 187.5 (685.8)   |                        31.1 |                2.4 |\n",
      "|            1 | bike      | 177.0 (237.1)   |                        55.4 |                0.2 |\n",
      "|            1 | train     | 2492.9 (2102.1) |                       787   |                0.9 |\n",
      "|            1 | uber      | 925.3 (1981.5)  |                       438.9 |                1.4 |\n"
     ]
    }
   ],
   "source": [
    "with open(\"../../../reports/replication/mde.md\",\"w\") as f:\n",
    "    tbl = tabulate(plot_data.reset_index(), \n",
    "                   headers=plot_data.reset_index().columns, \n",
    "                   showindex=False,\n",
    "                   tablefmt='github')\n",
    "    f.write(tbl)\n",
    "    print(tbl)\n",
    "!cp ../../../reports/replication/mde.md ../../../../eric-mc2-cv/static/uploads/"
   ]
  }
 ],
 "metadata": {
  "kernelspec": {
   "display_name": ".venv",
   "language": "python",
   "name": "python3"
  },
  "language_info": {
   "codemirror_mode": {
    "name": "ipython",
    "version": 3
   },
   "file_extension": ".py",
   "mimetype": "text/x-python",
   "name": "python",
   "nbconvert_exporter": "python",
   "pygments_lexer": "ipython3",
   "version": "3.12.6"
  }
 },
 "nbformat": 4,
 "nbformat_minor": 2
}
