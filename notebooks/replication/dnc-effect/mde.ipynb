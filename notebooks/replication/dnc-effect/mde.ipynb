{
 "cells": [
  {
   "cell_type": "code",
   "execution_count": 30,
   "metadata": {},
   "outputs": [],
   "source": [
    "import pandas as pd\n",
    "\n",
    "from power import panel_mde\n",
    "from tabulate import tabulate"
   ]
  },
  {
   "cell_type": "code",
   "execution_count": 31,
   "metadata": {},
   "outputs": [],
   "source": [
    "panel_in = \"../../../data/final/model_data.parquet\"\n",
    "mde_out = \"../../../reports/replication/mde.md\""
   ]
  },
  {
   "cell_type": "code",
   "execution_count": 32,
   "metadata": {},
   "outputs": [],
   "source": [
    "panel = pd.read_parquet(panel_in)"
   ]
  },
  {
   "cell_type": "code",
   "execution_count": 33,
   "metadata": {},
   "outputs": [],
   "source": [
    "mde_stats = panel_mde(panel, ['transit'], 'id', 'rides', 'UCMP == 1')"
   ]
  },
  {
   "cell_type": "code",
   "execution_count": 34,
   "metadata": {},
   "outputs": [
    {
     "data": {
      "text/html": [
       "<div>\n",
       "<style scoped>\n",
       "    .dataframe tbody tr th:only-of-type {\n",
       "        vertical-align: middle;\n",
       "    }\n",
       "\n",
       "    .dataframe tbody tr th {\n",
       "        vertical-align: top;\n",
       "    }\n",
       "\n",
       "    .dataframe thead th {\n",
       "        text-align: right;\n",
       "    }\n",
       "</style>\n",
       "<table border=\"1\" class=\"dataframe\">\n",
       "  <thead>\n",
       "    <tr style=\"text-align: right;\">\n",
       "      <th></th>\n",
       "      <th>Mean Rides per Unit per Day (SD)</th>\n",
       "      <th>Minimum Detectable Change</th>\n",
       "      <th>Minimum Additional Rides</th>\n",
       "    </tr>\n",
       "    <tr>\n",
       "      <th>Transit</th>\n",
       "      <th></th>\n",
       "      <th></th>\n",
       "      <th></th>\n",
       "    </tr>\n",
       "  </thead>\n",
       "  <tbody>\n",
       "    <tr>\n",
       "      <th>bike</th>\n",
       "      <td>50.3 (17.5)</td>\n",
       "      <td>+151%</td>\n",
       "      <td>10235</td>\n",
       "    </tr>\n",
       "    <tr>\n",
       "      <th>train</th>\n",
       "      <td>1482.0 (392.7)</td>\n",
       "      <td>+227%</td>\n",
       "      <td>58655</td>\n",
       "    </tr>\n",
       "    <tr>\n",
       "      <th>uber</th>\n",
       "      <td>753.1 (583.5)</td>\n",
       "      <td>+142%</td>\n",
       "      <td>55036</td>\n",
       "    </tr>\n",
       "  </tbody>\n",
       "</table>\n",
       "</div>"
      ],
      "text/plain": [
       "        Mean Rides per Unit per Day (SD) Minimum Detectable Change  \\\n",
       "Transit                                                              \n",
       "bike                         50.3 (17.5)                     +151%   \n",
       "train                     1482.0 (392.7)                     +227%   \n",
       "uber                       753.1 (583.5)                     +142%   \n",
       "\n",
       "        Minimum Additional Rides  \n",
       "Transit                           \n",
       "bike                       10235  \n",
       "train                      58655  \n",
       "uber                       55036  "
      ]
     },
     "execution_count": 34,
     "metadata": {},
     "output_type": "execute_result"
    }
   ],
   "source": [
    "# Format for presentation.\n",
    "mde_stats.index.set_names(['Transit'], inplace=True)\n",
    "mde_stats['Mean Rides per Unit per Day (SD)'] = mde_stats['ar_mean'].apply(\"{:.1f}\".format) + \\\n",
    "                                                mde_stats['ar_std'].apply(\" ({:.1f})\".format)\n",
    "mde_stats['Minimum Detectable Change'] = \"+\" + mde_stats['mdc'].apply(\"{:.0%}\".format)\n",
    "mde_stats['Minimum Additional Rides'] = mde_stats['mds'].apply(\"{:.0f}\".format)\n",
    "mde_stats.drop(columns=['ar_mean','ar_std','mdc','mds',\n",
    "                        'geo_mean','exp(geo_mean)', 'geo_std',\n",
    "                        'se', 'exp(se)', 'mde', 'n'], inplace=True)\n",
    "mde_stats"
   ]
  },
  {
   "cell_type": "code",
   "execution_count": 35,
   "metadata": {},
   "outputs": [
    {
     "name": "stdout",
     "output_type": "stream",
     "text": [
      "| Transit   | Mean Rides per Unit per Day (SD)   | Minimum Detectable Change   |   Minimum Additional Rides |\n",
      "|-----------|------------------------------------|-----------------------------|----------------------------|\n",
      "| bike      | 50.3 (17.5)                        | +151%                       |                      10235 |\n",
      "| train     | 1482.0 (392.7)                     | +227%                       |                      58655 |\n",
      "| uber      | 753.1 (583.5)                      | +142%                       |                      55036 |\n"
     ]
    }
   ],
   "source": [
    "\n",
    "# Note: For future reference if you need multi-header columns:\n",
    "# The best option is to tabualte with tablefmt=html, open the file and\n",
    "# added a new <tr> in the table header, fixed the column name labels, \n",
    "# and used the <th colspan=\"2\"> attribute to make the spanning columns.\n",
    "\n",
    "with open(mde_out,\"w\") as f:\n",
    "    tbl = tabulate(mde_stats.reset_index(), \n",
    "                   headers=mde_stats.reset_index().columns, \n",
    "                   showindex=False,\n",
    "                   tablefmt='github')\n",
    "    f.write(tbl)\n",
    "    print(tbl)\n",
    "\n",
    "!cp {mde_out} ../../../../eric-mc2-cv/static/uploads/"
   ]
  },
  {
   "cell_type": "code",
   "execution_count": null,
   "metadata": {},
   "outputs": [],
   "source": []
  }
 ],
 "metadata": {
  "kernelspec": {
   "display_name": ".venv",
   "language": "python",
   "name": "python3"
  },
  "language_info": {
   "codemirror_mode": {
    "name": "ipython",
    "version": 3
   },
   "file_extension": ".py",
   "mimetype": "text/x-python",
   "name": "python",
   "nbconvert_exporter": "python",
   "pygments_lexer": "ipython3",
   "version": "3.12.6"
  }
 },
 "nbformat": 4,
 "nbformat_minor": 2
}
