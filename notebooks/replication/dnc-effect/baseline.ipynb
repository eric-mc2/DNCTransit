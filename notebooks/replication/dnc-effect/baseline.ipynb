{
 "cells": [
  {
   "cell_type": "code",
   "execution_count": 84,
   "metadata": {},
   "outputs": [],
   "source": [
    "import pandas as pd\n",
    "import numpy as np\n",
    "\n",
    "from tableone import TableOne\n",
    "from tabulate import tabulate, SEPARATING_LINE\n"
   ]
  },
  {
   "cell_type": "code",
   "execution_count": 85,
   "metadata": {},
   "outputs": [],
   "source": [
    "tract_panel_in = \"../../../data/final/tract_panel.parquet\"\n",
    "model_panel_in = \"../../../data/final/model_data.parquet\"\n",
    "\n",
    "tract_balance_out = \"../../../reports/replication/tract-balance.md\"\n",
    "model_balance_out = \"../../../reports/replication/balance.md\""
   ]
  },
  {
   "cell_type": "code",
   "execution_count": 86,
   "metadata": {},
   "outputs": [],
   "source": [
    "tract_panel = pd.read_parquet(tract_panel_in)\n",
    "model_panel = pd.read_parquet(model_panel_in)"
   ]
  },
  {
   "cell_type": "code",
   "execution_count": 87,
   "metadata": {},
   "outputs": [],
   "source": [
    "# For the baseline / balance tests we use PRE-TREATMENT days\n",
    "tract_panel = tract_panel[tract_panel.date < \"2024-08-19\"]\n",
    "model_panel = model_panel[model_panel.date < \"2024-08-19\"]"
   ]
  },
  {
   "cell_type": "markdown",
   "metadata": {},
   "source": [
    "# Balance"
   ]
  },
  {
   "cell_type": "code",
   "execution_count": 88,
   "metadata": {},
   "outputs": [],
   "source": [
    "def fix_count_rows(tone, count_row):\n",
    "    row_labels = tone.tableone.index.get_level_values(0)\n",
    "    is_count = row_labels.str.contains(count_row)\n",
    "    new_labels =  np.where(is_count,\n",
    "                            row_labels.str.replace(', mean (SD)',''),\n",
    "                            row_labels)\n",
    "    tone.tableone.index = pd.MultiIndex.from_tuples(zip(new_labels, \n",
    "                                            tone.tableone.index.get_level_values(1).values))\n",
    "    return tone\n",
    "\n",
    "def balance_table(df, unit_name, unit_abbr):\n",
    "    space_data = df.drop_duplicates(['transit','id']).copy()\n",
    "    dist_cols = ['train_distance','bus_distance','bike_distance']\n",
    "    space_table = TableOne(space_data,\n",
    "         categorical=['transit'],\n",
    "         continuous=['lat','long','landarea'] + dist_cols,\n",
    "         groupby='UCMP',\n",
    "         rename={'UCMP':'Near DNC', 'n':unit_name, 'landarea':'sqrt(area)'},\n",
    "         pval=True,\n",
    "         missing=False,\n",
    "         overall=False)\n",
    "    \n",
    "    space_table = fix_count_rows(space_table, unit_name)\n",
    "\n",
    "    time_data = df.drop_duplicates(['transit','id','UCMP','date','rides']).copy()\n",
    "    time_table = TableOne(time_data,\n",
    "                      columns=['rides'],\n",
    "                      groupby='UCMP',\n",
    "                      rename={'UCMP':'Near DNC',\n",
    "                              'n':f'{unit_abbr}-days',\n",
    "                              'rides': 'daily rides'},\n",
    "                      pval=True,\n",
    "                      missing=False,\n",
    "                      overall=False)\n",
    "    \n",
    "    time_table = fix_count_rows(time_table, unit_abbr)\n",
    "\n",
    "    \n",
    "    def apply_order(x, keys):\n",
    "        orders = np.zeros_like(x)\n",
    "        for i, key in enumerate(keys):\n",
    "            orders += i * x.str.contains(key)\n",
    "        return orders\n",
    "\n",
    "    key_order = [unit_name, unit_abbr, 'rides', 'transit',\n",
    "                 'train_distance','bus_distance','bike_distance',\n",
    "                 'area','lat','long']\n",
    "    order_func = lambda x: apply_order(x, key_order)\n",
    "    bal_table = pd.concat([space_table.tableone, time_table.tableone])\n",
    "    bal_table = bal_table.sort_index(key=order_func)\n",
    "    \n",
    "    # Hack to concat TableOne tables.\n",
    "    space_table.tableone = bal_table\n",
    "    return space_table"
   ]
  },
  {
   "cell_type": "markdown",
   "metadata": {},
   "source": [
    "## Tract-level Model"
   ]
  },
  {
   "cell_type": "code",
   "execution_count": 89,
   "metadata": {},
   "outputs": [
    {
     "name": "stdout",
     "output_type": "stream",
     "text": [
      "                                  0                  1                P-Value\n",
      "-------------------------  -----  -----------------  ---------------  ---------\n",
      "tracts                            1898               91\n",
      "tract-days                        113662             6950\n",
      "daily rides, mean (SD)            358.3 (1549.0)     756.3 (1699.2)   <0.001\n",
      "transit, n (%)             bike   600 (31.6)         37 (40.7)        <0.001\n",
      "                           train  96 (5.1)           14 (15.4)\n",
      "                           uber   1202 (63.3)        40 (44.0)\n",
      "train_distance, mean (SD)         12163.8 (17080.3)  2216.0 (1015.3)  <0.001\n",
      "bus_distance, mean (SD)           6383.0 (15019.5)   522.3 (346.5)    <0.001\n",
      "bike_distance, mean (SD)          7302.1 (15832.1)   852.6 (514.5)    <0.001\n",
      "sqrt(area), mean (SD)             1021.8 (607.8)     841.1 (328.1)    <0.001\n",
      "lat, mean (SD)                    -0.1 (1.2)         -0.1 (0.2)       0.208\n",
      "long, mean (SD)                   -0.3 (1.4)         0.5 (0.3)        <0.001\n"
     ]
    }
   ],
   "source": [
    "tract_balance = balance_table(tract_panel, 'tracts', 'tract')\n",
    "print(tract_balance.tabulate(tablefmt='simple'))"
   ]
  },
  {
   "cell_type": "code",
   "execution_count": 90,
   "metadata": {},
   "outputs": [],
   "source": [
    "with open(tract_balance_out,\"w\") as f:\n",
    "    f.write(tract_balance.tabulate(headers=['Not Near DNC', 'Near DNC', 'P-Value'],tablefmt=\"github\"))\n",
    "!cp {tract_balance_out} ../../../../eric-mc2-cv/static/uploads/"
   ]
  },
  {
   "cell_type": "markdown",
   "metadata": {},
   "source": [
    "## Nominal Model"
   ]
  },
  {
   "cell_type": "code",
   "execution_count": 91,
   "metadata": {},
   "outputs": [],
   "source": [
    "def balance_transit(df, transit, unit_name):\n",
    "    tbl = balance_table(df.loc[df.transit==transit], unit_name+'s', unit_name)\n",
    "    tbl.tableone = tbl.tableone[~tbl.tableone.index.get_level_values(0).str.contains('transit')]\n",
    "    tbl.tableone.index = tbl.tableone.index.set_levels(levels=[transit],level=1)\n",
    "    return tbl"
   ]
  },
  {
   "cell_type": "code",
   "execution_count": 100,
   "metadata": {},
   "outputs": [
    {
     "data": {
      "text/html": [
       "<table>\n",
       "<thead>\n",
       "<tr><th>     </th><th>                         </th><th>Not Near DNC     </th><th>Near DNC       </th><th>P-Value  </th></tr>\n",
       "</thead>\n",
       "<tbody>\n",
       "<tr><td>train</td><td>stations                 </td><td>114              </td><td>8              </td><td>         </td></tr>\n",
       "<tr><td>     </td><td>station-days             </td><td>6270             </td><td>420            </td><td>         </td></tr>\n",
       "<tr><td>     </td><td>daily rides, mean (SD)   </td><td>2718.4 (2337.9)  </td><td>1482.8 (995.9) </td><td>&lt;0.001   </td></tr>\n",
       "<tr><td>     </td><td>bus_distance, mean (SD)  </td><td>305.0 (1472.7)   </td><td>165.3 (167.7)  </td><td>0.354    </td></tr>\n",
       "<tr><td>     </td><td>bike_distance, mean (SD) </td><td>387.6 (1535.0)   </td><td>288.5 (281.6)  </td><td>0.573    </td></tr>\n",
       "<tr><td>     </td><td>sqrt(area), mean (SD)    </td><td>2521.0 (3723.0)  </td><td>3123.8 (3564.8)</td><td>0.657    </td></tr>\n",
       "<tr><td>     </td><td>lat, mean (SD)           </td><td>-0.1 (0.9)       </td><td>-0.3 (0.2)     </td><td>0.027    </td></tr>\n",
       "<tr><td>     </td><td>long, mean (SD)          </td><td>-0.0 (1.0)       </td><td>0.2 (0.4)      </td><td>0.296    </td></tr>\n",
       "<tr><td>bike </td><td>docks                    </td><td>1459             </td><td>47             </td><td>         </td></tr>\n",
       "<tr><td>     </td><td>dock-days                </td><td>42316            </td><td>2568           </td><td>         </td></tr>\n",
       "<tr><td>     </td><td>daily rides, mean (SD)   </td><td>46.0 (67.7)      </td><td>49.5 (34.4)    </td><td>&lt;0.001   </td></tr>\n",
       "<tr><td>     </td><td>train_distance, mean (SD)</td><td>5007.3 (5396.5)  </td><td>1056.5 (1240.4)</td><td>&lt;0.001   </td></tr>\n",
       "<tr><td>     </td><td>bus_distance, mean (SD)  </td><td>146.2 (264.4)    </td><td>105.6 (73.5)   </td><td>0.002    </td></tr>\n",
       "<tr><td>     </td><td>sqrt(area), mean (SD)    </td><td>666.9 (1009.0)   </td><td>655.0 (420.6)  </td><td>0.859    </td></tr>\n",
       "<tr><td>     </td><td>lat, mean (SD)           </td><td>-0.4 (1.3)       </td><td>-0.3 (0.2)     </td><td>0.248    </td></tr>\n",
       "<tr><td>     </td><td>long, mean (SD)          </td><td>-0.3 (1.3)       </td><td>0.4 (0.5)      </td><td>&lt;0.001   </td></tr>\n",
       "<tr><td>uber </td><td>tracts                   </td><td>1196             </td><td>40             </td><td>         </td></tr>\n",
       "<tr><td>     </td><td>tract-days               </td><td>52995            </td><td>2189           </td><td>         </td></tr>\n",
       "<tr><td>     </td><td>daily rides, mean (SD)   </td><td>213.8 (802.3)    </td><td>737.9 (1714.9) </td><td>&lt;0.001   </td></tr>\n",
       "<tr><td>     </td><td>train_distance, mean (SD)</td><td>15886.8 (19731.6)</td><td>2293.7 (1027.7)</td><td>&lt;0.001   </td></tr>\n",
       "<tr><td>     </td><td>bus_distance, mean (SD)  </td><td>9390.3 (17842.2) </td><td>503.0 (313.2)  </td><td>&lt;0.001   </td></tr>\n",
       "<tr><td>     </td><td>bike_distance, mean (SD) </td><td>10707.4 (18691.3)</td><td>889.5 (504.9)  </td><td>&lt;0.001   </td></tr>\n",
       "<tr><td>     </td><td>sqrt(area), mean (SD)    </td><td>1134.0 (691.0)   </td><td>784.4 (320.0)  </td><td>&lt;0.001   </td></tr>\n",
       "<tr><td>     </td><td>lat, mean (SD)           </td><td>-0.1 (1.4)       </td><td>-0.1 (0.2)     </td><td>0.153    </td></tr>\n",
       "<tr><td>     </td><td>long, mean (SD)          </td><td>-0.5 (1.5)       </td><td>0.5 (0.3)      </td><td>&lt;0.001   </td></tr>\n",
       "</tbody>\n",
       "</table>"
      ],
      "text/plain": [
       "'<table>\\n<thead>\\n<tr><th>     </th><th>                         </th><th>Not Near DNC     </th><th>Near DNC       </th><th>P-Value  </th></tr>\\n</thead>\\n<tbody>\\n<tr><td>train</td><td>stations                 </td><td>114              </td><td>8              </td><td>         </td></tr>\\n<tr><td>     </td><td>station-days             </td><td>6270             </td><td>420            </td><td>         </td></tr>\\n<tr><td>     </td><td>daily rides, mean (SD)   </td><td>2718.4 (2337.9)  </td><td>1482.8 (995.9) </td><td>&lt;0.001   </td></tr>\\n<tr><td>     </td><td>bus_distance, mean (SD)  </td><td>305.0 (1472.7)   </td><td>165.3 (167.7)  </td><td>0.354    </td></tr>\\n<tr><td>     </td><td>bike_distance, mean (SD) </td><td>387.6 (1535.0)   </td><td>288.5 (281.6)  </td><td>0.573    </td></tr>\\n<tr><td>     </td><td>sqrt(area), mean (SD)    </td><td>2521.0 (3723.0)  </td><td>3123.8 (3564.8)</td><td>0.657    </td></tr>\\n<tr><td>     </td><td>lat, mean (SD)           </td><td>-0.1 (0.9)       </td><td>-0.3 (0.2)     </td><td>0.027    </td></tr>\\n<tr><td>     </td><td>long, mean (SD)          </td><td>-0.0 (1.0)       </td><td>0.2 (0.4)      </td><td>0.296    </td></tr>\\n<tr><td>bike </td><td>docks                    </td><td>1459             </td><td>47             </td><td>         </td></tr>\\n<tr><td>     </td><td>dock-days                </td><td>42316            </td><td>2568           </td><td>         </td></tr>\\n<tr><td>     </td><td>daily rides, mean (SD)   </td><td>46.0 (67.7)      </td><td>49.5 (34.4)    </td><td>&lt;0.001   </td></tr>\\n<tr><td>     </td><td>train_distance, mean (SD)</td><td>5007.3 (5396.5)  </td><td>1056.5 (1240.4)</td><td>&lt;0.001   </td></tr>\\n<tr><td>     </td><td>bus_distance, mean (SD)  </td><td>146.2 (264.4)    </td><td>105.6 (73.5)   </td><td>0.002    </td></tr>\\n<tr><td>     </td><td>sqrt(area), mean (SD)    </td><td>666.9 (1009.0)   </td><td>655.0 (420.6)  </td><td>0.859    </td></tr>\\n<tr><td>     </td><td>lat, mean (SD)           </td><td>-0.4 (1.3)       </td><td>-0.3 (0.2)     </td><td>0.248    </td></tr>\\n<tr><td>     </td><td>long, mean (SD)          </td><td>-0.3 (1.3)       </td><td>0.4 (0.5)      </td><td>&lt;0.001   </td></tr>\\n<tr><td>uber </td><td>tracts                   </td><td>1196             </td><td>40             </td><td>         </td></tr>\\n<tr><td>     </td><td>tract-days               </td><td>52995            </td><td>2189           </td><td>         </td></tr>\\n<tr><td>     </td><td>daily rides, mean (SD)   </td><td>213.8 (802.3)    </td><td>737.9 (1714.9) </td><td>&lt;0.001   </td></tr>\\n<tr><td>     </td><td>train_distance, mean (SD)</td><td>15886.8 (19731.6)</td><td>2293.7 (1027.7)</td><td>&lt;0.001   </td></tr>\\n<tr><td>     </td><td>bus_distance, mean (SD)  </td><td>9390.3 (17842.2) </td><td>503.0 (313.2)  </td><td>&lt;0.001   </td></tr>\\n<tr><td>     </td><td>bike_distance, mean (SD) </td><td>10707.4 (18691.3)</td><td>889.5 (504.9)  </td><td>&lt;0.001   </td></tr>\\n<tr><td>     </td><td>sqrt(area), mean (SD)    </td><td>1134.0 (691.0)   </td><td>784.4 (320.0)  </td><td>&lt;0.001   </td></tr>\\n<tr><td>     </td><td>lat, mean (SD)           </td><td>-0.1 (1.4)       </td><td>-0.1 (0.2)     </td><td>0.153    </td></tr>\\n<tr><td>     </td><td>long, mean (SD)          </td><td>-0.5 (1.5)       </td><td>0.5 (0.3)      </td><td>&lt;0.001   </td></tr>\\n</tbody>\\n</table>'"
      ]
     },
     "execution_count": 100,
     "metadata": {},
     "output_type": "execute_result"
    }
   ],
   "source": [
    "train_balance = balance_transit(model_panel, 'train', 'station').tableone.loc[lambda x: ~x.index.get_level_values(0).str.contains('train')]\n",
    "bike_balance = balance_transit(model_panel, 'bike', 'dock').tableone.loc[lambda x: ~x.index.get_level_values(0).str.contains('bike')]\n",
    "uber_balance = balance_transit(model_panel, 'uber', 'tract').tableone\n",
    "tbl = pd.concat([train_balance, bike_balance, uber_balance])\n",
    "tbl.columns = tbl.columns.droplevel(0)\n",
    "tbl = tbl.swaplevel(axis=0)\n",
    "tbl = tbl.reset_index()\n",
    "tbl['level_0'] = tbl['level_0'].where(~tbl['level_0'].duplicated(),'')\n",
    "tabulate(tbl, headers=['','','Not Near DNC','Near DNC','P-Value'],tablefmt='html',showindex=False)"
   ]
  },
  {
   "cell_type": "code",
   "execution_count": 97,
   "metadata": {},
   "outputs": [],
   "source": [
    "tbl_data = []\n",
    "for i,row in enumerate(tbl.to_numpy()):\n",
    "    if row[0] != '' and i != 0:\n",
    "        tbl_data.append(SEPARATING_LINE)\n",
    "    tbl_data.append(row.tolist())"
   ]
  },
  {
   "cell_type": "code",
   "execution_count": 98,
   "metadata": {},
   "outputs": [],
   "source": [
    "with open(model_balance_out,\"w\") as f:\n",
    "    f.write(tabulate(tbl_data, headers=['','','Not Near DNC','Near DNC','P-Value'],tablefmt='github',showindex=False))\n",
    "!cp {model_balance_out} ../../../../eric-mc2-cv/static/uploads/"
   ]
  },
  {
   "cell_type": "code",
   "execution_count": null,
   "metadata": {},
   "outputs": [],
   "source": []
  }
 ],
 "metadata": {
  "kernelspec": {
   "display_name": ".venv",
   "language": "python",
   "name": "python3"
  },
  "language_info": {
   "codemirror_mode": {
    "name": "ipython",
    "version": 3
   },
   "file_extension": ".py",
   "mimetype": "text/x-python",
   "name": "python",
   "nbconvert_exporter": "python",
   "pygments_lexer": "ipython3",
   "version": "3.12.6"
  }
 },
 "nbformat": 4,
 "nbformat_minor": 2
}
