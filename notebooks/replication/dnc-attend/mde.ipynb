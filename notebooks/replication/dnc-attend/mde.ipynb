{
 "cells": [
  {
   "cell_type": "code",
   "execution_count": 19,
   "metadata": {},
   "outputs": [],
   "source": [
    "import pandas as pd\n",
    "import os\n",
    "import numpy as np\n",
    "\n",
    "import plotly.express as px\n",
    "\n",
    "from power import power_uncond\n",
    "from tabulate import  tabulate"
   ]
  },
  {
   "cell_type": "code",
   "execution_count": 20,
   "metadata": {},
   "outputs": [],
   "source": [
    "tract_panel_in = \"../../../data/final/tract_panel.parquet\"\n",
    "table_out = \"../../../reports/replication/mde-attend.md\""
   ]
  },
  {
   "cell_type": "code",
   "execution_count": 21,
   "metadata": {},
   "outputs": [],
   "source": [
    "tract_panel = pd.read_parquet(tract_panel_in)"
   ]
  },
  {
   "cell_type": "code",
   "execution_count": 22,
   "metadata": {},
   "outputs": [],
   "source": [
    "trt_panel = tract_panel.query(\"(DNC==1)\")"
   ]
  },
  {
   "cell_type": "code",
   "execution_count": 23,
   "metadata": {},
   "outputs": [],
   "source": [
    "power_stats_base = power_uncond(trt_panel, ['transit','UCMP'], 'rides', 0)[['transit','UCMP','mean','std','mde','mds']]\n",
    "power_stats_base['mds'] /= 5e4\n",
    "plot_data = power_stats_base.round(1).set_index(['UCMP','transit']).sort_index()"
   ]
  },
  {
   "cell_type": "code",
   "execution_count": 24,
   "metadata": {},
   "outputs": [
    {
     "data": {
      "text/html": [
       "<div>\n",
       "<style scoped>\n",
       "    .dataframe tbody tr th:only-of-type {\n",
       "        vertical-align: middle;\n",
       "    }\n",
       "\n",
       "    .dataframe tbody tr th {\n",
       "        vertical-align: top;\n",
       "    }\n",
       "\n",
       "    .dataframe thead th {\n",
       "        text-align: right;\n",
       "    }\n",
       "</style>\n",
       "<table border=\"1\" class=\"dataframe\">\n",
       "  <thead>\n",
       "    <tr style=\"text-align: right;\">\n",
       "      <th></th>\n",
       "      <th>Daily Rides</th>\n",
       "      <th>Mean (SD)</th>\n",
       "      <th>Minimum Detectable Effect</th>\n",
       "      <th>MDE Per Attendee</th>\n",
       "    </tr>\n",
       "    <tr>\n",
       "      <th>Near DNC</th>\n",
       "      <th>Transit</th>\n",
       "      <th></th>\n",
       "      <th></th>\n",
       "      <th></th>\n",
       "    </tr>\n",
       "  </thead>\n",
       "  <tbody>\n",
       "    <tr>\n",
       "      <th rowspan=\"3\" valign=\"top\">0</th>\n",
       "      <th>bike</th>\n",
       "      <td>181.7 (111.2)</td>\n",
       "      <td>34.0</td>\n",
       "      <td>0.1</td>\n",
       "    </tr>\n",
       "    <tr>\n",
       "      <th>train</th>\n",
       "      <td>4028.0 (3510.3)</td>\n",
       "      <td>2007.4</td>\n",
       "      <td>1.0</td>\n",
       "    </tr>\n",
       "    <tr>\n",
       "      <th>uber</th>\n",
       "      <td>470.3 (322.7)</td>\n",
       "      <td>81.9</td>\n",
       "      <td>0.2</td>\n",
       "    </tr>\n",
       "    <tr>\n",
       "      <th rowspan=\"3\" valign=\"top\">1</th>\n",
       "      <th>bike</th>\n",
       "      <td>177.0 (237.1)</td>\n",
       "      <td>55.4</td>\n",
       "      <td>0.2</td>\n",
       "    </tr>\n",
       "    <tr>\n",
       "      <th>train</th>\n",
       "      <td>2492.9 (2102.1)</td>\n",
       "      <td>787.0</td>\n",
       "      <td>0.9</td>\n",
       "    </tr>\n",
       "    <tr>\n",
       "      <th>uber</th>\n",
       "      <td>925.3 (1981.5)</td>\n",
       "      <td>438.9</td>\n",
       "      <td>1.4</td>\n",
       "    </tr>\n",
       "  </tbody>\n",
       "</table>\n",
       "</div>"
      ],
      "text/plain": [
       "Daily Rides             Mean (SD)  Minimum Detectable Effect  MDE Per Attendee\n",
       "Near DNC Transit                                                              \n",
       "0        bike       181.7 (111.2)                       34.0               0.1\n",
       "         train    4028.0 (3510.3)                     2007.4               1.0\n",
       "         uber       470.3 (322.7)                       81.9               0.2\n",
       "1        bike       177.0 (237.1)                       55.4               0.2\n",
       "         train    2492.9 (2102.1)                      787.0               0.9\n",
       "         uber      925.3 (1981.5)                      438.9               1.4"
      ]
     },
     "execution_count": 24,
     "metadata": {},
     "output_type": "execute_result"
    }
   ],
   "source": [
    "plot_data.index.set_names(['Near DNC', 'Transit'], inplace=True)\n",
    "plot_data.columns.set_names('Daily Rides', inplace=True)\n",
    "plot_data['Mean (SD)'] = plot_data['mean'].astype(str) + plot_data['std'].apply(\" ({})\".format)\n",
    "plot_data.drop(columns=['mean','std'], inplace=True)\n",
    "plot_data.rename(columns={'mde': 'Minimum Detectable Effect',\n",
    "                          'mds': 'MDE Per Attendee'}, inplace=True)\n",
    "plot_data = plot_data.iloc[:, [2,0,1]]\n",
    "plot_data"
   ]
  },
  {
   "cell_type": "code",
   "execution_count": 26,
   "metadata": {},
   "outputs": [
    {
     "name": "stdout",
     "output_type": "stream",
     "text": [
      "|   Near DNC | Transit   | Mean (SD)       |   Minimum Detectable Effect |   MDE Per Attendee |\n",
      "|------------|-----------|-----------------|-----------------------------|--------------------|\n",
      "|          0 | bike      | 181.7 (111.2)   |                        34   |                0.1 |\n",
      "|          0 | train     | 4028.0 (3510.3) |                      2007.4 |                1   |\n",
      "|          0 | uber      | 470.3 (322.7)   |                        81.9 |                0.2 |\n",
      "|          1 | bike      | 177.0 (237.1)   |                        55.4 |                0.2 |\n",
      "|          1 | train     | 2492.9 (2102.1) |                       787   |                0.9 |\n",
      "|          1 | uber      | 925.3 (1981.5)  |                       438.9 |                1.4 |\n"
     ]
    }
   ],
   "source": [
    "with open(table_out,\"w\") as f:\n",
    "    tbl = tabulate(plot_data.reset_index(), \n",
    "                   headers=plot_data.reset_index().columns, \n",
    "                   showindex=False,\n",
    "                   tablefmt='github')\n",
    "    f.write(tbl)\n",
    "    print(tbl)\n",
    "!cp $table_out ../../../../eric-mc2-cv/static/uploads/"
   ]
  },
  {
   "cell_type": "code",
   "execution_count": null,
   "metadata": {},
   "outputs": [],
   "source": []
  }
 ],
 "metadata": {
  "kernelspec": {
   "display_name": ".venv",
   "language": "python",
   "name": "python3"
  },
  "language_info": {
   "codemirror_mode": {
    "name": "ipython",
    "version": 3
   },
   "file_extension": ".py",
   "mimetype": "text/x-python",
   "name": "python",
   "nbconvert_exporter": "python",
   "pygments_lexer": "ipython3",
   "version": "3.12.6"
  }
 },
 "nbformat": 4,
 "nbformat_minor": 2
}
