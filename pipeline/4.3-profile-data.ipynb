{
 "cells": [
  {
   "cell_type": "code",
   "execution_count": 7,
   "metadata": {},
   "outputs": [],
   "source": [
    "import pandas as pd\n",
    "import plotly.express as px"
   ]
  },
  {
   "cell_type": "code",
   "execution_count": 8,
   "metadata": {},
   "outputs": [],
   "source": [
    "attend = pd.read_csv('../data/interim/sports.csv')"
   ]
  },
  {
   "cell_type": "code",
   "execution_count": 15,
   "metadata": {},
   "outputs": [
    {
     "data": {
      "text/html": [
       "<div>\n",
       "<style scoped>\n",
       "    .dataframe tbody tr th:only-of-type {\n",
       "        vertical-align: middle;\n",
       "    }\n",
       "\n",
       "    .dataframe tbody tr th {\n",
       "        vertical-align: top;\n",
       "    }\n",
       "\n",
       "    .dataframe thead th {\n",
       "        text-align: right;\n",
       "    }\n",
       "</style>\n",
       "<table border=\"1\" class=\"dataframe\">\n",
       "  <thead>\n",
       "    <tr style=\"text-align: right;\">\n",
       "      <th></th>\n",
       "      <th>min</th>\n",
       "      <th>max</th>\n",
       "      <th>date</th>\n",
       "    </tr>\n",
       "  </thead>\n",
       "  <tbody>\n",
       "    <tr>\n",
       "      <th>guaranteed rate</th>\n",
       "      <td>2024-03-28</td>\n",
       "      <td>2024-09-26</td>\n",
       "      <td>NaN</td>\n",
       "    </tr>\n",
       "    <tr>\n",
       "      <th>seatgeek</th>\n",
       "      <td>2024-03-23</td>\n",
       "      <td>2024-11-03</td>\n",
       "      <td>NaN</td>\n",
       "    </tr>\n",
       "    <tr>\n",
       "      <th>soldier</th>\n",
       "      <td>2024-03-02</td>\n",
       "      <td>2024-12-26</td>\n",
       "      <td>NaN</td>\n",
       "    </tr>\n",
       "    <tr>\n",
       "      <th>united center</th>\n",
       "      <td>2023-10-21</td>\n",
       "      <td>2024-12-28</td>\n",
       "      <td>NaN</td>\n",
       "    </tr>\n",
       "    <tr>\n",
       "      <th>wrigley</th>\n",
       "      <td>2024-04-01</td>\n",
       "      <td>2024-09-29</td>\n",
       "      <td>NaN</td>\n",
       "    </tr>\n",
       "    <tr>\n",
       "      <th>min</th>\n",
       "      <td>NaN</td>\n",
       "      <td>NaN</td>\n",
       "      <td>2023-10-21</td>\n",
       "    </tr>\n",
       "    <tr>\n",
       "      <th>max</th>\n",
       "      <td>NaN</td>\n",
       "      <td>NaN</td>\n",
       "      <td>2024-12-28</td>\n",
       "    </tr>\n",
       "  </tbody>\n",
       "</table>\n",
       "</div>"
      ],
      "text/plain": [
       "                        min         max        date\n",
       "guaranteed rate  2024-03-28  2024-09-26         NaN\n",
       "seatgeek         2024-03-23  2024-11-03         NaN\n",
       "soldier          2024-03-02  2024-12-26         NaN\n",
       "united center    2023-10-21  2024-12-28         NaN\n",
       "wrigley          2024-04-01  2024-09-29         NaN\n",
       "min                     NaN         NaN  2023-10-21\n",
       "max                     NaN         NaN  2024-12-28"
      ]
     },
     "execution_count": 15,
     "metadata": {},
     "output_type": "execute_result"
    }
   ],
   "source": [
    "pd.concat([attend.groupby('stadium')['date'].agg(['min','max']),\n",
    "           attend['date'].agg(['min','max'])])"
   ]
  },
  {
   "cell_type": "code",
   "execution_count": 10,
   "metadata": {},
   "outputs": [
    {
     "data": {
      "application/vnd.plotly.v1+json": {
       "config": {
        "plotlyServerURL": "https://plot.ly"
       },
       "data": [
        {
         "coloraxis": "coloraxis",
         "hovertemplate": "stadium: %{x}<br>date: %{y}<br>color: %{z}<extra></extra>",
         "name": "0",
         "type": "heatmap",
         "x": [
          "guaranteed rate",
          "seatgeek",
          "soldier",
          "united center",
          "wrigley"
         ],
         "xaxis": "x",
         "y": [
          "2023-10-21",
          "2023-10-24",
          "2023-10-25",
          "2023-10-27",
          "2023-11-03",
          "2023-11-04",
          "2023-11-05",
          "2023-11-06",
          "2023-11-08",
          "2023-11-12",
          "2023-11-15",
          "2023-11-16",
          "2023-11-17",
          "2023-11-18",
          "2023-11-19",
          "2023-11-20",
          "2023-11-24",
          "2023-11-26",
          "2023-11-28",
          "2023-11-30",
          "2023-12-02",
          "2023-12-05",
          "2023-12-06",
          "2023-12-07",
          "2023-12-09",
          "2023-12-10",
          "2023-12-12",
          "2023-12-17",
          "2023-12-19",
          "2023-12-20",
          "2023-12-21",
          "2023-12-22",
          "2023-12-23",
          "2023-12-26",
          "2023-12-27",
          "2023-12-28",
          "2023-12-30",
          "2024-01-05",
          "2024-01-07",
          "2024-01-09",
          "2024-01-10",
          "2024-01-12",
          "2024-01-13",
          "2024-01-16",
          "2024-01-19",
          "2024-01-20",
          "2024-01-30",
          "2024-02-03",
          "2024-02-06",
          "2024-02-07",
          "2024-02-09",
          "2024-02-13",
          "2024-02-15",
          "2024-02-17",
          "2024-02-21",
          "2024-02-22",
          "2024-02-23",
          "2024-02-25",
          "2024-02-27",
          "2024-02-28",
          "2024-02-29",
          "2024-03-01",
          "2024-03-02",
          "2024-03-10",
          "2024-03-11",
          "2024-03-12",
          "2024-03-14",
          "2024-03-15",
          "2024-03-16",
          "2024-03-17",
          "2024-03-18",
          "2024-03-23",
          "2024-03-25",
          "2024-03-26",
          "2024-03-27",
          "2024-03-28",
          "2024-03-30",
          "2024-03-31",
          "2024-04-01",
          "2024-04-02",
          "2024-04-03",
          "2024-04-05",
          "2024-04-06",
          "2024-04-07",
          "2024-04-09",
          "2024-04-12",
          "2024-04-13",
          "2024-04-14",
          "2024-04-15",
          "2024-04-17",
          "2024-04-19",
          "2024-04-20",
          "2024-04-21",
          "2024-04-23",
          "2024-04-24",
          "2024-04-25",
          "2024-04-26",
          "2024-04-27",
          "2024-04-28",
          "2024-04-29",
          "2024-04-30",
          "2024-05-01",
          "2024-05-03",
          "2024-05-04",
          "2024-05-05",
          "2024-05-06",
          "2024-05-07",
          "2024-05-08",
          "2024-05-09",
          "2024-05-10",
          "2024-05-11",
          "2024-05-12",
          "2024-05-14",
          "2024-05-15",
          "2024-05-16",
          "2024-05-17",
          "2024-05-18",
          "2024-05-19",
          "2024-05-21",
          "2024-05-22",
          "2024-05-23",
          "2024-05-24",
          "2024-05-25",
          "2024-05-26",
          "2024-05-27",
          "2024-05-28",
          "2024-05-29",
          "2024-05-31",
          "2024-06-01",
          "2024-06-02",
          "2024-06-04",
          "2024-06-05",
          "2024-06-06",
          "2024-06-07",
          "2024-06-08",
          "2024-06-09",
          "2024-06-14",
          "2024-06-15",
          "2024-06-16",
          "2024-06-17",
          "2024-06-18",
          "2024-06-19",
          "2024-06-20",
          "2024-06-21",
          "2024-06-22",
          "2024-06-23",
          "2024-06-24",
          "2024-06-25",
          "2024-06-26",
          "2024-06-27",
          "2024-06-28",
          "2024-06-29",
          "2024-06-30",
          "2024-07-02",
          "2024-07-03",
          "2024-07-04",
          "2024-07-05",
          "2024-07-06",
          "2024-07-07",
          "2024-07-08",
          "2024-07-10",
          "2024-07-12",
          "2024-07-13",
          "2024-07-14",
          "2024-07-19",
          "2024-07-20",
          "2024-07-21",
          "2024-07-22",
          "2024-07-23",
          "2024-07-24",
          "2024-07-26",
          "2024-07-27",
          "2024-07-28",
          "2024-07-29",
          "2024-07-30",
          "2024-07-31",
          "2024-08-01",
          "2024-08-02",
          "2024-08-03",
          "2024-08-04",
          "2024-08-05",
          "2024-08-06",
          "2024-08-07",
          "2024-08-09",
          "2024-08-10",
          "2024-08-12",
          "2024-08-13",
          "2024-08-14",
          "2024-08-16",
          "2024-08-17",
          "2024-08-18",
          "2024-08-19",
          "2024-08-20",
          "2024-08-21",
          "2024-08-22",
          "2024-08-23",
          "2024-08-24",
          "2024-08-25",
          "2024-08-26",
          "2024-08-28",
          "2024-08-29",
          "2024-08-30",
          "2024-08-31",
          "2024-09-01",
          "2024-09-02",
          "2024-09-03",
          "2024-09-04",
          "2024-09-06",
          "2024-09-07",
          "2024-09-08",
          "2024-09-09",
          "2024-09-10",
          "2024-09-11",
          "2024-09-13",
          "2024-09-14",
          "2024-09-15",
          "2024-09-16",
          "2024-09-17",
          "2024-09-18",
          "2024-09-19",
          "2024-09-20",
          "2024-09-21",
          "2024-09-22",
          "2024-09-24",
          "2024-09-25",
          "2024-09-26",
          "2024-09-27",
          "2024-09-28",
          "2024-09-29",
          "2024-10-06",
          "2024-10-12",
          "2024-10-13",
          "2024-10-17",
          "2024-10-19",
          "2024-10-22",
          "2024-10-25",
          "2024-10-26",
          "2024-10-30",
          "2024-11-03",
          "2024-11-04",
          "2024-11-06",
          "2024-11-07",
          "2024-11-10",
          "2024-11-11",
          "2024-11-17",
          "2024-11-19",
          "2024-11-21",
          "2024-11-22",
          "2024-11-23",
          "2024-11-24",
          "2024-11-27",
          "2024-11-29",
          "2024-12-01",
          "2024-12-02",
          "2024-12-04",
          "2024-12-06",
          "2024-12-07",
          "2024-12-08",
          "2024-12-13",
          "2024-12-15",
          "2024-12-17",
          "2024-12-19",
          "2024-12-21",
          "2024-12-22",
          "2024-12-23",
          "2024-12-26",
          "2024-12-28"
         ],
         "yaxis": "y",
         "z": [
          [
           null,
           null,
           null,
           19867,
           null
          ],
          [
           null,
           null,
           null,
           19370,
           null
          ],
          [
           null,
           null,
           null,
           21369,
           null
          ],
          [
           null,
           null,
           null,
           19555,
           null
          ],
          [
           null,
           null,
           null,
           20645,
           null
          ],
          [
           null,
           null,
           null,
           18666,
           null
          ],
          [
           null,
           null,
           null,
           18388,
           null
          ],
          [
           null,
           null,
           null,
           18031,
           null
          ],
          [
           null,
           null,
           null,
           18220,
           null
          ],
          [
           null,
           null,
           null,
           19088,
           null
          ],
          [
           null,
           null,
           null,
           19092,
           null
          ],
          [
           null,
           null,
           null,
           18691,
           null
          ],
          [
           null,
           null,
           null,
           20235,
           null
          ],
          [
           null,
           null,
           null,
           18063,
           null
          ],
          [
           null,
           null,
           null,
           19027,
           null
          ],
          [
           null,
           null,
           null,
           19258,
           null
          ],
          [
           null,
           null,
           null,
           20238,
           null
          ],
          [
           null,
           null,
           null,
           18223,
           null
          ],
          [
           null,
           null,
           null,
           17070,
           null
          ],
          [
           null,
           null,
           null,
           19838,
           null
          ],
          [
           null,
           null,
           null,
           20511,
           null
          ],
          [
           null,
           null,
           null,
           16521,
           null
          ],
          [
           null,
           null,
           null,
           17689,
           null
          ],
          [
           null,
           null,
           null,
           17424,
           null
          ],
          [
           null,
           null,
           null,
           18892,
           null
          ],
          [
           null,
           null,
           null,
           18258,
           null
          ],
          [
           null,
           null,
           null,
           20775,
           null
          ],
          [
           null,
           null,
           null,
           19302,
           null
          ],
          [
           null,
           null,
           null,
           19719,
           null
          ],
          [
           null,
           null,
           null,
           21234,
           null
          ],
          [
           null,
           null,
           null,
           20697,
           null
          ],
          [
           null,
           null,
           null,
           20340,
           null
          ],
          [
           null,
           null,
           null,
           19583,
           null
          ],
          [
           null,
           null,
           null,
           21420,
           null
          ],
          [
           null,
           null,
           null,
           20540,
           null
          ],
          [
           null,
           null,
           null,
           21568,
           null
          ],
          [
           null,
           null,
           null,
           21648,
           null
          ],
          [
           null,
           null,
           null,
           21345,
           null
          ],
          [
           null,
           null,
           null,
           19907,
           null
          ],
          [
           null,
           null,
           null,
           19756,
           null
          ],
          [
           null,
           null,
           null,
           21149,
           null
          ],
          [
           null,
           null,
           null,
           21153,
           null
          ],
          [
           null,
           null,
           null,
           18889,
           null
          ],
          [
           null,
           null,
           null,
           16401,
           null
          ],
          [
           null,
           null,
           null,
           18463,
           null
          ],
          [
           null,
           null,
           null,
           21441,
           null
          ],
          [
           null,
           null,
           null,
           21259,
           null
          ],
          [
           null,
           null,
           null,
           21579,
           null
          ],
          [
           null,
           null,
           null,
           20949,
           null
          ],
          [
           null,
           null,
           null,
           17230,
           null
          ],
          [
           null,
           null,
           null,
           19995,
           null
          ],
          [
           null,
           null,
           null,
           16452,
           null
          ],
          [
           null,
           null,
           null,
           19423,
           null
          ],
          [
           null,
           null,
           null,
           18888,
           null
          ],
          [
           null,
           null,
           null,
           18245,
           null
          ],
          [
           null,
           null,
           null,
           20313,
           null
          ],
          [
           null,
           null,
           null,
           18891,
           null
          ],
          [
           null,
           null,
           null,
           21141,
           null
          ],
          [
           null,
           null,
           null,
           21089,
           null
          ],
          [
           null,
           null,
           null,
           21700,
           null
          ],
          [
           null,
           null,
           null,
           18096,
           null
          ],
          [
           null,
           null,
           null,
           21249,
           null
          ],
          [
           null,
           null,
           26592,
           18782,
           null
          ],
          [
           null,
           null,
           null,
           18666,
           null
          ],
          [
           null,
           null,
           null,
           21363,
           null
          ],
          [
           null,
           null,
           null,
           18017,
           null
          ],
          [
           null,
           null,
           null,
           21219,
           null
          ],
          [
           null,
           null,
           null,
           19528,
           null
          ],
          [
           null,
           null,
           14874,
           21697,
           null
          ],
          [
           null,
           null,
           null,
           18426,
           null
          ],
          [
           null,
           null,
           null,
           20293,
           null
          ],
          [
           null,
           5494,
           null,
           21198,
           null
          ],
          [
           null,
           null,
           null,
           21726,
           null
          ],
          [
           null,
           null,
           null,
           19404,
           null
          ],
          [
           null,
           null,
           null,
           22018,
           null
          ],
          [
           33420,
           null,
           null,
           null,
           null
          ],
          [
           28176,
           null,
           null,
           null,
           null
          ],
          [
           17478,
           null,
           null,
           null,
           null
          ],
          [
           13781,
           null,
           null,
           21114,
           40072
          ],
          [
           12300,
           null,
           null,
           null,
           26555
          ],
          [
           null,
           null,
           null,
           null,
           25900
          ],
          [
           null,
           null,
           null,
           21599,
           34981
          ],
          [
           null,
           null,
           18844,
           19294,
           41040
          ],
          [
           null,
           null,
           null,
           19636,
           38322
          ],
          [
           null,
           null,
           null,
           21648,
           null
          ],
          [
           11337,
           null,
           null,
           19449,
           null
          ],
          [
           22598,
           3168,
           null,
           null,
           null
          ],
          [
           17589,
           null,
           null,
           18742,
           null
          ],
          [
           10569,
           null,
           null,
           null,
           null
          ],
          [
           10412,
           null,
           null,
           21627,
           null
          ],
          [
           null,
           null,
           null,
           null,
           29595
          ],
          [
           null,
           null,
           14247,
           null,
           68765
          ],
          [
           null,
           null,
           null,
           null,
           36067
          ],
          [
           null,
           null,
           null,
           null,
           30643
          ],
          [
           null,
           null,
           null,
           null,
           32327
          ],
          [
           null,
           null,
           null,
           null,
           29876
          ],
          [
           10323,
           null,
           null,
           null,
           null
          ],
          [
           28009,
           4544,
           18236,
           null,
           null
          ],
          [
           12669,
           null,
           null,
           null,
           null
          ],
          [
           10772,
           null,
           null,
           null,
           null
          ],
          [
           11609,
           null,
           null,
           null,
           null
          ],
          [
           12216,
           2999,
           null,
           null,
           null
          ],
          [
           null,
           null,
           null,
           null,
           33557
          ],
          [
           null,
           null,
           18379,
           null,
           40505
          ],
          [
           null,
           null,
           null,
           null,
           39299
          ],
          [
           null,
           null,
           null,
           null,
           35560
          ],
          [
           null,
           null,
           null,
           null,
           38133
          ],
          [
           null,
           null,
           null,
           null,
           30138
          ],
          [
           10495,
           null,
           null,
           null,
           null
          ],
          [
           17319,
           null,
           null,
           null,
           null
          ],
          [
           26152,
           null,
           null,
           null,
           null
          ],
          [
           15529,
           3104,
           null,
           null,
           null
          ],
          [
           11138,
           null,
           null,
           null,
           null
          ],
          [
           11008,
           null,
           12806,
           null,
           null
          ],
          [
           null,
           null,
           null,
           null,
           36202
          ],
          [
           null,
           null,
           null,
           null,
           35372
          ],
          [
           null,
           null,
           23319,
           null,
           39857
          ],
          [
           null,
           null,
           null,
           null,
           39008
          ],
          [
           null,
           null,
           null,
           null,
           36121
          ],
          [
           null,
           null,
           null,
           null,
           37584
          ],
          [
           15843,
           null,
           null,
           null,
           35646
          ],
          [
           18831,
           null,
           null,
           null,
           null
          ],
          [
           22283,
           3872,
           null,
           null,
           null
          ],
          [
           14992,
           null,
           null,
           null,
           null
          ],
          [
           14993,
           null,
           null,
           null,
           null
          ],
          [
           11852,
           null,
           null,
           null,
           null
          ],
          [
           11599,
           null,
           11372,
           null,
           null
          ],
          [
           null,
           null,
           null,
           null,
           36281
          ],
          [
           null,
           null,
           25237,
           null,
           36430
          ],
          [
           null,
           null,
           null,
           null,
           38129
          ],
          [
           null,
           null,
           null,
           null,
           38397
          ],
          [
           null,
           null,
           null,
           null,
           40073
          ],
          [
           15568,
           null,
           null,
           null,
           null
          ],
          [
           19684,
           null,
           null,
           null,
           null
          ],
          [
           26248,
           35038,
           null,
           null,
           null
          ],
          [
           21055,
           null,
           null,
           null,
           null
          ],
          [
           null,
           null,
           null,
           null,
           40160
          ],
          [
           null,
           null,
           null,
           null,
           40088
          ],
          [
           null,
           null,
           null,
           null,
           39118
          ],
          [
           null,
           null,
           null,
           null,
           36048
          ],
          [
           16763,
           null,
           null,
           null,
           36297
          ],
          [
           14124,
           null,
           null,
           null,
           37673
          ],
          [
           14435,
           null,
           null,
           null,
           null
          ],
          [
           null,
           null,
           null,
           null,
           37037
          ],
          [
           null,
           null,
           null,
           null,
           39319
          ],
          [
           null,
           null,
           null,
           null,
           39417
          ],
          [
           25070,
           null,
           null,
           null,
           null
          ],
          [
           23662,
           null,
           null,
           null,
           null
          ],
          [
           36225,
           null,
           null,
           null,
           null
          ],
          [
           12656,
           null,
           null,
           null,
           null
          ],
          [
           24422,
           null,
           null,
           null,
           null
          ],
          [
           21490,
           null,
           null,
           null,
           null
          ],
          [
           19334,
           null,
           null,
           null,
           null
          ],
          [
           null,
           null,
           null,
           null,
           38670
          ],
          [
           null,
           null,
           19453,
           null,
           36653
          ],
          [
           null,
           null,
           null,
           null,
           40143
          ],
          [
           null,
           null,
           null,
           null,
           36948
          ],
          [
           null,
           5566,
           null,
           null,
           36420
          ],
          [
           null,
           null,
           null,
           null,
           34355
          ],
          [
           10881,
           null,
           null,
           null,
           null
          ],
          [
           13607,
           null,
           null,
           null,
           null
          ],
          [
           19548,
           null,
           null,
           null,
           null
          ],
          [
           20437,
           null,
           25179,
           null,
           null
          ],
          [
           16501,
           null,
           null,
           null,
           null
          ],
          [
           null,
           null,
           null,
           null,
           40691
          ],
          [
           null,
           null,
           null,
           null,
           39595
          ],
          [
           null,
           null,
           null,
           null,
           39162
          ],
          [
           null,
           null,
           null,
           null,
           35741
          ],
          [
           null,
           null,
           null,
           null,
           37651
          ],
          [
           null,
           null,
           null,
           null,
           37679
          ],
          [
           20170,
           null,
           null,
           null,
           null
          ],
          [
           21037,
           null,
           null,
           null,
           null
          ],
          [
           17100,
           null,
           null,
           null,
           null
          ],
          [
           12179,
           null,
           null,
           null,
           null
          ],
          [
           15360,
           null,
           null,
           null,
           null
          ],
          [
           14112,
           null,
           null,
           null,
           null
          ],
          [
           null,
           null,
           null,
           null,
           37969
          ],
          [
           null,
           null,
           null,
           null,
           37613
          ],
          [
           null,
           null,
           null,
           null,
           40073
          ],
          [
           null,
           null,
           null,
           null,
           34593
          ],
          [
           null,
           null,
           null,
           null,
           35382
          ],
          [
           null,
           null,
           null,
           null,
           36653
          ],
          [
           null,
           null,
           null,
           null,
           35059
          ],
          [
           38127,
           null,
           null,
           null,
           null
          ],
          [
           38341,
           null,
           null,
           null,
           null
          ],
          [
           22815,
           null,
           null,
           null,
           null
          ],
          [
           21199,
           null,
           null,
           null,
           null
          ],
          [
           22675,
           null,
           null,
           null,
           null
          ],
          [
           null,
           null,
           null,
           null,
           39614
          ],
          [
           null,
           null,
           null,
           null,
           38755
          ],
          [
           null,
           null,
           null,
           null,
           36117
          ],
          [
           null,
           null,
           null,
           15000,
           null
          ],
          [
           null,
           null,
           null,
           15000,
           31119
          ],
          [
           null,
           null,
           null,
           15000,
           31940
          ],
          [
           null,
           null,
           null,
           15000,
           33536
          ],
          [
           24012,
           null,
           null,
           null,
           null
          ],
          [
           23570,
           null,
           null,
           null,
           null
          ],
          [
           16928,
           null,
           null,
           null,
           null
          ],
          [
           10975,
           null,
           null,
           null,
           null
          ],
          [
           11285,
           null,
           null,
           null,
           null
          ],
          [
           10402,
           null,
           null,
           null,
           null
          ],
          [
           15288,
           null,
           null,
           null,
           null
          ],
          [
           18627,
           null,
           55385,
           null,
           null
          ],
          [
           16887,
           null,
           null,
           null,
           null
          ],
          [
           null,
           null,
           null,
           null,
           33583
          ],
          [
           null,
           null,
           null,
           null,
           29450
          ],
          [
           null,
           null,
           null,
           null,
           30369
          ],
          [
           null,
           null,
           null,
           null,
           40101
          ],
          [
           null,
           null,
           16426,
           null,
           40080
          ],
          [
           null,
           7291,
           59403,
           null,
           39364
          ],
          [
           11429,
           null,
           null,
           null,
           null
          ],
          [
           12246,
           null,
           null,
           null,
           null
          ],
          [
           11252,
           null,
           null,
           null,
           null
          ],
          [
           26513,
           null,
           null,
           null,
           null
          ],
          [
           21478,
           null,
           22188,
           null,
           null
          ],
          [
           18017,
           null,
           null,
           null,
           null
          ],
          [
           null,
           null,
           null,
           null,
           34532
          ],
          [
           null,
           null,
           null,
           null,
           32718
          ],
          [
           null,
           null,
           null,
           null,
           27806
          ],
          [
           null,
           null,
           null,
           null,
           31479
          ],
          [
           null,
           null,
           null,
           null,
           29590
          ],
          [
           null,
           5045,
           null,
           null,
           38819
          ],
          [
           null,
           null,
           null,
           null,
           30086
          ],
          [
           17606,
           null,
           null,
           null,
           null
          ],
          [
           18423,
           null,
           null,
           null,
           null
          ],
          [
           15678,
           null,
           null,
           null,
           null
          ],
          [
           null,
           null,
           null,
           null,
           32083
          ],
          [
           null,
           null,
           16097,
           null,
           38180
          ],
          [
           null,
           4317,
           59074,
           null,
           33792
          ],
          [
           null,
           null,
           59307,
           null,
           null
          ],
          [
           null,
           7050,
           null,
           null,
           null
          ],
          [
           null,
           null,
           61182,
           null,
           null
          ],
          [
           null,
           null,
           null,
           19056,
           null
          ],
          [
           null,
           null,
           23942,
           18773,
           null
          ],
          [
           null,
           null,
           null,
           17118,
           null
          ],
          [
           null,
           null,
           null,
           17787,
           null
          ],
          [
           null,
           null,
           null,
           20923,
           null
          ],
          [
           null,
           null,
           null,
           19015,
           null
          ],
          [
           null,
           5595,
           null,
           null,
           null
          ],
          [
           null,
           null,
           null,
           19621,
           null
          ],
          [
           null,
           null,
           null,
           19984,
           null
          ],
          [
           null,
           null,
           null,
           19621,
           null
          ],
          [
           null,
           null,
           58912,
           19657,
           null
          ],
          [
           null,
           null,
           null,
           20560,
           null
          ],
          [
           null,
           null,
           59419,
           20667,
           null
          ],
          [
           null,
           null,
           null,
           17712,
           null
          ],
          [
           null,
           null,
           null,
           19107,
           null
          ],
          [
           null,
           null,
           null,
           19979,
           null
          ],
          [
           null,
           null,
           null,
           19449,
           null
          ],
          [
           null,
           null,
           57659,
           null,
           null
          ],
          [
           null,
           null,
           null,
           19144,
           null
          ],
          [
           null,
           null,
           null,
           19798,
           null
          ],
          [
           null,
           null,
           null,
           17393,
           null
          ],
          [
           null,
           null,
           null,
           19131,
           null
          ],
          [
           null,
           null,
           null,
           19179,
           null
          ],
          [
           null,
           null,
           null,
           19544,
           null
          ],
          [
           null,
           null,
           null,
           18581,
           null
          ],
          [
           null,
           null,
           null,
           18837,
           null
          ],
          [
           null,
           null,
           null,
           19543,
           null
          ],
          [
           null,
           null,
           null,
           19264,
           null
          ],
          [
           null,
           null,
           null,
           18511,
           null
          ],
          [
           null,
           null,
           null,
           18991,
           null
          ],
          [
           null,
           null,
           null,
           19803,
           null
          ],
          [
           null,
           null,
           56539,
           null,
           null
          ],
          [
           null,
           null,
           null,
           21234,
           null
          ],
          [
           null,
           null,
           56346,
           null,
           null
          ],
          [
           null,
           null,
           null,
           21511,
           null
          ]
         ]
        }
       ],
       "layout": {
        "coloraxis": {
         "colorscale": [
          [
           0,
           "#0d0887"
          ],
          [
           0.1111111111111111,
           "#46039f"
          ],
          [
           0.2222222222222222,
           "#7201a8"
          ],
          [
           0.3333333333333333,
           "#9c179e"
          ],
          [
           0.4444444444444444,
           "#bd3786"
          ],
          [
           0.5555555555555556,
           "#d8576b"
          ],
          [
           0.6666666666666666,
           "#ed7953"
          ],
          [
           0.7777777777777778,
           "#fb9f3a"
          ],
          [
           0.8888888888888888,
           "#fdca26"
          ],
          [
           1,
           "#f0f921"
          ]
         ]
        },
        "margin": {
         "t": 60
        },
        "template": {
         "data": {
          "bar": [
           {
            "error_x": {
             "color": "#2a3f5f"
            },
            "error_y": {
             "color": "#2a3f5f"
            },
            "marker": {
             "line": {
              "color": "#E5ECF6",
              "width": 0.5
             },
             "pattern": {
              "fillmode": "overlay",
              "size": 10,
              "solidity": 0.2
             }
            },
            "type": "bar"
           }
          ],
          "barpolar": [
           {
            "marker": {
             "line": {
              "color": "#E5ECF6",
              "width": 0.5
             },
             "pattern": {
              "fillmode": "overlay",
              "size": 10,
              "solidity": 0.2
             }
            },
            "type": "barpolar"
           }
          ],
          "carpet": [
           {
            "aaxis": {
             "endlinecolor": "#2a3f5f",
             "gridcolor": "white",
             "linecolor": "white",
             "minorgridcolor": "white",
             "startlinecolor": "#2a3f5f"
            },
            "baxis": {
             "endlinecolor": "#2a3f5f",
             "gridcolor": "white",
             "linecolor": "white",
             "minorgridcolor": "white",
             "startlinecolor": "#2a3f5f"
            },
            "type": "carpet"
           }
          ],
          "choropleth": [
           {
            "colorbar": {
             "outlinewidth": 0,
             "ticks": ""
            },
            "type": "choropleth"
           }
          ],
          "contour": [
           {
            "colorbar": {
             "outlinewidth": 0,
             "ticks": ""
            },
            "colorscale": [
             [
              0,
              "#0d0887"
             ],
             [
              0.1111111111111111,
              "#46039f"
             ],
             [
              0.2222222222222222,
              "#7201a8"
             ],
             [
              0.3333333333333333,
              "#9c179e"
             ],
             [
              0.4444444444444444,
              "#bd3786"
             ],
             [
              0.5555555555555556,
              "#d8576b"
             ],
             [
              0.6666666666666666,
              "#ed7953"
             ],
             [
              0.7777777777777778,
              "#fb9f3a"
             ],
             [
              0.8888888888888888,
              "#fdca26"
             ],
             [
              1,
              "#f0f921"
             ]
            ],
            "type": "contour"
           }
          ],
          "contourcarpet": [
           {
            "colorbar": {
             "outlinewidth": 0,
             "ticks": ""
            },
            "type": "contourcarpet"
           }
          ],
          "heatmap": [
           {
            "colorbar": {
             "outlinewidth": 0,
             "ticks": ""
            },
            "colorscale": [
             [
              0,
              "#0d0887"
             ],
             [
              0.1111111111111111,
              "#46039f"
             ],
             [
              0.2222222222222222,
              "#7201a8"
             ],
             [
              0.3333333333333333,
              "#9c179e"
             ],
             [
              0.4444444444444444,
              "#bd3786"
             ],
             [
              0.5555555555555556,
              "#d8576b"
             ],
             [
              0.6666666666666666,
              "#ed7953"
             ],
             [
              0.7777777777777778,
              "#fb9f3a"
             ],
             [
              0.8888888888888888,
              "#fdca26"
             ],
             [
              1,
              "#f0f921"
             ]
            ],
            "type": "heatmap"
           }
          ],
          "heatmapgl": [
           {
            "colorbar": {
             "outlinewidth": 0,
             "ticks": ""
            },
            "colorscale": [
             [
              0,
              "#0d0887"
             ],
             [
              0.1111111111111111,
              "#46039f"
             ],
             [
              0.2222222222222222,
              "#7201a8"
             ],
             [
              0.3333333333333333,
              "#9c179e"
             ],
             [
              0.4444444444444444,
              "#bd3786"
             ],
             [
              0.5555555555555556,
              "#d8576b"
             ],
             [
              0.6666666666666666,
              "#ed7953"
             ],
             [
              0.7777777777777778,
              "#fb9f3a"
             ],
             [
              0.8888888888888888,
              "#fdca26"
             ],
             [
              1,
              "#f0f921"
             ]
            ],
            "type": "heatmapgl"
           }
          ],
          "histogram": [
           {
            "marker": {
             "pattern": {
              "fillmode": "overlay",
              "size": 10,
              "solidity": 0.2
             }
            },
            "type": "histogram"
           }
          ],
          "histogram2d": [
           {
            "colorbar": {
             "outlinewidth": 0,
             "ticks": ""
            },
            "colorscale": [
             [
              0,
              "#0d0887"
             ],
             [
              0.1111111111111111,
              "#46039f"
             ],
             [
              0.2222222222222222,
              "#7201a8"
             ],
             [
              0.3333333333333333,
              "#9c179e"
             ],
             [
              0.4444444444444444,
              "#bd3786"
             ],
             [
              0.5555555555555556,
              "#d8576b"
             ],
             [
              0.6666666666666666,
              "#ed7953"
             ],
             [
              0.7777777777777778,
              "#fb9f3a"
             ],
             [
              0.8888888888888888,
              "#fdca26"
             ],
             [
              1,
              "#f0f921"
             ]
            ],
            "type": "histogram2d"
           }
          ],
          "histogram2dcontour": [
           {
            "colorbar": {
             "outlinewidth": 0,
             "ticks": ""
            },
            "colorscale": [
             [
              0,
              "#0d0887"
             ],
             [
              0.1111111111111111,
              "#46039f"
             ],
             [
              0.2222222222222222,
              "#7201a8"
             ],
             [
              0.3333333333333333,
              "#9c179e"
             ],
             [
              0.4444444444444444,
              "#bd3786"
             ],
             [
              0.5555555555555556,
              "#d8576b"
             ],
             [
              0.6666666666666666,
              "#ed7953"
             ],
             [
              0.7777777777777778,
              "#fb9f3a"
             ],
             [
              0.8888888888888888,
              "#fdca26"
             ],
             [
              1,
              "#f0f921"
             ]
            ],
            "type": "histogram2dcontour"
           }
          ],
          "mesh3d": [
           {
            "colorbar": {
             "outlinewidth": 0,
             "ticks": ""
            },
            "type": "mesh3d"
           }
          ],
          "parcoords": [
           {
            "line": {
             "colorbar": {
              "outlinewidth": 0,
              "ticks": ""
             }
            },
            "type": "parcoords"
           }
          ],
          "pie": [
           {
            "automargin": true,
            "type": "pie"
           }
          ],
          "scatter": [
           {
            "fillpattern": {
             "fillmode": "overlay",
             "size": 10,
             "solidity": 0.2
            },
            "type": "scatter"
           }
          ],
          "scatter3d": [
           {
            "line": {
             "colorbar": {
              "outlinewidth": 0,
              "ticks": ""
             }
            },
            "marker": {
             "colorbar": {
              "outlinewidth": 0,
              "ticks": ""
             }
            },
            "type": "scatter3d"
           }
          ],
          "scattercarpet": [
           {
            "marker": {
             "colorbar": {
              "outlinewidth": 0,
              "ticks": ""
             }
            },
            "type": "scattercarpet"
           }
          ],
          "scattergeo": [
           {
            "marker": {
             "colorbar": {
              "outlinewidth": 0,
              "ticks": ""
             }
            },
            "type": "scattergeo"
           }
          ],
          "scattergl": [
           {
            "marker": {
             "colorbar": {
              "outlinewidth": 0,
              "ticks": ""
             }
            },
            "type": "scattergl"
           }
          ],
          "scattermapbox": [
           {
            "marker": {
             "colorbar": {
              "outlinewidth": 0,
              "ticks": ""
             }
            },
            "type": "scattermapbox"
           }
          ],
          "scatterpolar": [
           {
            "marker": {
             "colorbar": {
              "outlinewidth": 0,
              "ticks": ""
             }
            },
            "type": "scatterpolar"
           }
          ],
          "scatterpolargl": [
           {
            "marker": {
             "colorbar": {
              "outlinewidth": 0,
              "ticks": ""
             }
            },
            "type": "scatterpolargl"
           }
          ],
          "scatterternary": [
           {
            "marker": {
             "colorbar": {
              "outlinewidth": 0,
              "ticks": ""
             }
            },
            "type": "scatterternary"
           }
          ],
          "surface": [
           {
            "colorbar": {
             "outlinewidth": 0,
             "ticks": ""
            },
            "colorscale": [
             [
              0,
              "#0d0887"
             ],
             [
              0.1111111111111111,
              "#46039f"
             ],
             [
              0.2222222222222222,
              "#7201a8"
             ],
             [
              0.3333333333333333,
              "#9c179e"
             ],
             [
              0.4444444444444444,
              "#bd3786"
             ],
             [
              0.5555555555555556,
              "#d8576b"
             ],
             [
              0.6666666666666666,
              "#ed7953"
             ],
             [
              0.7777777777777778,
              "#fb9f3a"
             ],
             [
              0.8888888888888888,
              "#fdca26"
             ],
             [
              1,
              "#f0f921"
             ]
            ],
            "type": "surface"
           }
          ],
          "table": [
           {
            "cells": {
             "fill": {
              "color": "#EBF0F8"
             },
             "line": {
              "color": "white"
             }
            },
            "header": {
             "fill": {
              "color": "#C8D4E3"
             },
             "line": {
              "color": "white"
             }
            },
            "type": "table"
           }
          ]
         },
         "layout": {
          "annotationdefaults": {
           "arrowcolor": "#2a3f5f",
           "arrowhead": 0,
           "arrowwidth": 1
          },
          "autotypenumbers": "strict",
          "coloraxis": {
           "colorbar": {
            "outlinewidth": 0,
            "ticks": ""
           }
          },
          "colorscale": {
           "diverging": [
            [
             0,
             "#8e0152"
            ],
            [
             0.1,
             "#c51b7d"
            ],
            [
             0.2,
             "#de77ae"
            ],
            [
             0.3,
             "#f1b6da"
            ],
            [
             0.4,
             "#fde0ef"
            ],
            [
             0.5,
             "#f7f7f7"
            ],
            [
             0.6,
             "#e6f5d0"
            ],
            [
             0.7,
             "#b8e186"
            ],
            [
             0.8,
             "#7fbc41"
            ],
            [
             0.9,
             "#4d9221"
            ],
            [
             1,
             "#276419"
            ]
           ],
           "sequential": [
            [
             0,
             "#0d0887"
            ],
            [
             0.1111111111111111,
             "#46039f"
            ],
            [
             0.2222222222222222,
             "#7201a8"
            ],
            [
             0.3333333333333333,
             "#9c179e"
            ],
            [
             0.4444444444444444,
             "#bd3786"
            ],
            [
             0.5555555555555556,
             "#d8576b"
            ],
            [
             0.6666666666666666,
             "#ed7953"
            ],
            [
             0.7777777777777778,
             "#fb9f3a"
            ],
            [
             0.8888888888888888,
             "#fdca26"
            ],
            [
             1,
             "#f0f921"
            ]
           ],
           "sequentialminus": [
            [
             0,
             "#0d0887"
            ],
            [
             0.1111111111111111,
             "#46039f"
            ],
            [
             0.2222222222222222,
             "#7201a8"
            ],
            [
             0.3333333333333333,
             "#9c179e"
            ],
            [
             0.4444444444444444,
             "#bd3786"
            ],
            [
             0.5555555555555556,
             "#d8576b"
            ],
            [
             0.6666666666666666,
             "#ed7953"
            ],
            [
             0.7777777777777778,
             "#fb9f3a"
            ],
            [
             0.8888888888888888,
             "#fdca26"
            ],
            [
             1,
             "#f0f921"
            ]
           ]
          },
          "colorway": [
           "#636efa",
           "#EF553B",
           "#00cc96",
           "#ab63fa",
           "#FFA15A",
           "#19d3f3",
           "#FF6692",
           "#B6E880",
           "#FF97FF",
           "#FECB52"
          ],
          "font": {
           "color": "#2a3f5f"
          },
          "geo": {
           "bgcolor": "white",
           "lakecolor": "white",
           "landcolor": "#E5ECF6",
           "showlakes": true,
           "showland": true,
           "subunitcolor": "white"
          },
          "hoverlabel": {
           "align": "left"
          },
          "hovermode": "closest",
          "mapbox": {
           "style": "light"
          },
          "paper_bgcolor": "white",
          "plot_bgcolor": "#E5ECF6",
          "polar": {
           "angularaxis": {
            "gridcolor": "white",
            "linecolor": "white",
            "ticks": ""
           },
           "bgcolor": "#E5ECF6",
           "radialaxis": {
            "gridcolor": "white",
            "linecolor": "white",
            "ticks": ""
           }
          },
          "scene": {
           "xaxis": {
            "backgroundcolor": "#E5ECF6",
            "gridcolor": "white",
            "gridwidth": 2,
            "linecolor": "white",
            "showbackground": true,
            "ticks": "",
            "zerolinecolor": "white"
           },
           "yaxis": {
            "backgroundcolor": "#E5ECF6",
            "gridcolor": "white",
            "gridwidth": 2,
            "linecolor": "white",
            "showbackground": true,
            "ticks": "",
            "zerolinecolor": "white"
           },
           "zaxis": {
            "backgroundcolor": "#E5ECF6",
            "gridcolor": "white",
            "gridwidth": 2,
            "linecolor": "white",
            "showbackground": true,
            "ticks": "",
            "zerolinecolor": "white"
           }
          },
          "shapedefaults": {
           "line": {
            "color": "#2a3f5f"
           }
          },
          "ternary": {
           "aaxis": {
            "gridcolor": "white",
            "linecolor": "white",
            "ticks": ""
           },
           "baxis": {
            "gridcolor": "white",
            "linecolor": "white",
            "ticks": ""
           },
           "bgcolor": "#E5ECF6",
           "caxis": {
            "gridcolor": "white",
            "linecolor": "white",
            "ticks": ""
           }
          },
          "title": {
           "x": 0.05
          },
          "xaxis": {
           "automargin": true,
           "gridcolor": "white",
           "linecolor": "white",
           "ticks": "",
           "title": {
            "standoff": 15
           },
           "zerolinecolor": "white",
           "zerolinewidth": 2
          },
          "yaxis": {
           "automargin": true,
           "gridcolor": "white",
           "linecolor": "white",
           "ticks": "",
           "title": {
            "standoff": 15
           },
           "zerolinecolor": "white",
           "zerolinewidth": 2
          }
         }
        },
        "xaxis": {
         "anchor": "y",
         "constrain": "domain",
         "domain": [
          0,
          1
         ],
         "scaleanchor": "y",
         "title": {
          "text": "stadium"
         }
        },
        "yaxis": {
         "anchor": "x",
         "autorange": "reversed",
         "constrain": "domain",
         "domain": [
          0,
          1
         ],
         "title": {
          "text": "date"
         }
        }
       }
      }
     },
     "metadata": {},
     "output_type": "display_data"
    }
   ],
   "source": [
    "plot_data = attend.groupby(['date','stadium'],as_index=False)['attendance'].sum().pivot(index='date', columns='stadium', values='attendance')\n",
    "px.imshow(plot_data)"
   ]
  },
  {
   "cell_type": "markdown",
   "metadata": {},
   "source": [
    "Ok so we learn that baseball season runs from April - October.\n",
    "Football season is the least dense."
   ]
  },
  {
   "cell_type": "code",
   "execution_count": 11,
   "metadata": {},
   "outputs": [
    {
     "data": {
      "application/vnd.plotly.v1+json": {
       "config": {
        "plotlyServerURL": "https://plot.ly"
       },
       "data": [
        {
         "alignmentgroup": "True",
         "base": [
          "2023-10-21",
          "2023-10-24",
          "2023-11-04",
          "2023-11-05",
          "2023-11-16",
          "2023-11-19",
          "2023-11-24",
          "2023-11-26",
          "2023-11-28",
          "2023-12-05",
          "2023-12-07",
          "2023-12-09",
          "2023-12-10",
          "2023-12-17",
          "2023-12-19",
          "2023-12-22",
          "2023-12-27",
          "2024-01-07",
          "2024-01-09",
          "2024-01-13",
          "2024-01-16",
          "2024-01-19",
          "2024-02-07",
          "2024-02-09",
          "2024-02-13",
          "2024-02-15",
          "2024-02-17",
          "2024-02-21",
          "2024-02-23",
          "2024-02-25",
          "2024-02-29",
          "2024-03-02",
          "2024-03-10",
          "2024-03-12",
          "2024-03-15",
          "2024-03-17",
          "2024-03-26",
          "2024-04-06",
          "2024-04-07",
          "2024-04-12",
          "2024-04-14",
          "2024-10-17",
          "2024-10-19",
          "2024-10-22",
          "2024-10-25",
          "2024-11-06",
          "2024-11-10",
          "2024-11-19",
          "2024-11-21",
          "2024-11-27",
          "2024-12-01",
          "2024-12-04",
          "2024-12-07",
          "2024-12-15",
          "2024-12-17",
          "2024-12-19"
         ],
         "hovertemplate": "team=blackhawks<br>date=%{base}<br>dateplus1=%{x}<br>is_game=%{y}<extra></extra>",
         "legendgroup": "",
         "marker": {
          "color": "#636efa",
          "pattern": {
           "shape": ""
          }
         },
         "name": "",
         "offsetgroup": "",
         "orientation": "h",
         "showlegend": false,
         "textposition": "auto",
         "type": "bar",
         "x": [
          86400000,
          86400000,
          86400000,
          86400000,
          86400000,
          86400000,
          86400000,
          86400000,
          86400000,
          86400000,
          86400000,
          86400000,
          86400000,
          86400000,
          86400000,
          86400000,
          86400000,
          86400000,
          86400000,
          86400000,
          86400000,
          86400000,
          86400000,
          86400000,
          86400000,
          86400000,
          86400000,
          86400000,
          86400000,
          86400000,
          86400000,
          86400000,
          86400000,
          86400000,
          86400000,
          86400000,
          86400000,
          86400000,
          86400000,
          86400000,
          86400000,
          86400000,
          86400000,
          86400000,
          86400000,
          86400000,
          86400000,
          86400000,
          86400000,
          86400000,
          86400000,
          86400000,
          86400000,
          86400000,
          86400000,
          86400000
         ],
         "xaxis": "x3",
         "y": [
          1,
          1,
          1,
          1,
          1,
          1,
          1,
          1,
          1,
          1,
          1,
          1,
          1,
          1,
          1,
          1,
          1,
          1,
          1,
          1,
          1,
          1,
          1,
          1,
          1,
          1,
          1,
          1,
          1,
          1,
          1,
          1,
          1,
          1,
          1,
          1,
          1,
          1,
          1,
          1,
          1,
          1,
          1,
          1,
          1,
          1,
          1,
          1,
          1,
          1,
          1,
          1,
          1,
          1,
          1,
          1
         ],
         "yaxis": "y3"
        },
        {
         "alignmentgroup": "True",
         "base": [
          "2023-10-25",
          "2023-10-27",
          "2023-11-03",
          "2023-11-06",
          "2023-11-08",
          "2023-11-12",
          "2023-11-15",
          "2023-11-17",
          "2023-11-18",
          "2023-11-20",
          "2023-11-30",
          "2023-12-02",
          "2023-12-06",
          "2023-12-12",
          "2023-12-20",
          "2023-12-21",
          "2023-12-23",
          "2023-12-26",
          "2023-12-28",
          "2023-12-30",
          "2024-01-05",
          "2024-01-10",
          "2024-01-12",
          "2024-01-20",
          "2024-01-30",
          "2024-02-03",
          "2024-02-06",
          "2024-02-22",
          "2024-02-27",
          "2024-02-28",
          "2024-03-01",
          "2024-03-11",
          "2024-03-14",
          "2024-03-16",
          "2024-03-18",
          "2024-03-23",
          "2024-03-25",
          "2024-03-27",
          "2024-04-01",
          "2024-04-05",
          "2024-04-09",
          "2024-04-17",
          "2024-10-26",
          "2024-10-30",
          "2024-11-04",
          "2024-11-07",
          "2024-11-11",
          "2024-11-17",
          "2024-11-22",
          "2024-11-23",
          "2024-11-29",
          "2024-12-02",
          "2024-12-06",
          "2024-12-08",
          "2024-12-13",
          "2024-12-21",
          "2024-12-23",
          "2024-12-28"
         ],
         "hovertemplate": "team=bulls<br>date=%{base}<br>dateplus1=%{x}<br>is_game=%{y}<extra></extra>",
         "legendgroup": "",
         "marker": {
          "color": "#636efa",
          "pattern": {
           "shape": ""
          }
         },
         "name": "",
         "offsetgroup": "",
         "orientation": "h",
         "showlegend": false,
         "textposition": "auto",
         "type": "bar",
         "x": [
          86400000,
          86400000,
          86400000,
          86400000,
          86400000,
          86400000,
          86400000,
          86400000,
          86400000,
          86400000,
          86400000,
          86400000,
          86400000,
          86400000,
          86400000,
          86400000,
          86400000,
          86400000,
          86400000,
          86400000,
          86400000,
          86400000,
          86400000,
          86400000,
          86400000,
          86400000,
          86400000,
          86400000,
          86400000,
          86400000,
          86400000,
          86400000,
          86400000,
          86400000,
          86400000,
          86400000,
          86400000,
          86400000,
          86400000,
          86400000,
          86400000,
          86400000,
          86400000,
          86400000,
          86400000,
          86400000,
          86400000,
          86400000,
          86400000,
          86400000,
          86400000,
          86400000,
          86400000,
          86400000,
          86400000,
          86400000,
          86400000,
          86400000
         ],
         "xaxis": "x2",
         "y": [
          1,
          1,
          1,
          1,
          1,
          1,
          1,
          1,
          1,
          1,
          1,
          1,
          1,
          1,
          1,
          1,
          1,
          1,
          1,
          1,
          1,
          1,
          1,
          1,
          1,
          1,
          1,
          1,
          1,
          1,
          1,
          1,
          1,
          1,
          1,
          1,
          1,
          1,
          1,
          1,
          1,
          1,
          1,
          1,
          1,
          1,
          1,
          1,
          1,
          1,
          1,
          1,
          1,
          1,
          1,
          1,
          1,
          1
         ],
         "yaxis": "y2"
        },
        {
         "alignmentgroup": "True",
         "base": [
          "2024-08-19",
          "2024-08-20",
          "2024-08-21",
          "2024-08-22"
         ],
         "hovertemplate": "team=DNC<br>date=%{base}<br>dateplus1=%{x}<br>is_game=%{y}<extra></extra>",
         "legendgroup": "",
         "marker": {
          "color": "#636efa",
          "pattern": {
           "shape": ""
          }
         },
         "name": "",
         "offsetgroup": "",
         "orientation": "h",
         "showlegend": false,
         "textposition": "auto",
         "type": "bar",
         "x": [
          86400000,
          86400000,
          86400000,
          86400000
         ],
         "xaxis": "x",
         "y": [
          1,
          1,
          1,
          1
         ],
         "yaxis": "y"
        }
       ],
       "layout": {
        "annotations": [
         {
          "font": {},
          "showarrow": false,
          "text": "team=DNC",
          "textangle": 90,
          "x": 0.98,
          "xanchor": "left",
          "xref": "paper",
          "y": 0.15666666666666665,
          "yanchor": "middle",
          "yref": "paper"
         },
         {
          "font": {},
          "showarrow": false,
          "text": "team=bulls",
          "textangle": 90,
          "x": 0.98,
          "xanchor": "left",
          "xref": "paper",
          "y": 0.4999999999999999,
          "yanchor": "middle",
          "yref": "paper"
         },
         {
          "font": {},
          "showarrow": false,
          "text": "team=blackhawks",
          "textangle": 90,
          "x": 0.98,
          "xanchor": "left",
          "xref": "paper",
          "y": 0.8433333333333332,
          "yanchor": "middle",
          "yref": "paper"
         }
        ],
        "barmode": "overlay",
        "legend": {
         "tracegroupgap": 0
        },
        "margin": {
         "t": 60
        },
        "template": {
         "data": {
          "bar": [
           {
            "error_x": {
             "color": "#2a3f5f"
            },
            "error_y": {
             "color": "#2a3f5f"
            },
            "marker": {
             "line": {
              "color": "#E5ECF6",
              "width": 0.5
             },
             "pattern": {
              "fillmode": "overlay",
              "size": 10,
              "solidity": 0.2
             }
            },
            "type": "bar"
           }
          ],
          "barpolar": [
           {
            "marker": {
             "line": {
              "color": "#E5ECF6",
              "width": 0.5
             },
             "pattern": {
              "fillmode": "overlay",
              "size": 10,
              "solidity": 0.2
             }
            },
            "type": "barpolar"
           }
          ],
          "carpet": [
           {
            "aaxis": {
             "endlinecolor": "#2a3f5f",
             "gridcolor": "white",
             "linecolor": "white",
             "minorgridcolor": "white",
             "startlinecolor": "#2a3f5f"
            },
            "baxis": {
             "endlinecolor": "#2a3f5f",
             "gridcolor": "white",
             "linecolor": "white",
             "minorgridcolor": "white",
             "startlinecolor": "#2a3f5f"
            },
            "type": "carpet"
           }
          ],
          "choropleth": [
           {
            "colorbar": {
             "outlinewidth": 0,
             "ticks": ""
            },
            "type": "choropleth"
           }
          ],
          "contour": [
           {
            "colorbar": {
             "outlinewidth": 0,
             "ticks": ""
            },
            "colorscale": [
             [
              0,
              "#0d0887"
             ],
             [
              0.1111111111111111,
              "#46039f"
             ],
             [
              0.2222222222222222,
              "#7201a8"
             ],
             [
              0.3333333333333333,
              "#9c179e"
             ],
             [
              0.4444444444444444,
              "#bd3786"
             ],
             [
              0.5555555555555556,
              "#d8576b"
             ],
             [
              0.6666666666666666,
              "#ed7953"
             ],
             [
              0.7777777777777778,
              "#fb9f3a"
             ],
             [
              0.8888888888888888,
              "#fdca26"
             ],
             [
              1,
              "#f0f921"
             ]
            ],
            "type": "contour"
           }
          ],
          "contourcarpet": [
           {
            "colorbar": {
             "outlinewidth": 0,
             "ticks": ""
            },
            "type": "contourcarpet"
           }
          ],
          "heatmap": [
           {
            "colorbar": {
             "outlinewidth": 0,
             "ticks": ""
            },
            "colorscale": [
             [
              0,
              "#0d0887"
             ],
             [
              0.1111111111111111,
              "#46039f"
             ],
             [
              0.2222222222222222,
              "#7201a8"
             ],
             [
              0.3333333333333333,
              "#9c179e"
             ],
             [
              0.4444444444444444,
              "#bd3786"
             ],
             [
              0.5555555555555556,
              "#d8576b"
             ],
             [
              0.6666666666666666,
              "#ed7953"
             ],
             [
              0.7777777777777778,
              "#fb9f3a"
             ],
             [
              0.8888888888888888,
              "#fdca26"
             ],
             [
              1,
              "#f0f921"
             ]
            ],
            "type": "heatmap"
           }
          ],
          "heatmapgl": [
           {
            "colorbar": {
             "outlinewidth": 0,
             "ticks": ""
            },
            "colorscale": [
             [
              0,
              "#0d0887"
             ],
             [
              0.1111111111111111,
              "#46039f"
             ],
             [
              0.2222222222222222,
              "#7201a8"
             ],
             [
              0.3333333333333333,
              "#9c179e"
             ],
             [
              0.4444444444444444,
              "#bd3786"
             ],
             [
              0.5555555555555556,
              "#d8576b"
             ],
             [
              0.6666666666666666,
              "#ed7953"
             ],
             [
              0.7777777777777778,
              "#fb9f3a"
             ],
             [
              0.8888888888888888,
              "#fdca26"
             ],
             [
              1,
              "#f0f921"
             ]
            ],
            "type": "heatmapgl"
           }
          ],
          "histogram": [
           {
            "marker": {
             "pattern": {
              "fillmode": "overlay",
              "size": 10,
              "solidity": 0.2
             }
            },
            "type": "histogram"
           }
          ],
          "histogram2d": [
           {
            "colorbar": {
             "outlinewidth": 0,
             "ticks": ""
            },
            "colorscale": [
             [
              0,
              "#0d0887"
             ],
             [
              0.1111111111111111,
              "#46039f"
             ],
             [
              0.2222222222222222,
              "#7201a8"
             ],
             [
              0.3333333333333333,
              "#9c179e"
             ],
             [
              0.4444444444444444,
              "#bd3786"
             ],
             [
              0.5555555555555556,
              "#d8576b"
             ],
             [
              0.6666666666666666,
              "#ed7953"
             ],
             [
              0.7777777777777778,
              "#fb9f3a"
             ],
             [
              0.8888888888888888,
              "#fdca26"
             ],
             [
              1,
              "#f0f921"
             ]
            ],
            "type": "histogram2d"
           }
          ],
          "histogram2dcontour": [
           {
            "colorbar": {
             "outlinewidth": 0,
             "ticks": ""
            },
            "colorscale": [
             [
              0,
              "#0d0887"
             ],
             [
              0.1111111111111111,
              "#46039f"
             ],
             [
              0.2222222222222222,
              "#7201a8"
             ],
             [
              0.3333333333333333,
              "#9c179e"
             ],
             [
              0.4444444444444444,
              "#bd3786"
             ],
             [
              0.5555555555555556,
              "#d8576b"
             ],
             [
              0.6666666666666666,
              "#ed7953"
             ],
             [
              0.7777777777777778,
              "#fb9f3a"
             ],
             [
              0.8888888888888888,
              "#fdca26"
             ],
             [
              1,
              "#f0f921"
             ]
            ],
            "type": "histogram2dcontour"
           }
          ],
          "mesh3d": [
           {
            "colorbar": {
             "outlinewidth": 0,
             "ticks": ""
            },
            "type": "mesh3d"
           }
          ],
          "parcoords": [
           {
            "line": {
             "colorbar": {
              "outlinewidth": 0,
              "ticks": ""
             }
            },
            "type": "parcoords"
           }
          ],
          "pie": [
           {
            "automargin": true,
            "type": "pie"
           }
          ],
          "scatter": [
           {
            "fillpattern": {
             "fillmode": "overlay",
             "size": 10,
             "solidity": 0.2
            },
            "type": "scatter"
           }
          ],
          "scatter3d": [
           {
            "line": {
             "colorbar": {
              "outlinewidth": 0,
              "ticks": ""
             }
            },
            "marker": {
             "colorbar": {
              "outlinewidth": 0,
              "ticks": ""
             }
            },
            "type": "scatter3d"
           }
          ],
          "scattercarpet": [
           {
            "marker": {
             "colorbar": {
              "outlinewidth": 0,
              "ticks": ""
             }
            },
            "type": "scattercarpet"
           }
          ],
          "scattergeo": [
           {
            "marker": {
             "colorbar": {
              "outlinewidth": 0,
              "ticks": ""
             }
            },
            "type": "scattergeo"
           }
          ],
          "scattergl": [
           {
            "marker": {
             "colorbar": {
              "outlinewidth": 0,
              "ticks": ""
             }
            },
            "type": "scattergl"
           }
          ],
          "scattermapbox": [
           {
            "marker": {
             "colorbar": {
              "outlinewidth": 0,
              "ticks": ""
             }
            },
            "type": "scattermapbox"
           }
          ],
          "scatterpolar": [
           {
            "marker": {
             "colorbar": {
              "outlinewidth": 0,
              "ticks": ""
             }
            },
            "type": "scatterpolar"
           }
          ],
          "scatterpolargl": [
           {
            "marker": {
             "colorbar": {
              "outlinewidth": 0,
              "ticks": ""
             }
            },
            "type": "scatterpolargl"
           }
          ],
          "scatterternary": [
           {
            "marker": {
             "colorbar": {
              "outlinewidth": 0,
              "ticks": ""
             }
            },
            "type": "scatterternary"
           }
          ],
          "surface": [
           {
            "colorbar": {
             "outlinewidth": 0,
             "ticks": ""
            },
            "colorscale": [
             [
              0,
              "#0d0887"
             ],
             [
              0.1111111111111111,
              "#46039f"
             ],
             [
              0.2222222222222222,
              "#7201a8"
             ],
             [
              0.3333333333333333,
              "#9c179e"
             ],
             [
              0.4444444444444444,
              "#bd3786"
             ],
             [
              0.5555555555555556,
              "#d8576b"
             ],
             [
              0.6666666666666666,
              "#ed7953"
             ],
             [
              0.7777777777777778,
              "#fb9f3a"
             ],
             [
              0.8888888888888888,
              "#fdca26"
             ],
             [
              1,
              "#f0f921"
             ]
            ],
            "type": "surface"
           }
          ],
          "table": [
           {
            "cells": {
             "fill": {
              "color": "#EBF0F8"
             },
             "line": {
              "color": "white"
             }
            },
            "header": {
             "fill": {
              "color": "#C8D4E3"
             },
             "line": {
              "color": "white"
             }
            },
            "type": "table"
           }
          ]
         },
         "layout": {
          "annotationdefaults": {
           "arrowcolor": "#2a3f5f",
           "arrowhead": 0,
           "arrowwidth": 1
          },
          "autotypenumbers": "strict",
          "coloraxis": {
           "colorbar": {
            "outlinewidth": 0,
            "ticks": ""
           }
          },
          "colorscale": {
           "diverging": [
            [
             0,
             "#8e0152"
            ],
            [
             0.1,
             "#c51b7d"
            ],
            [
             0.2,
             "#de77ae"
            ],
            [
             0.3,
             "#f1b6da"
            ],
            [
             0.4,
             "#fde0ef"
            ],
            [
             0.5,
             "#f7f7f7"
            ],
            [
             0.6,
             "#e6f5d0"
            ],
            [
             0.7,
             "#b8e186"
            ],
            [
             0.8,
             "#7fbc41"
            ],
            [
             0.9,
             "#4d9221"
            ],
            [
             1,
             "#276419"
            ]
           ],
           "sequential": [
            [
             0,
             "#0d0887"
            ],
            [
             0.1111111111111111,
             "#46039f"
            ],
            [
             0.2222222222222222,
             "#7201a8"
            ],
            [
             0.3333333333333333,
             "#9c179e"
            ],
            [
             0.4444444444444444,
             "#bd3786"
            ],
            [
             0.5555555555555556,
             "#d8576b"
            ],
            [
             0.6666666666666666,
             "#ed7953"
            ],
            [
             0.7777777777777778,
             "#fb9f3a"
            ],
            [
             0.8888888888888888,
             "#fdca26"
            ],
            [
             1,
             "#f0f921"
            ]
           ],
           "sequentialminus": [
            [
             0,
             "#0d0887"
            ],
            [
             0.1111111111111111,
             "#46039f"
            ],
            [
             0.2222222222222222,
             "#7201a8"
            ],
            [
             0.3333333333333333,
             "#9c179e"
            ],
            [
             0.4444444444444444,
             "#bd3786"
            ],
            [
             0.5555555555555556,
             "#d8576b"
            ],
            [
             0.6666666666666666,
             "#ed7953"
            ],
            [
             0.7777777777777778,
             "#fb9f3a"
            ],
            [
             0.8888888888888888,
             "#fdca26"
            ],
            [
             1,
             "#f0f921"
            ]
           ]
          },
          "colorway": [
           "#636efa",
           "#EF553B",
           "#00cc96",
           "#ab63fa",
           "#FFA15A",
           "#19d3f3",
           "#FF6692",
           "#B6E880",
           "#FF97FF",
           "#FECB52"
          ],
          "font": {
           "color": "#2a3f5f"
          },
          "geo": {
           "bgcolor": "white",
           "lakecolor": "white",
           "landcolor": "#E5ECF6",
           "showlakes": true,
           "showland": true,
           "subunitcolor": "white"
          },
          "hoverlabel": {
           "align": "left"
          },
          "hovermode": "closest",
          "mapbox": {
           "style": "light"
          },
          "paper_bgcolor": "white",
          "plot_bgcolor": "#E5ECF6",
          "polar": {
           "angularaxis": {
            "gridcolor": "white",
            "linecolor": "white",
            "ticks": ""
           },
           "bgcolor": "#E5ECF6",
           "radialaxis": {
            "gridcolor": "white",
            "linecolor": "white",
            "ticks": ""
           }
          },
          "scene": {
           "xaxis": {
            "backgroundcolor": "#E5ECF6",
            "gridcolor": "white",
            "gridwidth": 2,
            "linecolor": "white",
            "showbackground": true,
            "ticks": "",
            "zerolinecolor": "white"
           },
           "yaxis": {
            "backgroundcolor": "#E5ECF6",
            "gridcolor": "white",
            "gridwidth": 2,
            "linecolor": "white",
            "showbackground": true,
            "ticks": "",
            "zerolinecolor": "white"
           },
           "zaxis": {
            "backgroundcolor": "#E5ECF6",
            "gridcolor": "white",
            "gridwidth": 2,
            "linecolor": "white",
            "showbackground": true,
            "ticks": "",
            "zerolinecolor": "white"
           }
          },
          "shapedefaults": {
           "line": {
            "color": "#2a3f5f"
           }
          },
          "ternary": {
           "aaxis": {
            "gridcolor": "white",
            "linecolor": "white",
            "ticks": ""
           },
           "baxis": {
            "gridcolor": "white",
            "linecolor": "white",
            "ticks": ""
           },
           "bgcolor": "#E5ECF6",
           "caxis": {
            "gridcolor": "white",
            "linecolor": "white",
            "ticks": ""
           }
          },
          "title": {
           "x": 0.05
          },
          "xaxis": {
           "automargin": true,
           "gridcolor": "white",
           "linecolor": "white",
           "ticks": "",
           "title": {
            "standoff": 15
           },
           "zerolinecolor": "white",
           "zerolinewidth": 2
          },
          "yaxis": {
           "automargin": true,
           "gridcolor": "white",
           "linecolor": "white",
           "ticks": "",
           "title": {
            "standoff": 15
           },
           "zerolinecolor": "white",
           "zerolinewidth": 2
          }
         }
        },
        "xaxis": {
         "anchor": "y",
         "domain": [
          0,
          0.98
         ],
         "type": "date"
        },
        "xaxis2": {
         "anchor": "y2",
         "domain": [
          0,
          0.98
         ],
         "matches": "x",
         "showticklabels": false,
         "type": "date"
        },
        "xaxis3": {
         "anchor": "y3",
         "domain": [
          0,
          0.98
         ],
         "matches": "x",
         "showticklabels": false,
         "type": "date"
        },
        "yaxis": {
         "anchor": "x",
         "domain": [
          0,
          0.3133333333333333
         ],
         "title": {
          "text": "is_game"
         }
        },
        "yaxis2": {
         "anchor": "x2",
         "domain": [
          0.34333333333333327,
          0.6566666666666665
         ],
         "matches": "y",
         "title": {
          "text": "is_game"
         }
        },
        "yaxis3": {
         "anchor": "x3",
         "domain": [
          0.6866666666666665,
          0.9999999999999998
         ],
         "matches": "y",
         "title": {
          "text": "is_game"
         }
        }
       }
      }
     },
     "metadata": {},
     "output_type": "display_data"
    }
   ],
   "source": [
    "plot_data = attend.loc[attend.stadium == 'united center'].assign(\n",
    "    dateplus1 = lambda x: pd.to_datetime(x['date'])+pd.Timedelta(1,'D'),\n",
    "    is_game = 1)\n",
    "px.timeline(plot_data, x_start='date', x_end='dateplus1', y='is_game', facet_row='team')"
   ]
  },
  {
   "cell_type": "markdown",
   "metadata": {},
   "source": [
    "Basketball and hockey season combined get really dense, but they are actually legit.\n",
    "Finally, need to exclude dates that didn't happen yet (0 attendence)."
   ]
  }
 ],
 "metadata": {
  "kernelspec": {
   "display_name": ".venv",
   "language": "python",
   "name": "python3"
  },
  "language_info": {
   "codemirror_mode": {
    "name": "ipython",
    "version": 3
   },
   "file_extension": ".py",
   "mimetype": "text/x-python",
   "name": "python",
   "nbconvert_exporter": "python",
   "pygments_lexer": "ipython3",
   "version": "3.12.6"
  }
 },
 "nbformat": 4,
 "nbformat_minor": 2
}
