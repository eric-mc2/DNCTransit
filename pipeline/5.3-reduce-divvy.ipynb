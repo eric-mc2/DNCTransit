{
 "cells": [
  {
   "cell_type": "code",
   "execution_count": 1,
   "metadata": {},
   "outputs": [],
   "source": [
    "import geopandas as gpd\n",
    "\n",
    "from data.geo import wkb_geom\n",
    "from data.util import coalesce"
   ]
  },
  {
   "cell_type": "code",
   "execution_count": 2,
   "metadata": {},
   "outputs": [],
   "source": [
    "bike_rides_in = \"../data/interim/bike_rides.geoparquet\"\n",
    "\n",
    "bike_rides_out = \"../data/interim/bike_rides_v2.geoparquet\""
   ]
  },
  {
   "cell_type": "markdown",
   "metadata": {},
   "source": [
    "# Pipeline In"
   ]
  },
  {
   "cell_type": "code",
   "execution_count": 3,
   "metadata": {},
   "outputs": [],
   "source": [
    "bike_rides = gpd.read_parquet(bike_rides_in).pipe(wkb_geom, 'geometry_imputed')"
   ]
  },
  {
   "cell_type": "markdown",
   "metadata": {},
   "source": [
    "# Simplify schema"
   ]
  },
  {
   "cell_type": "markdown",
   "metadata": {},
   "source": [
    "Use the imputed id name and geom, which have lower cardinality."
   ]
  },
  {
   "cell_type": "code",
   "execution_count": 4,
   "metadata": {},
   "outputs": [],
   "source": [
    "bike_rides = bike_rides.pipe(coalesce, 'station_id_imputed','station_id', 'station_id')\n",
    "bike_rides = bike_rides.pipe(coalesce, 'station_name_imputed','station_name', 'station_name')\n",
    "bike_rides = bike_rides.pipe(coalesce, 'geometry_imputed','geometry', 'geometry')"
   ]
  },
  {
   "cell_type": "markdown",
   "metadata": {},
   "source": [
    "To reduce risk of future confusion, I'll drop the station_id and vintage and geometry columns.\n",
    "The station name is useful in identifying clusters and useful descriptively so we keep it,\n",
    "even though it is not a PK."
   ]
  },
  {
   "cell_type": "code",
   "execution_count": 5,
   "metadata": {},
   "outputs": [],
   "source": [
    "bike_rides = bike_rides.drop(columns=['station_id','vintage'])"
   ]
  },
  {
   "cell_type": "code",
   "execution_count": 6,
   "metadata": {},
   "outputs": [],
   "source": [
    "bike_rides = (bike_rides\n",
    "              .groupby(['geometry','station_name','date'], as_index=False)\n",
    "              .agg({\"start_rides\": lambda x: x.fillna(0).sum(),\n",
    "                    \"end_rides\": lambda x: x.fillna(0).sum(),\n",
    "                    \"rides\": lambda x: x.fillna(0).sum()})\n",
    "              .pipe(gpd.GeoDataFrame, geometry='geometry'))"
   ]
  },
  {
   "cell_type": "code",
   "execution_count": 7,
   "metadata": {},
   "outputs": [],
   "source": [
    "assert all(bike_rides.groupby('station_name')['geometry'].nunique() == 1 )"
   ]
  },
  {
   "cell_type": "code",
   "execution_count": 8,
   "metadata": {},
   "outputs": [
    {
     "data": {
      "text/html": [
       "<div>\n",
       "<style scoped>\n",
       "    .dataframe tbody tr th:only-of-type {\n",
       "        vertical-align: middle;\n",
       "    }\n",
       "\n",
       "    .dataframe tbody tr th {\n",
       "        vertical-align: top;\n",
       "    }\n",
       "\n",
       "    .dataframe thead th {\n",
       "        text-align: right;\n",
       "    }\n",
       "</style>\n",
       "<table border=\"1\" class=\"dataframe\">\n",
       "  <thead>\n",
       "    <tr style=\"text-align: right;\">\n",
       "      <th></th>\n",
       "      <th>geometry</th>\n",
       "      <th>station_name</th>\n",
       "    </tr>\n",
       "  </thead>\n",
       "  <tbody>\n",
       "    <tr>\n",
       "      <th>15306</th>\n",
       "      <td>POINT (-87.75552 41.97871)</td>\n",
       "      <td>Public Rack - Forest Glen Station</td>\n",
       "    </tr>\n",
       "    <tr>\n",
       "      <th>15339</th>\n",
       "      <td>POINT (-87.75552 41.97871)</td>\n",
       "      <td>Public Rack - Peterson Park</td>\n",
       "    </tr>\n",
       "    <tr>\n",
       "      <th>116097</th>\n",
       "      <td>POINT (-87.6527 41.93242)</td>\n",
       "      <td>Wilton Ave &amp; Diversey Pkwy</td>\n",
       "    </tr>\n",
       "    <tr>\n",
       "      <th>116341</th>\n",
       "      <td>POINT (-87.6527 41.93242)</td>\n",
       "      <td>Wilton Ave &amp; Diversey Pkwy*</td>\n",
       "    </tr>\n",
       "    <tr>\n",
       "      <th>167726</th>\n",
       "      <td>POINT (-87.66208 41.80135)</td>\n",
       "      <td>Public Rack - Laflin St &amp; 51st St</td>\n",
       "    </tr>\n",
       "    <tr>\n",
       "      <th>167740</th>\n",
       "      <td>POINT (-87.66208 41.80135)</td>\n",
       "      <td>Public Rack - Laflin St &amp;51st ST</td>\n",
       "    </tr>\n",
       "  </tbody>\n",
       "</table>\n",
       "</div>"
      ],
      "text/plain": [
       "                          geometry                        station_name\n",
       "15306   POINT (-87.75552 41.97871)  Public Rack - Forest Glen Station \n",
       "15339   POINT (-87.75552 41.97871)         Public Rack - Peterson Park\n",
       "116097   POINT (-87.6527 41.93242)          Wilton Ave & Diversey Pkwy\n",
       "116341   POINT (-87.6527 41.93242)         Wilton Ave & Diversey Pkwy*\n",
       "167726  POINT (-87.66208 41.80135)   Public Rack - Laflin St & 51st St\n",
       "167740  POINT (-87.66208 41.80135)    Public Rack - Laflin St &51st ST"
      ]
     },
     "execution_count": 8,
     "metadata": {},
     "output_type": "execute_result"
    }
   ],
   "source": [
    "# there's only a couple geoms that point to different station names but it's just mis-spellings. \n",
    "bike_rides[bike_rides.groupby('geometry')['station_name'].transform('nunique') > 1][['geometry',\t'station_name']].drop_duplicates()"
   ]
  },
  {
   "cell_type": "markdown",
   "metadata": {},
   "source": [
    "# Pipeline Out"
   ]
  },
  {
   "cell_type": "code",
   "execution_count": 9,
   "metadata": {},
   "outputs": [],
   "source": [
    "bike_rides.to_parquet(bike_rides_out, index=False)"
   ]
  }
 ],
 "metadata": {
  "kernelspec": {
   "display_name": ".venv",
   "language": "python",
   "name": "python3"
  },
  "language_info": {
   "codemirror_mode": {
    "name": "ipython",
    "version": 3
   },
   "file_extension": ".py",
   "mimetype": "text/x-python",
   "name": "python",
   "nbconvert_exporter": "python",
   "pygments_lexer": "ipython3",
   "version": "3.12.6"
  }
 },
 "nbformat": 4,
 "nbformat_minor": 2
}
