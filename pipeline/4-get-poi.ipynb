{
 "cells": [
  {
   "cell_type": "code",
   "execution_count": 17,
   "metadata": {},
   "outputs": [],
   "source": [
    "import geopandas as gpd\n",
    "import os\n",
    "import pandas as pd\n",
    "from shapely.geometry import Point, shape\n",
    "\n",
    "from data.constants import (UNITED_CENTER, MCCORMICK_PLACE, \n",
    "                            BUILDINGS_TABLE, DATA_FOLDER,\n",
    "                            WORLD_CRS)\n",
    "from data.cta import CTAClient\n",
    "from data.geo import dms_to_decimal"
   ]
  },
  {
   "cell_type": "code",
   "execution_count": 2,
   "metadata": {},
   "outputs": [
    {
     "name": "stderr",
     "output_type": "stream",
     "text": [
      "WARNING:root:Requests made without an app_token will be subject to strict throttling limits.\n"
     ]
    }
   ],
   "source": [
    "client = CTAClient(60)"
   ]
  },
  {
   "cell_type": "code",
   "execution_count": 3,
   "metadata": {},
   "outputs": [],
   "source": [
    "train_file_in = os.path.join(DATA_FOLDER, \"raw\", \"train_stations.geojson\")\n",
    "bus_routes_file_in = os.path.join(DATA_FOLDER, \"raw\", \"bus_routes.geojson\")\n",
    "bus_stops_file_in = os.path.join(DATA_FOLDER, \"raw\", \"bus_stops.geojson\")\n",
    "poi_file_out = os.path.join(DATA_FOLDER, \"raw\", \"poi_buildings.geojson\")"
   ]
  },
  {
   "cell_type": "markdown",
   "metadata": {},
   "source": [
    "# Pipeline in"
   ]
  },
  {
   "cell_type": "code",
   "execution_count": 4,
   "metadata": {},
   "outputs": [],
   "source": [
    "train_stations = gpd.read_file(train_file_in)\n",
    "bus_routes = gpd.read_file(bus_routes_file_in)\n",
    "bus_stops = gpd.read_file(bus_stops_file_in)"
   ]
  },
  {
   "cell_type": "markdown",
   "metadata": {},
   "source": [
    "# Points of Interest"
   ]
  },
  {
   "cell_type": "markdown",
   "metadata": {},
   "source": [
    "## United Center"
   ]
  },
  {
   "cell_type": "code",
   "execution_count": 5,
   "metadata": {},
   "outputs": [],
   "source": [
    "uc_xy = dms_to_decimal(*UNITED_CENTER[1]), dms_to_decimal(*UNITED_CENTER[0])\n",
    "uc_xy = Point(*uc_xy) # lng/lat"
   ]
  },
  {
   "cell_type": "code",
   "execution_count": 6,
   "metadata": {},
   "outputs": [],
   "source": [
    "uc_candidates = client.soda_get_all(BUILDINGS_TABLE, \n",
    "            where=f\"within_circle(the_geom, {uc_xy.y}, {uc_xy.x}, 250)\")\n",
    "uc_candidates['geometry'] = uc_candidates['the_geom'].apply(shape)\n",
    "uc_candidates = gpd.GeoDataFrame(uc_candidates, geometry='geometry', crs=WORLD_CRS)"
   ]
  },
  {
   "cell_type": "code",
   "execution_count": 7,
   "metadata": {},
   "outputs": [],
   "source": [
    "# # Verifying this is the right building\n",
    "# print(uc_candidates.bldg_name1)\n",
    "# ax = uc_candidates.iloc[0:1].plot()\n",
    "# uc_candidates.iloc[1:].plot(ax=ax,color='orange')"
   ]
  },
  {
   "cell_type": "code",
   "execution_count": 8,
   "metadata": {},
   "outputs": [],
   "source": [
    "uc_building = uc_candidates[uc_candidates['bldg_name1'] == 'UNITED CENTER']"
   ]
  },
  {
   "cell_type": "markdown",
   "metadata": {},
   "source": [
    "## McCormick Place"
   ]
  },
  {
   "cell_type": "code",
   "execution_count": 9,
   "metadata": {},
   "outputs": [],
   "source": [
    "mp_xy = dms_to_decimal(*MCCORMICK_PLACE[1]), dms_to_decimal(*MCCORMICK_PLACE[0])\n",
    "mp_xy = Point(*mp_xy) # lng/lat"
   ]
  },
  {
   "cell_type": "code",
   "execution_count": 10,
   "metadata": {},
   "outputs": [],
   "source": [
    "mp_candidates = client.soda_get_all(BUILDINGS_TABLE, \n",
    "        where=f\"within_circle(the_geom, {mp_xy.y}, {mp_xy.x}, 250)\")\n",
    "mp_candidates['geometry'] = mp_candidates['the_geom'].apply(shape)\n",
    "mp_candidates = gpd.GeoDataFrame(mp_candidates, geometry='geometry', crs=WORLD_CRS)"
   ]
  },
  {
   "cell_type": "code",
   "execution_count": 11,
   "metadata": {},
   "outputs": [],
   "source": [
    "# # Verifying this is the right building\n",
    "# print(mp_candidates.bldg_name1)\n",
    "# ax = mp_candidates.iloc[0:1].plot()\n",
    "# mp_candidates.iloc[1:].plot(ax=ax,color='orange')"
   ]
  },
  {
   "cell_type": "code",
   "execution_count": 12,
   "metadata": {},
   "outputs": [],
   "source": [
    "mp_building = mp_candidates[mp_candidates['bldg_name1'] == 'HYATT REGENCY MCCORMICK PLACE']"
   ]
  },
  {
   "cell_type": "markdown",
   "metadata": {},
   "source": [
    "## POI Buildings"
   ]
  },
  {
   "cell_type": "code",
   "execution_count": 21,
   "metadata": {},
   "outputs": [],
   "source": [
    "poi_buildings = pd.concat([mp_building, uc_building], ignore_index=True)\n",
    "poi_buildings = poi_buildings.filter(['geometry','bldg_name1']).rename(columns={'bldg_name1':'name'})"
   ]
  },
  {
   "cell_type": "markdown",
   "metadata": {},
   "source": [
    "# Pipeline out"
   ]
  },
  {
   "cell_type": "code",
   "execution_count": 23,
   "metadata": {},
   "outputs": [],
   "source": [
    "poi_buildings.to_file(poi_file_out, index=False)"
   ]
  }
 ],
 "metadata": {
  "kernelspec": {
   "display_name": ".venv",
   "language": "python",
   "name": "python3"
  },
  "language_info": {
   "codemirror_mode": {
    "name": "ipython",
    "version": 3
   },
   "file_extension": ".py",
   "mimetype": "text/x-python",
   "name": "python",
   "nbconvert_exporter": "python",
   "pygments_lexer": "ipython3",
   "version": "3.12.6"
  }
 },
 "nbformat": 4,
 "nbformat_minor": 2
}
