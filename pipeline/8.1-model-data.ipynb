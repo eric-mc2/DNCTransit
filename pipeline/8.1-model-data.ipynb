{
 "cells": [
  {
   "cell_type": "code",
   "execution_count": 11,
   "metadata": {},
   "outputs": [],
   "source": [
    "import pandas as pd\n",
    "import numpy as np"
   ]
  },
  {
   "cell_type": "code",
   "execution_count": 12,
   "metadata": {},
   "outputs": [],
   "source": [
    "point_panel_in = \"../data/final/point_panel.parquet\"\n",
    "tract_panel_in = \"../data/final/tract_panel.parquet\"\n",
    "\n",
    "panel_out = \"../data/final/model_data.parquet\""
   ]
  },
  {
   "cell_type": "markdown",
   "metadata": {},
   "source": [
    "# Pipeline In"
   ]
  },
  {
   "cell_type": "code",
   "execution_count": 13,
   "metadata": {},
   "outputs": [],
   "source": [
    "point_panel = pd.read_parquet(point_panel_in)\n",
    "tract_panel = pd.read_parquet(tract_panel_in)"
   ]
  },
  {
   "cell_type": "code",
   "execution_count": 14,
   "metadata": {},
   "outputs": [],
   "source": [
    "tract_panel = tract_panel.loc[~tract_panel.is_weekend]\n",
    "point_panel = point_panel.loc[~point_panel.is_weekend]"
   ]
  },
  {
   "cell_type": "code",
   "execution_count": 15,
   "metadata": {},
   "outputs": [],
   "source": [
    "def get_model_data(panel, transit):\n",
    "    model_data = panel.query(f'transit == \"{transit}\"')\n",
    "    empty_units = model_data.groupby('id')['rides'].transform('sum') == 0\n",
    "    model_data = model_data[~empty_units]\n",
    "    return model_data"
   ]
  },
  {
   "cell_type": "code",
   "execution_count": 16,
   "metadata": {},
   "outputs": [],
   "source": [
    "model_data = pd.concat([\n",
    "    get_model_data(tract_panel, \"uber\").assign(id = lambda x: x['id'].astype(str)),\n",
    "    get_model_data(point_panel, \"train\").assign(id = lambda x: x['id'].astype(str)),\n",
    "    get_model_data(point_panel, \"bike\").assign(id = lambda x: x['id'].astype(str)),\n",
    "])"
   ]
  },
  {
   "cell_type": "code",
   "execution_count": 17,
   "metadata": {},
   "outputs": [],
   "source": [
    "# Add log distance.\n",
    "for col in model_data.columns:\n",
    "    if 'distance' in col:\n",
    "        model_data['log_' + col] = model_data[col].apply(np.log1p)"
   ]
  },
  {
   "cell_type": "markdown",
   "metadata": {},
   "source": [
    "# Pipeline Out"
   ]
  },
  {
   "cell_type": "code",
   "execution_count": 18,
   "metadata": {},
   "outputs": [],
   "source": [
    "model_data.to_parquet(panel_out, index=False)"
   ]
  }
 ],
 "metadata": {
  "kernelspec": {
   "display_name": ".venv",
   "language": "python",
   "name": "python3"
  },
  "language_info": {
   "codemirror_mode": {
    "name": "ipython",
    "version": 3
   },
   "file_extension": ".py",
   "mimetype": "text/x-python",
   "name": "python",
   "nbconvert_exporter": "python",
   "pygments_lexer": "ipython3",
   "version": "3.12.6"
  }
 },
 "nbformat": 4,
 "nbformat_minor": 2
}
