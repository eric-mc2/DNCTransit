{
 "cells": [
  {
   "cell_type": "code",
   "execution_count": 1,
   "metadata": {},
   "outputs": [],
   "source": [
    "import pandas as pd"
   ]
  },
  {
   "cell_type": "code",
   "execution_count": 2,
   "metadata": {},
   "outputs": [],
   "source": [
    "point_panel_in = \"../data/final/point_panel.parquet\"\n",
    "tract_panel_in = \"../data/final/tract_panel.parquet\"\n",
    "\n",
    "panel_out = \"../data/final/model_data.parquet\""
   ]
  },
  {
   "cell_type": "markdown",
   "metadata": {},
   "source": [
    "# Pipeline In"
   ]
  },
  {
   "cell_type": "code",
   "execution_count": 3,
   "metadata": {},
   "outputs": [],
   "source": [
    "point_panel = pd.read_parquet(point_panel_in)\n",
    "tract_panel = pd.read_parquet(tract_panel_in)"
   ]
  },
  {
   "cell_type": "code",
   "execution_count": 4,
   "metadata": {},
   "outputs": [],
   "source": [
    "tract_panel = tract_panel.loc[~tract_panel.is_weekend]\n",
    "point_panel = point_panel.loc[~point_panel.is_weekend]"
   ]
  },
  {
   "cell_type": "code",
   "execution_count": 5,
   "metadata": {},
   "outputs": [],
   "source": [
    "def get_model_data(panel, transit):\n",
    "    model_data = panel.query(f'transit == \"{transit}\"')\n",
    "    empty_units = model_data.groupby('id')['rides'].transform('sum') == 0\n",
    "    model_data = model_data[~empty_units]\n",
    "    return model_data"
   ]
  },
  {
   "cell_type": "code",
   "execution_count": 6,
   "metadata": {},
   "outputs": [],
   "source": [
    "model_data = pd.concat([\n",
    "    get_model_data(tract_panel, \"uber\").assign(id = lambda x: x['id'].astype(str)),\n",
    "    get_model_data(point_panel, \"train\").assign(id = lambda x: x['id'].astype(str)),\n",
    "    get_model_data(point_panel, \"bike\").assign(id = lambda x: x['id'].astype(str)),\n",
    "])"
   ]
  },
  {
   "cell_type": "markdown",
   "metadata": {},
   "source": [
    "# Pipeline Out"
   ]
  },
  {
   "cell_type": "code",
   "execution_count": 7,
   "metadata": {},
   "outputs": [],
   "source": [
    "model_data.to_parquet(panel_out, index=False)"
   ]
  }
 ],
 "metadata": {
  "kernelspec": {
   "display_name": ".venv",
   "language": "python",
   "name": "python3"
  },
  "language_info": {
   "codemirror_mode": {
    "name": "ipython",
    "version": 3
   },
   "file_extension": ".py",
   "mimetype": "text/x-python",
   "name": "python",
   "nbconvert_exporter": "python",
   "pygments_lexer": "ipython3",
   "version": "3.12.6"
  }
 },
 "nbformat": 4,
 "nbformat_minor": 2
}
