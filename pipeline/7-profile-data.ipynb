{
 "cells": [
  {
   "cell_type": "code",
   "execution_count": 1,
   "metadata": {},
   "outputs": [],
   "source": [
    "import geopandas as gpd\n",
    "import os\n",
    "import pandas as pd\n",
    "from plotly import express as px\n",
    "\n",
    "from data.constants import (DATA_FOLDER)\n",
    "from data.datemath import date_range_daily\n",
    "from data.geo import wkb_geom"
   ]
  },
  {
   "cell_type": "code",
   "execution_count": 2,
   "metadata": {},
   "outputs": [],
   "source": [
    "train_rides_in = os.path.join(DATA_FOLDER, \"raw\", \"train_rides.csv\")\n",
    "bus_rides_in = os.path.join(DATA_FOLDER, \"raw\", \"bus_rides.csv\")\n",
    "bike_rides_in = os.path.join(DATA_FOLDER, \"interim\", \"bike_rides_v2.geoparquet\")\n",
    "uber_rides_in = os.path.join(DATA_FOLDER, \"raw\", \"uber_rides.parquet\")\n",
    "\n",
    "train_file_in = os.path.join(DATA_FOLDER, \"raw\", \"train_stations.geojson\")\n",
    "bus_routes_file_in = os.path.join(DATA_FOLDER, \"raw\", \"bus_routes.geojson\")\n",
    "bike_stations_file_in = os.path.join(DATA_FOLDER, \"raw\", \"bike_stations.geojson\")\n",
    "tract_file_in = os.path.join(DATA_FOLDER, \"raw\", \"tracts.geojson\")"
   ]
  },
  {
   "cell_type": "code",
   "execution_count": 3,
   "metadata": {},
   "outputs": [],
   "source": [
    "train_rides = pd.read_csv(train_rides_in)\n",
    "bus_rides = pd.read_csv(bus_rides_in)\n",
    "bike_rides = gpd.read_parquet(bike_rides_in)\n",
    "uber_rides = pd.read_parquet(uber_rides_in)"
   ]
  },
  {
   "cell_type": "code",
   "execution_count": 4,
   "metadata": {},
   "outputs": [],
   "source": [
    "train_stations = gpd.read_file(train_file_in)\n",
    "bus_routes = gpd.read_file(bus_routes_file_in)\n",
    "tract_points = gpd.read_file(tract_file_in)\n",
    "bike_stations = gpd.read_file(bike_stations_file_in)"
   ]
  },
  {
   "cell_type": "markdown",
   "metadata": {},
   "source": [
    "# Cardinality"
   ]
  },
  {
   "cell_type": "code",
   "execution_count": 7,
   "metadata": {},
   "outputs": [
    {
     "data": {
      "text/plain": [
       "station_name    1653\n",
       "geometry        1650\n",
       "dtype: int64"
      ]
     },
     "execution_count": 7,
     "metadata": {},
     "output_type": "execute_result"
    }
   ],
   "source": [
    "bike_rides[['station_name','geometry']].nunique()"
   ]
  },
  {
   "cell_type": "markdown",
   "metadata": {},
   "source": [
    "# Ride Units not in Stations Units"
   ]
  },
  {
   "cell_type": "markdown",
   "metadata": {},
   "source": [
    "### Train"
   ]
  },
  {
   "cell_type": "code",
   "execution_count": 8,
   "metadata": {},
   "outputs": [],
   "source": [
    "assert train_rides.station_id.isin(train_stations.map_id).all()"
   ]
  },
  {
   "cell_type": "markdown",
   "metadata": {},
   "source": [
    "### Uber"
   ]
  },
  {
   "cell_type": "code",
   "execution_count": 9,
   "metadata": {},
   "outputs": [
    {
     "name": "stdout",
     "output_type": "stream",
     "text": [
      "494 uber tracts aren't in chicago\n"
     ]
    }
   ],
   "source": [
    "excess = ~uber_rides.tract.isin(tract_points.geoid10)\n",
    "print(\"{} uber tracts aren't in chicago\".format(\n",
    "    uber_rides[excess]['tract'].nunique()\n",
    "))\n",
    "# We already know the uber dataset contains some rides TO or FROM chicago."
   ]
  },
  {
   "cell_type": "markdown",
   "metadata": {},
   "source": [
    "### Bus"
   ]
  },
  {
   "cell_type": "code",
   "execution_count": 10,
   "metadata": {},
   "outputs": [
    {
     "name": "stdout",
     "output_type": "stream",
     "text": [
      "These bus rides aren't in the routes list:  {'1001'}\n"
     ]
    }
   ],
   "source": [
    "excess = ~bus_rides.route.isin(bus_routes.route)\n",
    "print(\"These bus rides aren't in the routes list: \",\n",
    "      set(bus_rides[excess]['route']))"
   ]
  },
  {
   "cell_type": "markdown",
   "metadata": {},
   "source": [
    "### Bike"
   ]
  },
  {
   "cell_type": "markdown",
   "metadata": {},
   "source": [
    "We know the trip data isn't in the station data because the later vintages are denormalized."
   ]
  },
  {
   "cell_type": "markdown",
   "metadata": {},
   "source": [
    "# Units not in Rides"
   ]
  },
  {
   "cell_type": "markdown",
   "metadata": {},
   "source": [
    "### Train"
   ]
  },
  {
   "cell_type": "code",
   "execution_count": 11,
   "metadata": {},
   "outputs": [],
   "source": [
    "assert train_stations.map_id.isin(train_rides.station_id).all()"
   ]
  },
  {
   "cell_type": "markdown",
   "metadata": {},
   "source": [
    "### Uber"
   ]
  },
  {
   "cell_type": "code",
   "execution_count": 12,
   "metadata": {},
   "outputs": [],
   "source": [
    "assert tract_points.geoid10.isin(uber_rides.tract).all()\n",
    "# This is surprising!"
   ]
  },
  {
   "cell_type": "markdown",
   "metadata": {},
   "source": [
    "### Bus"
   ]
  },
  {
   "cell_type": "code",
   "execution_count": 13,
   "metadata": {},
   "outputs": [
    {
     "name": "stdout",
     "output_type": "stream",
     "text": [
      "Are all bus routes present in ridership?  False\n"
     ]
    }
   ],
   "source": [
    "print(\"Are all bus routes present in ridership? \", \n",
    "      bus_routes.route.isin(bus_rides.route).all())"
   ]
  },
  {
   "cell_type": "code",
   "execution_count": 14,
   "metadata": {},
   "outputs": [
    {
     "data": {
      "text/html": [
       "<div>\n",
       "<style scoped>\n",
       "    .dataframe tbody tr th:only-of-type {\n",
       "        vertical-align: middle;\n",
       "    }\n",
       "\n",
       "    .dataframe tbody tr th {\n",
       "        vertical-align: top;\n",
       "    }\n",
       "\n",
       "    .dataframe thead th {\n",
       "        text-align: right;\n",
       "    }\n",
       "</style>\n",
       "<table border=\"1\" class=\"dataframe\">\n",
       "  <thead>\n",
       "    <tr style=\"text-align: right;\">\n",
       "      <th></th>\n",
       "      <th>route</th>\n",
       "      <th>name</th>\n",
       "      <th>geometry</th>\n",
       "    </tr>\n",
       "  </thead>\n",
       "  <tbody>\n",
       "    <tr>\n",
       "      <th>114</th>\n",
       "      <td>128</td>\n",
       "      <td>SOLDIER FIELD EXPRESS</td>\n",
       "      <td>MULTILINESTRING ((-87.61699 41.86502, -87.6153...</td>\n",
       "    </tr>\n",
       "  </tbody>\n",
       "</table>\n",
       "</div>"
      ],
      "text/plain": [
       "    route                   name  \\\n",
       "114   128  SOLDIER FIELD EXPRESS   \n",
       "\n",
       "                                              geometry  \n",
       "114  MULTILINESTRING ((-87.61699 41.86502, -87.6153...  "
      ]
     },
     "execution_count": 14,
     "metadata": {},
     "output_type": "execute_result"
    }
   ],
   "source": [
    "missing = bus_routes[~bus_routes.route.isin(bus_rides.route)]\n",
    "missing\n",
    "# We are missing one route. That's fine. \n",
    "# We'll implicitly drop it when we merge on ridership.\n",
    "# This is unfortunate because that route runs near mccormick place.\n",
    "# It only runs during bears games though which happened on Aug 1, 10, 17, 22"
   ]
  },
  {
   "cell_type": "markdown",
   "metadata": {},
   "source": [
    "### Bike"
   ]
  },
  {
   "cell_type": "code",
   "execution_count": 15,
   "metadata": {},
   "outputs": [
    {
     "name": "stdout",
     "output_type": "stream",
     "text": [
      "Latest stations vintage:  2017\n"
     ]
    }
   ],
   "source": [
    "print(\"Latest stations vintage: \",\n",
    "      bike_stations['vintage'].str.extract(r\"(\\d{4})\").max().iloc[0])"
   ]
  },
  {
   "cell_type": "code",
   "execution_count": 16,
   "metadata": {},
   "outputs": [],
   "source": [
    "# Listen, the relevant ridership years are all denormalized\n",
    "# ==> we already have station locations in the ridership tables directly.\n",
    "# We don't even want this data because we only want post-pandemic data at the most.\n",
    "# ==> don't even need to merge these stations to ridership.\n",
    "# ==> we won't even check this query which takes a few sec to run anyway\n",
    "# assert bike_stations.geometry.isin(bike_rides.geometry).all()"
   ]
  },
  {
   "cell_type": "markdown",
   "metadata": {},
   "source": [
    "# Dates"
   ]
  },
  {
   "cell_type": "markdown",
   "metadata": {},
   "source": [
    "## All dates"
   ]
  },
  {
   "cell_type": "code",
   "execution_count": 17,
   "metadata": {},
   "outputs": [],
   "source": [
    "dates = set(map(lambda x: x[0], date_range_daily(\"2024-07-01\",\"2024-08-31\")))"
   ]
  },
  {
   "cell_type": "code",
   "execution_count": 18,
   "metadata": {},
   "outputs": [],
   "source": [
    "assert all([d in train_rides['date'].values for d in dates])\n",
    "assert all([d in bus_rides['date'].values for d in dates])\n",
    "assert all([d in uber_rides['date'].values for d in dates])\n",
    "assert all([d in bike_rides['date'].values for d in dates])"
   ]
  },
  {
   "cell_type": "markdown",
   "metadata": {},
   "source": [
    "## Units x Dates"
   ]
  },
  {
   "cell_type": "markdown",
   "metadata": {},
   "source": [
    "### Train"
   ]
  },
  {
   "cell_type": "code",
   "execution_count": 19,
   "metadata": {},
   "outputs": [],
   "source": [
    "for g, gdf in train_rides.groupby('station_id'):\n",
    "    assert all([d in gdf['date'].values for d in dates])"
   ]
  },
  {
   "cell_type": "code",
   "execution_count": 20,
   "metadata": {},
   "outputs": [
    {
     "data": {
      "application/vnd.plotly.v1+json": {
       "config": {
        "plotlyServerURL": "https://plot.ly"
       },
       "data": [
        {
         "hovertemplate": "date=%{x}<br>completeness=%{y}<extra></extra>",
         "legendgroup": "",
         "line": {
          "color": "#636efa",
          "dash": "solid"
         },
         "marker": {
          "symbol": "circle"
         },
         "mode": "lines",
         "name": "",
         "orientation": "v",
         "showlegend": false,
         "type": "scatter",
         "x": [
          "2024-01-01",
          "2024-01-02",
          "2024-01-03",
          "2024-01-04",
          "2024-01-05",
          "2024-01-06",
          "2024-01-07",
          "2024-01-08",
          "2024-01-09",
          "2024-01-10",
          "2024-01-11",
          "2024-01-12",
          "2024-01-13",
          "2024-01-14",
          "2024-01-15",
          "2024-01-16",
          "2024-01-17",
          "2024-01-18",
          "2024-01-19",
          "2024-01-20",
          "2024-01-21",
          "2024-01-22",
          "2024-01-23",
          "2024-01-24",
          "2024-01-25",
          "2024-01-26",
          "2024-01-27",
          "2024-01-28",
          "2024-01-29",
          "2024-01-30",
          "2024-01-31",
          "2024-02-01",
          "2024-02-02",
          "2024-02-03",
          "2024-02-04",
          "2024-02-05",
          "2024-02-06",
          "2024-02-07",
          "2024-02-08",
          "2024-02-09",
          "2024-02-10",
          "2024-02-11",
          "2024-02-12",
          "2024-02-13",
          "2024-02-14",
          "2024-02-15",
          "2024-02-16",
          "2024-02-17",
          "2024-02-18",
          "2024-02-19",
          "2024-02-20",
          "2024-02-21",
          "2024-02-22",
          "2024-02-23",
          "2024-02-24",
          "2024-02-25",
          "2024-02-26",
          "2024-02-27",
          "2024-02-28",
          "2024-02-29",
          "2024-03-01",
          "2024-03-02",
          "2024-03-03",
          "2024-03-04",
          "2024-03-05",
          "2024-03-06",
          "2024-03-07",
          "2024-03-08",
          "2024-03-09",
          "2024-03-10",
          "2024-03-11",
          "2024-03-12",
          "2024-03-13",
          "2024-03-14",
          "2024-03-15",
          "2024-03-16",
          "2024-03-17",
          "2024-03-18",
          "2024-03-19",
          "2024-03-20",
          "2024-03-21",
          "2024-03-22",
          "2024-03-23",
          "2024-03-24",
          "2024-03-25",
          "2024-03-26",
          "2024-03-27",
          "2024-03-28",
          "2024-03-29",
          "2024-03-30",
          "2024-03-31",
          "2024-04-01",
          "2024-04-02",
          "2024-04-03",
          "2024-04-04",
          "2024-04-05",
          "2024-04-06",
          "2024-04-07",
          "2024-04-08",
          "2024-04-09",
          "2024-04-10",
          "2024-04-11",
          "2024-04-12",
          "2024-04-13",
          "2024-04-14",
          "2024-04-15",
          "2024-04-16",
          "2024-04-17",
          "2024-04-18",
          "2024-04-19",
          "2024-04-20",
          "2024-04-21",
          "2024-04-22",
          "2024-04-23",
          "2024-04-24",
          "2024-04-25",
          "2024-04-26",
          "2024-04-27",
          "2024-04-28",
          "2024-04-29",
          "2024-04-30",
          "2024-05-01",
          "2024-05-02",
          "2024-05-03",
          "2024-05-04",
          "2024-05-05",
          "2024-05-06",
          "2024-05-07",
          "2024-05-08",
          "2024-05-09",
          "2024-05-10",
          "2024-05-11",
          "2024-05-12",
          "2024-05-13",
          "2024-05-14",
          "2024-05-15",
          "2024-05-16",
          "2024-05-17",
          "2024-05-18",
          "2024-05-19",
          "2024-05-20",
          "2024-05-21",
          "2024-05-22",
          "2024-05-23",
          "2024-05-24",
          "2024-05-25",
          "2024-05-26",
          "2024-05-27",
          "2024-05-28",
          "2024-05-29",
          "2024-05-30",
          "2024-05-31",
          "2024-06-01",
          "2024-06-02",
          "2024-06-03",
          "2024-06-04",
          "2024-06-05",
          "2024-06-06",
          "2024-06-07",
          "2024-06-08",
          "2024-06-09",
          "2024-06-10",
          "2024-06-11",
          "2024-06-12",
          "2024-06-13",
          "2024-06-14",
          "2024-06-15",
          "2024-06-16",
          "2024-06-17",
          "2024-06-18",
          "2024-06-19",
          "2024-06-20",
          "2024-06-21",
          "2024-06-22",
          "2024-06-23",
          "2024-06-24",
          "2024-06-25",
          "2024-06-26",
          "2024-06-27",
          "2024-06-28",
          "2024-06-29",
          "2024-06-30",
          "2024-07-01",
          "2024-07-02",
          "2024-07-03",
          "2024-07-04",
          "2024-07-05",
          "2024-07-06",
          "2024-07-07",
          "2024-07-08",
          "2024-07-09",
          "2024-07-10",
          "2024-07-11",
          "2024-07-12",
          "2024-07-13",
          "2024-07-14",
          "2024-07-15",
          "2024-07-16",
          "2024-07-17",
          "2024-07-18",
          "2024-07-19",
          "2024-07-20",
          "2024-07-21",
          "2024-07-22",
          "2024-07-23",
          "2024-07-24",
          "2024-07-25",
          "2024-07-26",
          "2024-07-27",
          "2024-07-28",
          "2024-07-29",
          "2024-07-30",
          "2024-07-31",
          "2024-08-01",
          "2024-08-02",
          "2024-08-03",
          "2024-08-04",
          "2024-08-05",
          "2024-08-06",
          "2024-08-07",
          "2024-08-08",
          "2024-08-09",
          "2024-08-10",
          "2024-08-11",
          "2024-08-12",
          "2024-08-13",
          "2024-08-14",
          "2024-08-15",
          "2024-08-16",
          "2024-08-17",
          "2024-08-18",
          "2024-08-19",
          "2024-08-20",
          "2024-08-21",
          "2024-08-22",
          "2024-08-23",
          "2024-08-24",
          "2024-08-25",
          "2024-08-26",
          "2024-08-27",
          "2024-08-28",
          "2024-08-29",
          "2024-08-30",
          "2024-08-31"
         ],
         "xaxis": "x",
         "y": [
          0.9861111111111112,
          0.9930555555555556,
          0.9930555555555556,
          0.9930555555555556,
          0.9930555555555556,
          0.9930555555555556,
          0.9930555555555556,
          0.9930555555555556,
          0.9930555555555556,
          0.9930555555555556,
          0.9930555555555556,
          0.9930555555555556,
          0.9930555555555556,
          0.9930555555555556,
          0.9930555555555556,
          0.9930555555555556,
          0.9930555555555556,
          0.9930555555555556,
          0.9930555555555556,
          0.9930555555555556,
          0.9930555555555556,
          0.9930555555555556,
          0.9930555555555556,
          0.9930555555555556,
          0.9930555555555556,
          0.9930555555555556,
          0.9930555555555556,
          0.9930555555555556,
          0.9930555555555556,
          0.9930555555555556,
          0.9930555555555556,
          0.9930555555555556,
          0.9930555555555556,
          0.9930555555555556,
          0.9930555555555556,
          0.9930555555555556,
          0.9930555555555556,
          0.9930555555555556,
          0.9930555555555556,
          0.9930555555555556,
          0.9930555555555556,
          0.9930555555555556,
          0.9930555555555556,
          0.9930555555555556,
          0.9930555555555556,
          0.9930555555555556,
          0.9930555555555556,
          0.9930555555555556,
          0.9930555555555556,
          0.9930555555555556,
          0.9930555555555556,
          0.9930555555555556,
          0.9930555555555556,
          0.9930555555555556,
          0.9930555555555556,
          0.9930555555555556,
          0.9930555555555556,
          0.9930555555555556,
          0.9930555555555556,
          0.9930555555555556,
          0.9930555555555556,
          0.9930555555555556,
          0.9930555555555556,
          0.9930555555555556,
          0.9930555555555556,
          0.9930555555555556,
          0.9930555555555556,
          0.9930555555555556,
          0.9930555555555556,
          0.9930555555555556,
          0.9930555555555556,
          0.9930555555555556,
          0.9930555555555556,
          0.9930555555555556,
          0.9930555555555556,
          0.9930555555555556,
          0.9930555555555556,
          0.9930555555555556,
          0.9930555555555556,
          0.9930555555555556,
          0.9930555555555556,
          0.9930555555555556,
          0.9930555555555556,
          0.9930555555555556,
          0.9930555555555556,
          0.9930555555555556,
          0.9930555555555556,
          0.9930555555555556,
          0.9930555555555556,
          0.9930555555555556,
          0.9930555555555556,
          0.9930555555555556,
          0.9930555555555556,
          0.9930555555555556,
          0.9930555555555556,
          0.9930555555555556,
          0.9930555555555556,
          0.9930555555555556,
          0.9930555555555556,
          0.9930555555555556,
          0.9930555555555556,
          0.9930555555555556,
          0.9930555555555556,
          0.9930555555555556,
          0.9930555555555556,
          0.9930555555555556,
          0.9930555555555556,
          0.9930555555555556,
          0.9930555555555556,
          0.9930555555555556,
          0.9930555555555556,
          0.9930555555555556,
          0.9930555555555556,
          0.9930555555555556,
          0.9930555555555556,
          0.9930555555555556,
          0.9930555555555556,
          0.9930555555555556,
          0.9930555555555556,
          0.9930555555555556,
          0.9930555555555556,
          0.9930555555555556,
          0.9930555555555556,
          0.9930555555555556,
          0.9930555555555556,
          0.9930555555555556,
          0.9930555555555556,
          0.9930555555555556,
          0.9930555555555556,
          0.9930555555555556,
          0.9930555555555556,
          0.9930555555555556,
          0.9930555555555556,
          0.9930555555555556,
          0.9930555555555556,
          0.9930555555555556,
          0.9930555555555556,
          0.9930555555555556,
          0.9930555555555556,
          0.9930555555555556,
          0.9930555555555556,
          0.9930555555555556,
          0.9930555555555556,
          0.9930555555555556,
          0.9930555555555556,
          0.9930555555555556,
          0.9930555555555556,
          0.9930555555555556,
          0.9930555555555556,
          0.9930555555555556,
          0.9930555555555556,
          0.9930555555555556,
          0.9930555555555556,
          0.9930555555555556,
          0.9930555555555556,
          0.9930555555555556,
          0.9930555555555556,
          0.9930555555555556,
          0.9930555555555556,
          0.9930555555555556,
          0.9930555555555556,
          0.9930555555555556,
          0.9930555555555556,
          0.9930555555555556,
          0.9930555555555556,
          0.9930555555555556,
          0.9930555555555556,
          0.9930555555555556,
          0.9930555555555556,
          0.9930555555555556,
          0.9930555555555556,
          0.9930555555555556,
          0.9930555555555556,
          0.9930555555555556,
          0.9930555555555556,
          0.9930555555555556,
          0.9930555555555556,
          0.9930555555555556,
          0.9930555555555556,
          0.9930555555555556,
          0.9930555555555556,
          0.9930555555555556,
          1,
          1,
          1,
          1,
          1,
          1,
          1,
          1,
          1,
          1,
          1,
          1,
          1,
          1,
          1,
          1,
          1,
          1,
          1,
          1,
          1,
          1,
          1,
          1,
          1,
          1,
          1,
          1,
          1,
          1,
          1,
          1,
          1,
          1,
          1,
          1,
          1,
          1,
          1,
          1,
          1,
          1,
          1,
          1,
          1,
          1,
          1,
          1,
          1,
          1,
          1,
          1,
          1,
          1,
          1,
          1,
          1,
          1,
          1,
          1,
          1,
          1
         ],
         "yaxis": "y"
        }
       ],
       "layout": {
        "legend": {
         "tracegroupgap": 0
        },
        "margin": {
         "t": 60
        },
        "template": {
         "data": {
          "bar": [
           {
            "error_x": {
             "color": "#2a3f5f"
            },
            "error_y": {
             "color": "#2a3f5f"
            },
            "marker": {
             "line": {
              "color": "#E5ECF6",
              "width": 0.5
             },
             "pattern": {
              "fillmode": "overlay",
              "size": 10,
              "solidity": 0.2
             }
            },
            "type": "bar"
           }
          ],
          "barpolar": [
           {
            "marker": {
             "line": {
              "color": "#E5ECF6",
              "width": 0.5
             },
             "pattern": {
              "fillmode": "overlay",
              "size": 10,
              "solidity": 0.2
             }
            },
            "type": "barpolar"
           }
          ],
          "carpet": [
           {
            "aaxis": {
             "endlinecolor": "#2a3f5f",
             "gridcolor": "white",
             "linecolor": "white",
             "minorgridcolor": "white",
             "startlinecolor": "#2a3f5f"
            },
            "baxis": {
             "endlinecolor": "#2a3f5f",
             "gridcolor": "white",
             "linecolor": "white",
             "minorgridcolor": "white",
             "startlinecolor": "#2a3f5f"
            },
            "type": "carpet"
           }
          ],
          "choropleth": [
           {
            "colorbar": {
             "outlinewidth": 0,
             "ticks": ""
            },
            "type": "choropleth"
           }
          ],
          "contour": [
           {
            "colorbar": {
             "outlinewidth": 0,
             "ticks": ""
            },
            "colorscale": [
             [
              0,
              "#0d0887"
             ],
             [
              0.1111111111111111,
              "#46039f"
             ],
             [
              0.2222222222222222,
              "#7201a8"
             ],
             [
              0.3333333333333333,
              "#9c179e"
             ],
             [
              0.4444444444444444,
              "#bd3786"
             ],
             [
              0.5555555555555556,
              "#d8576b"
             ],
             [
              0.6666666666666666,
              "#ed7953"
             ],
             [
              0.7777777777777778,
              "#fb9f3a"
             ],
             [
              0.8888888888888888,
              "#fdca26"
             ],
             [
              1,
              "#f0f921"
             ]
            ],
            "type": "contour"
           }
          ],
          "contourcarpet": [
           {
            "colorbar": {
             "outlinewidth": 0,
             "ticks": ""
            },
            "type": "contourcarpet"
           }
          ],
          "heatmap": [
           {
            "colorbar": {
             "outlinewidth": 0,
             "ticks": ""
            },
            "colorscale": [
             [
              0,
              "#0d0887"
             ],
             [
              0.1111111111111111,
              "#46039f"
             ],
             [
              0.2222222222222222,
              "#7201a8"
             ],
             [
              0.3333333333333333,
              "#9c179e"
             ],
             [
              0.4444444444444444,
              "#bd3786"
             ],
             [
              0.5555555555555556,
              "#d8576b"
             ],
             [
              0.6666666666666666,
              "#ed7953"
             ],
             [
              0.7777777777777778,
              "#fb9f3a"
             ],
             [
              0.8888888888888888,
              "#fdca26"
             ],
             [
              1,
              "#f0f921"
             ]
            ],
            "type": "heatmap"
           }
          ],
          "heatmapgl": [
           {
            "colorbar": {
             "outlinewidth": 0,
             "ticks": ""
            },
            "colorscale": [
             [
              0,
              "#0d0887"
             ],
             [
              0.1111111111111111,
              "#46039f"
             ],
             [
              0.2222222222222222,
              "#7201a8"
             ],
             [
              0.3333333333333333,
              "#9c179e"
             ],
             [
              0.4444444444444444,
              "#bd3786"
             ],
             [
              0.5555555555555556,
              "#d8576b"
             ],
             [
              0.6666666666666666,
              "#ed7953"
             ],
             [
              0.7777777777777778,
              "#fb9f3a"
             ],
             [
              0.8888888888888888,
              "#fdca26"
             ],
             [
              1,
              "#f0f921"
             ]
            ],
            "type": "heatmapgl"
           }
          ],
          "histogram": [
           {
            "marker": {
             "pattern": {
              "fillmode": "overlay",
              "size": 10,
              "solidity": 0.2
             }
            },
            "type": "histogram"
           }
          ],
          "histogram2d": [
           {
            "colorbar": {
             "outlinewidth": 0,
             "ticks": ""
            },
            "colorscale": [
             [
              0,
              "#0d0887"
             ],
             [
              0.1111111111111111,
              "#46039f"
             ],
             [
              0.2222222222222222,
              "#7201a8"
             ],
             [
              0.3333333333333333,
              "#9c179e"
             ],
             [
              0.4444444444444444,
              "#bd3786"
             ],
             [
              0.5555555555555556,
              "#d8576b"
             ],
             [
              0.6666666666666666,
              "#ed7953"
             ],
             [
              0.7777777777777778,
              "#fb9f3a"
             ],
             [
              0.8888888888888888,
              "#fdca26"
             ],
             [
              1,
              "#f0f921"
             ]
            ],
            "type": "histogram2d"
           }
          ],
          "histogram2dcontour": [
           {
            "colorbar": {
             "outlinewidth": 0,
             "ticks": ""
            },
            "colorscale": [
             [
              0,
              "#0d0887"
             ],
             [
              0.1111111111111111,
              "#46039f"
             ],
             [
              0.2222222222222222,
              "#7201a8"
             ],
             [
              0.3333333333333333,
              "#9c179e"
             ],
             [
              0.4444444444444444,
              "#bd3786"
             ],
             [
              0.5555555555555556,
              "#d8576b"
             ],
             [
              0.6666666666666666,
              "#ed7953"
             ],
             [
              0.7777777777777778,
              "#fb9f3a"
             ],
             [
              0.8888888888888888,
              "#fdca26"
             ],
             [
              1,
              "#f0f921"
             ]
            ],
            "type": "histogram2dcontour"
           }
          ],
          "mesh3d": [
           {
            "colorbar": {
             "outlinewidth": 0,
             "ticks": ""
            },
            "type": "mesh3d"
           }
          ],
          "parcoords": [
           {
            "line": {
             "colorbar": {
              "outlinewidth": 0,
              "ticks": ""
             }
            },
            "type": "parcoords"
           }
          ],
          "pie": [
           {
            "automargin": true,
            "type": "pie"
           }
          ],
          "scatter": [
           {
            "fillpattern": {
             "fillmode": "overlay",
             "size": 10,
             "solidity": 0.2
            },
            "type": "scatter"
           }
          ],
          "scatter3d": [
           {
            "line": {
             "colorbar": {
              "outlinewidth": 0,
              "ticks": ""
             }
            },
            "marker": {
             "colorbar": {
              "outlinewidth": 0,
              "ticks": ""
             }
            },
            "type": "scatter3d"
           }
          ],
          "scattercarpet": [
           {
            "marker": {
             "colorbar": {
              "outlinewidth": 0,
              "ticks": ""
             }
            },
            "type": "scattercarpet"
           }
          ],
          "scattergeo": [
           {
            "marker": {
             "colorbar": {
              "outlinewidth": 0,
              "ticks": ""
             }
            },
            "type": "scattergeo"
           }
          ],
          "scattergl": [
           {
            "marker": {
             "colorbar": {
              "outlinewidth": 0,
              "ticks": ""
             }
            },
            "type": "scattergl"
           }
          ],
          "scattermapbox": [
           {
            "marker": {
             "colorbar": {
              "outlinewidth": 0,
              "ticks": ""
             }
            },
            "type": "scattermapbox"
           }
          ],
          "scatterpolar": [
           {
            "marker": {
             "colorbar": {
              "outlinewidth": 0,
              "ticks": ""
             }
            },
            "type": "scatterpolar"
           }
          ],
          "scatterpolargl": [
           {
            "marker": {
             "colorbar": {
              "outlinewidth": 0,
              "ticks": ""
             }
            },
            "type": "scatterpolargl"
           }
          ],
          "scatterternary": [
           {
            "marker": {
             "colorbar": {
              "outlinewidth": 0,
              "ticks": ""
             }
            },
            "type": "scatterternary"
           }
          ],
          "surface": [
           {
            "colorbar": {
             "outlinewidth": 0,
             "ticks": ""
            },
            "colorscale": [
             [
              0,
              "#0d0887"
             ],
             [
              0.1111111111111111,
              "#46039f"
             ],
             [
              0.2222222222222222,
              "#7201a8"
             ],
             [
              0.3333333333333333,
              "#9c179e"
             ],
             [
              0.4444444444444444,
              "#bd3786"
             ],
             [
              0.5555555555555556,
              "#d8576b"
             ],
             [
              0.6666666666666666,
              "#ed7953"
             ],
             [
              0.7777777777777778,
              "#fb9f3a"
             ],
             [
              0.8888888888888888,
              "#fdca26"
             ],
             [
              1,
              "#f0f921"
             ]
            ],
            "type": "surface"
           }
          ],
          "table": [
           {
            "cells": {
             "fill": {
              "color": "#EBF0F8"
             },
             "line": {
              "color": "white"
             }
            },
            "header": {
             "fill": {
              "color": "#C8D4E3"
             },
             "line": {
              "color": "white"
             }
            },
            "type": "table"
           }
          ]
         },
         "layout": {
          "annotationdefaults": {
           "arrowcolor": "#2a3f5f",
           "arrowhead": 0,
           "arrowwidth": 1
          },
          "autotypenumbers": "strict",
          "coloraxis": {
           "colorbar": {
            "outlinewidth": 0,
            "ticks": ""
           }
          },
          "colorscale": {
           "diverging": [
            [
             0,
             "#8e0152"
            ],
            [
             0.1,
             "#c51b7d"
            ],
            [
             0.2,
             "#de77ae"
            ],
            [
             0.3,
             "#f1b6da"
            ],
            [
             0.4,
             "#fde0ef"
            ],
            [
             0.5,
             "#f7f7f7"
            ],
            [
             0.6,
             "#e6f5d0"
            ],
            [
             0.7,
             "#b8e186"
            ],
            [
             0.8,
             "#7fbc41"
            ],
            [
             0.9,
             "#4d9221"
            ],
            [
             1,
             "#276419"
            ]
           ],
           "sequential": [
            [
             0,
             "#0d0887"
            ],
            [
             0.1111111111111111,
             "#46039f"
            ],
            [
             0.2222222222222222,
             "#7201a8"
            ],
            [
             0.3333333333333333,
             "#9c179e"
            ],
            [
             0.4444444444444444,
             "#bd3786"
            ],
            [
             0.5555555555555556,
             "#d8576b"
            ],
            [
             0.6666666666666666,
             "#ed7953"
            ],
            [
             0.7777777777777778,
             "#fb9f3a"
            ],
            [
             0.8888888888888888,
             "#fdca26"
            ],
            [
             1,
             "#f0f921"
            ]
           ],
           "sequentialminus": [
            [
             0,
             "#0d0887"
            ],
            [
             0.1111111111111111,
             "#46039f"
            ],
            [
             0.2222222222222222,
             "#7201a8"
            ],
            [
             0.3333333333333333,
             "#9c179e"
            ],
            [
             0.4444444444444444,
             "#bd3786"
            ],
            [
             0.5555555555555556,
             "#d8576b"
            ],
            [
             0.6666666666666666,
             "#ed7953"
            ],
            [
             0.7777777777777778,
             "#fb9f3a"
            ],
            [
             0.8888888888888888,
             "#fdca26"
            ],
            [
             1,
             "#f0f921"
            ]
           ]
          },
          "colorway": [
           "#636efa",
           "#EF553B",
           "#00cc96",
           "#ab63fa",
           "#FFA15A",
           "#19d3f3",
           "#FF6692",
           "#B6E880",
           "#FF97FF",
           "#FECB52"
          ],
          "font": {
           "color": "#2a3f5f"
          },
          "geo": {
           "bgcolor": "white",
           "lakecolor": "white",
           "landcolor": "#E5ECF6",
           "showlakes": true,
           "showland": true,
           "subunitcolor": "white"
          },
          "hoverlabel": {
           "align": "left"
          },
          "hovermode": "closest",
          "mapbox": {
           "style": "light"
          },
          "paper_bgcolor": "white",
          "plot_bgcolor": "#E5ECF6",
          "polar": {
           "angularaxis": {
            "gridcolor": "white",
            "linecolor": "white",
            "ticks": ""
           },
           "bgcolor": "#E5ECF6",
           "radialaxis": {
            "gridcolor": "white",
            "linecolor": "white",
            "ticks": ""
           }
          },
          "scene": {
           "xaxis": {
            "backgroundcolor": "#E5ECF6",
            "gridcolor": "white",
            "gridwidth": 2,
            "linecolor": "white",
            "showbackground": true,
            "ticks": "",
            "zerolinecolor": "white"
           },
           "yaxis": {
            "backgroundcolor": "#E5ECF6",
            "gridcolor": "white",
            "gridwidth": 2,
            "linecolor": "white",
            "showbackground": true,
            "ticks": "",
            "zerolinecolor": "white"
           },
           "zaxis": {
            "backgroundcolor": "#E5ECF6",
            "gridcolor": "white",
            "gridwidth": 2,
            "linecolor": "white",
            "showbackground": true,
            "ticks": "",
            "zerolinecolor": "white"
           }
          },
          "shapedefaults": {
           "line": {
            "color": "#2a3f5f"
           }
          },
          "ternary": {
           "aaxis": {
            "gridcolor": "white",
            "linecolor": "white",
            "ticks": ""
           },
           "baxis": {
            "gridcolor": "white",
            "linecolor": "white",
            "ticks": ""
           },
           "bgcolor": "#E5ECF6",
           "caxis": {
            "gridcolor": "white",
            "linecolor": "white",
            "ticks": ""
           }
          },
          "title": {
           "x": 0.05
          },
          "xaxis": {
           "automargin": true,
           "gridcolor": "white",
           "linecolor": "white",
           "ticks": "",
           "title": {
            "standoff": 15
           },
           "zerolinecolor": "white",
           "zerolinewidth": 2
          },
          "yaxis": {
           "automargin": true,
           "gridcolor": "white",
           "linecolor": "white",
           "ticks": "",
           "title": {
            "standoff": 15
           },
           "zerolinecolor": "white",
           "zerolinewidth": 2
          }
         }
        },
        "xaxis": {
         "anchor": "y",
         "domain": [
          0,
          1
         ],
         "title": {
          "text": "date"
         }
        },
        "yaxis": {
         "anchor": "x",
         "domain": [
          0,
          1
         ],
         "title": {
          "text": "completeness"
         }
        }
       }
      }
     },
     "metadata": {},
     "output_type": "display_data"
    }
   ],
   "source": [
    "plot_data = train_rides.groupby('date')['station_id'].nunique().rename('completeness') / train_rides['station_id'].nunique()\n",
    "px.line(plot_data.reset_index(), x='date', y='completeness')\n",
    "# The green line damen station comes online during the study period, so we will need\n",
    "# to impute its prior ridership."
   ]
  },
  {
   "cell_type": "markdown",
   "metadata": {},
   "source": [
    "### Bus"
   ]
  },
  {
   "cell_type": "code",
   "execution_count": 21,
   "metadata": {},
   "outputs": [
    {
     "data": {
      "text/plain": [
       "count    127.000000\n",
       "mean       0.910465\n",
       "std        0.149557\n",
       "min        0.000000\n",
       "25%        0.733871\n",
       "50%        1.000000\n",
       "75%        1.000000\n",
       "max        1.000000\n",
       "Name: date, dtype: float64"
      ]
     },
     "execution_count": 21,
     "metadata": {},
     "output_type": "execute_result"
    }
   ],
   "source": [
    "compliance = bus_rides.groupby('route')['date'].agg(lambda x: sum([d in x.values for d in dates]))\n",
    "compliance = compliance / len(dates)\n",
    "compliance.describe()\n",
    "# We have a 50% panel of ridership for bus rides"
   ]
  },
  {
   "cell_type": "code",
   "execution_count": 22,
   "metadata": {},
   "outputs": [
    {
     "data": {
      "application/vnd.plotly.v1+json": {
       "config": {
        "plotlyServerURL": "https://plot.ly"
       },
       "data": [
        {
         "hovertemplate": "date=%{x}<br>completeness=%{y}<extra></extra>",
         "legendgroup": "",
         "line": {
          "color": "#636efa",
          "dash": "solid"
         },
         "marker": {
          "symbol": "circle"
         },
         "mode": "lines",
         "name": "",
         "orientation": "v",
         "showlegend": false,
         "type": "scatter",
         "x": [
          "2024-01-01",
          "2024-01-02",
          "2024-01-03",
          "2024-01-04",
          "2024-01-05",
          "2024-01-06",
          "2024-01-07",
          "2024-01-08",
          "2024-01-09",
          "2024-01-10",
          "2024-01-11",
          "2024-01-12",
          "2024-01-13",
          "2024-01-14",
          "2024-01-15",
          "2024-01-16",
          "2024-01-17",
          "2024-01-18",
          "2024-01-19",
          "2024-01-20",
          "2024-01-21",
          "2024-01-22",
          "2024-01-23",
          "2024-01-24",
          "2024-01-25",
          "2024-01-26",
          "2024-01-27",
          "2024-01-28",
          "2024-01-29",
          "2024-01-30",
          "2024-01-31",
          "2024-02-01",
          "2024-02-02",
          "2024-02-03",
          "2024-02-04",
          "2024-02-05",
          "2024-02-06",
          "2024-02-07",
          "2024-02-08",
          "2024-02-09",
          "2024-02-10",
          "2024-02-11",
          "2024-02-12",
          "2024-02-13",
          "2024-02-14",
          "2024-02-15",
          "2024-02-16",
          "2024-02-17",
          "2024-02-18",
          "2024-02-19",
          "2024-02-20",
          "2024-02-21",
          "2024-02-22",
          "2024-02-23",
          "2024-02-24",
          "2024-02-25",
          "2024-02-26",
          "2024-02-27",
          "2024-02-28",
          "2024-02-29",
          "2024-03-01",
          "2024-03-02",
          "2024-03-03",
          "2024-03-04",
          "2024-03-05",
          "2024-03-06",
          "2024-03-07",
          "2024-03-08",
          "2024-03-09",
          "2024-03-10",
          "2024-03-11",
          "2024-03-12",
          "2024-03-13",
          "2024-03-14",
          "2024-03-15",
          "2024-03-16",
          "2024-03-17",
          "2024-03-18",
          "2024-03-19",
          "2024-03-20",
          "2024-03-21",
          "2024-03-22",
          "2024-03-23",
          "2024-03-24",
          "2024-03-25",
          "2024-03-26",
          "2024-03-27",
          "2024-03-28",
          "2024-03-29",
          "2024-03-30",
          "2024-03-31",
          "2024-04-01",
          "2024-04-02",
          "2024-04-03",
          "2024-04-04",
          "2024-04-05",
          "2024-04-06",
          "2024-04-07",
          "2024-04-08",
          "2024-04-09",
          "2024-04-10",
          "2024-04-11",
          "2024-04-12",
          "2024-04-13",
          "2024-04-14",
          "2024-04-15",
          "2024-04-16",
          "2024-04-17",
          "2024-04-18",
          "2024-04-19",
          "2024-04-20",
          "2024-04-21",
          "2024-04-22",
          "2024-04-23",
          "2024-04-24",
          "2024-04-25",
          "2024-04-26",
          "2024-04-27",
          "2024-04-28",
          "2024-04-29",
          "2024-04-30",
          "2024-05-01",
          "2024-05-02",
          "2024-05-03",
          "2024-05-04",
          "2024-05-05",
          "2024-05-06",
          "2024-05-07",
          "2024-05-08",
          "2024-05-09",
          "2024-05-10",
          "2024-05-11",
          "2024-05-12",
          "2024-05-13",
          "2024-05-14",
          "2024-05-15",
          "2024-05-16",
          "2024-05-17",
          "2024-05-18",
          "2024-05-19",
          "2024-05-20",
          "2024-05-21",
          "2024-05-22",
          "2024-05-23",
          "2024-05-24",
          "2024-05-25",
          "2024-05-26",
          "2024-05-27",
          "2024-05-28",
          "2024-05-29",
          "2024-05-30",
          "2024-05-31",
          "2024-06-01",
          "2024-06-02",
          "2024-06-03",
          "2024-06-04",
          "2024-06-05",
          "2024-06-06",
          "2024-06-07",
          "2024-06-08",
          "2024-06-09",
          "2024-06-10",
          "2024-06-11",
          "2024-06-12",
          "2024-06-13",
          "2024-06-14",
          "2024-06-15",
          "2024-06-16",
          "2024-06-17",
          "2024-06-18",
          "2024-06-19",
          "2024-06-20",
          "2024-06-21",
          "2024-06-22",
          "2024-06-23",
          "2024-06-24",
          "2024-06-25",
          "2024-06-26",
          "2024-06-27",
          "2024-06-28",
          "2024-06-29",
          "2024-06-30",
          "2024-07-01",
          "2024-07-02",
          "2024-07-03",
          "2024-07-04",
          "2024-07-05",
          "2024-07-06",
          "2024-07-07",
          "2024-07-08",
          "2024-07-09",
          "2024-07-10",
          "2024-07-11",
          "2024-07-12",
          "2024-07-13",
          "2024-07-14",
          "2024-07-15",
          "2024-07-16",
          "2024-07-17",
          "2024-07-18",
          "2024-07-19",
          "2024-07-20",
          "2024-07-21",
          "2024-07-22",
          "2024-07-23",
          "2024-07-24",
          "2024-07-25",
          "2024-07-26",
          "2024-07-27",
          "2024-07-28",
          "2024-07-29",
          "2024-07-30",
          "2024-07-31",
          "2024-08-01",
          "2024-08-02",
          "2024-08-03",
          "2024-08-04",
          "2024-08-05",
          "2024-08-06",
          "2024-08-07",
          "2024-08-08",
          "2024-08-09",
          "2024-08-10",
          "2024-08-11",
          "2024-08-12",
          "2024-08-13",
          "2024-08-14",
          "2024-08-15",
          "2024-08-16",
          "2024-08-17",
          "2024-08-18",
          "2024-08-19",
          "2024-08-20",
          "2024-08-21",
          "2024-08-22",
          "2024-08-23",
          "2024-08-24",
          "2024-08-25",
          "2024-08-26",
          "2024-08-27",
          "2024-08-28",
          "2024-08-29",
          "2024-08-30",
          "2024-08-31"
         ],
         "xaxis": "x",
         "y": [
          0.6692913385826772,
          0.9763779527559056,
          0.9763779527559056,
          0.9763779527559056,
          0.9763779527559056,
          0.7401574803149606,
          0.6771653543307087,
          0.9763779527559056,
          0.9763779527559056,
          0.9763779527559056,
          0.9763779527559056,
          0.9763779527559056,
          0.7322834645669292,
          0.6771653543307087,
          0.9763779527559056,
          0.9763779527559056,
          0.9763779527559056,
          0.9763779527559056,
          0.9763779527559056,
          0.7401574803149606,
          0.6771653543307087,
          0.9763779527559056,
          0.9763779527559056,
          0.9763779527559056,
          0.9763779527559056,
          0.9763779527559056,
          0.7322834645669292,
          0.6771653543307087,
          0.9763779527559056,
          0.9763779527559056,
          0.9763779527559056,
          0.9763779527559056,
          0.9763779527559056,
          0.7401574803149606,
          0.6692913385826772,
          0.9763779527559056,
          0.9763779527559056,
          0.9763779527559056,
          0.9763779527559056,
          0.9763779527559056,
          0.7401574803149606,
          0.6771653543307087,
          0.984251968503937,
          0.984251968503937,
          0.984251968503937,
          0.984251968503937,
          0.984251968503937,
          0.7322834645669292,
          0.6771653543307087,
          0.9763779527559056,
          0.9763779527559056,
          0.9763779527559056,
          0.9763779527559056,
          0.9763779527559056,
          0.7322834645669292,
          0.6771653543307087,
          0.9763779527559056,
          0.9763779527559056,
          0.9763779527559056,
          0.9763779527559056,
          0.9763779527559056,
          0.7401574803149606,
          0.6771653543307087,
          0.9763779527559056,
          0.984251968503937,
          0.984251968503937,
          0.984251968503937,
          0.9763779527559056,
          0.7322834645669292,
          0.6771653543307087,
          0.9763779527559056,
          0.9763779527559056,
          0.9763779527559056,
          0.9763779527559056,
          0.9763779527559056,
          0.7322834645669292,
          0.6771653543307087,
          0.9763779527559056,
          0.9763779527559056,
          0.9763779527559056,
          0.9763779527559056,
          0.9763779527559056,
          0.7401574803149606,
          0.6771653543307087,
          0.9763779527559056,
          0.9763779527559056,
          0.9763779527559056,
          0.984251968503937,
          0.984251968503937,
          0.7322834645669292,
          0.6771653543307087,
          0.9763779527559056,
          0.9763779527559056,
          0.9763779527559056,
          0.9763779527559056,
          0.9763779527559056,
          0.7401574803149606,
          0.6692913385826772,
          0.9763779527559056,
          0.9763779527559056,
          0.9763779527559056,
          0.9763779527559056,
          0.9763779527559056,
          0.7401574803149606,
          0.6771653543307087,
          0.9763779527559056,
          0.9763779527559056,
          0.9763779527559056,
          0.9763779527559056,
          0.9763779527559056,
          0.7401574803149606,
          0.6771653543307087,
          0.9763779527559056,
          0.9763779527559056,
          0.9763779527559056,
          0.9763779527559056,
          0.9763779527559056,
          0.7401574803149606,
          0.6771653543307087,
          0.9763779527559056,
          0.9763779527559056,
          0.9763779527559056,
          0.9763779527559056,
          0.9763779527559056,
          0.7322834645669292,
          0.6771653543307087,
          0.9763779527559056,
          0.9763779527559056,
          0.9763779527559056,
          0.9763779527559056,
          0.9763779527559056,
          0.7322834645669292,
          0.6771653543307087,
          0.9763779527559056,
          0.9763779527559056,
          0.9763779527559056,
          0.9763779527559056,
          0.9763779527559056,
          0.7401574803149606,
          0.6771653543307087,
          0.9763779527559056,
          0.9763779527559056,
          0.9763779527559056,
          0.9763779527559056,
          0.9763779527559056,
          0.7401574803149606,
          0.6692913385826772,
          0.6771653543307087,
          0.9921259842519685,
          0.9921259842519685,
          0.9921259842519685,
          0.9921259842519685,
          0.7401574803149606,
          0.6771653543307087,
          0.9921259842519685,
          0.9921259842519685,
          0.9921259842519685,
          0.9921259842519685,
          0.9921259842519685,
          0.7401574803149606,
          0.6850393700787402,
          0.9921259842519685,
          0.9921259842519685,
          0.9921259842519685,
          0.9921259842519685,
          0.9921259842519685,
          0.7401574803149606,
          0.6850393700787402,
          0.9921259842519685,
          0.9921259842519685,
          0.9921259842519685,
          0.9921259842519685,
          0.9921259842519685,
          0.7401574803149606,
          0.6850393700787402,
          0.9921259842519685,
          0.9921259842519685,
          0.9921259842519685,
          0.9921259842519685,
          0.9921259842519685,
          0.7401574803149606,
          0.6850393700787402,
          0.9921259842519685,
          0.9921259842519685,
          0.9921259842519685,
          0.6850393700787402,
          0.9921259842519685,
          0.7401574803149606,
          0.6850393700787402,
          0.9921259842519685,
          0.9921259842519685,
          0.9921259842519685,
          0.9921259842519685,
          0.9921259842519685,
          0.7401574803149606,
          0.6850393700787402,
          0.9921259842519685,
          0.9921259842519685,
          0.9921259842519685,
          0.9921259842519685,
          0.9921259842519685,
          0.7322834645669292,
          0.6850393700787402,
          0.9921259842519685,
          0.9921259842519685,
          0.9921259842519685,
          0.9921259842519685,
          0.9921259842519685,
          0.7322834645669292,
          0.6850393700787402,
          0.9921259842519685,
          0.9921259842519685,
          0.9921259842519685,
          0.9921259842519685,
          0.9921259842519685,
          0.7401574803149606,
          0.6850393700787402,
          0.9921259842519685,
          0.9921259842519685,
          0.9921259842519685,
          0.9921259842519685,
          0.9921259842519685,
          0.7401574803149606,
          0.6850393700787402,
          0.9921259842519685,
          0.9921259842519685,
          0.9921259842519685,
          0.9921259842519685,
          0.9921259842519685,
          0.7322834645669292,
          0.6850393700787402,
          0.9921259842519685,
          0.9921259842519685,
          0.9921259842519685,
          0.9921259842519685,
          0.9921259842519685,
          0.7401574803149606,
          0.6771653543307087,
          0.9921259842519685,
          0.9921259842519685,
          0.9921259842519685,
          0.9921259842519685,
          0.9921259842519685,
          0.7401574803149606
         ],
         "yaxis": "y"
        }
       ],
       "layout": {
        "legend": {
         "tracegroupgap": 0
        },
        "margin": {
         "t": 60
        },
        "template": {
         "data": {
          "bar": [
           {
            "error_x": {
             "color": "#2a3f5f"
            },
            "error_y": {
             "color": "#2a3f5f"
            },
            "marker": {
             "line": {
              "color": "#E5ECF6",
              "width": 0.5
             },
             "pattern": {
              "fillmode": "overlay",
              "size": 10,
              "solidity": 0.2
             }
            },
            "type": "bar"
           }
          ],
          "barpolar": [
           {
            "marker": {
             "line": {
              "color": "#E5ECF6",
              "width": 0.5
             },
             "pattern": {
              "fillmode": "overlay",
              "size": 10,
              "solidity": 0.2
             }
            },
            "type": "barpolar"
           }
          ],
          "carpet": [
           {
            "aaxis": {
             "endlinecolor": "#2a3f5f",
             "gridcolor": "white",
             "linecolor": "white",
             "minorgridcolor": "white",
             "startlinecolor": "#2a3f5f"
            },
            "baxis": {
             "endlinecolor": "#2a3f5f",
             "gridcolor": "white",
             "linecolor": "white",
             "minorgridcolor": "white",
             "startlinecolor": "#2a3f5f"
            },
            "type": "carpet"
           }
          ],
          "choropleth": [
           {
            "colorbar": {
             "outlinewidth": 0,
             "ticks": ""
            },
            "type": "choropleth"
           }
          ],
          "contour": [
           {
            "colorbar": {
             "outlinewidth": 0,
             "ticks": ""
            },
            "colorscale": [
             [
              0,
              "#0d0887"
             ],
             [
              0.1111111111111111,
              "#46039f"
             ],
             [
              0.2222222222222222,
              "#7201a8"
             ],
             [
              0.3333333333333333,
              "#9c179e"
             ],
             [
              0.4444444444444444,
              "#bd3786"
             ],
             [
              0.5555555555555556,
              "#d8576b"
             ],
             [
              0.6666666666666666,
              "#ed7953"
             ],
             [
              0.7777777777777778,
              "#fb9f3a"
             ],
             [
              0.8888888888888888,
              "#fdca26"
             ],
             [
              1,
              "#f0f921"
             ]
            ],
            "type": "contour"
           }
          ],
          "contourcarpet": [
           {
            "colorbar": {
             "outlinewidth": 0,
             "ticks": ""
            },
            "type": "contourcarpet"
           }
          ],
          "heatmap": [
           {
            "colorbar": {
             "outlinewidth": 0,
             "ticks": ""
            },
            "colorscale": [
             [
              0,
              "#0d0887"
             ],
             [
              0.1111111111111111,
              "#46039f"
             ],
             [
              0.2222222222222222,
              "#7201a8"
             ],
             [
              0.3333333333333333,
              "#9c179e"
             ],
             [
              0.4444444444444444,
              "#bd3786"
             ],
             [
              0.5555555555555556,
              "#d8576b"
             ],
             [
              0.6666666666666666,
              "#ed7953"
             ],
             [
              0.7777777777777778,
              "#fb9f3a"
             ],
             [
              0.8888888888888888,
              "#fdca26"
             ],
             [
              1,
              "#f0f921"
             ]
            ],
            "type": "heatmap"
           }
          ],
          "heatmapgl": [
           {
            "colorbar": {
             "outlinewidth": 0,
             "ticks": ""
            },
            "colorscale": [
             [
              0,
              "#0d0887"
             ],
             [
              0.1111111111111111,
              "#46039f"
             ],
             [
              0.2222222222222222,
              "#7201a8"
             ],
             [
              0.3333333333333333,
              "#9c179e"
             ],
             [
              0.4444444444444444,
              "#bd3786"
             ],
             [
              0.5555555555555556,
              "#d8576b"
             ],
             [
              0.6666666666666666,
              "#ed7953"
             ],
             [
              0.7777777777777778,
              "#fb9f3a"
             ],
             [
              0.8888888888888888,
              "#fdca26"
             ],
             [
              1,
              "#f0f921"
             ]
            ],
            "type": "heatmapgl"
           }
          ],
          "histogram": [
           {
            "marker": {
             "pattern": {
              "fillmode": "overlay",
              "size": 10,
              "solidity": 0.2
             }
            },
            "type": "histogram"
           }
          ],
          "histogram2d": [
           {
            "colorbar": {
             "outlinewidth": 0,
             "ticks": ""
            },
            "colorscale": [
             [
              0,
              "#0d0887"
             ],
             [
              0.1111111111111111,
              "#46039f"
             ],
             [
              0.2222222222222222,
              "#7201a8"
             ],
             [
              0.3333333333333333,
              "#9c179e"
             ],
             [
              0.4444444444444444,
              "#bd3786"
             ],
             [
              0.5555555555555556,
              "#d8576b"
             ],
             [
              0.6666666666666666,
              "#ed7953"
             ],
             [
              0.7777777777777778,
              "#fb9f3a"
             ],
             [
              0.8888888888888888,
              "#fdca26"
             ],
             [
              1,
              "#f0f921"
             ]
            ],
            "type": "histogram2d"
           }
          ],
          "histogram2dcontour": [
           {
            "colorbar": {
             "outlinewidth": 0,
             "ticks": ""
            },
            "colorscale": [
             [
              0,
              "#0d0887"
             ],
             [
              0.1111111111111111,
              "#46039f"
             ],
             [
              0.2222222222222222,
              "#7201a8"
             ],
             [
              0.3333333333333333,
              "#9c179e"
             ],
             [
              0.4444444444444444,
              "#bd3786"
             ],
             [
              0.5555555555555556,
              "#d8576b"
             ],
             [
              0.6666666666666666,
              "#ed7953"
             ],
             [
              0.7777777777777778,
              "#fb9f3a"
             ],
             [
              0.8888888888888888,
              "#fdca26"
             ],
             [
              1,
              "#f0f921"
             ]
            ],
            "type": "histogram2dcontour"
           }
          ],
          "mesh3d": [
           {
            "colorbar": {
             "outlinewidth": 0,
             "ticks": ""
            },
            "type": "mesh3d"
           }
          ],
          "parcoords": [
           {
            "line": {
             "colorbar": {
              "outlinewidth": 0,
              "ticks": ""
             }
            },
            "type": "parcoords"
           }
          ],
          "pie": [
           {
            "automargin": true,
            "type": "pie"
           }
          ],
          "scatter": [
           {
            "fillpattern": {
             "fillmode": "overlay",
             "size": 10,
             "solidity": 0.2
            },
            "type": "scatter"
           }
          ],
          "scatter3d": [
           {
            "line": {
             "colorbar": {
              "outlinewidth": 0,
              "ticks": ""
             }
            },
            "marker": {
             "colorbar": {
              "outlinewidth": 0,
              "ticks": ""
             }
            },
            "type": "scatter3d"
           }
          ],
          "scattercarpet": [
           {
            "marker": {
             "colorbar": {
              "outlinewidth": 0,
              "ticks": ""
             }
            },
            "type": "scattercarpet"
           }
          ],
          "scattergeo": [
           {
            "marker": {
             "colorbar": {
              "outlinewidth": 0,
              "ticks": ""
             }
            },
            "type": "scattergeo"
           }
          ],
          "scattergl": [
           {
            "marker": {
             "colorbar": {
              "outlinewidth": 0,
              "ticks": ""
             }
            },
            "type": "scattergl"
           }
          ],
          "scattermapbox": [
           {
            "marker": {
             "colorbar": {
              "outlinewidth": 0,
              "ticks": ""
             }
            },
            "type": "scattermapbox"
           }
          ],
          "scatterpolar": [
           {
            "marker": {
             "colorbar": {
              "outlinewidth": 0,
              "ticks": ""
             }
            },
            "type": "scatterpolar"
           }
          ],
          "scatterpolargl": [
           {
            "marker": {
             "colorbar": {
              "outlinewidth": 0,
              "ticks": ""
             }
            },
            "type": "scatterpolargl"
           }
          ],
          "scatterternary": [
           {
            "marker": {
             "colorbar": {
              "outlinewidth": 0,
              "ticks": ""
             }
            },
            "type": "scatterternary"
           }
          ],
          "surface": [
           {
            "colorbar": {
             "outlinewidth": 0,
             "ticks": ""
            },
            "colorscale": [
             [
              0,
              "#0d0887"
             ],
             [
              0.1111111111111111,
              "#46039f"
             ],
             [
              0.2222222222222222,
              "#7201a8"
             ],
             [
              0.3333333333333333,
              "#9c179e"
             ],
             [
              0.4444444444444444,
              "#bd3786"
             ],
             [
              0.5555555555555556,
              "#d8576b"
             ],
             [
              0.6666666666666666,
              "#ed7953"
             ],
             [
              0.7777777777777778,
              "#fb9f3a"
             ],
             [
              0.8888888888888888,
              "#fdca26"
             ],
             [
              1,
              "#f0f921"
             ]
            ],
            "type": "surface"
           }
          ],
          "table": [
           {
            "cells": {
             "fill": {
              "color": "#EBF0F8"
             },
             "line": {
              "color": "white"
             }
            },
            "header": {
             "fill": {
              "color": "#C8D4E3"
             },
             "line": {
              "color": "white"
             }
            },
            "type": "table"
           }
          ]
         },
         "layout": {
          "annotationdefaults": {
           "arrowcolor": "#2a3f5f",
           "arrowhead": 0,
           "arrowwidth": 1
          },
          "autotypenumbers": "strict",
          "coloraxis": {
           "colorbar": {
            "outlinewidth": 0,
            "ticks": ""
           }
          },
          "colorscale": {
           "diverging": [
            [
             0,
             "#8e0152"
            ],
            [
             0.1,
             "#c51b7d"
            ],
            [
             0.2,
             "#de77ae"
            ],
            [
             0.3,
             "#f1b6da"
            ],
            [
             0.4,
             "#fde0ef"
            ],
            [
             0.5,
             "#f7f7f7"
            ],
            [
             0.6,
             "#e6f5d0"
            ],
            [
             0.7,
             "#b8e186"
            ],
            [
             0.8,
             "#7fbc41"
            ],
            [
             0.9,
             "#4d9221"
            ],
            [
             1,
             "#276419"
            ]
           ],
           "sequential": [
            [
             0,
             "#0d0887"
            ],
            [
             0.1111111111111111,
             "#46039f"
            ],
            [
             0.2222222222222222,
             "#7201a8"
            ],
            [
             0.3333333333333333,
             "#9c179e"
            ],
            [
             0.4444444444444444,
             "#bd3786"
            ],
            [
             0.5555555555555556,
             "#d8576b"
            ],
            [
             0.6666666666666666,
             "#ed7953"
            ],
            [
             0.7777777777777778,
             "#fb9f3a"
            ],
            [
             0.8888888888888888,
             "#fdca26"
            ],
            [
             1,
             "#f0f921"
            ]
           ],
           "sequentialminus": [
            [
             0,
             "#0d0887"
            ],
            [
             0.1111111111111111,
             "#46039f"
            ],
            [
             0.2222222222222222,
             "#7201a8"
            ],
            [
             0.3333333333333333,
             "#9c179e"
            ],
            [
             0.4444444444444444,
             "#bd3786"
            ],
            [
             0.5555555555555556,
             "#d8576b"
            ],
            [
             0.6666666666666666,
             "#ed7953"
            ],
            [
             0.7777777777777778,
             "#fb9f3a"
            ],
            [
             0.8888888888888888,
             "#fdca26"
            ],
            [
             1,
             "#f0f921"
            ]
           ]
          },
          "colorway": [
           "#636efa",
           "#EF553B",
           "#00cc96",
           "#ab63fa",
           "#FFA15A",
           "#19d3f3",
           "#FF6692",
           "#B6E880",
           "#FF97FF",
           "#FECB52"
          ],
          "font": {
           "color": "#2a3f5f"
          },
          "geo": {
           "bgcolor": "white",
           "lakecolor": "white",
           "landcolor": "#E5ECF6",
           "showlakes": true,
           "showland": true,
           "subunitcolor": "white"
          },
          "hoverlabel": {
           "align": "left"
          },
          "hovermode": "closest",
          "mapbox": {
           "style": "light"
          },
          "paper_bgcolor": "white",
          "plot_bgcolor": "#E5ECF6",
          "polar": {
           "angularaxis": {
            "gridcolor": "white",
            "linecolor": "white",
            "ticks": ""
           },
           "bgcolor": "#E5ECF6",
           "radialaxis": {
            "gridcolor": "white",
            "linecolor": "white",
            "ticks": ""
           }
          },
          "scene": {
           "xaxis": {
            "backgroundcolor": "#E5ECF6",
            "gridcolor": "white",
            "gridwidth": 2,
            "linecolor": "white",
            "showbackground": true,
            "ticks": "",
            "zerolinecolor": "white"
           },
           "yaxis": {
            "backgroundcolor": "#E5ECF6",
            "gridcolor": "white",
            "gridwidth": 2,
            "linecolor": "white",
            "showbackground": true,
            "ticks": "",
            "zerolinecolor": "white"
           },
           "zaxis": {
            "backgroundcolor": "#E5ECF6",
            "gridcolor": "white",
            "gridwidth": 2,
            "linecolor": "white",
            "showbackground": true,
            "ticks": "",
            "zerolinecolor": "white"
           }
          },
          "shapedefaults": {
           "line": {
            "color": "#2a3f5f"
           }
          },
          "ternary": {
           "aaxis": {
            "gridcolor": "white",
            "linecolor": "white",
            "ticks": ""
           },
           "baxis": {
            "gridcolor": "white",
            "linecolor": "white",
            "ticks": ""
           },
           "bgcolor": "#E5ECF6",
           "caxis": {
            "gridcolor": "white",
            "linecolor": "white",
            "ticks": ""
           }
          },
          "title": {
           "x": 0.05
          },
          "xaxis": {
           "automargin": true,
           "gridcolor": "white",
           "linecolor": "white",
           "ticks": "",
           "title": {
            "standoff": 15
           },
           "zerolinecolor": "white",
           "zerolinewidth": 2
          },
          "yaxis": {
           "automargin": true,
           "gridcolor": "white",
           "linecolor": "white",
           "ticks": "",
           "title": {
            "standoff": 15
           },
           "zerolinecolor": "white",
           "zerolinewidth": 2
          }
         }
        },
        "xaxis": {
         "anchor": "y",
         "domain": [
          0,
          1
         ],
         "title": {
          "text": "date"
         }
        },
        "yaxis": {
         "anchor": "x",
         "domain": [
          0,
          1
         ],
         "title": {
          "text": "completeness"
         }
        }
       }
      }
     },
     "metadata": {},
     "output_type": "display_data"
    }
   ],
   "source": [
    "plot_data = bus_rides.groupby('date')['route'].nunique().rename('completeness') / bus_rides['route'].nunique()\n",
    "px.line(plot_data.reset_index(), x='date', y='completeness')\n",
    "# Three things mess with the panel:\n",
    "#  - some routes operate every day and some only on weekdays\n",
    "#  - a small number of routes are added/removed from service over time\n",
    "#  - the panel never records 0 ridership days so those migth be implied"
   ]
  },
  {
   "cell_type": "markdown",
   "metadata": {},
   "source": [
    "### Uber"
   ]
  },
  {
   "cell_type": "code",
   "execution_count": 23,
   "metadata": {},
   "outputs": [
    {
     "data": {
      "text/plain": [
       "count    1295.000000\n",
       "mean        0.798231\n",
       "std         0.335229\n",
       "min         0.000000\n",
       "25%         0.725806\n",
       "50%         1.000000\n",
       "75%         1.000000\n",
       "max         1.000000\n",
       "Name: date, dtype: float64"
      ]
     },
     "execution_count": 23,
     "metadata": {},
     "output_type": "execute_result"
    }
   ],
   "source": [
    "compliance = uber_rides.groupby('tract')['date'].agg(lambda x: sum([d in x.values for d in dates]))\n",
    "compliance = compliance / len(dates)\n",
    "compliance.describe()\n",
    "# We have a 50% panel of ridership for uber tracts\n"
   ]
  },
  {
   "cell_type": "code",
   "execution_count": 24,
   "metadata": {},
   "outputs": [
    {
     "data": {
      "application/vnd.plotly.v1+json": {
       "config": {
        "plotlyServerURL": "https://plot.ly"
       },
       "data": [
        {
         "hovertemplate": "date=%{x}<br>completeness=%{y}<extra></extra>",
         "legendgroup": "",
         "line": {
          "color": "#636efa",
          "dash": "solid"
         },
         "marker": {
          "symbol": "circle"
         },
         "mode": "lines",
         "name": "",
         "orientation": "v",
         "showlegend": false,
         "type": "scatter",
         "x": [
          "2024-01-01",
          "2024-01-02",
          "2024-01-03",
          "2024-01-04",
          "2024-01-05",
          "2024-01-06",
          "2024-01-07",
          "2024-01-08",
          "2024-01-09",
          "2024-01-10",
          "2024-01-11",
          "2024-01-12",
          "2024-01-13",
          "2024-01-14",
          "2024-01-15",
          "2024-01-16",
          "2024-01-17",
          "2024-01-18",
          "2024-01-19",
          "2024-01-20",
          "2024-01-21",
          "2024-01-22",
          "2024-01-23",
          "2024-01-24",
          "2024-01-25",
          "2024-01-26",
          "2024-01-27",
          "2024-01-28",
          "2024-01-29",
          "2024-01-30",
          "2024-01-31",
          "2024-02-01",
          "2024-02-02",
          "2024-02-03",
          "2024-02-04",
          "2024-02-05",
          "2024-02-06",
          "2024-02-07",
          "2024-02-08",
          "2024-02-09",
          "2024-02-10",
          "2024-02-11",
          "2024-02-12",
          "2024-02-13",
          "2024-02-14",
          "2024-02-15",
          "2024-02-16",
          "2024-02-17",
          "2024-02-18",
          "2024-02-19",
          "2024-02-20",
          "2024-02-21",
          "2024-02-22",
          "2024-02-23",
          "2024-02-24",
          "2024-02-25",
          "2024-02-26",
          "2024-02-27",
          "2024-02-28",
          "2024-02-29",
          "2024-03-01",
          "2024-03-02",
          "2024-03-03",
          "2024-03-04",
          "2024-03-05",
          "2024-03-06",
          "2024-03-07",
          "2024-03-08",
          "2024-03-09",
          "2024-03-10",
          "2024-03-11",
          "2024-03-12",
          "2024-03-13",
          "2024-03-14",
          "2024-03-15",
          "2024-03-16",
          "2024-03-17",
          "2024-03-18",
          "2024-03-19",
          "2024-03-20",
          "2024-03-21",
          "2024-03-22",
          "2024-03-23",
          "2024-03-24",
          "2024-03-25",
          "2024-03-26",
          "2024-03-27",
          "2024-03-28",
          "2024-03-29",
          "2024-03-30",
          "2024-03-31",
          "2024-04-01",
          "2024-04-02",
          "2024-04-03",
          "2024-04-04",
          "2024-04-05",
          "2024-04-06",
          "2024-04-07",
          "2024-04-08",
          "2024-04-09",
          "2024-04-10",
          "2024-04-11",
          "2024-04-12",
          "2024-04-13",
          "2024-04-14",
          "2024-04-15",
          "2024-04-16",
          "2024-04-17",
          "2024-04-18",
          "2024-04-19",
          "2024-04-20",
          "2024-04-21",
          "2024-04-22",
          "2024-04-23",
          "2024-04-24",
          "2024-04-25",
          "2024-04-26",
          "2024-04-27",
          "2024-04-28",
          "2024-04-29",
          "2024-04-30",
          "2024-05-01",
          "2024-05-02",
          "2024-05-03",
          "2024-05-04",
          "2024-05-05",
          "2024-05-06",
          "2024-05-07",
          "2024-05-08",
          "2024-05-09",
          "2024-05-10",
          "2024-05-11",
          "2024-05-12",
          "2024-05-13",
          "2024-05-14",
          "2024-05-15",
          "2024-05-16",
          "2024-05-17",
          "2024-05-18",
          "2024-05-19",
          "2024-05-20",
          "2024-05-21",
          "2024-05-22",
          "2024-05-23",
          "2024-05-24",
          "2024-05-25",
          "2024-05-26",
          "2024-05-27",
          "2024-05-28",
          "2024-05-29",
          "2024-05-30",
          "2024-05-31",
          "2024-06-01",
          "2024-06-02",
          "2024-06-03",
          "2024-06-04",
          "2024-06-05",
          "2024-06-06",
          "2024-06-07",
          "2024-06-08",
          "2024-06-09",
          "2024-06-10",
          "2024-06-11",
          "2024-06-12",
          "2024-06-13",
          "2024-06-14",
          "2024-06-15",
          "2024-06-16",
          "2024-06-17",
          "2024-06-18",
          "2024-06-19",
          "2024-06-20",
          "2024-06-21",
          "2024-06-22",
          "2024-06-23",
          "2024-06-24",
          "2024-06-25",
          "2024-06-26",
          "2024-06-27",
          "2024-06-28",
          "2024-06-29",
          "2024-06-30",
          "2024-07-01",
          "2024-07-02",
          "2024-07-03",
          "2024-07-04",
          "2024-07-05",
          "2024-07-06",
          "2024-07-07",
          "2024-07-08",
          "2024-07-09",
          "2024-07-10",
          "2024-07-11",
          "2024-07-12",
          "2024-07-13",
          "2024-07-14",
          "2024-07-15",
          "2024-07-16",
          "2024-07-17",
          "2024-07-18",
          "2024-07-19",
          "2024-07-20",
          "2024-07-21",
          "2024-07-22",
          "2024-07-23",
          "2024-07-24",
          "2024-07-25",
          "2024-07-26",
          "2024-07-27",
          "2024-07-28",
          "2024-07-29",
          "2024-07-30",
          "2024-07-31",
          "2024-08-01",
          "2024-08-02",
          "2024-08-03",
          "2024-08-04",
          "2024-08-05",
          "2024-08-06",
          "2024-08-07",
          "2024-08-08",
          "2024-08-09",
          "2024-08-10",
          "2024-08-11",
          "2024-08-12",
          "2024-08-13",
          "2024-08-14",
          "2024-08-15",
          "2024-08-16",
          "2024-08-17",
          "2024-08-18",
          "2024-08-19",
          "2024-08-20",
          "2024-08-21",
          "2024-08-22",
          "2024-08-23",
          "2024-08-24",
          "2024-08-25",
          "2024-08-26",
          "2024-08-27",
          "2024-08-28",
          "2024-08-29",
          "2024-08-30",
          "2024-08-31"
         ],
         "xaxis": "x",
         "y": [
          0.7598455598455598,
          0.7181467181467182,
          0.7258687258687259,
          0.7312741312741313,
          0.7714285714285715,
          0.7420849420849421,
          0.7305019305019305,
          0.7644787644787645,
          0.7505791505791506,
          0.772972972972973,
          0.7891891891891892,
          0.7374517374517374,
          0.766023166023166,
          0.7420849420849421,
          0.7158301158301158,
          0.7675675675675676,
          0.7822393822393823,
          0.759073359073359,
          0.8038610038610039,
          0.7544401544401544,
          0.7428571428571429,
          0.7652509652509653,
          0.7498069498069498,
          0.7637065637065638,
          0.8023166023166023,
          0.7930501930501931,
          0.7938223938223938,
          0.745945945945946,
          0.7305019305019305,
          0.7328185328185328,
          0.7544401544401544,
          0.7930501930501931,
          0.8,
          0.7876447876447876,
          0.7521235521235521,
          0.7822393822393823,
          0.7621621621621621,
          0.752895752895753,
          0.7992277992277992,
          0.8,
          0.7922779922779922,
          0.7629343629343629,
          0.7745173745173746,
          0.745945945945946,
          0.7806949806949807,
          0.7652509652509653,
          0.7752895752895753,
          0.7706563706563706,
          0.7575289575289575,
          0.7544401544401544,
          0.7436293436293436,
          0.7652509652509653,
          0.7752895752895753,
          0.7861003861003861,
          0.783011583011583,
          0.7552123552123552,
          0.7976833976833977,
          0.7845559845559845,
          0.7799227799227799,
          0.8193050193050193,
          0.78996138996139,
          0.8239382239382239,
          0.7467181467181467,
          0.7567567567567568,
          0.7853281853281854,
          0.8,
          0.8054054054054054,
          0.8162162162162162,
          0.8046332046332046,
          0.7768339768339768,
          0.7583011583011583,
          0.749034749034749,
          0.7644787644787645,
          0.7984555984555984,
          0.8332046332046332,
          0.8185328185328186,
          0.7961389961389962,
          0.7606177606177607,
          0.7722007722007722,
          0.7613899613899614,
          0.8007722007722008,
          0.7907335907335907,
          0.803088803088803,
          0.7714285714285715,
          0.7513513513513513,
          0.7567567567567568,
          0.7667953667953668,
          0.7667953667953668,
          0.7799227799227799,
          0.7768339768339768,
          0.7752895752895753,
          0.78996138996139,
          0.7776061776061776,
          0.7814671814671814,
          0.7930501930501931,
          0.8084942084942085,
          0.8023166023166023,
          0.7575289575289575,
          0.7752895752895753,
          0.7853281853281854,
          0.7745173745173746,
          0.7984555984555984,
          0.8115830115830116,
          0.7945945945945946,
          0.7837837837837838,
          0.7876447876447876,
          0.7737451737451737,
          0.7992277992277992,
          0.803088803088803,
          0.8138996138996138,
          0.7976833976833977,
          0.7722007722007722,
          0.7891891891891892,
          0.7868725868725869,
          0.7915057915057915,
          0.8115830115830116,
          0.8084942084942085,
          0.7992277992277992,
          0.7791505791505792,
          0.7845559845559845,
          0.7915057915057915,
          0.7953667953667953,
          0.7891891891891892,
          0.803088803088803,
          0.8154440154440155,
          0.7745173745173746,
          0.7868725868725869,
          0.7791505791505792,
          0.7984555984555984,
          0.806949806949807,
          0.8216216216216217,
          0.8084942084942085,
          0.7853281853281854,
          0.7876447876447876,
          0.7837837837837838,
          0.7984555984555984,
          0.8154440154440155,
          0.8285714285714286,
          0.8293436293436294,
          0.7915057915057915,
          0.7884169884169884,
          0.7868725868725869,
          0.7969111969111969,
          0.81003861003861,
          0.8293436293436294,
          0.81003861003861,
          0.7845559845559845,
          0.7397683397683398,
          0.783011583011583,
          0.7714285714285715,
          0.7953667953667953,
          0.8185328185328186,
          0.8077220077220078,
          0.7969111969111969,
          0.8,
          0.7822393822393823,
          0.7961389961389962,
          0.806949806949807,
          0.8239382239382239,
          0.8216216216216217,
          0.7876447876447876,
          0.7722007722007722,
          0.7722007722007722,
          0.8,
          0.8115830115830116,
          0.8108108108108109,
          0.8200772200772201,
          0.7884169884169884,
          0.7814671814671814,
          0.783011583011583,
          0.7691119691119691,
          0.7976833976833977,
          0.81003861003861,
          0.8185328185328186,
          0.7845559845559845,
          0.7891891891891892,
          0.7776061776061776,
          0.7884169884169884,
          0.806949806949807,
          0.8092664092664092,
          0.8177606177606178,
          0.7938223938223938,
          0.7691119691119691,
          0.7652509652509653,
          0.8007722007722008,
          0.7884169884169884,
          0.803088803088803,
          0.7961389961389962,
          0.7536679536679537,
          0.7791505791505792,
          0.7675675675675676,
          0.7876447876447876,
          0.8054054054054054,
          0.8115830115830116,
          0.8208494208494208,
          0.7992277992277992,
          0.7938223938223938,
          0.78996138996139,
          0.7930501930501931,
          0.81003861003861,
          0.833976833976834,
          0.8231660231660232,
          0.7922779922779922,
          0.7884169884169884,
          0.78996138996139,
          0.7945945945945946,
          0.806949806949807,
          0.8162162162162162,
          0.8277992277992278,
          0.7768339768339768,
          0.772972972972973,
          0.7884169884169884,
          0.7930501930501931,
          0.8092664092664092,
          0.8324324324324325,
          0.8332046332046332,
          0.8084942084942085,
          0.7776061776061776,
          0.7845559845559845,
          0.7938223938223938,
          0.7976833976833977,
          0.8277992277992278,
          0.827027027027027,
          0.7969111969111969,
          0.78996138996139,
          0.7837837837837838,
          0.7891891891891892,
          0.8007722007722008,
          0.8154440154440155,
          0.8154440154440155,
          0.78996138996139,
          0.8,
          0.7629343629343629,
          0.7837837837837838,
          0.803088803088803,
          0.8131274131274131,
          0.8123552123552124,
          0.7915057915057915,
          0.783011583011583,
          0.7853281853281854,
          0.8054054054054054,
          0.7984555984555984,
          0.8378378378378378,
          0.8007722007722008
         ],
         "yaxis": "y"
        }
       ],
       "layout": {
        "legend": {
         "tracegroupgap": 0
        },
        "margin": {
         "t": 60
        },
        "template": {
         "data": {
          "bar": [
           {
            "error_x": {
             "color": "#2a3f5f"
            },
            "error_y": {
             "color": "#2a3f5f"
            },
            "marker": {
             "line": {
              "color": "#E5ECF6",
              "width": 0.5
             },
             "pattern": {
              "fillmode": "overlay",
              "size": 10,
              "solidity": 0.2
             }
            },
            "type": "bar"
           }
          ],
          "barpolar": [
           {
            "marker": {
             "line": {
              "color": "#E5ECF6",
              "width": 0.5
             },
             "pattern": {
              "fillmode": "overlay",
              "size": 10,
              "solidity": 0.2
             }
            },
            "type": "barpolar"
           }
          ],
          "carpet": [
           {
            "aaxis": {
             "endlinecolor": "#2a3f5f",
             "gridcolor": "white",
             "linecolor": "white",
             "minorgridcolor": "white",
             "startlinecolor": "#2a3f5f"
            },
            "baxis": {
             "endlinecolor": "#2a3f5f",
             "gridcolor": "white",
             "linecolor": "white",
             "minorgridcolor": "white",
             "startlinecolor": "#2a3f5f"
            },
            "type": "carpet"
           }
          ],
          "choropleth": [
           {
            "colorbar": {
             "outlinewidth": 0,
             "ticks": ""
            },
            "type": "choropleth"
           }
          ],
          "contour": [
           {
            "colorbar": {
             "outlinewidth": 0,
             "ticks": ""
            },
            "colorscale": [
             [
              0,
              "#0d0887"
             ],
             [
              0.1111111111111111,
              "#46039f"
             ],
             [
              0.2222222222222222,
              "#7201a8"
             ],
             [
              0.3333333333333333,
              "#9c179e"
             ],
             [
              0.4444444444444444,
              "#bd3786"
             ],
             [
              0.5555555555555556,
              "#d8576b"
             ],
             [
              0.6666666666666666,
              "#ed7953"
             ],
             [
              0.7777777777777778,
              "#fb9f3a"
             ],
             [
              0.8888888888888888,
              "#fdca26"
             ],
             [
              1,
              "#f0f921"
             ]
            ],
            "type": "contour"
           }
          ],
          "contourcarpet": [
           {
            "colorbar": {
             "outlinewidth": 0,
             "ticks": ""
            },
            "type": "contourcarpet"
           }
          ],
          "heatmap": [
           {
            "colorbar": {
             "outlinewidth": 0,
             "ticks": ""
            },
            "colorscale": [
             [
              0,
              "#0d0887"
             ],
             [
              0.1111111111111111,
              "#46039f"
             ],
             [
              0.2222222222222222,
              "#7201a8"
             ],
             [
              0.3333333333333333,
              "#9c179e"
             ],
             [
              0.4444444444444444,
              "#bd3786"
             ],
             [
              0.5555555555555556,
              "#d8576b"
             ],
             [
              0.6666666666666666,
              "#ed7953"
             ],
             [
              0.7777777777777778,
              "#fb9f3a"
             ],
             [
              0.8888888888888888,
              "#fdca26"
             ],
             [
              1,
              "#f0f921"
             ]
            ],
            "type": "heatmap"
           }
          ],
          "heatmapgl": [
           {
            "colorbar": {
             "outlinewidth": 0,
             "ticks": ""
            },
            "colorscale": [
             [
              0,
              "#0d0887"
             ],
             [
              0.1111111111111111,
              "#46039f"
             ],
             [
              0.2222222222222222,
              "#7201a8"
             ],
             [
              0.3333333333333333,
              "#9c179e"
             ],
             [
              0.4444444444444444,
              "#bd3786"
             ],
             [
              0.5555555555555556,
              "#d8576b"
             ],
             [
              0.6666666666666666,
              "#ed7953"
             ],
             [
              0.7777777777777778,
              "#fb9f3a"
             ],
             [
              0.8888888888888888,
              "#fdca26"
             ],
             [
              1,
              "#f0f921"
             ]
            ],
            "type": "heatmapgl"
           }
          ],
          "histogram": [
           {
            "marker": {
             "pattern": {
              "fillmode": "overlay",
              "size": 10,
              "solidity": 0.2
             }
            },
            "type": "histogram"
           }
          ],
          "histogram2d": [
           {
            "colorbar": {
             "outlinewidth": 0,
             "ticks": ""
            },
            "colorscale": [
             [
              0,
              "#0d0887"
             ],
             [
              0.1111111111111111,
              "#46039f"
             ],
             [
              0.2222222222222222,
              "#7201a8"
             ],
             [
              0.3333333333333333,
              "#9c179e"
             ],
             [
              0.4444444444444444,
              "#bd3786"
             ],
             [
              0.5555555555555556,
              "#d8576b"
             ],
             [
              0.6666666666666666,
              "#ed7953"
             ],
             [
              0.7777777777777778,
              "#fb9f3a"
             ],
             [
              0.8888888888888888,
              "#fdca26"
             ],
             [
              1,
              "#f0f921"
             ]
            ],
            "type": "histogram2d"
           }
          ],
          "histogram2dcontour": [
           {
            "colorbar": {
             "outlinewidth": 0,
             "ticks": ""
            },
            "colorscale": [
             [
              0,
              "#0d0887"
             ],
             [
              0.1111111111111111,
              "#46039f"
             ],
             [
              0.2222222222222222,
              "#7201a8"
             ],
             [
              0.3333333333333333,
              "#9c179e"
             ],
             [
              0.4444444444444444,
              "#bd3786"
             ],
             [
              0.5555555555555556,
              "#d8576b"
             ],
             [
              0.6666666666666666,
              "#ed7953"
             ],
             [
              0.7777777777777778,
              "#fb9f3a"
             ],
             [
              0.8888888888888888,
              "#fdca26"
             ],
             [
              1,
              "#f0f921"
             ]
            ],
            "type": "histogram2dcontour"
           }
          ],
          "mesh3d": [
           {
            "colorbar": {
             "outlinewidth": 0,
             "ticks": ""
            },
            "type": "mesh3d"
           }
          ],
          "parcoords": [
           {
            "line": {
             "colorbar": {
              "outlinewidth": 0,
              "ticks": ""
             }
            },
            "type": "parcoords"
           }
          ],
          "pie": [
           {
            "automargin": true,
            "type": "pie"
           }
          ],
          "scatter": [
           {
            "fillpattern": {
             "fillmode": "overlay",
             "size": 10,
             "solidity": 0.2
            },
            "type": "scatter"
           }
          ],
          "scatter3d": [
           {
            "line": {
             "colorbar": {
              "outlinewidth": 0,
              "ticks": ""
             }
            },
            "marker": {
             "colorbar": {
              "outlinewidth": 0,
              "ticks": ""
             }
            },
            "type": "scatter3d"
           }
          ],
          "scattercarpet": [
           {
            "marker": {
             "colorbar": {
              "outlinewidth": 0,
              "ticks": ""
             }
            },
            "type": "scattercarpet"
           }
          ],
          "scattergeo": [
           {
            "marker": {
             "colorbar": {
              "outlinewidth": 0,
              "ticks": ""
             }
            },
            "type": "scattergeo"
           }
          ],
          "scattergl": [
           {
            "marker": {
             "colorbar": {
              "outlinewidth": 0,
              "ticks": ""
             }
            },
            "type": "scattergl"
           }
          ],
          "scattermapbox": [
           {
            "marker": {
             "colorbar": {
              "outlinewidth": 0,
              "ticks": ""
             }
            },
            "type": "scattermapbox"
           }
          ],
          "scatterpolar": [
           {
            "marker": {
             "colorbar": {
              "outlinewidth": 0,
              "ticks": ""
             }
            },
            "type": "scatterpolar"
           }
          ],
          "scatterpolargl": [
           {
            "marker": {
             "colorbar": {
              "outlinewidth": 0,
              "ticks": ""
             }
            },
            "type": "scatterpolargl"
           }
          ],
          "scatterternary": [
           {
            "marker": {
             "colorbar": {
              "outlinewidth": 0,
              "ticks": ""
             }
            },
            "type": "scatterternary"
           }
          ],
          "surface": [
           {
            "colorbar": {
             "outlinewidth": 0,
             "ticks": ""
            },
            "colorscale": [
             [
              0,
              "#0d0887"
             ],
             [
              0.1111111111111111,
              "#46039f"
             ],
             [
              0.2222222222222222,
              "#7201a8"
             ],
             [
              0.3333333333333333,
              "#9c179e"
             ],
             [
              0.4444444444444444,
              "#bd3786"
             ],
             [
              0.5555555555555556,
              "#d8576b"
             ],
             [
              0.6666666666666666,
              "#ed7953"
             ],
             [
              0.7777777777777778,
              "#fb9f3a"
             ],
             [
              0.8888888888888888,
              "#fdca26"
             ],
             [
              1,
              "#f0f921"
             ]
            ],
            "type": "surface"
           }
          ],
          "table": [
           {
            "cells": {
             "fill": {
              "color": "#EBF0F8"
             },
             "line": {
              "color": "white"
             }
            },
            "header": {
             "fill": {
              "color": "#C8D4E3"
             },
             "line": {
              "color": "white"
             }
            },
            "type": "table"
           }
          ]
         },
         "layout": {
          "annotationdefaults": {
           "arrowcolor": "#2a3f5f",
           "arrowhead": 0,
           "arrowwidth": 1
          },
          "autotypenumbers": "strict",
          "coloraxis": {
           "colorbar": {
            "outlinewidth": 0,
            "ticks": ""
           }
          },
          "colorscale": {
           "diverging": [
            [
             0,
             "#8e0152"
            ],
            [
             0.1,
             "#c51b7d"
            ],
            [
             0.2,
             "#de77ae"
            ],
            [
             0.3,
             "#f1b6da"
            ],
            [
             0.4,
             "#fde0ef"
            ],
            [
             0.5,
             "#f7f7f7"
            ],
            [
             0.6,
             "#e6f5d0"
            ],
            [
             0.7,
             "#b8e186"
            ],
            [
             0.8,
             "#7fbc41"
            ],
            [
             0.9,
             "#4d9221"
            ],
            [
             1,
             "#276419"
            ]
           ],
           "sequential": [
            [
             0,
             "#0d0887"
            ],
            [
             0.1111111111111111,
             "#46039f"
            ],
            [
             0.2222222222222222,
             "#7201a8"
            ],
            [
             0.3333333333333333,
             "#9c179e"
            ],
            [
             0.4444444444444444,
             "#bd3786"
            ],
            [
             0.5555555555555556,
             "#d8576b"
            ],
            [
             0.6666666666666666,
             "#ed7953"
            ],
            [
             0.7777777777777778,
             "#fb9f3a"
            ],
            [
             0.8888888888888888,
             "#fdca26"
            ],
            [
             1,
             "#f0f921"
            ]
           ],
           "sequentialminus": [
            [
             0,
             "#0d0887"
            ],
            [
             0.1111111111111111,
             "#46039f"
            ],
            [
             0.2222222222222222,
             "#7201a8"
            ],
            [
             0.3333333333333333,
             "#9c179e"
            ],
            [
             0.4444444444444444,
             "#bd3786"
            ],
            [
             0.5555555555555556,
             "#d8576b"
            ],
            [
             0.6666666666666666,
             "#ed7953"
            ],
            [
             0.7777777777777778,
             "#fb9f3a"
            ],
            [
             0.8888888888888888,
             "#fdca26"
            ],
            [
             1,
             "#f0f921"
            ]
           ]
          },
          "colorway": [
           "#636efa",
           "#EF553B",
           "#00cc96",
           "#ab63fa",
           "#FFA15A",
           "#19d3f3",
           "#FF6692",
           "#B6E880",
           "#FF97FF",
           "#FECB52"
          ],
          "font": {
           "color": "#2a3f5f"
          },
          "geo": {
           "bgcolor": "white",
           "lakecolor": "white",
           "landcolor": "#E5ECF6",
           "showlakes": true,
           "showland": true,
           "subunitcolor": "white"
          },
          "hoverlabel": {
           "align": "left"
          },
          "hovermode": "closest",
          "mapbox": {
           "style": "light"
          },
          "paper_bgcolor": "white",
          "plot_bgcolor": "#E5ECF6",
          "polar": {
           "angularaxis": {
            "gridcolor": "white",
            "linecolor": "white",
            "ticks": ""
           },
           "bgcolor": "#E5ECF6",
           "radialaxis": {
            "gridcolor": "white",
            "linecolor": "white",
            "ticks": ""
           }
          },
          "scene": {
           "xaxis": {
            "backgroundcolor": "#E5ECF6",
            "gridcolor": "white",
            "gridwidth": 2,
            "linecolor": "white",
            "showbackground": true,
            "ticks": "",
            "zerolinecolor": "white"
           },
           "yaxis": {
            "backgroundcolor": "#E5ECF6",
            "gridcolor": "white",
            "gridwidth": 2,
            "linecolor": "white",
            "showbackground": true,
            "ticks": "",
            "zerolinecolor": "white"
           },
           "zaxis": {
            "backgroundcolor": "#E5ECF6",
            "gridcolor": "white",
            "gridwidth": 2,
            "linecolor": "white",
            "showbackground": true,
            "ticks": "",
            "zerolinecolor": "white"
           }
          },
          "shapedefaults": {
           "line": {
            "color": "#2a3f5f"
           }
          },
          "ternary": {
           "aaxis": {
            "gridcolor": "white",
            "linecolor": "white",
            "ticks": ""
           },
           "baxis": {
            "gridcolor": "white",
            "linecolor": "white",
            "ticks": ""
           },
           "bgcolor": "#E5ECF6",
           "caxis": {
            "gridcolor": "white",
            "linecolor": "white",
            "ticks": ""
           }
          },
          "title": {
           "x": 0.05
          },
          "xaxis": {
           "automargin": true,
           "gridcolor": "white",
           "linecolor": "white",
           "ticks": "",
           "title": {
            "standoff": 15
           },
           "zerolinecolor": "white",
           "zerolinewidth": 2
          },
          "yaxis": {
           "automargin": true,
           "gridcolor": "white",
           "linecolor": "white",
           "ticks": "",
           "title": {
            "standoff": 15
           },
           "zerolinecolor": "white",
           "zerolinewidth": 2
          }
         }
        },
        "xaxis": {
         "anchor": "y",
         "domain": [
          0,
          1
         ],
         "title": {
          "text": "date"
         }
        },
        "yaxis": {
         "anchor": "x",
         "domain": [
          0,
          1
         ],
         "title": {
          "text": "completeness"
         }
        }
       }
      }
     },
     "metadata": {},
     "output_type": "display_data"
    }
   ],
   "source": [
    "plot_data = uber_rides.groupby('date')['tract'].nunique().rename('completeness') / uber_rides['tract'].nunique()\n",
    "px.line(plot_data.reset_index(), x='date', y='completeness')\n",
    "# I think two things mess with the panel:\n",
    "#   - we know that ridership is much higher on weekends than weekdays\n",
    "#   - people go to certain tracts dichotomously on weekends vs weekdays\n",
    "#   - the panel doesn't display 0 ridership days so these might be implied\n",
    "#   - the panel anonymizes low ridership days to community area level so \n",
    "#     as far as we are ignoring those we are treating them as 0 ridership too.\n",
    "# The mean completeness probably saturates over time due to market forces."
   ]
  },
  {
   "cell_type": "markdown",
   "metadata": {},
   "source": [
    "### Bike"
   ]
  },
  {
   "cell_type": "code",
   "execution_count": 25,
   "metadata": {},
   "outputs": [
    {
     "data": {
      "text/plain": [
       "count    1653.000000\n",
       "mean        0.499336\n",
       "std         0.416734\n",
       "min         0.000000\n",
       "25%         0.064516\n",
       "50%         0.419355\n",
       "75%         1.000000\n",
       "max         1.000000\n",
       "Name: date, dtype: float64"
      ]
     },
     "execution_count": 25,
     "metadata": {},
     "output_type": "execute_result"
    }
   ],
   "source": [
    "compliance = bike_rides.groupby(['station_name'])['date'].agg(lambda x: len(set(x) & dates))\n",
    "compliance = compliance / len(dates)\n",
    "compliance.describe()\n",
    "# We have a 75% panel of ridership for bike stations"
   ]
  },
  {
   "cell_type": "code",
   "execution_count": 26,
   "metadata": {},
   "outputs": [
    {
     "data": {
      "application/vnd.plotly.v1+json": {
       "config": {
        "plotlyServerURL": "https://plot.ly"
       },
       "data": [
        {
         "hovertemplate": "date=%{x}<br>completeness=%{y}<extra></extra>",
         "legendgroup": "",
         "line": {
          "color": "#636efa",
          "dash": "solid"
         },
         "marker": {
          "symbol": "circle"
         },
         "mode": "lines",
         "name": "",
         "orientation": "v",
         "showlegend": false,
         "type": "scatter",
         "x": [
          "2024-01-01",
          "2024-01-02",
          "2024-01-03",
          "2024-01-04",
          "2024-01-05",
          "2024-01-06",
          "2024-01-07",
          "2024-01-08",
          "2024-01-09",
          "2024-01-10",
          "2024-01-11",
          "2024-01-12",
          "2024-01-13",
          "2024-01-14",
          "2024-01-15",
          "2024-01-16",
          "2024-01-17",
          "2024-01-18",
          "2024-01-19",
          "2024-01-20",
          "2024-01-21",
          "2024-01-22",
          "2024-01-23",
          "2024-01-24",
          "2024-01-25",
          "2024-01-26",
          "2024-01-27",
          "2024-01-28",
          "2024-01-29",
          "2024-01-30",
          "2024-01-31",
          "2024-02-01",
          "2024-02-02",
          "2024-02-03",
          "2024-02-04",
          "2024-02-05",
          "2024-02-06",
          "2024-02-07",
          "2024-02-08",
          "2024-02-09",
          "2024-02-10",
          "2024-02-11",
          "2024-02-12",
          "2024-02-13",
          "2024-02-14",
          "2024-02-15",
          "2024-02-16",
          "2024-02-17",
          "2024-02-18",
          "2024-02-19",
          "2024-02-20",
          "2024-02-21",
          "2024-02-22",
          "2024-02-23",
          "2024-02-24",
          "2024-02-25",
          "2024-02-26",
          "2024-02-27",
          "2024-02-28",
          "2024-02-29",
          "2024-03-01",
          "2024-03-02",
          "2024-03-03",
          "2024-03-04",
          "2024-03-05",
          "2024-03-06",
          "2024-03-07",
          "2024-03-08",
          "2024-03-09",
          "2024-03-10",
          "2024-03-11",
          "2024-03-12",
          "2024-03-13",
          "2024-03-14",
          "2024-03-15",
          "2024-03-16",
          "2024-03-17",
          "2024-03-18",
          "2024-03-19",
          "2024-03-20",
          "2024-03-21",
          "2024-03-22",
          "2024-03-23",
          "2024-03-24",
          "2024-03-25",
          "2024-03-26",
          "2024-03-27",
          "2024-03-28",
          "2024-03-29",
          "2024-03-30",
          "2024-03-31",
          "2024-04-01",
          "2024-04-02",
          "2024-04-03",
          "2024-04-04",
          "2024-04-05",
          "2024-04-06",
          "2024-04-07",
          "2024-04-08",
          "2024-04-09",
          "2024-04-10",
          "2024-04-11",
          "2024-04-12",
          "2024-04-13",
          "2024-04-14",
          "2024-04-15",
          "2024-04-16",
          "2024-04-17",
          "2024-04-18",
          "2024-04-19",
          "2024-04-20",
          "2024-04-21",
          "2024-04-22",
          "2024-04-23",
          "2024-04-24",
          "2024-04-25",
          "2024-04-26",
          "2024-04-27",
          "2024-04-28",
          "2024-04-29",
          "2024-04-30",
          "2024-05-01",
          "2024-05-02",
          "2024-05-03",
          "2024-05-04",
          "2024-05-05",
          "2024-05-06",
          "2024-05-07",
          "2024-05-08",
          "2024-05-09",
          "2024-05-10",
          "2024-05-11",
          "2024-05-12",
          "2024-05-13",
          "2024-05-14",
          "2024-05-15",
          "2024-05-16",
          "2024-05-17",
          "2024-05-18",
          "2024-05-19",
          "2024-05-20",
          "2024-05-21",
          "2024-05-22",
          "2024-05-23",
          "2024-05-24",
          "2024-05-25",
          "2024-05-26",
          "2024-05-27",
          "2024-05-28",
          "2024-05-29",
          "2024-05-30",
          "2024-05-31",
          "2024-06-01",
          "2024-06-02",
          "2024-06-03",
          "2024-06-04",
          "2024-06-05",
          "2024-06-06",
          "2024-06-07",
          "2024-06-08",
          "2024-06-09",
          "2024-06-10",
          "2024-06-11",
          "2024-06-12",
          "2024-06-13",
          "2024-06-14",
          "2024-06-15",
          "2024-06-16",
          "2024-06-17",
          "2024-06-18",
          "2024-06-19",
          "2024-06-20",
          "2024-06-21",
          "2024-06-22",
          "2024-06-23",
          "2024-06-24",
          "2024-06-25",
          "2024-06-26",
          "2024-06-27",
          "2024-06-28",
          "2024-06-29",
          "2024-06-30",
          "2024-07-01",
          "2024-07-02",
          "2024-07-03",
          "2024-07-04",
          "2024-07-05",
          "2024-07-06",
          "2024-07-07",
          "2024-07-08",
          "2024-07-09",
          "2024-07-10",
          "2024-07-11",
          "2024-07-12",
          "2024-07-13",
          "2024-07-14",
          "2024-07-15",
          "2024-07-16",
          "2024-07-17",
          "2024-07-18",
          "2024-07-19",
          "2024-07-20",
          "2024-07-21",
          "2024-07-22",
          "2024-07-23",
          "2024-07-24",
          "2024-07-25",
          "2024-07-26",
          "2024-07-27",
          "2024-07-28",
          "2024-07-29",
          "2024-07-30",
          "2024-07-31",
          "2024-08-01",
          "2024-08-02",
          "2024-08-03",
          "2024-08-04",
          "2024-08-05",
          "2024-08-06",
          "2024-08-07",
          "2024-08-08",
          "2024-08-09",
          "2024-08-10",
          "2024-08-11",
          "2024-08-12",
          "2024-08-13",
          "2024-08-14",
          "2024-08-15",
          "2024-08-16",
          "2024-08-17",
          "2024-08-18",
          "2024-08-19",
          "2024-08-20",
          "2024-08-21",
          "2024-08-22",
          "2024-08-23",
          "2024-08-24",
          "2024-08-25",
          "2024-08-26",
          "2024-08-27",
          "2024-08-28",
          "2024-08-29",
          "2024-08-30",
          "2024-08-31"
         ],
         "xaxis": "x",
         "y": [
          0.3629764065335753,
          0.39201451905626133,
          0.3986690865093769,
          0.40048396854204477,
          0.3956442831215971,
          0.33817301875378103,
          0.37084089534180276,
          0.40834845735027225,
          0.3260738052026618,
          0.3781004234724743,
          0.3877797943133696,
          0.2928009679370841,
          0.2964307320024198,
          0.1851179673321234,
          0.20931639443436176,
          0.21355111917725347,
          0.2770719903206292,
          0.3260738052026618,
          0.3000604960677556,
          0.3024803387779794,
          0.294615849969752,
          0.33030852994555354,
          0.33998790078644886,
          0.352692075015124,
          0.35813672111312767,
          0.3605565638233515,
          0.36963097398669087,
          0.36721113127646704,
          0.3835450695704779,
          0.40411373260738054,
          0.3914095583787054,
          0.41379310344827586,
          0.3992740471869328,
          0.3811252268602541,
          0.3623714458560194,
          0.37326073805202664,
          0.39443436176648516,
          0.396854204476709,
          0.39806412583182094,
          0.41802782819116757,
          0.38052026618269813,
          0.37689050211736236,
          0.40048396854204477,
          0.40411373260738054,
          0.40411373260738054,
          0.3871748336358137,
          0.3762855414398064,
          0.3466424682395644,
          0.37326073805202664,
          0.39443436176648516,
          0.4071385359951603,
          0.4295220810647308,
          0.42710223835450695,
          0.4047186932849365,
          0.35813672111312767,
          0.3853599516031458,
          0.4283121597096189,
          0.42347247428917123,
          0.3799153055051422,
          0.38596491228070173,
          0.40229885057471265,
          0.426497277676951,
          0.42165759225650334,
          0.42891712038717483,
          0.3986690865093769,
          0.4029038112522686,
          0.4047186932849365,
          0.35511191772534784,
          0.41560798548094374,
          0.40774349667271625,
          0.4367816091954023,
          0.4458560193587417,
          0.45251058681185724,
          0.4131881427707199,
          0.43920145190562615,
          0.42528735632183906,
          0.39806412583182094,
          0.4029038112522686,
          0.4277071990320629,
          0.41560798548094374,
          0.40834845735027225,
          0.37507562008469447,
          0.3895946763460375,
          0.3932244404113733,
          0.42286751361161523,
          0.39624924379915305,
          0.40350877192982454,
          0.4150030248033878,
          0.4143980641258318,
          0.40229885057471265,
          0.3781004234724743,
          0.37689050211736236,
          0.3793103448275862,
          0.3587416817906836,
          0.39019963702359345,
          0.4192377495462795,
          0.4283121597096189,
          0.3720508166969147,
          0.4422262552934059,
          0.46098003629764067,
          0.4694494857834241,
          0.4222625529340593,
          0.4482758620689655,
          0.455535390199637,
          0.46823956442831216,
          0.47005444646098005,
          0.4694494857834241,
          0.4482758620689655,
          0.4452510586811857,
          0.4513006654567453,
          0.4355716878402904,
          0.4283121597096189,
          0.4500907441016334,
          0.45856019358741684,
          0.44283121597096187,
          0.44888082274652147,
          0.4325468844525106,
          0.4573502722323049,
          0.44101633393829404,
          0.45069570477918935,
          0.47973381730187536,
          0.48941318814277074,
          0.4694494857834241,
          0.4724742891712039,
          0.4827586206896552,
          0.4440411373260738,
          0.47731397459165154,
          0.47368421052631576,
          0.4960677555958863,
          0.42286751361161523,
          0.48578342407743497,
          0.4676346037507562,
          0.47126436781609193,
          0.46098003629764067,
          0.4603750756200847,
          0.49909255898366606,
          0.4821536600120992,
          0.5069570477918935,
          0.5045372050816697,
          0.49727767695099817,
          0.49122807017543857,
          0.5160314579552329,
          0.5075620084694494,
          0.5245009074410163,
          0.47368421052631576,
          0.4863883847549909,
          0.4277071990320629,
          0.46581972171808833,
          0.455535390199637,
          0.49485783424077434,
          0.485178463399879,
          0.5075620084694494,
          0.41681790683605563,
          0.49122807017543857,
          0.5009074410163339,
          0.5009074410163339,
          0.49788263762855417,
          0.5051421657592257,
          0.5160314579552329,
          0.4791288566243194,
          0.49909255898366606,
          0.49364791288566245,
          0.5027223230490018,
          0.5051421657592257,
          0.5220810647307925,
          0.5208711433756806,
          0.5130066545674531,
          0.48880822746521474,
          0.5081669691470054,
          0.5111917725347852,
          0.5051421657592257,
          0.514821536600121,
          0.5063520871143375,
          0.5033272837265578,
          0.48759830611010285,
          0.500302480338778,
          0.49727767695099817,
          0.5039322444041138,
          0.5281306715063521,
          0.47610405323653965,
          0.4960677555958863,
          0.49788263762855417,
          0.48941318814277074,
          0.5009074410163339,
          0.5226860254083484,
          0.4767090139140956,
          0.4960677555958863,
          0.5033272837265578,
          0.47428917120387176,
          0.49122807017543857,
          0.49485783424077434,
          0.5021173623714459,
          0.5099818511796733,
          0.5124016938898972,
          0.5075620084694494,
          0.4664246823956443,
          0.4839685420447671,
          0.5021173623714459,
          0.5093768905021173,
          0.5099818511796733,
          0.5075620084694494,
          0.5087719298245614,
          0.5057471264367817,
          0.5130066545674531,
          0.4942528735632184,
          0.5105868118572293,
          0.5045372050816697,
          0.5196612220205686,
          0.5087719298245614,
          0.4748941318814277,
          0.48336358136721114,
          0.500302480338778,
          0.49304295220810646,
          0.5051421657592257,
          0.5099818511796733,
          0.500302480338778,
          0.4954627949183303,
          0.4785238959467635,
          0.48759830611010285,
          0.5033272837265578,
          0.5051421657592257,
          0.5474894131881428,
          0.5124016938898972,
          0.49788263762855417,
          0.484573502722323,
          0.49788263762855417,
          0.4900181488203267,
          0.46823956442831216,
          0.47973381730187536,
          0.47428917120387176,
          0.4791288566243194,
          0.4954627949183303,
          0.49485783424077434,
          0.5124016938898972,
          0.514821536600121,
          0.5075620084694494,
          0.5329703569267997,
          0.4924379915305505,
          0.4924379915305505,
          0.4748941318814277,
          0.49788263762855417,
          0.5251058681185723,
          0.5063520871143375,
          0.5166364186327889
         ],
         "yaxis": "y"
        }
       ],
       "layout": {
        "legend": {
         "tracegroupgap": 0
        },
        "margin": {
         "t": 60
        },
        "template": {
         "data": {
          "bar": [
           {
            "error_x": {
             "color": "#2a3f5f"
            },
            "error_y": {
             "color": "#2a3f5f"
            },
            "marker": {
             "line": {
              "color": "#E5ECF6",
              "width": 0.5
             },
             "pattern": {
              "fillmode": "overlay",
              "size": 10,
              "solidity": 0.2
             }
            },
            "type": "bar"
           }
          ],
          "barpolar": [
           {
            "marker": {
             "line": {
              "color": "#E5ECF6",
              "width": 0.5
             },
             "pattern": {
              "fillmode": "overlay",
              "size": 10,
              "solidity": 0.2
             }
            },
            "type": "barpolar"
           }
          ],
          "carpet": [
           {
            "aaxis": {
             "endlinecolor": "#2a3f5f",
             "gridcolor": "white",
             "linecolor": "white",
             "minorgridcolor": "white",
             "startlinecolor": "#2a3f5f"
            },
            "baxis": {
             "endlinecolor": "#2a3f5f",
             "gridcolor": "white",
             "linecolor": "white",
             "minorgridcolor": "white",
             "startlinecolor": "#2a3f5f"
            },
            "type": "carpet"
           }
          ],
          "choropleth": [
           {
            "colorbar": {
             "outlinewidth": 0,
             "ticks": ""
            },
            "type": "choropleth"
           }
          ],
          "contour": [
           {
            "colorbar": {
             "outlinewidth": 0,
             "ticks": ""
            },
            "colorscale": [
             [
              0,
              "#0d0887"
             ],
             [
              0.1111111111111111,
              "#46039f"
             ],
             [
              0.2222222222222222,
              "#7201a8"
             ],
             [
              0.3333333333333333,
              "#9c179e"
             ],
             [
              0.4444444444444444,
              "#bd3786"
             ],
             [
              0.5555555555555556,
              "#d8576b"
             ],
             [
              0.6666666666666666,
              "#ed7953"
             ],
             [
              0.7777777777777778,
              "#fb9f3a"
             ],
             [
              0.8888888888888888,
              "#fdca26"
             ],
             [
              1,
              "#f0f921"
             ]
            ],
            "type": "contour"
           }
          ],
          "contourcarpet": [
           {
            "colorbar": {
             "outlinewidth": 0,
             "ticks": ""
            },
            "type": "contourcarpet"
           }
          ],
          "heatmap": [
           {
            "colorbar": {
             "outlinewidth": 0,
             "ticks": ""
            },
            "colorscale": [
             [
              0,
              "#0d0887"
             ],
             [
              0.1111111111111111,
              "#46039f"
             ],
             [
              0.2222222222222222,
              "#7201a8"
             ],
             [
              0.3333333333333333,
              "#9c179e"
             ],
             [
              0.4444444444444444,
              "#bd3786"
             ],
             [
              0.5555555555555556,
              "#d8576b"
             ],
             [
              0.6666666666666666,
              "#ed7953"
             ],
             [
              0.7777777777777778,
              "#fb9f3a"
             ],
             [
              0.8888888888888888,
              "#fdca26"
             ],
             [
              1,
              "#f0f921"
             ]
            ],
            "type": "heatmap"
           }
          ],
          "heatmapgl": [
           {
            "colorbar": {
             "outlinewidth": 0,
             "ticks": ""
            },
            "colorscale": [
             [
              0,
              "#0d0887"
             ],
             [
              0.1111111111111111,
              "#46039f"
             ],
             [
              0.2222222222222222,
              "#7201a8"
             ],
             [
              0.3333333333333333,
              "#9c179e"
             ],
             [
              0.4444444444444444,
              "#bd3786"
             ],
             [
              0.5555555555555556,
              "#d8576b"
             ],
             [
              0.6666666666666666,
              "#ed7953"
             ],
             [
              0.7777777777777778,
              "#fb9f3a"
             ],
             [
              0.8888888888888888,
              "#fdca26"
             ],
             [
              1,
              "#f0f921"
             ]
            ],
            "type": "heatmapgl"
           }
          ],
          "histogram": [
           {
            "marker": {
             "pattern": {
              "fillmode": "overlay",
              "size": 10,
              "solidity": 0.2
             }
            },
            "type": "histogram"
           }
          ],
          "histogram2d": [
           {
            "colorbar": {
             "outlinewidth": 0,
             "ticks": ""
            },
            "colorscale": [
             [
              0,
              "#0d0887"
             ],
             [
              0.1111111111111111,
              "#46039f"
             ],
             [
              0.2222222222222222,
              "#7201a8"
             ],
             [
              0.3333333333333333,
              "#9c179e"
             ],
             [
              0.4444444444444444,
              "#bd3786"
             ],
             [
              0.5555555555555556,
              "#d8576b"
             ],
             [
              0.6666666666666666,
              "#ed7953"
             ],
             [
              0.7777777777777778,
              "#fb9f3a"
             ],
             [
              0.8888888888888888,
              "#fdca26"
             ],
             [
              1,
              "#f0f921"
             ]
            ],
            "type": "histogram2d"
           }
          ],
          "histogram2dcontour": [
           {
            "colorbar": {
             "outlinewidth": 0,
             "ticks": ""
            },
            "colorscale": [
             [
              0,
              "#0d0887"
             ],
             [
              0.1111111111111111,
              "#46039f"
             ],
             [
              0.2222222222222222,
              "#7201a8"
             ],
             [
              0.3333333333333333,
              "#9c179e"
             ],
             [
              0.4444444444444444,
              "#bd3786"
             ],
             [
              0.5555555555555556,
              "#d8576b"
             ],
             [
              0.6666666666666666,
              "#ed7953"
             ],
             [
              0.7777777777777778,
              "#fb9f3a"
             ],
             [
              0.8888888888888888,
              "#fdca26"
             ],
             [
              1,
              "#f0f921"
             ]
            ],
            "type": "histogram2dcontour"
           }
          ],
          "mesh3d": [
           {
            "colorbar": {
             "outlinewidth": 0,
             "ticks": ""
            },
            "type": "mesh3d"
           }
          ],
          "parcoords": [
           {
            "line": {
             "colorbar": {
              "outlinewidth": 0,
              "ticks": ""
             }
            },
            "type": "parcoords"
           }
          ],
          "pie": [
           {
            "automargin": true,
            "type": "pie"
           }
          ],
          "scatter": [
           {
            "fillpattern": {
             "fillmode": "overlay",
             "size": 10,
             "solidity": 0.2
            },
            "type": "scatter"
           }
          ],
          "scatter3d": [
           {
            "line": {
             "colorbar": {
              "outlinewidth": 0,
              "ticks": ""
             }
            },
            "marker": {
             "colorbar": {
              "outlinewidth": 0,
              "ticks": ""
             }
            },
            "type": "scatter3d"
           }
          ],
          "scattercarpet": [
           {
            "marker": {
             "colorbar": {
              "outlinewidth": 0,
              "ticks": ""
             }
            },
            "type": "scattercarpet"
           }
          ],
          "scattergeo": [
           {
            "marker": {
             "colorbar": {
              "outlinewidth": 0,
              "ticks": ""
             }
            },
            "type": "scattergeo"
           }
          ],
          "scattergl": [
           {
            "marker": {
             "colorbar": {
              "outlinewidth": 0,
              "ticks": ""
             }
            },
            "type": "scattergl"
           }
          ],
          "scattermapbox": [
           {
            "marker": {
             "colorbar": {
              "outlinewidth": 0,
              "ticks": ""
             }
            },
            "type": "scattermapbox"
           }
          ],
          "scatterpolar": [
           {
            "marker": {
             "colorbar": {
              "outlinewidth": 0,
              "ticks": ""
             }
            },
            "type": "scatterpolar"
           }
          ],
          "scatterpolargl": [
           {
            "marker": {
             "colorbar": {
              "outlinewidth": 0,
              "ticks": ""
             }
            },
            "type": "scatterpolargl"
           }
          ],
          "scatterternary": [
           {
            "marker": {
             "colorbar": {
              "outlinewidth": 0,
              "ticks": ""
             }
            },
            "type": "scatterternary"
           }
          ],
          "surface": [
           {
            "colorbar": {
             "outlinewidth": 0,
             "ticks": ""
            },
            "colorscale": [
             [
              0,
              "#0d0887"
             ],
             [
              0.1111111111111111,
              "#46039f"
             ],
             [
              0.2222222222222222,
              "#7201a8"
             ],
             [
              0.3333333333333333,
              "#9c179e"
             ],
             [
              0.4444444444444444,
              "#bd3786"
             ],
             [
              0.5555555555555556,
              "#d8576b"
             ],
             [
              0.6666666666666666,
              "#ed7953"
             ],
             [
              0.7777777777777778,
              "#fb9f3a"
             ],
             [
              0.8888888888888888,
              "#fdca26"
             ],
             [
              1,
              "#f0f921"
             ]
            ],
            "type": "surface"
           }
          ],
          "table": [
           {
            "cells": {
             "fill": {
              "color": "#EBF0F8"
             },
             "line": {
              "color": "white"
             }
            },
            "header": {
             "fill": {
              "color": "#C8D4E3"
             },
             "line": {
              "color": "white"
             }
            },
            "type": "table"
           }
          ]
         },
         "layout": {
          "annotationdefaults": {
           "arrowcolor": "#2a3f5f",
           "arrowhead": 0,
           "arrowwidth": 1
          },
          "autotypenumbers": "strict",
          "coloraxis": {
           "colorbar": {
            "outlinewidth": 0,
            "ticks": ""
           }
          },
          "colorscale": {
           "diverging": [
            [
             0,
             "#8e0152"
            ],
            [
             0.1,
             "#c51b7d"
            ],
            [
             0.2,
             "#de77ae"
            ],
            [
             0.3,
             "#f1b6da"
            ],
            [
             0.4,
             "#fde0ef"
            ],
            [
             0.5,
             "#f7f7f7"
            ],
            [
             0.6,
             "#e6f5d0"
            ],
            [
             0.7,
             "#b8e186"
            ],
            [
             0.8,
             "#7fbc41"
            ],
            [
             0.9,
             "#4d9221"
            ],
            [
             1,
             "#276419"
            ]
           ],
           "sequential": [
            [
             0,
             "#0d0887"
            ],
            [
             0.1111111111111111,
             "#46039f"
            ],
            [
             0.2222222222222222,
             "#7201a8"
            ],
            [
             0.3333333333333333,
             "#9c179e"
            ],
            [
             0.4444444444444444,
             "#bd3786"
            ],
            [
             0.5555555555555556,
             "#d8576b"
            ],
            [
             0.6666666666666666,
             "#ed7953"
            ],
            [
             0.7777777777777778,
             "#fb9f3a"
            ],
            [
             0.8888888888888888,
             "#fdca26"
            ],
            [
             1,
             "#f0f921"
            ]
           ],
           "sequentialminus": [
            [
             0,
             "#0d0887"
            ],
            [
             0.1111111111111111,
             "#46039f"
            ],
            [
             0.2222222222222222,
             "#7201a8"
            ],
            [
             0.3333333333333333,
             "#9c179e"
            ],
            [
             0.4444444444444444,
             "#bd3786"
            ],
            [
             0.5555555555555556,
             "#d8576b"
            ],
            [
             0.6666666666666666,
             "#ed7953"
            ],
            [
             0.7777777777777778,
             "#fb9f3a"
            ],
            [
             0.8888888888888888,
             "#fdca26"
            ],
            [
             1,
             "#f0f921"
            ]
           ]
          },
          "colorway": [
           "#636efa",
           "#EF553B",
           "#00cc96",
           "#ab63fa",
           "#FFA15A",
           "#19d3f3",
           "#FF6692",
           "#B6E880",
           "#FF97FF",
           "#FECB52"
          ],
          "font": {
           "color": "#2a3f5f"
          },
          "geo": {
           "bgcolor": "white",
           "lakecolor": "white",
           "landcolor": "#E5ECF6",
           "showlakes": true,
           "showland": true,
           "subunitcolor": "white"
          },
          "hoverlabel": {
           "align": "left"
          },
          "hovermode": "closest",
          "mapbox": {
           "style": "light"
          },
          "paper_bgcolor": "white",
          "plot_bgcolor": "#E5ECF6",
          "polar": {
           "angularaxis": {
            "gridcolor": "white",
            "linecolor": "white",
            "ticks": ""
           },
           "bgcolor": "#E5ECF6",
           "radialaxis": {
            "gridcolor": "white",
            "linecolor": "white",
            "ticks": ""
           }
          },
          "scene": {
           "xaxis": {
            "backgroundcolor": "#E5ECF6",
            "gridcolor": "white",
            "gridwidth": 2,
            "linecolor": "white",
            "showbackground": true,
            "ticks": "",
            "zerolinecolor": "white"
           },
           "yaxis": {
            "backgroundcolor": "#E5ECF6",
            "gridcolor": "white",
            "gridwidth": 2,
            "linecolor": "white",
            "showbackground": true,
            "ticks": "",
            "zerolinecolor": "white"
           },
           "zaxis": {
            "backgroundcolor": "#E5ECF6",
            "gridcolor": "white",
            "gridwidth": 2,
            "linecolor": "white",
            "showbackground": true,
            "ticks": "",
            "zerolinecolor": "white"
           }
          },
          "shapedefaults": {
           "line": {
            "color": "#2a3f5f"
           }
          },
          "ternary": {
           "aaxis": {
            "gridcolor": "white",
            "linecolor": "white",
            "ticks": ""
           },
           "baxis": {
            "gridcolor": "white",
            "linecolor": "white",
            "ticks": ""
           },
           "bgcolor": "#E5ECF6",
           "caxis": {
            "gridcolor": "white",
            "linecolor": "white",
            "ticks": ""
           }
          },
          "title": {
           "x": 0.05
          },
          "xaxis": {
           "automargin": true,
           "gridcolor": "white",
           "linecolor": "white",
           "ticks": "",
           "title": {
            "standoff": 15
           },
           "zerolinecolor": "white",
           "zerolinewidth": 2
          },
          "yaxis": {
           "automargin": true,
           "gridcolor": "white",
           "linecolor": "white",
           "ticks": "",
           "title": {
            "standoff": 15
           },
           "zerolinecolor": "white",
           "zerolinewidth": 2
          }
         }
        },
        "xaxis": {
         "anchor": "y",
         "domain": [
          0,
          1
         ],
         "title": {
          "text": "date"
         }
        },
        "yaxis": {
         "anchor": "x",
         "domain": [
          0,
          1
         ],
         "title": {
          "text": "completeness"
         }
        }
       }
      }
     },
     "metadata": {},
     "output_type": "display_data"
    }
   ],
   "source": [
    "plot_data = bike_rides.groupby('date')['station_name'].nunique().rename('completeness')\n",
    "plot_data = plot_data / bike_rides['station_name'].nunique()\n",
    "px.line(plot_data.reset_index(), x='date', y='completeness')"
   ]
  }
 ],
 "metadata": {
  "kernelspec": {
   "display_name": ".venv",
   "language": "python",
   "name": "python3"
  },
  "language_info": {
   "codemirror_mode": {
    "name": "ipython",
    "version": 3
   },
   "file_extension": ".py",
   "mimetype": "text/x-python",
   "name": "python",
   "nbconvert_exporter": "python",
   "pygments_lexer": "ipython3",
   "version": "3.12.6"
  }
 },
 "nbformat": 4,
 "nbformat_minor": 2
}
