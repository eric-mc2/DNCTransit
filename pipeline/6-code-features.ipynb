{
 "cells": [
  {
   "cell_type": "code",
   "execution_count": 1,
   "metadata": {},
   "outputs": [],
   "source": [
    "import geopandas as gpd\n",
    "import os\n",
    "import pandas as pd\n",
    "from shapely.geometry import Point\n",
    "\n",
    "from data.constants import (WORLD_CRS, LOCAL_CRS, DATA_FOLDER,\n",
    "                                OHARE_CENTROID, MIDWAY_CENTROID,\n",
    "                                DNC_START, DNC_END)\n",
    "from data.geo import meter_to_foot, dms_to_decimal\n",
    "from data.datemath import to_ymd"
   ]
  },
  {
   "cell_type": "code",
   "execution_count": 2,
   "metadata": {},
   "outputs": [],
   "source": [
    "train_file_in = os.path.join(DATA_FOLDER, \"raw\", \"train_stations.geojson\")\n",
    "bus_routes_file_in = os.path.join(DATA_FOLDER, \"raw\", \"bus_routes.geojson\")\n",
    "bus_stops_file_in = os.path.join(DATA_FOLDER, \"raw\", \"bus_stops.geojson\")\n",
    "bike_stations_file_in = os.path.join(DATA_FOLDER, \"raw\", \"bike_stations.geojson\")\n",
    "tract_file_in = os.path.join(DATA_FOLDER, \"raw\", \"tracts.geojson\")\n",
    "comm_file_in = os.path.join(DATA_FOLDER, \"raw\", \"communities.geojson\")\n",
    "poi_file_in = os.path.join(DATA_FOLDER, \"raw\", \"poi_buildings.geojson\")\n",
    "\n",
    "train_rides_in = os.path.join(DATA_FOLDER, \"raw\", \"train_rides.csv\")\n",
    "bus_rides_in = os.path.join(DATA_FOLDER, \"raw\", \"bus_rides.csv\")\n",
    "bike_rides_in = os.path.join(DATA_FOLDER, \"raw\", \"bike_rides.geoparquet\")\n",
    "uber_rides_in = os.path.join(DATA_FOLDER, \"raw\", \"uber_rides.parquet\")\n",
    "\n",
    "train_file_out = os.path.join(DATA_FOLDER, \"interim\", \"train_stations.geojson\")\n",
    "bus_routes_file_out = os.path.join(DATA_FOLDER, \"interim\", \"bus_routes.geojson\")\n",
    "bus_stops_file_out = os.path.join(DATA_FOLDER, \"interim\", \"bus_stops.geojson\")\n",
    "bike_stations_file_out = os.path.join(DATA_FOLDER, \"interim\", \"bike_stations.geojson\")\n",
    "tract_file_out = os.path.join(DATA_FOLDER, \"interim\", \"tracts.geojson\")\n",
    "comm_file_out = os.path.join(DATA_FOLDER, \"interim\", \"communities.geojson\")\n",
    "\n",
    "train_rides_out = os.path.join(DATA_FOLDER, \"interim\", \"train_rides.csv\")\n",
    "bus_rides_out = os.path.join(DATA_FOLDER, \"interim\", \"bus_rides.csv\")\n",
    "bike_rides_out = os.path.join(DATA_FOLDER, \"interim\", \"bike_rides.geoparquet\")\n",
    "uber_rides_out = os.path.join(DATA_FOLDER, \"interim\", \"uber_rides.parquet\")"
   ]
  },
  {
   "cell_type": "markdown",
   "metadata": {},
   "source": [
    "# Pipeline in"
   ]
  },
  {
   "cell_type": "code",
   "execution_count": 3,
   "metadata": {},
   "outputs": [],
   "source": [
    "train_stations = gpd.read_file(train_file_in)\n",
    "bus_routes = gpd.read_file(bus_routes_file_in)\n",
    "bus_stops = gpd.read_file(bus_stops_file_in)\n",
    "tract_points = gpd.read_file(tract_file_in)\n",
    "comm_points = gpd.read_file(comm_file_in)\n",
    "poi_buildings = gpd.read_file(poi_file_in)\n",
    "bike_stations = gpd.read_file(bike_stations_file_in)"
   ]
  },
  {
   "cell_type": "code",
   "execution_count": 4,
   "metadata": {},
   "outputs": [],
   "source": [
    "train_rides = pd.read_csv(train_rides_in)\n",
    "bus_rides = pd.read_csv(bus_rides_in)\n",
    "bike_rides = gpd.read_parquet(bike_rides_in)\n",
    "uber_rides = pd.read_parquet(uber_rides_in)"
   ]
  },
  {
   "cell_type": "markdown",
   "metadata": {},
   "source": [
    "# Time-Invariant Features"
   ]
  },
  {
   "cell_type": "markdown",
   "metadata": {},
   "source": [
    "## Airports"
   ]
  },
  {
   "cell_type": "markdown",
   "metadata": {},
   "source": [
    "### -> CTA"
   ]
  },
  {
   "cell_type": "markdown",
   "metadata": {},
   "source": [
    "We can label up the train and bus stops via name."
   ]
  },
  {
   "cell_type": "code",
   "execution_count": 5,
   "metadata": {},
   "outputs": [],
   "source": [
    "train_stations['airport'] = (train_stations.station_name == \"O'Hare\") \\\n",
    "                            | (train_stations.station_name == \"Midway\")"
   ]
  },
  {
   "cell_type": "code",
   "execution_count": 6,
   "metadata": {},
   "outputs": [],
   "source": [
    "# Note: We only check for Midway because CTA busses don't go directly into O'Hare,\n",
    "#       nor even to the adjacent Mixed Modal Transit center.\n",
    "bus_stops['airport'] = bus_stops['PUBLIC_NAM'] == \"Midway Orange Line Station\""
   ]
  },
  {
   "cell_type": "markdown",
   "metadata": {},
   "source": [
    "### -> Uber"
   ]
  },
  {
   "cell_type": "markdown",
   "metadata": {},
   "source": [
    "The rideshare pickups are anonymized to census area so we can't use building catchements."
   ]
  },
  {
   "cell_type": "code",
   "execution_count": 7,
   "metadata": {},
   "outputs": [],
   "source": [
    "oh_xy = dms_to_decimal(*OHARE_CENTROID[1]), dms_to_decimal(*OHARE_CENTROID[0])\n",
    "oh_xy = Point(*oh_xy) # lng/lat\n",
    "oh_xy = gpd.GeoSeries([oh_xy], crs=WORLD_CRS).to_crs(LOCAL_CRS).iloc[0]\n",
    "oh_tract = tract_points.set_index('geoid10').geometry.to_crs(LOCAL_CRS).contains(oh_xy)\n",
    "oh_comm = comm_points.set_index('area_num_1').geometry.to_crs(LOCAL_CRS).contains(oh_xy)"
   ]
  },
  {
   "cell_type": "code",
   "execution_count": 8,
   "metadata": {},
   "outputs": [],
   "source": [
    "mdw_xy = dms_to_decimal(*MIDWAY_CENTROID[1]), dms_to_decimal(*MIDWAY_CENTROID[0])\n",
    "mdw_xy = Point(*mdw_xy) # lng/lat\n",
    "mdw_xy = gpd.GeoSeries([mdw_xy], crs=WORLD_CRS).to_crs(LOCAL_CRS).iloc[0]\n",
    "mdw_tract = tract_points.set_index('geoid10').geometry.to_crs(LOCAL_CRS).contains(mdw_xy)\n",
    "mdw_comm = comm_points.set_index('area_num_1').geometry.to_crs(LOCAL_CRS).contains(mdw_xy)"
   ]
  },
  {
   "cell_type": "code",
   "execution_count": 9,
   "metadata": {},
   "outputs": [],
   "source": [
    "tract_points['airport'] = tract_points['geoid10'].map(oh_tract) | tract_points['geoid10'].map(mdw_tract)\n",
    "comm_points['airport'] = comm_points['area_num_1'].map(oh_comm) | comm_points['area_num_1'].map(mdw_comm)"
   ]
  },
  {
   "cell_type": "markdown",
   "metadata": {},
   "source": [
    "### -> Divvy"
   ]
  },
  {
   "cell_type": "markdown",
   "metadata": {},
   "source": [
    "We're going to assume that no one rides a bike to the airport for out of town travel."
   ]
  },
  {
   "cell_type": "code",
   "execution_count": 10,
   "metadata": {},
   "outputs": [],
   "source": [
    "bike_stations['airport'] = False\n",
    "bike_rides['airport'] = False"
   ]
  },
  {
   "cell_type": "markdown",
   "metadata": {},
   "source": [
    "## United Center, McCormick Place catchements"
   ]
  },
  {
   "cell_type": "code",
   "execution_count": 11,
   "metadata": {},
   "outputs": [],
   "source": [
    "uc_building = poi_buildings[poi_buildings['name'] == 'UNITED CENTER']\n",
    "mp_building = poi_buildings[poi_buildings['name'] == 'HYATT REGENCY MCCORMICK PLACE']"
   ]
  },
  {
   "cell_type": "code",
   "execution_count": 12,
   "metadata": {},
   "outputs": [],
   "source": [
    "def buffered_intersects(gdf: gpd.GeoDataFrame, geom:gpd.GeoSeries, geom_prefix:str, dists:list[int]):\n",
    "    \"\"\"\n",
    "    Computes multiple buffer distances around geom and EQUIVALENTLY computes:\n",
    "        - whether each row of gdf intersects buffer\n",
    "        - whether buffer intersects each row of gdf\n",
    "    Params:\n",
    "        - gdf: compares each row of gdf to geom\n",
    "        - geom: the shape to compute buffers around. EXPECTS SINGLE ROW\n",
    "        - geom_prefix: name for resulting buffer comparison column\n",
    "        - dists: list of buffer radii in meters\n",
    "    \"\"\"\n",
    "    assert len(geom) == 1, \"Expects only one geom to buffer around.\"\n",
    "    building_proj = geom.geometry.to_crs(LOCAL_CRS)\n",
    "    buffers = [building_proj.buffer(meter_to_foot(d)) for d in dists]\n",
    "    df_proj = gdf.geometry.to_crs(LOCAL_CRS)\n",
    "    codes = {f\"{geom_prefix}_{d}\": df_proj.intersects(b.iloc[0]) * 1.0 for d,b in zip(dists,buffers)}\n",
    "    return gdf.assign(**codes)"
   ]
  },
  {
   "cell_type": "markdown",
   "metadata": {},
   "source": [
    "**Coded as** *\"is this station within the catchement of the POI\"*"
   ]
  },
  {
   "cell_type": "code",
   "execution_count": 13,
   "metadata": {},
   "outputs": [],
   "source": [
    "# Stations are coded as \n",
    "train_stations = train_stations.pipe(buffered_intersects, uc_building, \"uc\", [400,800,1600])\n",
    "bike_stations = bike_stations.pipe(buffered_intersects, uc_building, \"uc\", [400,800,1600])\n",
    "bike_rides = bike_rides.pipe(buffered_intersects, uc_building, \"uc\", [400,800,1600])\n",
    "bus_stops = bus_stops.pipe(buffered_intersects, uc_building, \"uc\", [400,800,1600])\n",
    "\n",
    "train_stations = train_stations.pipe(buffered_intersects, mp_building, \"mp\", [400,800,1600])\n",
    "bike_stations = bike_stations.pipe(buffered_intersects, mp_building, \"mp\", [400,800,1600])\n",
    "bike_rides = bike_rides.pipe(buffered_intersects, mp_building, \"mp\", [400,800,1600])\n",
    "bus_stops = bus_stops.pipe(buffered_intersects, mp_building, \"mp\", [400,800,1600])"
   ]
  },
  {
   "cell_type": "markdown",
   "metadata": {},
   "source": [
    "**Coded as** *\"is this POI catchement intersecting the tract\"*"
   ]
  },
  {
   "cell_type": "code",
   "execution_count": 14,
   "metadata": {},
   "outputs": [],
   "source": [
    "tract_points = tract_points.pipe(buffered_intersects, uc_building, \"uc\", [400,800,1600])\n",
    "comm_points = comm_points.pipe(buffered_intersects, uc_building, \"uc\", [400,800,1600])\n",
    "\n",
    "tract_points = tract_points.pipe(buffered_intersects, mp_building, \"mp\", [400,800,1600])\n",
    "comm_points = comm_points.pipe(buffered_intersects, mp_building, \"mp\", [400,800,1600])"
   ]
  },
  {
   "cell_type": "markdown",
   "metadata": {},
   "source": [
    "## Station Tracts"
   ]
  },
  {
   "cell_type": "markdown",
   "metadata": {},
   "source": [
    "Label the station tracts so we can aggregate to tract-level to match uber data."
   ]
  },
  {
   "cell_type": "code",
   "execution_count": 15,
   "metadata": {},
   "outputs": [],
   "source": [
    "def code_tract(gdf):\n",
    "    \"\"\"\n",
    "    Spatial join point to census tract\n",
    "    \"\"\"\n",
    "    coded_tracts = gdf[['geometry']].sjoin(tract_points[['geoid10','geometry']], how='left', predicate='within')\n",
    "    coded_comms = gdf[['geometry']].sjoin(comm_points[['area_num_1','geometry']], how='left', predicate='within')\n",
    "    gdf = pd.concat([gdf, \n",
    "                    coded_tracts['geoid10'].rename('tract'), \n",
    "                    coded_comms['area_num_1'].rename('comm_area')],\n",
    "                    axis=1)\n",
    "    return gdf"
   ]
  },
  {
   "cell_type": "code",
   "execution_count": 16,
   "metadata": {},
   "outputs": [],
   "source": [
    "train_stations = train_stations.pipe(code_tract)\n",
    "bike_stations = bike_stations.pipe(code_tract)\n",
    "bus_stops = bus_stops.pipe(code_tract)"
   ]
  },
  {
   "cell_type": "markdown",
   "metadata": {},
   "source": [
    "# Time-Varying Features"
   ]
  },
  {
   "cell_type": "markdown",
   "metadata": {},
   "source": [
    "## DNC"
   ]
  },
  {
   "cell_type": "code",
   "execution_count": 17,
   "metadata": {},
   "outputs": [],
   "source": [
    "train_rides['DNC'] = (train_rides['date'] >= DNC_START) & (train_rides['date'] <= DNC_END)\n",
    "bus_rides['DNC'] = (bus_rides['date'] >= DNC_START) & (bus_rides['date'] <= DNC_END)\n",
    "bike_rides['DNC'] = (bike_rides['date'].apply(to_ymd) >= DNC_START) & (bike_rides['date'].apply(to_ymd) <= DNC_END)\n",
    "uber_rides['DNC'] = (uber_rides['date'] >= DNC_START) & (uber_rides['date'] <= DNC_END)"
   ]
  },
  {
   "cell_type": "markdown",
   "metadata": {},
   "source": [
    "## Daytype"
   ]
  },
  {
   "cell_type": "code",
   "execution_count": 18,
   "metadata": {},
   "outputs": [],
   "source": [
    "daytypes = pd.concat([train_rides[['date','daytype']],bus_rides[['date','daytype']]],ignore_index=True)\n",
    "daytypes = daytypes.groupby('date')['daytype'].first()"
   ]
  },
  {
   "cell_type": "code",
   "execution_count": 19,
   "metadata": {},
   "outputs": [],
   "source": [
    "bike_rides['daytype'] = bike_rides['date'].map(daytypes)\n",
    "uber_rides['daytype'] = uber_rides['date'].map(daytypes)"
   ]
  },
  {
   "cell_type": "markdown",
   "metadata": {},
   "source": [
    "# Pipeline out"
   ]
  },
  {
   "cell_type": "code",
   "execution_count": 20,
   "metadata": {},
   "outputs": [],
   "source": [
    "train_stations.to_file(train_file_out, index=False)\n",
    "bus_routes.to_file(bus_routes_file_out, index=False)\n",
    "bus_stops.to_file(bus_stops_file_out, index=False)\n",
    "tract_points.to_file(tract_file_out, index=False)\n",
    "comm_points.to_file(comm_file_out, index=False)\n",
    "bike_stations.to_file(bike_stations_file_out, index=False)"
   ]
  },
  {
   "cell_type": "code",
   "execution_count": 21,
   "metadata": {},
   "outputs": [],
   "source": [
    "train_rides.to_csv(train_rides_out, index=False)\n",
    "bus_rides.to_csv(bus_rides_out, index=False)\n",
    "bike_rides.to_parquet(bike_rides_out, index=False)\n",
    "uber_rides.to_parquet(uber_rides_out, index=False)"
   ]
  }
 ],
 "metadata": {
  "kernelspec": {
   "display_name": ".venv",
   "language": "python",
   "name": "python3"
  },
  "language_info": {
   "codemirror_mode": {
    "name": "ipython",
    "version": 3
   },
   "file_extension": ".py",
   "mimetype": "text/x-python",
   "name": "python",
   "nbconvert_exporter": "python",
   "pygments_lexer": "ipython3",
   "version": "3.12.6"
  }
 },
 "nbformat": 4,
 "nbformat_minor": 2
}
