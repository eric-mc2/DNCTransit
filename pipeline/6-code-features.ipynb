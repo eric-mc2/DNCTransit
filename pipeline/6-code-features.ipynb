{
 "cells": [
  {
   "cell_type": "code",
   "execution_count": 1,
   "metadata": {},
   "outputs": [],
   "source": [
    "import geopandas as gpd\n",
    "import pandas as pd\n",
    "from shapely import from_wkt\n",
    "from shapely.geometry import Point, shape\n",
    "from calendar import SATURDAY\n",
    "\n",
    "from data.constants import (WORLD_CRS, LOCAL_CRS,\n",
    "                                OHARE_CENTROID, MIDWAY_CENTROID,\n",
    "                                DNC_START, DNC_END)\n",
    "from data.geo import meter_to_foot, dms_to_decimal\n",
    "from data.datemath import from_ymd"
   ]
  },
  {
   "cell_type": "code",
   "execution_count": 2,
   "metadata": {},
   "outputs": [],
   "source": [
    "train_file_in = \"../data/raw/train_stations.geojson\"\n",
    "bus_stops_file_in = \"../data/raw/bus_stops.geojson\"\n",
    "bike_stations_file_in = \"../data/interim/bike_stations_gbfs.geoparquet\"\n",
    "tract_file_in = \"../data/raw/tracts.geojson\"\n",
    "comm_file_in = \"../data/raw/communities.geojson\"\n",
    "poi_file_in = \"../data/raw/poi_buildings.geojson\"\n",
    "\n",
    "train_rides_in = \"../data/raw/train_rides.csv\"\n",
    "bus_rides_in = \"../data/raw/bus_rides.csv\"\n",
    "bike_rides_in = \"../data/interim/bike_rides_v2.geoparquet\"\n",
    "uber_tract_rides_in = \"../data/raw/uber_tract_rides.parquet\"\n",
    "uber_comm_rides_in = \"../data/raw/uber_comm_rides.parquet\"\n",
    "\n",
    "train_stations_out = \"../data/interim/train_stations.geojson\"\n",
    "train_lines_out = \"../data/interim/train_lines.csv\"\n",
    "bus_stops_file_out = \"../data/interim/bus_stops.geojson\"\n",
    "bike_stations_file_out = \"../data/interim/bike_stations_gbfs_v2.geojson\"\n",
    "tract_file_out = \"../data/interim/tracts.geoparquet\"\n",
    "comm_file_out = \"../data/interim/communities.geojson\"\n",
    "\n",
    "train_rides_out = \"../data/interim/train_rides.csv\"\n",
    "bus_rides_out = \"../data/interim/bus_rides.csv\"\n",
    "bike_rides_out = \"../data/interim/bike_rides_v3.geoparquet\"\n",
    "uber_rides_out = \"../data/interim/uber_rides.parquet\""
   ]
  },
  {
   "cell_type": "code",
   "execution_count": 3,
   "metadata": {},
   "outputs": [],
   "source": [
    "TOLERANCE = 200  # meters"
   ]
  },
  {
   "cell_type": "markdown",
   "metadata": {},
   "source": [
    "# Pipeline in"
   ]
  },
  {
   "cell_type": "code",
   "execution_count": 4,
   "metadata": {},
   "outputs": [],
   "source": [
    "train_stations = gpd.read_file(train_file_in)\n",
    "bus_stops = gpd.read_file(bus_stops_file_in)\n",
    "tract_points = gpd.read_file(tract_file_in)\n",
    "comm_points = gpd.read_file(comm_file_in)\n",
    "poi_buildings = gpd.read_file(poi_file_in)\n",
    "bike_stations = gpd.read_parquet(bike_stations_file_in)"
   ]
  },
  {
   "cell_type": "code",
   "execution_count": 5,
   "metadata": {},
   "outputs": [],
   "source": [
    "train_rides = pd.read_csv(train_rides_in)\n",
    "bus_rides = pd.read_csv(bus_rides_in)\n",
    "bike_rides = gpd.read_parquet(bike_rides_in)\n",
    "uber_tract_rides = pd.read_parquet(uber_tract_rides_in)\n",
    "uber_comm_rides = pd.read_parquet(uber_comm_rides_in)"
   ]
  },
  {
   "cell_type": "code",
   "execution_count": 6,
   "metadata": {},
   "outputs": [],
   "source": [
    "uber_rides = pd.concat([uber_tract_rides.rename(columns={'tract':'id'}), \n",
    "                        uber_comm_rides.rename(columns={'comm':'id'})],\n",
    "                        axis=0, keys=['tract','comm'], names=['unit','index']) \\\n",
    "                .reset_index('unit').reset_index(drop=True)"
   ]
  },
  {
   "cell_type": "markdown",
   "metadata": {},
   "source": [
    "# Time-Invariant Features"
   ]
  },
  {
   "cell_type": "markdown",
   "metadata": {},
   "source": [
    "## Airports"
   ]
  },
  {
   "cell_type": "markdown",
   "metadata": {},
   "source": [
    "### -> CTA"
   ]
  },
  {
   "cell_type": "markdown",
   "metadata": {},
   "source": [
    "We can label up the train and bus stops via name."
   ]
  },
  {
   "cell_type": "code",
   "execution_count": 7,
   "metadata": {},
   "outputs": [],
   "source": [
    "train_stations['airport'] = (train_stations.station_name == \"O'Hare\") \\\n",
    "                            | (train_stations.station_name == \"Midway\")\n",
    "train_stations['airport'] = train_stations['airport'].astype(float)"
   ]
  },
  {
   "cell_type": "code",
   "execution_count": 8,
   "metadata": {},
   "outputs": [],
   "source": [
    "# Note: We only check for Midway because CTA busses don't go directly into O'Hare,\n",
    "#       nor even to the adjacent Mixed Modal Transit center.\n",
    "bus_stops['airport'] = (bus_stops['PUBLIC_NAME'] == \"Midway Orange Line Station\").astype(float)"
   ]
  },
  {
   "cell_type": "markdown",
   "metadata": {},
   "source": [
    "### -> Uber"
   ]
  },
  {
   "cell_type": "markdown",
   "metadata": {},
   "source": [
    "The rideshare pickups are anonymized to census area so we can't use building catchements."
   ]
  },
  {
   "cell_type": "code",
   "execution_count": 9,
   "metadata": {},
   "outputs": [],
   "source": [
    "oh_xy = dms_to_decimal(*OHARE_CENTROID[1]), dms_to_decimal(*OHARE_CENTROID[0])\n",
    "oh_xy = Point(*oh_xy) # lng/lat\n",
    "oh_xy = gpd.GeoSeries([oh_xy], crs=WORLD_CRS).to_crs(LOCAL_CRS).iloc[0]\n",
    "oh_tract = tract_points.set_index('geoid10').geometry.to_crs(LOCAL_CRS).contains(oh_xy)\n",
    "oh_comm = comm_points.set_index('comm_area').geometry.to_crs(LOCAL_CRS).contains(oh_xy)"
   ]
  },
  {
   "cell_type": "code",
   "execution_count": 10,
   "metadata": {},
   "outputs": [],
   "source": [
    "mdw_xy = dms_to_decimal(*MIDWAY_CENTROID[1]), dms_to_decimal(*MIDWAY_CENTROID[0])\n",
    "mdw_xy = Point(*mdw_xy) # lng/lat\n",
    "mdw_xy = gpd.GeoSeries([mdw_xy], crs=WORLD_CRS).to_crs(LOCAL_CRS).iloc[0]\n",
    "mdw_tract = tract_points.set_index('geoid10').geometry.to_crs(LOCAL_CRS).contains(mdw_xy)\n",
    "mdw_comm = comm_points.set_index('comm_area').geometry.to_crs(LOCAL_CRS).contains(mdw_xy)"
   ]
  },
  {
   "cell_type": "code",
   "execution_count": 11,
   "metadata": {},
   "outputs": [],
   "source": [
    "tract_points['airport'] = (tract_points['geoid10'].map(oh_tract) | tract_points['geoid10'].map(mdw_tract)).astype(float)\n",
    "comm_points['airport'] = (comm_points['comm_area'].map(oh_comm) | comm_points['comm_area'].map(mdw_comm)).astype(float)"
   ]
  },
  {
   "cell_type": "markdown",
   "metadata": {},
   "source": [
    "### -> Divvy"
   ]
  },
  {
   "cell_type": "markdown",
   "metadata": {},
   "source": [
    "We're going to assume that no one rides a bike to the airport for out of town travel."
   ]
  },
  {
   "cell_type": "code",
   "execution_count": 12,
   "metadata": {},
   "outputs": [],
   "source": [
    "bike_stations['airport'] = 0.0\n",
    "bike_rides['airport'] = 0.0"
   ]
  },
  {
   "cell_type": "markdown",
   "metadata": {},
   "source": [
    "## United Center, McCormick Place catchements"
   ]
  },
  {
   "cell_type": "code",
   "execution_count": 13,
   "metadata": {},
   "outputs": [],
   "source": [
    "uc_building = poi_buildings[poi_buildings['name'] == 'UNITED CENTER']\n",
    "mp_building = poi_buildings[poi_buildings['name'] == 'HYATT REGENCY MCCORMICK PLACE']"
   ]
  },
  {
   "cell_type": "code",
   "execution_count": 14,
   "metadata": {},
   "outputs": [],
   "source": [
    "def buffered_intersects(gdf: gpd.GeoDataFrame, geom:gpd.GeoSeries, geom_prefix:str, dists:list[int]):\n",
    "    \"\"\"\n",
    "    Computes multiple buffer distances around geom and EQUIVALENTLY computes:\n",
    "        - whether each row of gdf intersects buffer\n",
    "        - whether buffer intersects each row of gdf\n",
    "    Params:\n",
    "        - gdf: compares each row of gdf to geom\n",
    "        - geom: the shape to compute buffers around. EXPECTS SINGLE ROW\n",
    "        - geom_prefix: name for resulting buffer comparison column\n",
    "        - dists: list of buffer radii in meters\n",
    "    \"\"\"\n",
    "    assert len(geom) == 1, \"Expects only one geom to buffer around.\"\n",
    "    building_proj = geom.geometry.to_crs(LOCAL_CRS)\n",
    "    buffers = [building_proj.buffer(meter_to_foot(d)) for d in dists]\n",
    "    df_proj = gdf.geometry.to_crs(LOCAL_CRS)\n",
    "    codes = {f\"{geom_prefix}_{d}\": df_proj.intersects(b.iloc[0]) * 1.0 for d,b in zip(dists,buffers)}\n",
    "    return gdf.assign(**codes)"
   ]
  },
  {
   "cell_type": "markdown",
   "metadata": {},
   "source": [
    "**Coded as** *\"is this station within the catchement of the POI\"*"
   ]
  },
  {
   "cell_type": "code",
   "execution_count": 15,
   "metadata": {},
   "outputs": [],
   "source": [
    "# Stations are coded as \n",
    "train_stations = train_stations.pipe(buffered_intersects, uc_building, \"uc\", [400,800,1600])\n",
    "bike_stations = bike_stations.pipe(buffered_intersects, uc_building, \"uc\", [400,800,1600])\n",
    "bike_rides = bike_rides.pipe(buffered_intersects, uc_building, \"uc\", [400,800,1600])\n",
    "bus_stops = bus_stops.pipe(buffered_intersects, uc_building, \"uc\", [400,800,1600])\n",
    "\n",
    "train_stations = train_stations.pipe(buffered_intersects, mp_building, \"mp\", [400,800,1600])\n",
    "bike_stations = bike_stations.pipe(buffered_intersects, mp_building, \"mp\", [400,800,1600])\n",
    "bike_rides = bike_rides.pipe(buffered_intersects, mp_building, \"mp\", [400,800,1600])\n",
    "bus_stops = bus_stops.pipe(buffered_intersects, mp_building, \"mp\", [400,800,1600])"
   ]
  },
  {
   "cell_type": "markdown",
   "metadata": {},
   "source": [
    "**Coded as** *\"is this POI catchement intersecting the tract\"*"
   ]
  },
  {
   "cell_type": "code",
   "execution_count": 16,
   "metadata": {},
   "outputs": [],
   "source": [
    "tract_points = tract_points.pipe(buffered_intersects, uc_building, \"uc\", [400,800,1600])\n",
    "comm_points = comm_points.pipe(buffered_intersects, uc_building, \"uc\", [400,800,1600])\n",
    "\n",
    "tract_points = tract_points.pipe(buffered_intersects, mp_building, \"mp\", [400,800,1600])\n",
    "comm_points = comm_points.pipe(buffered_intersects, mp_building, \"mp\", [400,800,1600])"
   ]
  },
  {
   "cell_type": "markdown",
   "metadata": {},
   "source": [
    "## Tract Membership"
   ]
  },
  {
   "cell_type": "markdown",
   "metadata": {},
   "source": [
    "Label the station tracts so we can aggregate to tract-level to match uber data."
   ]
  },
  {
   "cell_type": "code",
   "execution_count": 17,
   "metadata": {},
   "outputs": [],
   "source": [
    "def code_tract(gdf):\n",
    "    \"\"\"\n",
    "    Spatial join point to census tract\n",
    "    \"\"\"\n",
    "    tracts_proj = tract_points.to_crs(LOCAL_CRS)\n",
    "    gdf_proj = gdf.to_crs(LOCAL_CRS)\n",
    "    comm_proj = comm_points.to_crs(LOCAL_CRS)\n",
    "    coded_tracts = gdf_proj[['geometry']].sjoin(tracts_proj[['geoid10','geometry']], how='left', predicate='within')\n",
    "    coded_comms = gdf_proj[['geometry']].sjoin(comm_proj[['comm_area','geometry']], how='left', predicate='within')\n",
    "    gdf = pd.concat([gdf, \n",
    "                    coded_tracts['geoid10'].rename('tract'), \n",
    "                    coded_comms['comm_area'].rename('comm_area')],\n",
    "                    axis=1)\n",
    "    return gdf"
   ]
  },
  {
   "cell_type": "code",
   "execution_count": 18,
   "metadata": {},
   "outputs": [],
   "source": [
    "train_stations = train_stations.pipe(code_tract)\n",
    "bike_stations = bike_stations.pipe(code_tract)\n",
    "bike_rides = bike_rides.pipe(code_tract)\n",
    "bus_stops = bus_stops.pipe(code_tract)"
   ]
  },
  {
   "cell_type": "code",
   "execution_count": 19,
   "metadata": {},
   "outputs": [
    {
     "name": "stdout",
     "output_type": "stream",
     "text": [
      "Bike rides with unknown tract 0.26%\n"
     ]
    }
   ],
   "source": [
    "print(\"Bike rides with unknown tract {:.2%}\".format(\n",
    "    bike_rides.tract.isna().mean()\n",
    "))"
   ]
  },
  {
   "cell_type": "markdown",
   "metadata": {},
   "source": [
    "At this point 0.2% of bike rides are not strictly within a tract. \n",
    "But they happen to be really close, so let's"
   ]
  },
  {
   "cell_type": "code",
   "execution_count": 20,
   "metadata": {},
   "outputs": [],
   "source": [
    "def code_nearest_tract(gdf):\n",
    "    \"\"\"\n",
    "    Spatial join point to census tract\n",
    "    \"\"\"\n",
    "    tracts_proj = tract_points.to_crs(LOCAL_CRS)\n",
    "    gdf_proj = gdf.to_crs(LOCAL_CRS)\n",
    "    comm_proj = comm_points.to_crs(LOCAL_CRS)\n",
    "    opts = dict(how='left', distance_col='dist', max_distance=meter_to_foot(TOLERANCE))\n",
    "    coded_tracts = gdf_proj[['geometry']].sjoin_nearest(tracts_proj[['geoid10','geometry']], **opts)\n",
    "    coded_comms = gdf_proj[['geometry']].sjoin_nearest(comm_proj[['comm_area','geometry']], **opts)\n",
    "    assert all(coded_tracts.dist <= TOLERANCE)\n",
    "    assert all(coded_comms.dist <= TOLERANCE)\n",
    "    gdf = pd.concat([gdf, \n",
    "                    coded_tracts['geoid10'].rename('tract'), \n",
    "                    coded_comms['comm_area']],\n",
    "                    axis=1)\n",
    "    return gdf"
   ]
  },
  {
   "cell_type": "code",
   "execution_count": 21,
   "metadata": {},
   "outputs": [],
   "source": [
    "bike_rides_nearest = bike_rides[bike_rides.tract.isna()].drop(columns=['tract','comm_area'])\n",
    "bike_rides_nearest = code_nearest_tract(bike_rides_nearest)\n",
    "# Just take first in case any are equidistant.\n",
    "bike_rides_nearest = bike_rides_nearest.loc[bike_rides_nearest.index.drop_duplicates()]\n",
    "assert bike_rides_nearest[['tract','comm_area']].notna().all().all()"
   ]
  },
  {
   "cell_type": "code",
   "execution_count": 22,
   "metadata": {},
   "outputs": [],
   "source": [
    "bike_rides = pd.concat([bike_rides[bike_rides.tract.notna()], \n",
    "                        bike_rides_nearest])"
   ]
  },
  {
   "cell_type": "markdown",
   "metadata": {},
   "source": [
    "## Transit access by tract"
   ]
  },
  {
   "cell_type": "code",
   "execution_count": 23,
   "metadata": {},
   "outputs": [],
   "source": [
    "uber_tracts = tract_points[tract_points.geoid10.isin(uber_rides[uber_rides.unit=='tract']['id'])]\n",
    "uber_tracts = uber_tracts.rename(columns={'geoid10':'id'})\n",
    "uber_comms = comm_points[comm_points.comm_area.isin(uber_rides[uber_rides.unit=='comm']['id'])]\n",
    "uber_comms = uber_comms.rename(columns={'comm_area':'id'})"
   ]
  },
  {
   "cell_type": "code",
   "execution_count": 24,
   "metadata": {},
   "outputs": [],
   "source": [
    "def access_stats(area_df, transit_df, transit_name, area_id, transit_id):\n",
    "    area_centroids = (area_df\n",
    "                      .assign(centroid = area_df.geometry.to_crs(LOCAL_CRS).centroid)\n",
    "                      .set_geometry('centroid')\n",
    "                      .drop(columns=['geometry'])\n",
    "                      .filter([area_id,'centroid']))\n",
    "   \n",
    "    # Note sjoin_nearest is m:m if points are equidistant ==> we further consolidate\n",
    "    access = area_centroids.sjoin_nearest(transit_df[['geometry']].to_crs(LOCAL_CRS), \n",
    "                                           how='left', \n",
    "                                           distance_col=f'{transit_name}_distance') \\\n",
    "                        .groupby(area_id,as_index=False)[f'{transit_name}_distance'].min()\n",
    "\n",
    "    contained = area_df.merge(transit_df, left_on=area_id, right_on=transit_id,\n",
    "                               how='left', validate=\"1:m\") \\\n",
    "                        .groupby(area_id,as_index=False).size() \\\n",
    "                        .rename(columns={'size':f'{transit_name}_contained'})\n",
    "    \n",
    "    area_df = area_df.merge(access).merge(contained)\n",
    "    return area_df"
   ]
  },
  {
   "cell_type": "code",
   "execution_count": 25,
   "metadata": {},
   "outputs": [],
   "source": [
    "tract_points = tract_points.pipe(access_stats, train_stations[['tract','geometry']], 'train', 'geoid10', 'tract')\n",
    "tract_points = tract_points.pipe(access_stats, bike_stations[['tract','geometry']], 'bike', 'geoid10', 'tract')\n",
    "# tract_points = tract_points.pipe(access_stats, bus_stops[['tract','geometry']], 'bus', 'geoid10', 'tract')\n",
    "tract_points = tract_points.pipe(access_stats, uber_tracts[['id','geometry']], 'uber', 'geoid10', 'id')"
   ]
  },
  {
   "cell_type": "code",
   "execution_count": 26,
   "metadata": {},
   "outputs": [],
   "source": [
    "comm_points = comm_points.pipe(access_stats, train_stations[['comm_area','geometry']], 'train', 'comm_area', 'comm_area')\n",
    "comm_points = comm_points.pipe(access_stats, bike_stations[['comm_area','geometry']], 'bike', 'comm_area', 'comm_area')\n",
    "# comm_points = comm_points.pipe(access_stats, bus_stops[['comm_area','geometry']], 'bus', 'comm_area', 'comm_area')\n",
    "comm_points = comm_points.pipe(access_stats, uber_comms[['id','geometry']], 'uber', 'comm_area', 'id')"
   ]
  },
  {
   "cell_type": "markdown",
   "metadata": {},
   "source": [
    "# Time-Varying Features"
   ]
  },
  {
   "cell_type": "markdown",
   "metadata": {},
   "source": [
    "## DNC"
   ]
  },
  {
   "cell_type": "code",
   "execution_count": 27,
   "metadata": {},
   "outputs": [],
   "source": [
    "train_rides['DNC'] = (train_rides['date'] >= DNC_START) & (train_rides['date'] <= DNC_END)\n",
    "bus_rides['DNC'] = (bus_rides['date'] >= DNC_START) & (bus_rides['date'] <= DNC_END)\n",
    "bike_rides['DNC'] = (bike_rides['date'] >= DNC_START) & (bike_rides['date'] <= DNC_END)\n",
    "uber_rides['DNC'] = (uber_rides['date'] >= DNC_START) & (uber_rides['date'] <= DNC_END)"
   ]
  },
  {
   "cell_type": "markdown",
   "metadata": {},
   "source": [
    "## Daytype"
   ]
  },
  {
   "cell_type": "code",
   "execution_count": 28,
   "metadata": {},
   "outputs": [],
   "source": [
    "def label_daytype(df: pd.DataFrame):\n",
    "    return df.assign(\n",
    "        dotw = df.date.apply(lambda x: from_ymd(x).weekday()),\n",
    "        is_weekend = lambda x: x.dotw >= SATURDAY)"
   ]
  },
  {
   "cell_type": "code",
   "execution_count": 29,
   "metadata": {},
   "outputs": [],
   "source": [
    "train_rides = train_rides.pipe(label_daytype)\n",
    "bike_rides = bike_rides.pipe(label_daytype)\n",
    "bus_rides = bus_rides.pipe(label_daytype)\n",
    "uber_rides = uber_rides.pipe(label_daytype)"
   ]
  },
  {
   "cell_type": "markdown",
   "metadata": {},
   "source": [
    "# Pipeline out"
   ]
  },
  {
   "cell_type": "code",
   "execution_count": 30,
   "metadata": {},
   "outputs": [],
   "source": [
    "train_stations.to_file(train_stations_out, index=False)\n",
    "bus_stops.to_file(bus_stops_file_out, index=False)\n",
    "bike_stations.to_file(bike_stations_file_out, index=False)\n",
    "tract_points.to_parquet(tract_file_out, index=False)\n",
    "comm_points.to_file(comm_file_out, index=False)"
   ]
  },
  {
   "cell_type": "code",
   "execution_count": 31,
   "metadata": {},
   "outputs": [],
   "source": [
    "train_rides.to_csv(train_rides_out, index=False)\n",
    "bus_rides.to_csv(bus_rides_out, index=False)\n",
    "bike_rides.to_parquet(bike_rides_out, index=False)\n",
    "uber_rides.to_parquet(uber_rides_out, index=False)"
   ]
  }
 ],
 "metadata": {
  "kernelspec": {
   "display_name": ".venv",
   "language": "python",
   "name": "python3"
  },
  "language_info": {
   "codemirror_mode": {
    "name": "ipython",
    "version": 3
   },
   "file_extension": ".py",
   "mimetype": "text/x-python",
   "name": "python",
   "nbconvert_exporter": "python",
   "pygments_lexer": "ipython3",
   "version": "3.12.6"
  }
 },
 "nbformat": 4,
 "nbformat_minor": 2
}
