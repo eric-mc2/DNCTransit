{
 "cells": [
  {
   "cell_type": "code",
   "execution_count": 1,
   "metadata": {},
   "outputs": [],
   "source": [
    "import geopandas as gpd\n",
    "import pandas as pd\n",
    "import pygris\n",
    "\n",
    "from data.constants import LOCAL_CRS, WORLD_CRS, COMM_AREA_TABLE"
   ]
  },
  {
   "cell_type": "code",
   "execution_count": 2,
   "metadata": {},
   "outputs": [],
   "source": [
    "tract_file_out = \"../data/raw/tracts.geojson\"\n",
    "comm_file_out = \"../data/raw/communities.geojson\""
   ]
  },
  {
   "cell_type": "markdown",
   "metadata": {},
   "source": [
    "# Pipeline in\n",
    "\n",
    "(none)"
   ]
  },
  {
   "cell_type": "markdown",
   "metadata": {},
   "source": [
    "# Census Tracts\n",
    "\n",
    "(For uber stops which are anonymized to tract or community area)"
   ]
  },
  {
   "cell_type": "code",
   "execution_count": 3,
   "metadata": {},
   "outputs": [
    {
     "name": "stdout",
     "output_type": "stream",
     "text": [
      "Using FIPS code '17' for input 'IL'\n",
      "Using FIPS code '031' for input 'cook'\n"
     ]
    }
   ],
   "source": [
    "tracts = pygris.tracts(state='IL', county='cook', cb=True, year=2020, cache=False)\n",
    "tracts = tracts[['GEOID','geometry']].rename(columns={'GEOID':'geoid10'})\n",
    "tracts = tracts.to_crs(WORLD_CRS)\n",
    "tracts['geoid10'] = pd.to_numeric(tracts['geoid10'])\n",
    "tracts['centroid'] = tracts['geometry'].to_crs(LOCAL_CRS).centroid.to_crs(WORLD_CRS).to_wkt()"
   ]
  },
  {
   "cell_type": "code",
   "execution_count": 4,
   "metadata": {},
   "outputs": [],
   "source": [
    "comm_points = gpd.read_file(COMM_AREA_TABLE).filter(['area_num_1','geometry']).drop_duplicates()\n",
    "comm_points['centroid'] = comm_points['geometry'].to_crs(LOCAL_CRS).centroid.to_crs(WORLD_CRS).to_wkt()"
   ]
  },
  {
   "cell_type": "markdown",
   "metadata": {},
   "source": [
    "# Pipeline out"
   ]
  },
  {
   "cell_type": "code",
   "execution_count": 5,
   "metadata": {},
   "outputs": [],
   "source": [
    "comm_points.to_file(comm_file_out, index=False)\n",
    "tracts.to_file(tract_file_out, index=False)"
   ]
  }
 ],
 "metadata": {
  "kernelspec": {
   "display_name": ".venv",
   "language": "python",
   "name": "python3"
  },
  "language_info": {
   "codemirror_mode": {
    "name": "ipython",
    "version": 3
   },
   "file_extension": ".py",
   "mimetype": "text/x-python",
   "name": "python",
   "nbconvert_exporter": "python",
   "pygments_lexer": "ipython3",
   "version": "3.12.6"
  }
 },
 "nbformat": 4,
 "nbformat_minor": 2
}
