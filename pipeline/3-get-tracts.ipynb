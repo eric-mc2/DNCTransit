{
 "cells": [
  {
   "cell_type": "code",
   "execution_count": 1,
   "metadata": {},
   "outputs": [],
   "source": [
    "import os\n",
    "import geopandas as gpd\n",
    "import pandas as pd\n",
    "\n",
    "from data.constants import TRACT_TABLE, LOCAL_CRS, WORLD_CRS, COMM_AREA_TABLE, DATA_FOLDER"
   ]
  },
  {
   "cell_type": "code",
   "execution_count": 2,
   "metadata": {},
   "outputs": [],
   "source": [
    "tract_file = os.path.join(DATA_FOLDER, \"raw\", \"tracts.geojson\")\n",
    "comm_file = os.path.join(DATA_FOLDER, \"raw\", \"communities.geojson\")"
   ]
  },
  {
   "cell_type": "markdown",
   "metadata": {},
   "source": [
    "# Pipeline in\n",
    "\n",
    "(none)"
   ]
  },
  {
   "cell_type": "markdown",
   "metadata": {},
   "source": [
    "# Census Tracts\n",
    "\n",
    "(For uber stops which are anonymized to tract or community area)"
   ]
  },
  {
   "cell_type": "code",
   "execution_count": 3,
   "metadata": {},
   "outputs": [],
   "source": [
    "tract_points = gpd.read_file(TRACT_TABLE).filter(['geoid10','geometry']).drop_duplicates()\n",
    "tract_points['geoid10'] = pd.to_numeric(tract_points['geoid10'])\n",
    "tract_points['centroid'] = tract_points['geometry'].to_crs(LOCAL_CRS).centroid.to_crs(WORLD_CRS).to_wkt()"
   ]
  },
  {
   "cell_type": "code",
   "execution_count": 4,
   "metadata": {},
   "outputs": [],
   "source": [
    "comm_points = gpd.read_file(COMM_AREA_TABLE).filter(['area_num_1','geometry']).drop_duplicates()\n",
    "comm_points['centroid'] = comm_points['geometry'].to_crs(LOCAL_CRS).centroid.to_crs(WORLD_CRS).to_wkt()"
   ]
  },
  {
   "cell_type": "markdown",
   "metadata": {},
   "source": [
    "# Pipeline out"
   ]
  },
  {
   "cell_type": "code",
   "execution_count": 5,
   "metadata": {},
   "outputs": [],
   "source": [
    "comm_points.to_file(comm_file, index=False)\n",
    "tract_points.to_file(tract_file, index=False)"
   ]
  }
 ],
 "metadata": {
  "kernelspec": {
   "display_name": ".venv",
   "language": "python",
   "name": "python3"
  },
  "language_info": {
   "codemirror_mode": {
    "name": "ipython",
    "version": 3
   },
   "file_extension": ".py",
   "mimetype": "text/x-python",
   "name": "python",
   "nbconvert_exporter": "python",
   "pygments_lexer": "ipython3",
   "version": "3.12.6"
  }
 },
 "nbformat": 4,
 "nbformat_minor": 2
}
