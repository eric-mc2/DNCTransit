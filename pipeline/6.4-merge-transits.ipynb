{
 "cells": [
  {
   "cell_type": "code",
   "execution_count": 1,
   "metadata": {},
   "outputs": [],
   "source": [
    "import geopandas as gpd\n",
    "import pandas as pd"
   ]
  },
  {
   "cell_type": "code",
   "execution_count": 2,
   "metadata": {},
   "outputs": [],
   "source": [
    "train_station_rides_in = \"../data/final/train_station_rides.parquet\"\n",
    "train_line_rides_in = \"../data/final/train_line_rides.parquet\"\n",
    "bus_rides_in = \"../data/final/bus_rides.parquet\"\n",
    "bike_rides_in = \"../data/final/bike_rides.geoparquet\"\n",
    "uber_tract_rides_in = \"../data/final/uber_tract_rides.parquet\"\n",
    "uber_comm_rides_in = \"../data/final/uber_comm_rides.parquet\"\n",
    "\n",
    "tract_file_in = \"../data/interim/tracts.geoparquet\"\n",
    "comm_file_in = \"../data/interim/communities.geojson\"\n",
    "\n",
    "point_panel_out = \"../data/interim/point_panel.parquet\"\n",
    "line_panel_out = \"../data/interim/line_panel.parquet\"\n",
    "tract_panel_out = \"../data/interim/tract_panel.parquet\"\n",
    "comm_panel_out = \"../data/interim/comm_panel.parquet\"\n",
    "\n"
   ]
  },
  {
   "cell_type": "markdown",
   "metadata": {},
   "source": [
    "# Pipeline in"
   ]
  },
  {
   "cell_type": "code",
   "execution_count": 3,
   "metadata": {},
   "outputs": [],
   "source": [
    "tracts = gpd.read_parquet(tract_file_in)\n",
    "comms = gpd.read_file(comm_file_in)\n",
    "\n",
    "train_rides = gpd.read_parquet(train_station_rides_in)\n",
    "train_line_rides = gpd.read_parquet(train_line_rides_in)\n",
    "bus_rides = gpd.read_parquet(bus_rides_in)\n",
    "bike_rides = gpd.read_parquet(bike_rides_in)\n",
    "uber_tract_rides = gpd.read_parquet(uber_tract_rides_in)\n",
    "uber_comm_rides = gpd.read_parquet(uber_comm_rides_in)"
   ]
  },
  {
   "cell_type": "markdown",
   "metadata": {},
   "source": [
    "# Panels"
   ]
  },
  {
   "cell_type": "code",
   "execution_count": 4,
   "metadata": {},
   "outputs": [],
   "source": [
    "def combine_panels(bus=None, train=None, bike=None, uber=None):\n",
    "    # prepend categorical transit type and only take common columns\n",
    "    dfs = zip([bus,train,bike,uber],['bus','train','bike','uber'])\n",
    "    dfs, keys = zip(*filter(lambda x: x[0] is not None and not x[0].empty, dfs))\n",
    "    # note: to use keys and still ignore the index, we have to just reset it later.\n",
    "    panel = pd.concat(dfs, ignore_index=False, join='inner',\n",
    "                      keys=keys, names=['transit'])\n",
    "    panel = panel.reset_index(level='transit').reset_index(drop=True)\n",
    "    panel['tid'] = panel['transit'] + \"_\" + panel['id'].astype(str)\n",
    "    return panel"
   ]
  },
  {
   "cell_type": "markdown",
   "metadata": {},
   "source": [
    "## Point Panel"
   ]
  },
  {
   "cell_type": "code",
   "execution_count": 5,
   "metadata": {},
   "outputs": [],
   "source": [
    "# Only taking naturally station-level data to avoid heteroskedasticity issues.\n",
    "\n",
    "point_panel = combine_panels(train=train_rides.assign(id = train_rides['station_id'].astype(str)),\n",
    "                            bike=bike_rides.rename(columns={\"station_name\":\"id\"}))"
   ]
  },
  {
   "cell_type": "markdown",
   "metadata": {},
   "source": [
    "## Line Panel"
   ]
  },
  {
   "cell_type": "code",
   "execution_count": 6,
   "metadata": {},
   "outputs": [],
   "source": [
    "# Only taking trivially line-level data to avoid heteroskedasticity issues.\n",
    "\n",
    "line_panel = combine_panels(bus=bus_rides.rename(columns={'route':'id'}),\n",
    "                            train=train_line_rides.rename(columns={'line':'id'}))"
   ]
  },
  {
   "cell_type": "markdown",
   "metadata": {},
   "source": [
    "## Tract Panel"
   ]
  },
  {
   "cell_type": "markdown",
   "metadata": {},
   "source": [
    "Requires spatially aggregating train and bike rides. Not taking bus rides because\n",
    "diaggregating is too imprecise."
   ]
  },
  {
   "cell_type": "code",
   "execution_count": 7,
   "metadata": {},
   "outputs": [],
   "source": [
    "id_cols = ['tract','date','dotw','is_weekend','DNC']\n",
    "\n",
    "train_rides_by_tract = train_rides[id_cols + ['rides']].groupby(id_cols).sum().reset_index()\n",
    "bike_rides_by_tract = bike_rides[id_cols + ['start_rides','end_rides','rides']].groupby(id_cols).sum().reset_index()\n",
    "uber_rides_by_tract = uber_tract_rides.rename(columns={'id':'tract'})[id_cols + ['start_rides','end_rides','rides']].groupby(id_cols).sum().reset_index()"
   ]
  },
  {
   "cell_type": "code",
   "execution_count": 8,
   "metadata": {},
   "outputs": [],
   "source": [
    "tract_rides = combine_panels(train=train_rides_by_tract.rename(columns={\"tract\":\"id\"}),\n",
    "                             bike=bike_rides_by_tract.rename(columns={\"tract\":\"id\"}),\n",
    "                             uber=uber_rides_by_tract.rename(columns={\"tract\":\"id\"}))"
   ]
  },
  {
   "cell_type": "code",
   "execution_count": 9,
   "metadata": {},
   "outputs": [],
   "source": [
    "# Re-integrate tract-level features:\n",
    "tract_panel = tracts.merge(tract_rides, right_on='id', left_on='geoid10')\n",
    "tract_panel = tract_panel.drop(columns=['centroid','geoid10'])"
   ]
  },
  {
   "cell_type": "markdown",
   "metadata": {},
   "source": [
    "## Comm Area Panel"
   ]
  },
  {
   "cell_type": "code",
   "execution_count": 10,
   "metadata": {},
   "outputs": [],
   "source": [
    "id_cols = ['comm_area','date','dotw','is_weekend','DNC']\n",
    "\n",
    "train_rides_by_comm = train_rides[id_cols + ['rides']].groupby(id_cols).sum().reset_index()\n",
    "bike_rides_by_comm = bike_rides[id_cols + ['start_rides','end_rides','rides']].groupby(id_cols).sum().reset_index()\n",
    "uber_rides_by_comm = uber_comm_rides.rename(columns={'id':'comm_area'})[id_cols + ['start_rides','end_rides','rides']].groupby(id_cols).sum().reset_index()"
   ]
  },
  {
   "cell_type": "code",
   "execution_count": 11,
   "metadata": {},
   "outputs": [],
   "source": [
    "comm_rides = combine_panels(train=train_rides_by_comm.rename(columns={\"comm_area\":\"id\"}),\n",
    "                             bike=bike_rides_by_comm.rename(columns={\"comm_area\":\"id\"}),\n",
    "                             uber=uber_rides_by_comm.rename(columns={\"comm_area\":\"id\"}))"
   ]
  },
  {
   "cell_type": "code",
   "execution_count": 12,
   "metadata": {},
   "outputs": [],
   "source": [
    "comm_panel = comms.merge(comm_rides, right_on='id', left_on='comm_area')\n",
    "comm_panel = comm_panel.drop(columns=['centroid','comm_area'])"
   ]
  },
  {
   "cell_type": "markdown",
   "metadata": {},
   "source": [
    "# Pipeline out"
   ]
  },
  {
   "cell_type": "code",
   "execution_count": 13,
   "metadata": {},
   "outputs": [],
   "source": [
    "point_panel.to_parquet(point_panel_out, index=False)\n",
    "line_panel.to_parquet(line_panel_out, index=False)\n",
    "tract_panel.to_parquet(tract_panel_out, index=False)\n",
    "comm_panel.to_parquet(comm_panel_out, index=False)"
   ]
  }
 ],
 "metadata": {
  "kernelspec": {
   "display_name": ".venv",
   "language": "python",
   "name": "python3"
  },
  "language_info": {
   "codemirror_mode": {
    "name": "ipython",
    "version": 3
   },
   "file_extension": ".py",
   "mimetype": "text/x-python",
   "name": "python",
   "nbconvert_exporter": "python",
   "pygments_lexer": "ipython3",
   "version": "3.12.6"
  }
 },
 "nbformat": 4,
 "nbformat_minor": 2
}
