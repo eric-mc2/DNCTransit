{
 "cells": [
  {
   "cell_type": "code",
   "execution_count": 2,
   "metadata": {},
   "outputs": [],
   "source": [
    "import os\n",
    "import pandas as pd\n",
    "\n",
    "from data.constants import WORLD_CRS, DATA_FOLDER\n",
    "from data.divvy import DivvyClient\n",
    "from data.geo import project_gdf"
   ]
  },
  {
   "cell_type": "code",
   "execution_count": 4,
   "metadata": {},
   "outputs": [],
   "source": [
    "bike_stations_file = os.path.join(DATA_FOLDER, \"raw\", \"bike_stations.geojson\")"
   ]
  },
  {
   "cell_type": "code",
   "execution_count": 3,
   "metadata": {},
   "outputs": [],
   "source": [
    "client = DivvyClient()"
   ]
  },
  {
   "cell_type": "markdown",
   "metadata": {},
   "source": [
    "# Pipeline in\n",
    "\n",
    "(none)"
   ]
  },
  {
   "cell_type": "markdown",
   "metadata": {},
   "source": [
    "# Bike Stations"
   ]
  },
  {
   "cell_type": "code",
   "execution_count": 5,
   "metadata": {},
   "outputs": [
    {
     "name": "stderr",
     "output_type": "stream",
     "text": [
      "17it [00:20,  1.23s/it]\n"
     ]
    }
   ],
   "source": [
    "bike_stations = client.s3_bike_stations()"
   ]
  },
  {
   "cell_type": "code",
   "execution_count": 6,
   "metadata": {},
   "outputs": [],
   "source": [
    "# # Some data is projected and some is not so we need to reproject to combine.\n",
    "# from collections import Counter\n",
    "# Counter([x.crs.to_authority() for x in bike_stations])\n",
    "# # Actually only one of the files was projected so we will un-project everything."
   ]
  },
  {
   "cell_type": "code",
   "execution_count": 7,
   "metadata": {},
   "outputs": [],
   "source": [
    "bike_stations = [project_gdf(x, WORLD_CRS) for x in bike_stations]\n",
    "# Now we can combine.\n",
    "# note: station_id are floats on all normalized tables!\n",
    "bike_stations = pd.concat(bike_stations, ignore_index=True).drop_duplicates()\n",
    "bike_stations = bike_stations.drop(columns=['latitude', 'longitude'])"
   ]
  },
  {
   "cell_type": "markdown",
   "metadata": {},
   "source": [
    "# Pipeline out\n"
   ]
  },
  {
   "cell_type": "code",
   "execution_count": 9,
   "metadata": {},
   "outputs": [
    {
     "name": "stderr",
     "output_type": "stream",
     "text": [
      "/Users/eric/Dev/DNCTransit/.venv/lib/python3.12/site-packages/pyogrio/raw.py:723: RuntimeWarning: Infinite or NaN coordinate encountered\n",
      "  ogr_write(\n"
     ]
    }
   ],
   "source": [
    "bike_stations.to_file(bike_stations_file, index=False)"
   ]
  }
 ],
 "metadata": {
  "kernelspec": {
   "display_name": ".venv",
   "language": "python",
   "name": "python3"
  },
  "language_info": {
   "codemirror_mode": {
    "name": "ipython",
    "version": 3
   },
   "file_extension": ".py",
   "mimetype": "text/x-python",
   "name": "python",
   "nbconvert_exporter": "python",
   "pygments_lexer": "ipython3",
   "version": "3.12.6"
  }
 },
 "nbformat": 4,
 "nbformat_minor": 2
}
