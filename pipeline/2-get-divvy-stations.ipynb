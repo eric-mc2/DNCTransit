{
 "cells": [
  {
   "cell_type": "code",
   "execution_count": null,
   "metadata": {},
   "outputs": [],
   "source": [
    "import pandas as pd\n",
    "import numpy as np\n",
    "\n",
    "from data.constants import WORLD_CRS\n",
    "from data.divvy import DivvyClient\n",
    "from data.geo import project_gdf"
   ]
  },
  {
   "cell_type": "code",
   "execution_count": null,
   "metadata": {},
   "outputs": [],
   "source": [
    "bike_stations_file = \"../data/raw/bike_stations.geojson\""
   ]
  },
  {
   "cell_type": "code",
   "execution_count": 42,
   "metadata": {},
   "outputs": [],
   "source": [
    "client = DivvyClient()"
   ]
  },
  {
   "cell_type": "markdown",
   "metadata": {},
   "source": [
    "# Pipeline in\n",
    "\n",
    "(none)"
   ]
  },
  {
   "cell_type": "markdown",
   "metadata": {},
   "source": [
    "# Bike Stations"
   ]
  },
  {
   "cell_type": "code",
   "execution_count": 43,
   "metadata": {},
   "outputs": [
    {
     "name": "stdout",
     "output_type": "stream",
     "text": [
      "DEBUG: populating bucket paths.\n"
     ]
    }
   ],
   "source": [
    "bike_stations = client.s3_bike_stations()"
   ]
  },
  {
   "cell_type": "code",
   "execution_count": 44,
   "metadata": {},
   "outputs": [],
   "source": [
    "# # Some data is projected and some is not so we need to reproject to combine.\n",
    "# from collections import Counter\n",
    "# Counter([x.crs.to_authority() for x in bike_stations])\n",
    "# # Actually only one of the files was projected so we will un-project everything."
   ]
  },
  {
   "cell_type": "code",
   "execution_count": 45,
   "metadata": {},
   "outputs": [
    {
     "name": "stdout",
     "output_type": "stream",
     "text": [
      "Dropping 1 null geoms\n"
     ]
    }
   ],
   "source": [
    "bike_stations = [project_gdf(x, WORLD_CRS) for x in bike_stations]\n",
    "# Now we can combine.\n",
    "# note: station_id are floats on all normalized tables!\n",
    "bike_stations = pd.concat(bike_stations, ignore_index=True).drop_duplicates()\n",
    "null_geoms = (np.isnan(bike_stations[['longitude','latitude']]).any(axis=1) | \n",
    "              np.isinf(bike_stations[['longitude','latitude']]).any(axis=1) |\n",
    "              np.isnan(bike_stations['geometry'].x) | \n",
    "              np.isinf(bike_stations['geometry'].x) | \n",
    "              np.isnan(bike_stations['geometry'].y) | \n",
    "              np.isinf(bike_stations['geometry'].y))\n",
    "print(\"Dropping {} null geoms\".format(null_geoms.sum()))\n",
    "bike_stations = bike_stations[~null_geoms]\n",
    "bike_stations = bike_stations.drop(columns=['latitude', 'longitude'])"
   ]
  },
  {
   "cell_type": "markdown",
   "metadata": {},
   "source": [
    "# Pipeline out\n"
   ]
  },
  {
   "cell_type": "code",
   "execution_count": 46,
   "metadata": {},
   "outputs": [],
   "source": [
    "bike_stations.to_file(bike_stations_file, index=False)"
   ]
  }
 ],
 "metadata": {
  "kernelspec": {
   "display_name": ".venv",
   "language": "python",
   "name": "python3"
  },
  "language_info": {
   "codemirror_mode": {
    "name": "ipython",
    "version": 3
   },
   "file_extension": ".py",
   "mimetype": "text/x-python",
   "name": "python",
   "nbconvert_exporter": "python",
   "pygments_lexer": "ipython3",
   "version": "3.12.6"
  }
 },
 "nbformat": 4,
 "nbformat_minor": 2
}
