{
 "cells": [
  {
   "cell_type": "code",
   "execution_count": 1,
   "metadata": {},
   "outputs": [],
   "source": [
    "import geopandas as gpd\n",
    "import pandas as pd\n",
    "from calendar import SATURDAY\n",
    "\n",
    "from data.constants import (DNC_START, DNC_END)\n",
    "from data.datemath import from_ymd"
   ]
  },
  {
   "cell_type": "code",
   "execution_count": 2,
   "metadata": {},
   "outputs": [],
   "source": [
    "train_rides_in = \"../data/raw/train_rides.csv\"\n",
    "bus_rides_in = \"../data/raw/bus_rides.csv\"\n",
    "bike_rides_in = \"../data/interim/bike_rides_v3.geoparquet\"\n",
    "uber_tract_rides_in = \"../data/raw/uber_tract_rides.parquet\"\n",
    "uber_comm_rides_in = \"../data/raw/uber_comm_rides.parquet\"\n",
    "\n",
    "train_rides_out = \"../data/interim/train_rides.csv\"\n",
    "bus_rides_out = \"../data/interim/bus_rides.csv\"\n",
    "bike_rides_out = \"../data/interim/bike_rides_v4.geoparquet\"\n",
    "uber_tract_rides_out = \"../data/interim/uber_tract_rides.parquet\"\n",
    "uber_comm_rides_out = \"../data/interim/uber_comm_rides.parquet\""
   ]
  },
  {
   "cell_type": "markdown",
   "metadata": {},
   "source": [
    "# Pipeline in"
   ]
  },
  {
   "cell_type": "code",
   "execution_count": 3,
   "metadata": {},
   "outputs": [],
   "source": [
    "train_rides = pd.read_csv(train_rides_in)\n",
    "bus_rides = pd.read_csv(bus_rides_in)\n",
    "bike_rides = gpd.read_parquet(bike_rides_in)\n",
    "uber_tract_rides = pd.read_parquet(uber_tract_rides_in)\n",
    "uber_comm_rides = pd.read_parquet(uber_comm_rides_in)"
   ]
  },
  {
   "cell_type": "markdown",
   "metadata": {},
   "source": [
    "# Time-Varying Features"
   ]
  },
  {
   "cell_type": "markdown",
   "metadata": {},
   "source": [
    "## DNC"
   ]
  },
  {
   "cell_type": "code",
   "execution_count": 4,
   "metadata": {},
   "outputs": [],
   "source": [
    "train_rides['DNC'] = (train_rides['date'] >= DNC_START) & (train_rides['date'] <= DNC_END)\n",
    "bus_rides['DNC'] = (bus_rides['date'] >= DNC_START) & (bus_rides['date'] <= DNC_END)\n",
    "bike_rides['DNC'] = (bike_rides['date'] >= DNC_START) & (bike_rides['date'] <= DNC_END)\n",
    "uber_tract_rides['DNC'] = (uber_tract_rides['date'] >= DNC_START) & (uber_tract_rides['date'] <= DNC_END)\n",
    "uber_comm_rides['DNC'] = (uber_comm_rides['date'] >= DNC_START) & (uber_comm_rides['date'] <= DNC_END)"
   ]
  },
  {
   "cell_type": "markdown",
   "metadata": {},
   "source": [
    "## Daytype"
   ]
  },
  {
   "cell_type": "code",
   "execution_count": 5,
   "metadata": {},
   "outputs": [],
   "source": [
    "def label_daytype(df: pd.DataFrame):\n",
    "    return df.assign(\n",
    "        dotw = df.date.apply(lambda x: from_ymd(x).weekday()),\n",
    "        is_weekend = lambda x: x.dotw >= SATURDAY)"
   ]
  },
  {
   "cell_type": "code",
   "execution_count": 6,
   "metadata": {},
   "outputs": [],
   "source": [
    "train_rides = train_rides.pipe(label_daytype)\n",
    "bike_rides = bike_rides.pipe(label_daytype)\n",
    "bus_rides = bus_rides.pipe(label_daytype)\n",
    "uber_tract_rides = uber_tract_rides.pipe(label_daytype)\n",
    "uber_comm_rides = uber_comm_rides.pipe(label_daytype)"
   ]
  },
  {
   "cell_type": "markdown",
   "metadata": {},
   "source": [
    "# Pipeline out"
   ]
  },
  {
   "cell_type": "code",
   "execution_count": 7,
   "metadata": {},
   "outputs": [],
   "source": [
    "train_rides.to_csv(train_rides_out, index=False)\n",
    "bus_rides.to_csv(bus_rides_out, index=False)\n",
    "bike_rides.to_parquet(bike_rides_out, index=False)\n",
    "uber_tract_rides.to_parquet(uber_tract_rides_out, index=False)\n",
    "uber_comm_rides.to_parquet(uber_comm_rides_out, index=False)"
   ]
  }
 ],
 "metadata": {
  "kernelspec": {
   "display_name": ".venv",
   "language": "python",
   "name": "python3"
  },
  "language_info": {
   "codemirror_mode": {
    "name": "ipython",
    "version": 3
   },
   "file_extension": ".py",
   "mimetype": "text/x-python",
   "name": "python",
   "nbconvert_exporter": "python",
   "pygments_lexer": "ipython3",
   "version": "3.12.6"
  }
 },
 "nbformat": 4,
 "nbformat_minor": 2
}
