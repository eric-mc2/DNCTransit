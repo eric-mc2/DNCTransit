{
 "cells": [
  {
   "cell_type": "code",
   "execution_count": 55,
   "metadata": {},
   "outputs": [],
   "source": [
    "import requests\n",
    "from bs4 import BeautifulSoup\n",
    "import json\n",
    "import pandas as pd\n",
    "import time\n",
    "import numpy as np\n",
    "import os\n",
    "from data.datemath import to_ymd"
   ]
  },
  {
   "cell_type": "code",
   "execution_count": 15,
   "metadata": {},
   "outputs": [],
   "source": [
    "events_out = \"../data/raw/events-2024-mccormick.json\"\n",
    "attend_in = \"../data/interim/sports.csv\"\n",
    "attend_out = \"../data/interim/attendance.csv\""
   ]
  },
  {
   "cell_type": "markdown",
   "metadata": {},
   "source": [
    "# Scrape"
   ]
  },
  {
   "cell_type": "code",
   "execution_count": 16,
   "metadata": {},
   "outputs": [],
   "source": [
    "# Base URL\n",
    "base_url = \"https://tradefest.io\"\n",
    "\n",
    "# Target URL\n",
    "main_url = \"https://tradefest.io/en/selection/events-at-mccormick-place-convention-center\"\n",
    "\n",
    "# Headers to mimic a browser\n",
    "headers = {\n",
    "    \"User-Agent\": \"Mozilla/5.0 (Windows NT 10.0; Win64; x64) AppleWebKit/537.36 (KHTML, like Gecko) Chrome/114.0.0.0 Safari/537.36\"\n",
    "}"
   ]
  },
  {
   "cell_type": "code",
   "execution_count": 17,
   "metadata": {},
   "outputs": [],
   "source": [
    "def get_event_links(url):\n",
    "    \"\"\"Scrape the main page to collect event links.\"\"\"\n",
    "    response = requests.get(url, headers=headers)\n",
    "    soup = BeautifulSoup(response.text, \"html.parser\")\n",
    "\n",
    "    # Find event links in the main list\n",
    "    event_links = []\n",
    "    for link in soup.select(\"div.chakra-stack.css-10r84p2 a[href^='/en/event/']\"):\n",
    "        event_links.append(base_url + link[\"href\"])\n",
    "\n",
    "    return event_links\n",
    "\n",
    "def scrape_event_page(url):\n",
    "    \"\"\"Extract Date, Venue, and Attendees from an event page.\"\"\"\n",
    "    response = requests.get(url, headers=headers)\n",
    "    soup = BeautifulSoup(response.text, \"html.parser\")\n",
    "\n",
    "    # Extract data fields\n",
    "    data = {}\n",
    "    data[\"url\"] = url\n",
    "\n",
    "    # Date\n",
    "    date_element = soup.select_one(\"p.chakra-text.css-1wezswy:-soup-contains('Date:')\")\n",
    "    data[\"date\"] = date_element.text.strip() if date_element else \"N/A\"\n",
    "\n",
    "    # Venue\n",
    "    venue_element = soup.select_one(\"p.chakra-text.css-1wezswy:-soup-contains('Venue')\")\n",
    "    data[\"venue\"] = venue_element.text.strip() if venue_element else \"N/A\"\n",
    "\n",
    "    # Attendees\n",
    "    attendees_element = soup.select_one(\"p.chakra-text.css-1wezswy:-soup-contains('Expected number of attendees')\")\n",
    "    data[\"attendees\"] = attendees_element.text.strip() if attendees_element else \"N/A\"\n",
    "\n",
    "    return data\n"
   ]
  },
  {
   "cell_type": "code",
   "execution_count": 18,
   "metadata": {},
   "outputs": [
    {
     "name": "stdout",
     "output_type": "stream",
     "text": [
      "Found 30 event links.\n"
     ]
    }
   ],
   "source": [
    "\n",
    "# Get all event links from the main page\n",
    "event_links = get_event_links(main_url)\n",
    "print(f\"Found {len(event_links)} event links.\")\n"
   ]
  },
  {
   "cell_type": "code",
   "execution_count": 19,
   "metadata": {},
   "outputs": [],
   "source": [
    "\n",
    "# Scrape data from each event page\n",
    "if not os.path.exists(events_out):\n",
    "    all_data = []\n",
    "    for i, link in enumerate(event_links):\n",
    "        print(f\"Scraping {i + 1}/{len(event_links)}: {link}\")\n",
    "        try:\n",
    "            event_data = scrape_event_page(link)\n",
    "            all_data.append(event_data)\n",
    "        except Exception as e:\n",
    "            print(f\"Error scraping {link}: {e}\")\n",
    "        time.sleep(1)  # Add a delay to avoid overwhelming the server\n",
    "else:\n",
    "    with open(events_out, \"r\", encoding=\"utf-8\") as f:\n",
    "        all_data = json.load(f)"
   ]
  },
  {
   "cell_type": "code",
   "execution_count": 20,
   "metadata": {},
   "outputs": [],
   "source": [
    "# Save the data to a JSON file\n",
    "with open(events_out, \"w\", encoding=\"utf-8\") as f:\n",
    "    json.dump(all_data, f, ensure_ascii=False, indent=4)"
   ]
  },
  {
   "cell_type": "markdown",
   "metadata": {},
   "source": [
    "# Clean"
   ]
  },
  {
   "cell_type": "code",
   "execution_count": 56,
   "metadata": {},
   "outputs": [],
   "source": [
    "df = pd.DataFrame.from_records(all_data)"
   ]
  },
  {
   "cell_type": "code",
   "execution_count": 57,
   "metadata": {},
   "outputs": [],
   "source": [
    "df['name'] = df['url'].str.extract(r\"https://tradefest.io/en/event/(.*)\")\n",
    "df['attendees'] = df['attendees'].str.extract(r\"(\\d+)\").astype(float)\n",
    "assert df.venue.str.contains('McCormick Place').all()\n",
    "def extract_date(x: pd.DataFrame):\n",
    "    date_from = x.date.str.extract(r\"Date: from (.*) to .* \\(\\d+ days?\\)\")\n",
    "    date_to = x.date.str.extract(r\"Date: from .* to (.*) \\(\\d+ days?\\)\")\n",
    "    date_fromto = x.date.str.extract(r\"Date: (.*) \\(1 day\\)\")\n",
    "    x['date_from'] = date_from.fillna(date_fromto)\n",
    "    x['date_to'] = date_to.fillna(date_fromto)\n",
    "    return x\n",
    "df = df.pipe(extract_date)"
   ]
  },
  {
   "cell_type": "code",
   "execution_count": 58,
   "metadata": {},
   "outputs": [],
   "source": [
    "df['dates'] = df.apply(lambda x: pd.date_range(x.date_from, x.date_to), axis=1)"
   ]
  },
  {
   "cell_type": "code",
   "execution_count": 59,
   "metadata": {},
   "outputs": [],
   "source": [
    "exploded = df.explode('dates')\n",
    "exploded['dates'] = exploded['dates'].apply(to_ymd)"
   ]
  },
  {
   "cell_type": "code",
   "execution_count": 69,
   "metadata": {},
   "outputs": [],
   "source": [
    "mc_attend = (exploded.groupby('dates',as_index=False)\n",
    "    .agg({'attendees':'sum'})\n",
    "    .rename(columns={'name': 'n_events', 'dates': 'date', 'attendees': 'attendance'})\n",
    "    .assign(team = 'events', stadium = 'mccormick place')\n",
    "    .dropna(subset='attendance'))"
   ]
  },
  {
   "cell_type": "markdown",
   "metadata": {},
   "source": [
    "# Merge to attendance"
   ]
  },
  {
   "cell_type": "code",
   "execution_count": 70,
   "metadata": {},
   "outputs": [],
   "source": [
    "attend = pd.read_csv(attend_in)"
   ]
  },
  {
   "cell_type": "code",
   "execution_count": 71,
   "metadata": {},
   "outputs": [],
   "source": [
    "assert all(~attend.loc[attend.stadium == 'mccormick place'].date.isin(mc_attend.date))"
   ]
  },
  {
   "cell_type": "code",
   "execution_count": 72,
   "metadata": {},
   "outputs": [],
   "source": [
    "attend = pd.concat([attend, mc_attend])"
   ]
  },
  {
   "cell_type": "code",
   "execution_count": 73,
   "metadata": {},
   "outputs": [],
   "source": [
    "attend.to_csv(attend_out, index=False)"
   ]
  }
 ],
 "metadata": {
  "kernelspec": {
   "display_name": ".venv",
   "language": "python",
   "name": "python3"
  },
  "language_info": {
   "codemirror_mode": {
    "name": "ipython",
    "version": 3
   },
   "file_extension": ".py",
   "mimetype": "text/x-python",
   "name": "python",
   "nbconvert_exporter": "python",
   "pygments_lexer": "ipython3",
   "version": "3.12.6"
  }
 },
 "nbformat": 4,
 "nbformat_minor": 2
}
