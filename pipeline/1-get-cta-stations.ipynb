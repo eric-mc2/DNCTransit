{
 "cells": [
  {
   "cell_type": "code",
   "execution_count": 1,
   "metadata": {},
   "outputs": [],
   "source": [
    "import geopandas as gpd\n",
    "import os\n",
    "from shapely.geometry import shape\n",
    "\n",
    "from data.constants import (DATA_FOLDER, WORLD_CRS, \n",
    "    L_STATIONS_TABLE, BUS_ROUTES_TABLE, BUS_STOPS_TABLE)\n",
    "from data.cta import CTAClient"
   ]
  },
  {
   "cell_type": "code",
   "execution_count": 2,
   "metadata": {},
   "outputs": [],
   "source": [
    "train_file_out = os.path.join(DATA_FOLDER, \"raw\", \"train_stations.geojson\")\n",
    "bus_routes_file_out = os.path.join(DATA_FOLDER, \"raw\", \"bus_routes.geojson\")\n",
    "bus_stops_file_out = os.path.join(DATA_FOLDER, \"raw\", \"bus_stops.geojson\")"
   ]
  },
  {
   "cell_type": "code",
   "execution_count": 3,
   "metadata": {},
   "outputs": [
    {
     "name": "stderr",
     "output_type": "stream",
     "text": [
      "WARNING:root:Requests made without an app_token will be subject to strict throttling limits.\n"
     ]
    }
   ],
   "source": [
    "client = CTAClient(60)"
   ]
  },
  {
   "cell_type": "markdown",
   "metadata": {},
   "source": [
    "# Pipeline in\n",
    "\n",
    "(none)"
   ]
  },
  {
   "cell_type": "markdown",
   "metadata": {},
   "source": [
    "# Train Stations"
   ]
  },
  {
   "cell_type": "code",
   "execution_count": 4,
   "metadata": {},
   "outputs": [],
   "source": [
    "train_stations = client.soda_get_all(L_STATIONS_TABLE, select=\"stop_id, direction_id, stop_name, station_name, map_id, location\")"
   ]
  },
  {
   "cell_type": "code",
   "execution_count": 5,
   "metadata": {},
   "outputs": [],
   "source": [
    "# train_stations['location'].apply(shape) # is not working!\n",
    "train_stations['latitude'] = train_stations['location'].apply(lambda x: x['latitude'])\n",
    "train_stations['longitude'] = train_stations['location'].apply(lambda x: x['longitude'])\n",
    "train_stations['geometry'] = gpd.points_from_xy(train_stations['longitude'], train_stations['latitude'])\n",
    "train_stations = train_stations.drop(columns=['location', 'latitude', 'longitude'])\n",
    "train_stations = gpd.GeoDataFrame(train_stations, geometry='geometry',crs=WORLD_CRS)\n",
    "# nb: Each train station is represented as two \"stops\" per station: one in each direction.\n",
    "#     For our purposes, since we don't model the direction of travel, we will drop the redundant \"stop\".\n",
    "train_stations = train_stations.drop_duplicates(['station_name','map_id','geometry'])"
   ]
  },
  {
   "cell_type": "markdown",
   "metadata": {},
   "source": [
    "# Bus Routes"
   ]
  },
  {
   "cell_type": "code",
   "execution_count": 6,
   "metadata": {},
   "outputs": [],
   "source": [
    "bus_routes =  client.soda_get_all(BUS_ROUTES_TABLE, select=\"the_geom, route, name\")\n",
    "bus_routes['geometry'] = bus_routes['the_geom'].apply(shape)\n",
    "bus_routes = bus_routes.drop(columns='the_geom')\n",
    "bus_routes = gpd.GeoDataFrame(bus_routes, geometry='geometry',crs=WORLD_CRS)"
   ]
  },
  {
   "cell_type": "markdown",
   "metadata": {},
   "source": [
    "# Bus Stops"
   ]
  },
  {
   "cell_type": "code",
   "execution_count": 7,
   "metadata": {},
   "outputs": [],
   "source": [
    "bus_stops = gpd.read_file(BUS_STOPS_TABLE, columns=['STREET','CROSS_ST','CITY','PUBLIC_NAM','ROUTESSTPG','geometry'])\n",
    "bus_stops = bus_stops.rename(columns={'PUBLIC_NAM':'PUBLIC_NAME'})\n",
    "# STREET CROSS_ST CITY is the composite non-unique PK for this table\n",
    "#   - it is not unique due to large multi-bay transit centers that are conceptually co-located\n",
    "# PUBLIC_NAM is human-readable but it is ambiguous concerning:\n",
    "#   - repeated street names in chicago vs evanston\n",
    "#   - repeated street/transit intersections across chicago e.g. Western"
   ]
  },
  {
   "cell_type": "code",
   "execution_count": 8,
   "metadata": {},
   "outputs": [
    {
     "name": "stdout",
     "output_type": "stream",
     "text": [
      "Dropping 4 rows\n"
     ]
    }
   ],
   "source": [
    "# Drop bus stops without route labels. Won't be able to get ridership for these.\n",
    "print(\"Dropping {} rows\".format(bus_stops['ROUTESSTPG'].isna().sum()))\n",
    "bus_stops = bus_stops.dropna(subset='ROUTESSTPG')"
   ]
  },
  {
   "cell_type": "code",
   "execution_count": 9,
   "metadata": {},
   "outputs": [
    {
     "name": "stdout",
     "output_type": "stream",
     "text": [
      "Imputing 1 rows\n"
     ]
    }
   ],
   "source": [
    "# Impute city for unknown cities\n",
    "print(\"Imputing {} rows\".format(bus_stops['CITY'].isna().sum()))\n",
    "bus_stops['CITY'] = bus_stops['CITY'].fillna('UNKNOWN')"
   ]
  },
  {
   "cell_type": "code",
   "execution_count": 10,
   "metadata": {},
   "outputs": [],
   "source": [
    "bus_stops['ROUTESSTPG'] = bus_stops['ROUTESSTPG'].str.split(',')\n",
    "bus_stops = bus_stops.explode('ROUTESSTPG').rename(columns={'ROUTESSTPG':'route'})\n",
    "# nb: Compared to train stations, bus stop pairs on opposite sides of the street\n",
    "#     aren't AS CLEANLY paired in the dataset. Though we could spatially join them\n",
    "#     as 1-nearest-neighbor if we really wanted."
   ]
  },
  {
   "cell_type": "markdown",
   "metadata": {},
   "source": [
    "# Metra Lines"
   ]
  },
  {
   "cell_type": "markdown",
   "metadata": {},
   "source": [
    "Metra does not provide machine-readable ridership reports. They have bar graphs of weekly total ridership and monthly ridership by line.\n",
    "\n",
    "https://metra.com/ridership-reports\n",
    "\n",
    "TODO!\n",
    "\n",
    "But actually the Regional Transit Authority does provide machine-readable monthly ridership by line.\n",
    "\n",
    "https://rtams.org/media/datasets/metra-ridership"
   ]
  },
  {
   "cell_type": "markdown",
   "metadata": {},
   "source": [
    "# Pipeline out"
   ]
  },
  {
   "cell_type": "code",
   "execution_count": 11,
   "metadata": {},
   "outputs": [],
   "source": [
    "train_stations.to_file(train_file_out, index=False)\n",
    "bus_routes.to_file(bus_routes_file_out, index=False)\n",
    "bus_stops.to_file(bus_stops_file_out, index=False)"
   ]
  }
 ],
 "metadata": {
  "kernelspec": {
   "display_name": ".venv",
   "language": "python",
   "name": "python3"
  },
  "language_info": {
   "codemirror_mode": {
    "name": "ipython",
    "version": 3
   },
   "file_extension": ".py",
   "mimetype": "text/x-python",
   "name": "python",
   "nbconvert_exporter": "python",
   "pygments_lexer": "ipython3",
   "version": "3.12.6"
  }
 },
 "nbformat": 4,
 "nbformat_minor": 2
}
