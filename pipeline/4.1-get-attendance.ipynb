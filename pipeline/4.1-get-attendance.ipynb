{
 "cells": [
  {
   "cell_type": "code",
   "execution_count": 1,
   "metadata": {},
   "outputs": [],
   "source": [
    "import pandas as pd\n",
    "from data.constants import DNC_START, DNC_END"
   ]
  },
  {
   "cell_type": "code",
   "execution_count": 2,
   "metadata": {},
   "outputs": [],
   "source": [
    "# Exported from:\n",
    "# https://www.baseball-reference.com/teams/CHC/2024-schedule-scores.shtml\n",
    "# https://www.baseball-reference.com/teams/CHW/2024-schedule-scores.shtml\n",
    "# https://www.pro-football-reference.com/teams/chi/2024.htm#all_games\n",
    "# https://www.pro-football-reference.com/years/2024/attendance.htm\n",
    "# https://www.basketball-reference.com/teams/CHI/2025_games.html\n",
    "# https://www.basketball-reference.com/teams/CHI/2024_games.html\n",
    "# https://www.hockey-reference.com/teams/CHI/2025_games.html\n",
    "# https://www.hockey-reference.com/teams/CHI/2024_games.html\n",
    "\n",
    "# I manually named the home/away column in most of these, \n",
    "# to avoid future column order errors integrating other years."
   ]
  },
  {
   "cell_type": "markdown",
   "metadata": {},
   "source": [
    "# Inputs"
   ]
  },
  {
   "cell_type": "code",
   "execution_count": 3,
   "metadata": {},
   "outputs": [],
   "source": [
    "cubs_file = \"../data/raw/scores-2024-cubs.csv\"\n",
    "sox_file = \"../data/raw/scores-2024-whitesox.csv\"\n",
    "hawks24_file = \"../data/raw/scores-2024-blackhawks.csv\"\n",
    "hawks25_file = \"../data/raw/scores-2025-blackhawks.csv\"\n",
    "bulls24_file = \"../data/raw/scores-2024-bulls.csv\"\n",
    "bulls25_file = \"../data/raw/scores-2025-bulls.csv\"\n",
    "stars_file = \"../data/raw/scores-2024-redstars.csv\"\n",
    "nfl_file = \"../data/raw/scores-2024-nfl.csv\"\n",
    "bears_file = \"../data/raw/scores-2024-bears.csv\"\n",
    "fire_file = \"../data/raw/scores-2024-fire.csv\"\n",
    "attend_out = '../data/interim/sports.csv'"
   ]
  },
  {
   "cell_type": "code",
   "execution_count": 4,
   "metadata": {},
   "outputs": [],
   "source": [
    "cubs = pd.read_csv(cubs_file)\n",
    "sox = pd.read_csv(sox_file)\n",
    "hawks = pd.concat([pd.read_csv(hawks24_file),pd.read_csv(hawks25_file)])\n",
    "bulls = pd.concat([pd.read_csv(bulls24_file),pd.read_csv(bulls25_file)])\n",
    "stars = pd.read_csv(stars_file, sep='\\t', thousands=\",\")\n",
    "fire = pd.read_csv(fire_file, sep='\\t', thousands=\",\")\n",
    "nfl = pd.read_csv(nfl_file)\n",
    "bears = pd.read_csv(bears_file, header=[0,1])"
   ]
  },
  {
   "cell_type": "markdown",
   "metadata": {},
   "source": [
    "# Clean"
   ]
  },
  {
   "cell_type": "code",
   "execution_count": 5,
   "metadata": {},
   "outputs": [],
   "source": [
    "def clean_baseball(df):\n",
    "    months = df['Date'].str.extract(r\"[a-zA-Z]+ ([a-zA-Z]+) [0-9]+\", expand=False)\n",
    "    days = df['Date'].str.extract(r\"[a-zA-Z]+ [a-zA-Z]+ ([0-9]+)\", expand=False)\n",
    "    dates = pd.Series([f\"2024-{m}-{d.rjust(2,'0')}\" for m,d in zip(months, days)], name='date')\n",
    "    dates = pd.to_datetime(dates, format=\"%Y-%b-%d\")\n",
    "\n",
    "    home = (df['@'] != '@').rename('home')\n",
    "    attend = df['Attendance'].rename('attendance')\n",
    "\n",
    "    df = pd.concat([dates, home, attend], axis=1)\n",
    "    return df"
   ]
  },
  {
   "cell_type": "code",
   "execution_count": 6,
   "metadata": {},
   "outputs": [],
   "source": [
    "cubs_clean = clean_baseball(cubs)"
   ]
  },
  {
   "cell_type": "code",
   "execution_count": 7,
   "metadata": {},
   "outputs": [],
   "source": [
    "sox_clean = clean_baseball(sox)"
   ]
  },
  {
   "cell_type": "code",
   "execution_count": 8,
   "metadata": {},
   "outputs": [],
   "source": [
    "dates = pd.to_datetime(hawks['Date'].rename('date'), format=\"%Y-%m-%d\")\n",
    "home = (hawks['@'] != '@').rename('home')\n",
    "attend = hawks['Att.'].rename('attendance')"
   ]
  },
  {
   "cell_type": "code",
   "execution_count": 9,
   "metadata": {},
   "outputs": [],
   "source": [
    "hawks_clean = pd.concat([dates, home, attend], axis=1)\n",
    "hawks_clean = hawks_clean.loc[hawks_clean.attendance.notna()] # Drops games that haven't been played yet."
   ]
  },
  {
   "cell_type": "code",
   "execution_count": 10,
   "metadata": {},
   "outputs": [],
   "source": [
    "dates = pd.to_datetime(bulls['Date'].rename('date'), format=\"%a %b %d %Y\")\n",
    "home = (bulls['@'] != '@').rename('home')\n",
    "attend = bulls['Attend.'].rename('attendance')\n",
    "\n",
    "bulls_clean = pd.concat([dates, home, attend], axis=1)\n",
    "bulls_clean = bulls_clean.loc[bulls_clean.attendance.notna()] # Drops games that haven't been played yet."
   ]
  },
  {
   "cell_type": "code",
   "execution_count": 11,
   "metadata": {},
   "outputs": [],
   "source": [
    "def clean_soccer(df):\n",
    "    df.columns = [x.strip(' ') for x in df.columns]\n",
    "    dates = pd.to_datetime(df['Date'].rename('date'), format=\"%Y-%m-%d\")\n",
    "    home = (df['Venue'] == 'Home').rename('home')\n",
    "    attend = df['Attendance'].rename('attendance')\n",
    "\n",
    "    return pd.concat([dates, home, attend], axis=1)"
   ]
  },
  {
   "cell_type": "code",
   "execution_count": 12,
   "metadata": {},
   "outputs": [],
   "source": [
    "stars_clean = clean_soccer(stars)"
   ]
  },
  {
   "cell_type": "code",
   "execution_count": 13,
   "metadata": {},
   "outputs": [],
   "source": [
    "fire_clean = clean_soccer(fire)"
   ]
  },
  {
   "cell_type": "code",
   "execution_count": 14,
   "metadata": {},
   "outputs": [],
   "source": [
    "cols = [('' if 'Unnamed' in i else i) + ('' if 'Unnamed' in j else j) for i,j in bears.columns.values]\n",
    "bears.columns = ['Col'+str(i) if c == '' else c for i,c in enumerate(cols)]\n",
    "\n",
    "attend = nfl.loc[nfl['Tm'] == 'Chicago Bears'].filter(regex=r'^Week \\d+$').T\n",
    "attend = attend.iloc[:, 0].rename('attendance')\n",
    "attend = pd.to_numeric(attend.map(lambda x: pd.NA if x == 'Bye' else x))\n",
    "attend = attend.reset_index()\n",
    "\n",
    "\n",
    "weeks = 'Week ' + bears['Week'].astype(str).rename('index')\n",
    "home = (bears['Col8'] != '@').rename('home')\n",
    "months = bears['Date'].str.extract(r\"([a-zA-Z]+) [0-9]+\", expand=False)\n",
    "days = bears['Date'].str.extract(r\"[a-zA-Z]+ ([0-9]+)\", expand=False)\n",
    "dates = pd.Series([f\"2024-{m}-{d}\" for m,d in zip(months, days)], name='date')\n",
    "dates = pd.to_datetime(dates, format=\"%Y-%B-%d\", errors='coerce')\n",
    "\n",
    "bears_clean = pd.concat([weeks,home,dates],axis=1).merge(attend, on='index').drop(columns=['index'])"
   ]
  },
  {
   "cell_type": "markdown",
   "metadata": {},
   "source": [
    "# Merge"
   ]
  },
  {
   "cell_type": "code",
   "execution_count": 15,
   "metadata": {},
   "outputs": [],
   "source": [
    "attend = pd.concat([\n",
    "    cubs_clean,\n",
    "    sox_clean,\n",
    "    hawks_clean,\n",
    "    bulls_clean,\n",
    "    stars_clean,\n",
    "    fire_clean,\n",
    "    bears_clean],\n",
    "    names=['team','index'],\n",
    "    keys=['cubs','whitesox',\n",
    "          'blackhawks','bulls',\n",
    "          'redstars','fire','bears']) \\\n",
    "    .reset_index('team')"
   ]
  },
  {
   "cell_type": "code",
   "execution_count": 16,
   "metadata": {},
   "outputs": [],
   "source": [
    "stadiums = {'cubs':'wrigley', 'whitesox':'guaranteed rate', \n",
    "            'blackhawks': 'united center', 'bulls': 'united center',\n",
    "            'redstars': 'seatgeek', 'fire': 'soldier', 'bears': 'soldier'}\n",
    "attend['stadium'] = attend['team'].map(stadiums)"
   ]
  },
  {
   "cell_type": "code",
   "execution_count": 17,
   "metadata": {},
   "outputs": [],
   "source": [
    "attend = attend.loc[attend['home']].drop(columns=['home'])"
   ]
  },
  {
   "cell_type": "code",
   "execution_count": 18,
   "metadata": {},
   "outputs": [
    {
     "name": "stdout",
     "output_type": "stream",
     "text": [
      "Dropping these NaN attendance games:\n",
      "           team       date\n",
      "index                     \n",
      "16     whitesox 2024-04-17\n",
      "41     whitesox 2024-05-14\n",
      "93     whitesox 2024-07-10\n",
      "132    whitesox 2024-08-27\n",
      "6         bears        NaT\n"
     ]
    }
   ],
   "source": [
    "print(\"Dropping these NaN attendance games:\")\n",
    "print(attend[attend.attendance.isna() | (attend.attendance == 0)][['team','date']])\n",
    "attend = attend.loc[attend.attendance.notna()]"
   ]
  },
  {
   "cell_type": "markdown",
   "metadata": {},
   "source": [
    "# Add DNC Data"
   ]
  },
  {
   "cell_type": "code",
   "execution_count": 19,
   "metadata": {},
   "outputs": [],
   "source": [
    "dnc = [\n",
    "    {'date': d, 'team': 'DNC', 'attendance': 1.5e4, 'stadium':'united center'}\n",
    "    for d in pd.date_range(DNC_START, DNC_END)\n",
    "] + [\n",
    "    {'date': d, 'team': 'DNC', 'attendance': 1.5e4, 'stadium':'mccormick place'}\n",
    "    for d in pd.date_range(DNC_START, DNC_END)\n",
    "]\n",
    "dnc = pd.DataFrame.from_records(dnc)"
   ]
  },
  {
   "cell_type": "code",
   "execution_count": 20,
   "metadata": {},
   "outputs": [],
   "source": [
    "attend = pd.concat([attend, dnc], ignore_index=True)"
   ]
  },
  {
   "cell_type": "markdown",
   "metadata": {},
   "source": [
    "# Exports"
   ]
  },
  {
   "cell_type": "code",
   "execution_count": 21,
   "metadata": {},
   "outputs": [],
   "source": [
    "attend.to_csv(attend_out, index=False)"
   ]
  }
 ],
 "metadata": {
  "kernelspec": {
   "display_name": ".venv",
   "language": "python",
   "name": "python3"
  },
  "language_info": {
   "codemirror_mode": {
    "name": "ipython",
    "version": 3
   },
   "file_extension": ".py",
   "mimetype": "text/x-python",
   "name": "python",
   "nbconvert_exporter": "python",
   "pygments_lexer": "ipython3",
   "version": "3.12.6"
  }
 },
 "nbformat": 4,
 "nbformat_minor": 2
}
