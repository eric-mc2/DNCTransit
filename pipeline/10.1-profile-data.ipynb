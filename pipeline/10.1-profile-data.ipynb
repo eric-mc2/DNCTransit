{
 "cells": [
  {
   "cell_type": "code",
   "execution_count": null,
   "metadata": {},
   "outputs": [],
   "source": [
    "import geopandas as gpd\n",
    "import os\n",
    "import pandas as pd\n",
    "from plotly import express as px\n",
    "\n",
    "from data.constants import (DATA_FOLDER)\n",
    "from data.datemath import date_range_daily"
   ]
  },
  {
   "cell_type": "code",
   "execution_count": null,
   "metadata": {},
   "outputs": [],
   "source": [
    "point_panel_in = os.path.join(DATA_FOLDER, \"final\", \"point_panel.parquet\")\n",
    "line_panel_in = os.path.join(DATA_FOLDER, \"final\", \"line_panel.parquet\")\n",
    "tract_panel_in = os.path.join(DATA_FOLDER, \"final\", \"tract_panel.parquet\")"
   ]
  },
  {
   "cell_type": "markdown",
   "metadata": {},
   "source": [
    "# Pipeline in"
   ]
  },
  {
   "cell_type": "code",
   "execution_count": null,
   "metadata": {},
   "outputs": [],
   "source": [
    "point_panel = pd.read_parquet(point_panel_in)\n",
    "line_panel = pd.read_parquet(line_panel_in)\n",
    "tract_panel = pd.read_parquet(tract_panel_in)"
   ]
  },
  {
   "cell_type": "markdown",
   "metadata": {},
   "source": [
    "# Validate"
   ]
  },
  {
   "cell_type": "markdown",
   "metadata": {},
   "source": [
    "TODO! XXX!\n",
    "\n",
    "Add assertions here about data completeness, like:\n",
    "\n",
    "- do we have a full time panel for every unit?\n",
    "- do we have the expected number of stations, lines, tracts\n",
    "- do we have the expected number of transits per tract\n",
    "- are our datatypes valid? are binary variables actually binary (i actually made this mistake)"
   ]
  }
 ],
 "metadata": {
  "language_info": {
   "name": "python"
  }
 },
 "nbformat": 4,
 "nbformat_minor": 2
}
